{
 "cells": [
  {
   "cell_type": "markdown",
   "metadata": {},
   "source": [
    "# Принятие решений в бизнесе"
   ]
  },
  {
   "cell_type": "markdown",
   "metadata": {},
   "source": [
    "**Задача:**\n",
    "- Приоритизировать 9 гипотез, запустить A/B-тест и проанализировать его результаты."
   ]
  },
  {
   "cell_type": "markdown",
   "metadata": {},
   "source": [
    " **Структура проекта:**\n",
    "- Часть 1. Приоритизация гипотез.\n",
    "- Часть 2. Анализ A/B-теста."
   ]
  },
  {
   "cell_type": "markdown",
   "metadata": {},
   "source": [
    "**Данные:** \n",
    "- Данные для первой части: Файл **/datasets/hypothesis.csv**.\n",
    "- Данные для второй части: Файлы **/datasets/orders.csv** и **/datasets/visitors.csv**."
   ]
  },
  {
   "cell_type": "markdown",
   "metadata": {},
   "source": [
    "**Структура /datasets/hypothesis.csv:**\n",
    "- **Hypothesis** — краткое описание гипотезы;\n",
    "- **Reach** — охват пользователей по 10-балльной шкале;\n",
    "- **Impact** — влияние на пользователей по 10-балльной шкале;\n",
    "- **Confidence** — уверенность в гипотезе по 10-балльной шкале;\n",
    "- **Efforts** — затраты ресурсов на проверку гипотезы по 10-балльной шкале. Чем больше значение **Efforts**, тем дороже проверка гипотезы.\n",
    "\n",
    "**Структура /datasets/orders.csv:**\n",
    "- **transactionId** — идентификатор заказа;\n",
    "- **visitorId** — идентификатор пользователя, совершившего заказ;\n",
    "- **date** — дата, когда был совершён заказ;\n",
    "- **revenue** — выручка заказа;\n",
    "- **group** — группа A/B-теста, в которую попал заказ.\n",
    "\n",
    "**Структура /datasets/visitors.csv:**\n",
    "- **date** — дата;\n",
    "- **group** — группа A/B-теста;\n",
    "- **visitors** —  количество пользователей в указанную дату в указанной группе A/B-теста.\n"
   ]
  },
  {
   "cell_type": "markdown",
   "metadata": {},
   "source": [
    "**Ход исследования:**\n",
    "- Обзор и предобработка данных;\n",
    "- Приоритезация гипотез;\n",
    "- Анализ А/В-теста;\n",
    "- Выводы и выбор варианта решения.\n"
   ]
  },
  {
   "cell_type": "markdown",
   "metadata": {},
   "source": [
    "# Обзор  данных"
   ]
  },
  {
   "cell_type": "code",
   "execution_count": 145,
   "metadata": {},
   "outputs": [],
   "source": [
    "# импорт библиотек\n",
    "import pandas as pd\n",
    "import numpy as np\n",
    "import matplotlib.pyplot as plt\n",
    "import seaborn as sns\n",
    "import datetime as dt\n",
    "import math\n",
    "from scipy import stats as st\n",
    "from datetime import datetime, timedelta"
   ]
  },
  {
   "cell_type": "code",
   "execution_count": 146,
   "metadata": {},
   "outputs": [],
   "source": [
    "# чтение файлов с данными и сохранение в df\n",
    "\n",
    "try:\n",
    "    hypothesis, orders, visitors = (\n",
    "        pd.read_csv('/datasets/hypothesis.csv'),\n",
    "        pd.read_csv('/datasets/orders.csv'),\n",
    "        pd.read_csv('/datasets/visitors.csv')\n",
    "    )\n",
    "\n",
    "\n",
    "except:\n",
    "    hypothesis, orders, visitors = (\n",
    "        pd.read_csv('hypothesis.csv'),\n",
    "        pd.read_csv('orders.csv'),\n",
    "        pd.read_csv('visitors.csv')\n",
    "    )"
   ]
  },
  {
   "cell_type": "markdown",
   "metadata": {},
   "source": [
    "Изучим общую информацию о данных."
   ]
  },
  {
   "cell_type": "code",
   "execution_count": 147,
   "metadata": {},
   "outputs": [
    {
     "name": "stdout",
     "output_type": "stream",
     "text": [
      "<class 'pandas.core.frame.DataFrame'>\n",
      "RangeIndex: 9 entries, 0 to 8\n",
      "Data columns (total 5 columns):\n",
      " #   Column      Non-Null Count  Dtype \n",
      "---  ------      --------------  ----- \n",
      " 0   Hypothesis  9 non-null      object\n",
      " 1   Reach       9 non-null      int64 \n",
      " 2   Impact      9 non-null      int64 \n",
      " 3   Confidence  9 non-null      int64 \n",
      " 4   Efforts     9 non-null      int64 \n",
      "dtypes: int64(4), object(1)\n",
      "memory usage: 488.0+ bytes\n"
     ]
    },
    {
     "data": {
      "text/html": [
       "<div>\n",
       "<style scoped>\n",
       "    .dataframe tbody tr th:only-of-type {\n",
       "        vertical-align: middle;\n",
       "    }\n",
       "\n",
       "    .dataframe tbody tr th {\n",
       "        vertical-align: top;\n",
       "    }\n",
       "\n",
       "    .dataframe thead th {\n",
       "        text-align: right;\n",
       "    }\n",
       "</style>\n",
       "<table border=\"1\" class=\"dataframe\">\n",
       "  <thead>\n",
       "    <tr style=\"text-align: right;\">\n",
       "      <th></th>\n",
       "      <th>Hypothesis</th>\n",
       "      <th>Reach</th>\n",
       "      <th>Impact</th>\n",
       "      <th>Confidence</th>\n",
       "      <th>Efforts</th>\n",
       "    </tr>\n",
       "  </thead>\n",
       "  <tbody>\n",
       "    <tr>\n",
       "      <th>0</th>\n",
       "      <td>Добавить два новых канала привлечения трафика, что позволит привлекать на 30% больше пользователей</td>\n",
       "      <td>3</td>\n",
       "      <td>10</td>\n",
       "      <td>8</td>\n",
       "      <td>6</td>\n",
       "    </tr>\n",
       "    <tr>\n",
       "      <th>1</th>\n",
       "      <td>Запустить собственную службу доставки, что сократит срок доставки заказов</td>\n",
       "      <td>2</td>\n",
       "      <td>5</td>\n",
       "      <td>4</td>\n",
       "      <td>10</td>\n",
       "    </tr>\n",
       "    <tr>\n",
       "      <th>2</th>\n",
       "      <td>Добавить блоки рекомендаций товаров на сайт интернет магазина, чтобы повысить конверсию и средний чек заказа</td>\n",
       "      <td>8</td>\n",
       "      <td>3</td>\n",
       "      <td>7</td>\n",
       "      <td>3</td>\n",
       "    </tr>\n",
       "    <tr>\n",
       "      <th>3</th>\n",
       "      <td>Изменить структура категорий, что увеличит конверсию, т.к. пользователи быстрее найдут нужный товар</td>\n",
       "      <td>8</td>\n",
       "      <td>3</td>\n",
       "      <td>3</td>\n",
       "      <td>8</td>\n",
       "    </tr>\n",
       "    <tr>\n",
       "      <th>4</th>\n",
       "      <td>Изменить цвет фона главной страницы, чтобы увеличить вовлеченность пользователей</td>\n",
       "      <td>3</td>\n",
       "      <td>1</td>\n",
       "      <td>1</td>\n",
       "      <td>1</td>\n",
       "    </tr>\n",
       "    <tr>\n",
       "      <th>5</th>\n",
       "      <td>Добавить страницу отзывов клиентов о магазине, что позволит увеличить количество заказов</td>\n",
       "      <td>3</td>\n",
       "      <td>2</td>\n",
       "      <td>2</td>\n",
       "      <td>3</td>\n",
       "    </tr>\n",
       "    <tr>\n",
       "      <th>6</th>\n",
       "      <td>Показать на главной странице баннеры с актуальными акциями и распродажами, чтобы увеличить конверсию</td>\n",
       "      <td>5</td>\n",
       "      <td>3</td>\n",
       "      <td>8</td>\n",
       "      <td>3</td>\n",
       "    </tr>\n",
       "    <tr>\n",
       "      <th>7</th>\n",
       "      <td>Добавить форму подписки на все основные страницы, чтобы собрать базу клиентов для email-рассылок</td>\n",
       "      <td>10</td>\n",
       "      <td>7</td>\n",
       "      <td>8</td>\n",
       "      <td>5</td>\n",
       "    </tr>\n",
       "    <tr>\n",
       "      <th>8</th>\n",
       "      <td>Запустить акцию, дающую скидку на товар в день рождения</td>\n",
       "      <td>1</td>\n",
       "      <td>9</td>\n",
       "      <td>9</td>\n",
       "      <td>5</td>\n",
       "    </tr>\n",
       "  </tbody>\n",
       "</table>\n",
       "</div>"
      ],
      "text/plain": [
       "                                                                                                     Hypothesis  \\\n",
       "0            Добавить два новых канала привлечения трафика, что позволит привлекать на 30% больше пользователей   \n",
       "1                                     Запустить собственную службу доставки, что сократит срок доставки заказов   \n",
       "2  Добавить блоки рекомендаций товаров на сайт интернет магазина, чтобы повысить конверсию и средний чек заказа   \n",
       "3           Изменить структура категорий, что увеличит конверсию, т.к. пользователи быстрее найдут нужный товар   \n",
       "4                              Изменить цвет фона главной страницы, чтобы увеличить вовлеченность пользователей   \n",
       "5                      Добавить страницу отзывов клиентов о магазине, что позволит увеличить количество заказов   \n",
       "6          Показать на главной странице баннеры с актуальными акциями и распродажами, чтобы увеличить конверсию   \n",
       "7              Добавить форму подписки на все основные страницы, чтобы собрать базу клиентов для email-рассылок   \n",
       "8                                                       Запустить акцию, дающую скидку на товар в день рождения   \n",
       "\n",
       "   Reach  Impact  Confidence  Efforts  \n",
       "0      3      10           8        6  \n",
       "1      2       5           4       10  \n",
       "2      8       3           7        3  \n",
       "3      8       3           3        8  \n",
       "4      3       1           1        1  \n",
       "5      3       2           2        3  \n",
       "6      5       3           8        3  \n",
       "7     10       7           8        5  \n",
       "8      1       9           9        5  "
      ]
     },
     "execution_count": 147,
     "metadata": {},
     "output_type": "execute_result"
    }
   ],
   "source": [
    "# обзор датафрейма hypothesis\n",
    "\n",
    "# чтобы было удобно читать формулировки гипотез, уберем ограничение на ширину столбцов\n",
    "pd.set_option('display.max_colwidth', None)\n",
    "\n",
    "hypothesis.info()\n",
    "hypothesis"
   ]
  },
  {
   "cell_type": "code",
   "execution_count": 148,
   "metadata": {},
   "outputs": [
    {
     "name": "stdout",
     "output_type": "stream",
     "text": [
      "<class 'pandas.core.frame.DataFrame'>\n",
      "RangeIndex: 1197 entries, 0 to 1196\n",
      "Data columns (total 5 columns):\n",
      " #   Column         Non-Null Count  Dtype \n",
      "---  ------         --------------  ----- \n",
      " 0   transactionId  1197 non-null   int64 \n",
      " 1   visitorId      1197 non-null   int64 \n",
      " 2   date           1197 non-null   object\n",
      " 3   revenue        1197 non-null   int64 \n",
      " 4   group          1197 non-null   object\n",
      "dtypes: int64(3), object(2)\n",
      "memory usage: 46.9+ KB\n"
     ]
    },
    {
     "data": {
      "text/html": [
       "<div>\n",
       "<style scoped>\n",
       "    .dataframe tbody tr th:only-of-type {\n",
       "        vertical-align: middle;\n",
       "    }\n",
       "\n",
       "    .dataframe tbody tr th {\n",
       "        vertical-align: top;\n",
       "    }\n",
       "\n",
       "    .dataframe thead th {\n",
       "        text-align: right;\n",
       "    }\n",
       "</style>\n",
       "<table border=\"1\" class=\"dataframe\">\n",
       "  <thead>\n",
       "    <tr style=\"text-align: right;\">\n",
       "      <th></th>\n",
       "      <th>transactionId</th>\n",
       "      <th>visitorId</th>\n",
       "      <th>date</th>\n",
       "      <th>revenue</th>\n",
       "      <th>group</th>\n",
       "    </tr>\n",
       "  </thead>\n",
       "  <tbody>\n",
       "    <tr>\n",
       "      <th>0</th>\n",
       "      <td>3667963787</td>\n",
       "      <td>3312258926</td>\n",
       "      <td>2019-08-15</td>\n",
       "      <td>1650</td>\n",
       "      <td>B</td>\n",
       "    </tr>\n",
       "    <tr>\n",
       "      <th>1</th>\n",
       "      <td>2804400009</td>\n",
       "      <td>3642806036</td>\n",
       "      <td>2019-08-15</td>\n",
       "      <td>730</td>\n",
       "      <td>B</td>\n",
       "    </tr>\n",
       "    <tr>\n",
       "      <th>2</th>\n",
       "      <td>2961555356</td>\n",
       "      <td>4069496402</td>\n",
       "      <td>2019-08-15</td>\n",
       "      <td>400</td>\n",
       "      <td>A</td>\n",
       "    </tr>\n",
       "    <tr>\n",
       "      <th>3</th>\n",
       "      <td>3797467345</td>\n",
       "      <td>1196621759</td>\n",
       "      <td>2019-08-15</td>\n",
       "      <td>9759</td>\n",
       "      <td>B</td>\n",
       "    </tr>\n",
       "    <tr>\n",
       "      <th>4</th>\n",
       "      <td>2282983706</td>\n",
       "      <td>2322279887</td>\n",
       "      <td>2019-08-15</td>\n",
       "      <td>2308</td>\n",
       "      <td>B</td>\n",
       "    </tr>\n",
       "  </tbody>\n",
       "</table>\n",
       "</div>"
      ],
      "text/plain": [
       "   transactionId   visitorId        date  revenue group\n",
       "0     3667963787  3312258926  2019-08-15     1650     B\n",
       "1     2804400009  3642806036  2019-08-15      730     B\n",
       "2     2961555356  4069496402  2019-08-15      400     A\n",
       "3     3797467345  1196621759  2019-08-15     9759     B\n",
       "4     2282983706  2322279887  2019-08-15     2308     B"
      ]
     },
     "execution_count": 148,
     "metadata": {},
     "output_type": "execute_result"
    }
   ],
   "source": [
    "# обзор датафрейма orders\n",
    "\n",
    "orders.info()\n",
    "orders.head(5)"
   ]
  },
  {
   "cell_type": "code",
   "execution_count": 149,
   "metadata": {},
   "outputs": [
    {
     "name": "stdout",
     "output_type": "stream",
     "text": [
      "<class 'pandas.core.frame.DataFrame'>\n",
      "RangeIndex: 62 entries, 0 to 61\n",
      "Data columns (total 3 columns):\n",
      " #   Column    Non-Null Count  Dtype \n",
      "---  ------    --------------  ----- \n",
      " 0   date      62 non-null     object\n",
      " 1   group     62 non-null     object\n",
      " 2   visitors  62 non-null     int64 \n",
      "dtypes: int64(1), object(2)\n",
      "memory usage: 1.6+ KB\n"
     ]
    },
    {
     "data": {
      "text/html": [
       "<div>\n",
       "<style scoped>\n",
       "    .dataframe tbody tr th:only-of-type {\n",
       "        vertical-align: middle;\n",
       "    }\n",
       "\n",
       "    .dataframe tbody tr th {\n",
       "        vertical-align: top;\n",
       "    }\n",
       "\n",
       "    .dataframe thead th {\n",
       "        text-align: right;\n",
       "    }\n",
       "</style>\n",
       "<table border=\"1\" class=\"dataframe\">\n",
       "  <thead>\n",
       "    <tr style=\"text-align: right;\">\n",
       "      <th></th>\n",
       "      <th>date</th>\n",
       "      <th>group</th>\n",
       "      <th>visitors</th>\n",
       "    </tr>\n",
       "  </thead>\n",
       "  <tbody>\n",
       "    <tr>\n",
       "      <th>0</th>\n",
       "      <td>2019-08-01</td>\n",
       "      <td>A</td>\n",
       "      <td>719</td>\n",
       "    </tr>\n",
       "    <tr>\n",
       "      <th>1</th>\n",
       "      <td>2019-08-02</td>\n",
       "      <td>A</td>\n",
       "      <td>619</td>\n",
       "    </tr>\n",
       "    <tr>\n",
       "      <th>2</th>\n",
       "      <td>2019-08-03</td>\n",
       "      <td>A</td>\n",
       "      <td>507</td>\n",
       "    </tr>\n",
       "    <tr>\n",
       "      <th>3</th>\n",
       "      <td>2019-08-04</td>\n",
       "      <td>A</td>\n",
       "      <td>717</td>\n",
       "    </tr>\n",
       "    <tr>\n",
       "      <th>4</th>\n",
       "      <td>2019-08-05</td>\n",
       "      <td>A</td>\n",
       "      <td>756</td>\n",
       "    </tr>\n",
       "  </tbody>\n",
       "</table>\n",
       "</div>"
      ],
      "text/plain": [
       "         date group  visitors\n",
       "0  2019-08-01     A       719\n",
       "1  2019-08-02     A       619\n",
       "2  2019-08-03     A       507\n",
       "3  2019-08-04     A       717\n",
       "4  2019-08-05     A       756"
      ]
     },
     "execution_count": 149,
     "metadata": {},
     "output_type": "execute_result"
    }
   ],
   "source": [
    "# обзор датафрейма visitors\n",
    "\n",
    "visitors.info()\n",
    "visitors.head(5)"
   ]
  },
  {
   "cell_type": "markdown",
   "metadata": {},
   "source": [
    "На первый взгляд, серьезных проблем с данными нет. Нужно будет проверить их на дубликаты, привести названия столбцов к хорошему стилю и преобразовать данные со временем."
   ]
  },
  {
   "cell_type": "markdown",
   "metadata": {},
   "source": [
    "# Предобработка данных"
   ]
  },
  {
   "cell_type": "code",
   "execution_count": 150,
   "metadata": {},
   "outputs": [
    {
     "data": {
      "text/plain": [
       "0"
      ]
     },
     "metadata": {},
     "output_type": "display_data"
    },
    {
     "data": {
      "text/plain": [
       "0"
      ]
     },
     "metadata": {},
     "output_type": "display_data"
    },
    {
     "data": {
      "text/plain": [
       "0"
      ]
     },
     "metadata": {},
     "output_type": "display_data"
    }
   ],
   "source": [
    "# проверка таблиц на наличие дубликатов\n",
    "\n",
    "display(hypothesis.duplicated().sum())\n",
    "display(orders.duplicated().sum())\n",
    "display(visitors.duplicated().sum())"
   ]
  },
  {
   "cell_type": "code",
   "execution_count": 151,
   "metadata": {
    "scrolled": true
   },
   "outputs": [
    {
     "data": {
      "text/plain": [
       "Index(['hypothesis', 'reach', 'impact', 'confidence', 'efforts'], dtype='object')"
      ]
     },
     "metadata": {},
     "output_type": "display_data"
    },
    {
     "data": {
      "text/plain": [
       "Index(['transaction_id', 'visitor_id', 'date', 'revenue', 'group'], dtype='object')"
      ]
     },
     "metadata": {},
     "output_type": "display_data"
    }
   ],
   "source": [
    "# приведение наименования столбцов к хорошему стилю\n",
    "\n",
    "hypothesis.columns = [name.lower() for name in hypothesis.columns]\n",
    "orders.columns = [name.replace('Id', '_id') for name in orders.columns]\n",
    "\n",
    "display(hypothesis.columns)\n",
    "display(orders.columns)"
   ]
  },
  {
   "cell_type": "code",
   "execution_count": 152,
   "metadata": {
    "scrolled": true
   },
   "outputs": [
    {
     "name": "stdout",
     "output_type": "stream",
     "text": [
      "<class 'pandas.core.frame.DataFrame'>\n",
      "RangeIndex: 62 entries, 0 to 61\n",
      "Data columns (total 3 columns):\n",
      " #   Column    Non-Null Count  Dtype         \n",
      "---  ------    --------------  -----         \n",
      " 0   date      62 non-null     datetime64[ns]\n",
      " 1   group     62 non-null     object        \n",
      " 2   visitors  62 non-null     int64         \n",
      "dtypes: datetime64[ns](1), int64(1), object(1)\n",
      "memory usage: 1.6+ KB\n"
     ]
    }
   ],
   "source": [
    "# изменим тип данных для столбцов с датами\n",
    "\n",
    "visitors['date'] = pd.to_datetime(visitors['date'])\n",
    "orders['date'] = pd.to_datetime(orders['date'])\n",
    "\n",
    "visitors.info()"
   ]
  },
  {
   "cell_type": "code",
   "execution_count": 153,
   "metadata": {},
   "outputs": [
    {
     "data": {
      "text/plain": [
       "1658608862    1\n",
       "2211880073    1\n",
       "3913205113    1\n",
       "437656952     1\n",
       "3592105335    1\n",
       "             ..\n",
       "2872509092    1\n",
       "2013919907    1\n",
       "3154167297    1\n",
       "2960804513    1\n",
       "4281129020    1\n",
       "Name: transaction_id, Length: 1197, dtype: int64"
      ]
     },
     "execution_count": 153,
     "metadata": {},
     "output_type": "execute_result"
    }
   ],
   "source": [
    "# проверка таблицы с заказами на наличие неявных убликатов\n",
    "orders['transaction_id'].value_counts()  "
   ]
  },
  {
   "cell_type": "markdown",
   "metadata": {},
   "source": [
    "Теперь проведем некоторые дополнительные исследования:"
   ]
  },
  {
   "cell_type": "code",
   "execution_count": 154,
   "metadata": {
    "scrolled": true
   },
   "outputs": [
    {
     "data": {
      "text/plain": [
       "array(['A', 'B'], dtype=object)"
      ]
     },
     "execution_count": 154,
     "metadata": {},
     "output_type": "execute_result"
    }
   ],
   "source": [
    "# узнаем сколько групп в AB тесте \n",
    "visitors['group'].unique()  "
   ]
  },
  {
   "cell_type": "markdown",
   "metadata": {},
   "source": [
    "В тесте 2 группы. Узнаем даты начала и окончания теста."
   ]
  },
  {
   "cell_type": "code",
   "execution_count": 155,
   "metadata": {
    "scrolled": true
   },
   "outputs": [
    {
     "data": {
      "text/plain": [
       "Timestamp('2019-08-01 00:00:00')"
      ]
     },
     "metadata": {},
     "output_type": "display_data"
    },
    {
     "data": {
      "text/plain": [
       "Timestamp('2019-08-31 00:00:00')"
      ]
     },
     "metadata": {},
     "output_type": "display_data"
    },
    {
     "data": {
      "text/plain": [
       "Timedelta('30 days 00:00:00')"
      ]
     },
     "metadata": {},
     "output_type": "display_data"
    }
   ],
   "source": [
    "display(visitors['date'].min())\n",
    "display(visitors['date'].max())\n",
    "display(visitors['date'].max()-visitors['date'].min())       "
   ]
  },
  {
   "cell_type": "markdown",
   "metadata": {},
   "source": [
    "Судя по всему, на момент анализа тест длится уже месяц."
   ]
  },
  {
   "cell_type": "code",
   "execution_count": 156,
   "metadata": {},
   "outputs": [
    {
     "data": {
      "text/plain": [
       "group\n",
       "A    557\n",
       "B    640\n",
       "Name: visitor_id, dtype: int64"
      ]
     },
     "execution_count": 156,
     "metadata": {},
     "output_type": "execute_result"
    }
   ],
   "source": [
    "orders.groupby('group')['visitor_id'].count()"
   ]
  },
  {
   "cell_type": "markdown",
   "metadata": {},
   "source": [
    "В группу B попало на 83 пользователя больше. "
   ]
  },
  {
   "cell_type": "code",
   "execution_count": 157,
   "metadata": {
    "scrolled": true
   },
   "outputs": [
    {
     "data": {
      "text/plain": [
       "group    58\n",
       "dtype: int64"
      ]
     },
     "execution_count": 157,
     "metadata": {},
     "output_type": "execute_result"
    }
   ],
   "source": [
    "orders.groupby('visitor_id').agg({'group' : 'nunique'}).query('group > 1').count()"
   ]
  },
  {
   "cell_type": "markdown",
   "metadata": {},
   "source": [
    "Похоже, что 58 пользователей попало в сразу в 2 группы, однако, удалить их, скорее всего, будет проблематично, не повредив целостность данных таблицы visitors."
   ]
  },
  {
   "cell_type": "markdown",
   "metadata": {},
   "source": [
    "Посмотрим на динамику посетителей по дням и по группам."
   ]
  },
  {
   "cell_type": "code",
   "execution_count": 158,
   "metadata": {
    "scrolled": false
   },
   "outputs": [
    {
     "data": {
      "image/png": "[encoded data removed]",
      "text/plain": [
       "<Figure size 1440x576 with 1 Axes>"
      ]
     },
     "metadata": {
      "needs_background": "light"
     },
     "output_type": "display_data"
    }
   ],
   "source": [
    "group_a = visitors.query('group == \"A\"')\n",
    "group_b = visitors.query('group == \"B\"')\n",
    "fig, ax = plt.subplots(figsize=(20, 8))\n",
    "plt.plot(group_a['date'], group_a['visitors'], label='A')\n",
    "plt.plot(group_b['date'], group_b['visitors'], label='B')\n",
    "plt.title('График динамики количества поситителей в группах А и В')\n",
    "plt.ylabel(\"Кол-во посетителей\")\n",
    "plt.legend()\n",
    "plt.grid(True)\n",
    "plt.show()"
   ]
  },
  {
   "cell_type": "markdown",
   "metadata": {},
   "source": [
    "В течение месяца количество поситителей многократно колебалось, примечательны резкие спады в середине месяца. В среднем, количество посетителей группы B выше, чем в группе А."
   ]
  },
  {
   "cell_type": "markdown",
   "metadata": {},
   "source": [
    "Сначала применим фреймворк ICE (Impact, Confidence, Effort) для приоритизации гипотез."
   ]
  },
  {
   "cell_type": "code",
   "execution_count": 159,
   "metadata": {},
   "outputs": [
    {
     "data": {
      "text/html": [
       "<div>\n",
       "<style scoped>\n",
       "    .dataframe tbody tr th:only-of-type {\n",
       "        vertical-align: middle;\n",
       "    }\n",
       "\n",
       "    .dataframe tbody tr th {\n",
       "        vertical-align: top;\n",
       "    }\n",
       "\n",
       "    .dataframe thead th {\n",
       "        text-align: right;\n",
       "    }\n",
       "</style>\n",
       "<table border=\"1\" class=\"dataframe\">\n",
       "  <thead>\n",
       "    <tr style=\"text-align: right;\">\n",
       "      <th></th>\n",
       "      <th>hypothesis</th>\n",
       "      <th>ice</th>\n",
       "    </tr>\n",
       "  </thead>\n",
       "  <tbody>\n",
       "    <tr>\n",
       "      <th>8</th>\n",
       "      <td>Запустить акцию, дающую скидку на товар в день рождения</td>\n",
       "      <td>16.200</td>\n",
       "    </tr>\n",
       "    <tr>\n",
       "      <th>0</th>\n",
       "      <td>Добавить два новых канала привлечения трафика, что позволит привлекать на 30% больше пользователей</td>\n",
       "      <td>13.330</td>\n",
       "    </tr>\n",
       "    <tr>\n",
       "      <th>7</th>\n",
       "      <td>Добавить форму подписки на все основные страницы, чтобы собрать базу клиентов для email-рассылок</td>\n",
       "      <td>11.200</td>\n",
       "    </tr>\n",
       "    <tr>\n",
       "      <th>6</th>\n",
       "      <td>Показать на главной странице баннеры с актуальными акциями и распродажами, чтобы увеличить конверсию</td>\n",
       "      <td>8.000</td>\n",
       "    </tr>\n",
       "    <tr>\n",
       "      <th>2</th>\n",
       "      <td>Добавить блоки рекомендаций товаров на сайт интернет магазина, чтобы повысить конверсию и средний чек заказа</td>\n",
       "      <td>7.000</td>\n",
       "    </tr>\n",
       "  </tbody>\n",
       "</table>\n",
       "</div>"
      ],
      "text/plain": [
       "                                                                                                     hypothesis  \\\n",
       "8                                                       Запустить акцию, дающую скидку на товар в день рождения   \n",
       "0            Добавить два новых канала привлечения трафика, что позволит привлекать на 30% больше пользователей   \n",
       "7              Добавить форму подписки на все основные страницы, чтобы собрать базу клиентов для email-рассылок   \n",
       "6          Показать на главной странице баннеры с актуальными акциями и распродажами, чтобы увеличить конверсию   \n",
       "2  Добавить блоки рекомендаций товаров на сайт интернет магазина, чтобы повысить конверсию и средний чек заказа   \n",
       "\n",
       "     ice  \n",
       "8 16.200  \n",
       "0 13.330  \n",
       "7 11.200  \n",
       "6  8.000  \n",
       "2  7.000  "
      ]
     },
     "execution_count": 159,
     "metadata": {},
     "output_type": "execute_result"
    }
   ],
   "source": [
    "hypothesis['ice'] = round((hypothesis['impact'] * hypothesis['confidence']) / hypothesis['efforts'], 2)\n",
    "\n",
    "hypothesis[['hypothesis', 'ice']].sort_values(by='ice', ascending=False).head(5)"
   ]
  },
  {
   "cell_type": "markdown",
   "metadata": {},
   "source": [
    "Теперь мы видим топ-5 наиболее приоритетных гипотез. Далее добавим к расчету параметр Reach и приоритезируем гипотезы по методу RICE."
   ]
  },
  {
   "cell_type": "code",
   "execution_count": 160,
   "metadata": {},
   "outputs": [
    {
     "data": {
      "text/html": [
       "<div>\n",
       "<style scoped>\n",
       "    .dataframe tbody tr th:only-of-type {\n",
       "        vertical-align: middle;\n",
       "    }\n",
       "\n",
       "    .dataframe tbody tr th {\n",
       "        vertical-align: top;\n",
       "    }\n",
       "\n",
       "    .dataframe thead th {\n",
       "        text-align: right;\n",
       "    }\n",
       "</style>\n",
       "<table border=\"1\" class=\"dataframe\">\n",
       "  <thead>\n",
       "    <tr style=\"text-align: right;\">\n",
       "      <th></th>\n",
       "      <th>hypothesis</th>\n",
       "      <th>rice</th>\n",
       "    </tr>\n",
       "  </thead>\n",
       "  <tbody>\n",
       "    <tr>\n",
       "      <th>7</th>\n",
       "      <td>Добавить форму подписки на все основные страницы, чтобы собрать базу клиентов для email-рассылок</td>\n",
       "      <td>112.000</td>\n",
       "    </tr>\n",
       "    <tr>\n",
       "      <th>2</th>\n",
       "      <td>Добавить блоки рекомендаций товаров на сайт интернет магазина, чтобы повысить конверсию и средний чек заказа</td>\n",
       "      <td>56.000</td>\n",
       "    </tr>\n",
       "    <tr>\n",
       "      <th>0</th>\n",
       "      <td>Добавить два новых канала привлечения трафика, что позволит привлекать на 30% больше пользователей</td>\n",
       "      <td>40.000</td>\n",
       "    </tr>\n",
       "    <tr>\n",
       "      <th>6</th>\n",
       "      <td>Показать на главной странице баннеры с актуальными акциями и распродажами, чтобы увеличить конверсию</td>\n",
       "      <td>40.000</td>\n",
       "    </tr>\n",
       "    <tr>\n",
       "      <th>8</th>\n",
       "      <td>Запустить акцию, дающую скидку на товар в день рождения</td>\n",
       "      <td>16.200</td>\n",
       "    </tr>\n",
       "  </tbody>\n",
       "</table>\n",
       "</div>"
      ],
      "text/plain": [
       "                                                                                                     hypothesis  \\\n",
       "7              Добавить форму подписки на все основные страницы, чтобы собрать базу клиентов для email-рассылок   \n",
       "2  Добавить блоки рекомендаций товаров на сайт интернет магазина, чтобы повысить конверсию и средний чек заказа   \n",
       "0            Добавить два новых канала привлечения трафика, что позволит привлекать на 30% больше пользователей   \n",
       "6          Показать на главной странице баннеры с актуальными акциями и распродажами, чтобы увеличить конверсию   \n",
       "8                                                       Запустить акцию, дающую скидку на товар в день рождения   \n",
       "\n",
       "     rice  \n",
       "7 112.000  \n",
       "2  56.000  \n",
       "0  40.000  \n",
       "6  40.000  \n",
       "8  16.200  "
      ]
     },
     "execution_count": 160,
     "metadata": {},
     "output_type": "execute_result"
    }
   ],
   "source": [
    "hypothesis['rice'] = hypothesis['reach'] * hypothesis['impact'] * hypothesis['confidence'] / hypothesis['efforts']\n",
    "\n",
    "hypothesis[['hypothesis', 'rice']].sort_values(by='rice', ascending=False).head(5)"
   ]
  },
  {
   "cell_type": "markdown",
   "metadata": {},
   "source": [
    "Состав топ-5 гипотез не изменился, однако порядок гипотез в этом рейтинге несколько иной. Это связано с тем, что фреймворк RICE включает Reach, который учитывает количество пользователей, которых затронет изменение, вносимое гипотезой."
   ]
  },
  {
   "cell_type": "markdown",
   "metadata": {},
   "source": [
    "**Вывод**: Таким образом, порядок, в котором следует проверять гипотезы зависит от компонентов, из которых состоит фреймворк. Однако, вне зависимости от выбранного метода приоритизации гипотез в топ-3 всегда находятся гипотеза о добавлении формы подписки и гипотеза о добавлении новы, значит на них точно следует обратить внимание."
   ]
  },
  {
   "cell_type": "markdown",
   "metadata": {},
   "source": [
    "# Часть 2. Анализ A/B-теста"
   ]
  },
  {
   "cell_type": "markdown",
   "metadata": {},
   "source": [
    "## Кумулятивные метрики"
   ]
  },
  {
   "cell_type": "markdown",
   "metadata": {},
   "source": [
    "Теперь настало время проанализировать A/B-тест. Для начала построим график кумулятивной выручки по группам. Нам понадобятся агрегированные кумулятивные данные по дням о заказах."
   ]
  },
  {
   "cell_type": "code",
   "execution_count": 161,
   "metadata": {},
   "outputs": [
    {
     "data": {
      "text/html": [
       "<div>\n",
       "<style scoped>\n",
       "    .dataframe tbody tr th:only-of-type {\n",
       "        vertical-align: middle;\n",
       "    }\n",
       "\n",
       "    .dataframe tbody tr th {\n",
       "        vertical-align: top;\n",
       "    }\n",
       "\n",
       "    .dataframe thead th {\n",
       "        text-align: right;\n",
       "    }\n",
       "</style>\n",
       "<table border=\"1\" class=\"dataframe\">\n",
       "  <thead>\n",
       "    <tr style=\"text-align: right;\">\n",
       "      <th></th>\n",
       "      <th>date</th>\n",
       "      <th>group</th>\n",
       "      <th>transaction_id</th>\n",
       "      <th>visitor_id</th>\n",
       "      <th>revenue</th>\n",
       "    </tr>\n",
       "  </thead>\n",
       "  <tbody>\n",
       "    <tr>\n",
       "      <th>55</th>\n",
       "      <td>2019-08-01</td>\n",
       "      <td>A</td>\n",
       "      <td>24</td>\n",
       "      <td>20</td>\n",
       "      <td>148579</td>\n",
       "    </tr>\n",
       "    <tr>\n",
       "      <th>66</th>\n",
       "      <td>2019-08-01</td>\n",
       "      <td>B</td>\n",
       "      <td>21</td>\n",
       "      <td>20</td>\n",
       "      <td>101217</td>\n",
       "    </tr>\n",
       "    <tr>\n",
       "      <th>175</th>\n",
       "      <td>2019-08-02</td>\n",
       "      <td>A</td>\n",
       "      <td>44</td>\n",
       "      <td>38</td>\n",
       "      <td>242401</td>\n",
       "    </tr>\n",
       "    <tr>\n",
       "      <th>173</th>\n",
       "      <td>2019-08-02</td>\n",
       "      <td>B</td>\n",
       "      <td>45</td>\n",
       "      <td>43</td>\n",
       "      <td>266748</td>\n",
       "    </tr>\n",
       "    <tr>\n",
       "      <th>291</th>\n",
       "      <td>2019-08-03</td>\n",
       "      <td>A</td>\n",
       "      <td>68</td>\n",
       "      <td>62</td>\n",
       "      <td>354874</td>\n",
       "    </tr>\n",
       "  </tbody>\n",
       "</table>\n",
       "</div>"
      ],
      "text/plain": [
       "          date group  transaction_id  visitor_id  revenue\n",
       "55  2019-08-01     A              24          20   148579\n",
       "66  2019-08-01     B              21          20   101217\n",
       "175 2019-08-02     A              44          38   242401\n",
       "173 2019-08-02     B              45          43   266748\n",
       "291 2019-08-03     A              68          62   354874"
      ]
     },
     "execution_count": 161,
     "metadata": {},
     "output_type": "execute_result"
    }
   ],
   "source": [
    "# создаем массив уникальных пар значений дат и групп теста\n",
    "dates_grouped = orders[['date', 'group']].drop_duplicates()\n",
    "\n",
    "# получаем агрегированные кумулятивные данные по дням о заказах \n",
    "orders_grouped = dates_grouped.apply(\n",
    "    lambda x: orders[\n",
    "        np.logical_and(\n",
    "            orders['date'] <= x['date'], orders['group'] == x['group']\n",
    "        )\n",
    "    ].agg(\n",
    "        {\n",
    "            'date': 'max',\n",
    "            'group': 'max',\n",
    "            'transaction_id': 'nunique',\n",
    "            'visitor_id': 'nunique',\n",
    "            'revenue': 'sum',\n",
    "        }\n",
    "    ),\n",
    "    axis=1,\n",
    ").sort_values(by=['date', 'group'])\n",
    "\n",
    "orders_grouped.head(5)"
   ]
  },
  {
   "cell_type": "code",
   "execution_count": 162,
   "metadata": {},
   "outputs": [
    {
     "data": {
      "text/html": [
       "<div>\n",
       "<style scoped>\n",
       "    .dataframe tbody tr th:only-of-type {\n",
       "        vertical-align: middle;\n",
       "    }\n",
       "\n",
       "    .dataframe tbody tr th {\n",
       "        vertical-align: top;\n",
       "    }\n",
       "\n",
       "    .dataframe thead th {\n",
       "        text-align: right;\n",
       "    }\n",
       "</style>\n",
       "<table border=\"1\" class=\"dataframe\">\n",
       "  <thead>\n",
       "    <tr style=\"text-align: right;\">\n",
       "      <th></th>\n",
       "      <th>date</th>\n",
       "      <th>group</th>\n",
       "      <th>visitors</th>\n",
       "    </tr>\n",
       "  </thead>\n",
       "  <tbody>\n",
       "    <tr>\n",
       "      <th>55</th>\n",
       "      <td>2019-08-01</td>\n",
       "      <td>A</td>\n",
       "      <td>719</td>\n",
       "    </tr>\n",
       "    <tr>\n",
       "      <th>66</th>\n",
       "      <td>2019-08-01</td>\n",
       "      <td>B</td>\n",
       "      <td>713</td>\n",
       "    </tr>\n",
       "    <tr>\n",
       "      <th>175</th>\n",
       "      <td>2019-08-02</td>\n",
       "      <td>A</td>\n",
       "      <td>1338</td>\n",
       "    </tr>\n",
       "    <tr>\n",
       "      <th>173</th>\n",
       "      <td>2019-08-02</td>\n",
       "      <td>B</td>\n",
       "      <td>1294</td>\n",
       "    </tr>\n",
       "    <tr>\n",
       "      <th>291</th>\n",
       "      <td>2019-08-03</td>\n",
       "      <td>A</td>\n",
       "      <td>1845</td>\n",
       "    </tr>\n",
       "  </tbody>\n",
       "</table>\n",
       "</div>"
      ],
      "text/plain": [
       "          date group  visitors\n",
       "55  2019-08-01     A       719\n",
       "66  2019-08-01     B       713\n",
       "175 2019-08-02     A      1338\n",
       "173 2019-08-02     B      1294\n",
       "291 2019-08-03     A      1845"
      ]
     },
     "execution_count": 162,
     "metadata": {},
     "output_type": "execute_result"
    }
   ],
   "source": [
    "# получаем агрегированные кумулятивные данные по дням о посетителях \n",
    "\n",
    "visitors_grouped = dates_grouped.apply(\n",
    "    lambda x: visitors[\n",
    "        np.logical_and(\n",
    "            visitors['date'] <= x['date'], visitors['group'] == x['group']\n",
    "        )\n",
    "    ].agg(\n",
    "        {\n",
    "            'date': 'max', \n",
    "            'group': 'max', \n",
    "            'visitors': 'sum'\n",
    "        }\n",
    "    ),\n",
    "    axis=1,\n",
    ").sort_values(by=['date', 'group'])\n",
    "\n",
    "visitors_grouped.head(5)"
   ]
  },
  {
   "cell_type": "code",
   "execution_count": 163,
   "metadata": {
    "scrolled": false
   },
   "outputs": [
    {
     "data": {
      "text/html": [
       "<div>\n",
       "<style scoped>\n",
       "    .dataframe tbody tr th:only-of-type {\n",
       "        vertical-align: middle;\n",
       "    }\n",
       "\n",
       "    .dataframe tbody tr th {\n",
       "        vertical-align: top;\n",
       "    }\n",
       "\n",
       "    .dataframe thead th {\n",
       "        text-align: right;\n",
       "    }\n",
       "</style>\n",
       "<table border=\"1\" class=\"dataframe\">\n",
       "  <thead>\n",
       "    <tr style=\"text-align: right;\">\n",
       "      <th></th>\n",
       "      <th>date</th>\n",
       "      <th>group</th>\n",
       "      <th>orders</th>\n",
       "      <th>buyers</th>\n",
       "      <th>revenue</th>\n",
       "      <th>visitors</th>\n",
       "    </tr>\n",
       "  </thead>\n",
       "  <tbody>\n",
       "    <tr>\n",
       "      <th>0</th>\n",
       "      <td>2019-08-01</td>\n",
       "      <td>A</td>\n",
       "      <td>24</td>\n",
       "      <td>20</td>\n",
       "      <td>148579</td>\n",
       "      <td>719</td>\n",
       "    </tr>\n",
       "    <tr>\n",
       "      <th>1</th>\n",
       "      <td>2019-08-01</td>\n",
       "      <td>B</td>\n",
       "      <td>21</td>\n",
       "      <td>20</td>\n",
       "      <td>101217</td>\n",
       "      <td>713</td>\n",
       "    </tr>\n",
       "    <tr>\n",
       "      <th>2</th>\n",
       "      <td>2019-08-02</td>\n",
       "      <td>A</td>\n",
       "      <td>44</td>\n",
       "      <td>38</td>\n",
       "      <td>242401</td>\n",
       "      <td>1338</td>\n",
       "    </tr>\n",
       "    <tr>\n",
       "      <th>3</th>\n",
       "      <td>2019-08-02</td>\n",
       "      <td>B</td>\n",
       "      <td>45</td>\n",
       "      <td>43</td>\n",
       "      <td>266748</td>\n",
       "      <td>1294</td>\n",
       "    </tr>\n",
       "    <tr>\n",
       "      <th>4</th>\n",
       "      <td>2019-08-03</td>\n",
       "      <td>A</td>\n",
       "      <td>68</td>\n",
       "      <td>62</td>\n",
       "      <td>354874</td>\n",
       "      <td>1845</td>\n",
       "    </tr>\n",
       "    <tr>\n",
       "      <th>...</th>\n",
       "      <td>...</td>\n",
       "      <td>...</td>\n",
       "      <td>...</td>\n",
       "      <td>...</td>\n",
       "      <td>...</td>\n",
       "      <td>...</td>\n",
       "    </tr>\n",
       "    <tr>\n",
       "      <th>57</th>\n",
       "      <td>2019-08-29</td>\n",
       "      <td>B</td>\n",
       "      <td>596</td>\n",
       "      <td>544</td>\n",
       "      <td>5559398</td>\n",
       "      <td>17708</td>\n",
       "    </tr>\n",
       "    <tr>\n",
       "      <th>58</th>\n",
       "      <td>2019-08-30</td>\n",
       "      <td>A</td>\n",
       "      <td>545</td>\n",
       "      <td>493</td>\n",
       "      <td>4022970</td>\n",
       "      <td>18037</td>\n",
       "    </tr>\n",
       "    <tr>\n",
       "      <th>59</th>\n",
       "      <td>2019-08-30</td>\n",
       "      <td>B</td>\n",
       "      <td>620</td>\n",
       "      <td>567</td>\n",
       "      <td>5774631</td>\n",
       "      <td>18198</td>\n",
       "    </tr>\n",
       "    <tr>\n",
       "      <th>60</th>\n",
       "      <td>2019-08-31</td>\n",
       "      <td>A</td>\n",
       "      <td>557</td>\n",
       "      <td>503</td>\n",
       "      <td>4084803</td>\n",
       "      <td>18736</td>\n",
       "    </tr>\n",
       "    <tr>\n",
       "      <th>61</th>\n",
       "      <td>2019-08-31</td>\n",
       "      <td>B</td>\n",
       "      <td>640</td>\n",
       "      <td>586</td>\n",
       "      <td>5907760</td>\n",
       "      <td>18916</td>\n",
       "    </tr>\n",
       "  </tbody>\n",
       "</table>\n",
       "<p>62 rows × 6 columns</p>\n",
       "</div>"
      ],
      "text/plain": [
       "         date group  orders  buyers  revenue  visitors\n",
       "0  2019-08-01     A      24      20   148579       719\n",
       "1  2019-08-01     B      21      20   101217       713\n",
       "2  2019-08-02     A      44      38   242401      1338\n",
       "3  2019-08-02     B      45      43   266748      1294\n",
       "4  2019-08-03     A      68      62   354874      1845\n",
       "..        ...   ...     ...     ...      ...       ...\n",
       "57 2019-08-29     B     596     544  5559398     17708\n",
       "58 2019-08-30     A     545     493  4022970     18037\n",
       "59 2019-08-30     B     620     567  5774631     18198\n",
       "60 2019-08-31     A     557     503  4084803     18736\n",
       "61 2019-08-31     B     640     586  5907760     18916\n",
       "\n",
       "[62 rows x 6 columns]"
      ]
     },
     "execution_count": 163,
     "metadata": {},
     "output_type": "execute_result"
    }
   ],
   "source": [
    "# объединяем кумулятивные данные в одной таблице и меняем названия ее столбцов\n",
    "\n",
    "cumulative_data = orders_grouped.merge(\n",
    "    visitors_grouped, \n",
    "    left_on=['date', 'group'], \n",
    "    right_on=['date', 'group']\n",
    ")\n",
    "\n",
    "cumulative_data.columns = ['date', 'group', 'orders', 'buyers', 'revenue', 'visitors']\n",
    "cumulative_data"
   ]
  },
  {
   "cell_type": "markdown",
   "metadata": {},
   "source": [
    "Проверим правильно ли был создан датафрейм cumulative_data. Для этого сравним минимальную и максимальную даты в этом датафрейме с минимальной и максимальной датой в исходных данных."
   ]
  },
  {
   "cell_type": "code",
   "execution_count": 164,
   "metadata": {},
   "outputs": [
    {
     "data": {
      "text/plain": [
       "Timestamp('2019-08-01 00:00:00')"
      ]
     },
     "metadata": {},
     "output_type": "display_data"
    },
    {
     "data": {
      "text/plain": [
       "Timestamp('2019-08-01 00:00:00')"
      ]
     },
     "metadata": {},
     "output_type": "display_data"
    },
    {
     "data": {
      "text/plain": [
       "Timestamp('2019-08-31 00:00:00')"
      ]
     },
     "metadata": {},
     "output_type": "display_data"
    },
    {
     "data": {
      "text/plain": [
       "Timestamp('2019-08-31 00:00:00')"
      ]
     },
     "metadata": {},
     "output_type": "display_data"
    }
   ],
   "source": [
    "# минимальная дата \n",
    "display(visitors['date'].min())\n",
    "display(cumulative_data['date'].min())\n",
    "\n",
    "# максимальная дата \n",
    "display(visitors['date'].max())\n",
    "display(cumulative_data['date'].max())"
   ]
  },
  {
   "cell_type": "code",
   "execution_count": 165,
   "metadata": {},
   "outputs": [
    {
     "data": {
      "text/html": [
       "<div>\n",
       "<style scoped>\n",
       "    .dataframe tbody tr th:only-of-type {\n",
       "        vertical-align: middle;\n",
       "    }\n",
       "\n",
       "    .dataframe tbody tr th {\n",
       "        vertical-align: top;\n",
       "    }\n",
       "\n",
       "    .dataframe thead th {\n",
       "        text-align: right;\n",
       "    }\n",
       "</style>\n",
       "<table border=\"1\" class=\"dataframe\">\n",
       "  <thead>\n",
       "    <tr style=\"text-align: right;\">\n",
       "      <th></th>\n",
       "      <th>date</th>\n",
       "      <th>group</th>\n",
       "      <th>orders</th>\n",
       "      <th>buyers</th>\n",
       "      <th>revenue</th>\n",
       "      <th>visitors</th>\n",
       "      <th>conversion</th>\n",
       "    </tr>\n",
       "  </thead>\n",
       "  <tbody>\n",
       "    <tr>\n",
       "      <th>0</th>\n",
       "      <td>2019-08-01</td>\n",
       "      <td>A</td>\n",
       "      <td>24</td>\n",
       "      <td>20</td>\n",
       "      <td>148579</td>\n",
       "      <td>719</td>\n",
       "      <td>0.033</td>\n",
       "    </tr>\n",
       "    <tr>\n",
       "      <th>1</th>\n",
       "      <td>2019-08-01</td>\n",
       "      <td>B</td>\n",
       "      <td>21</td>\n",
       "      <td>20</td>\n",
       "      <td>101217</td>\n",
       "      <td>713</td>\n",
       "      <td>0.029</td>\n",
       "    </tr>\n",
       "    <tr>\n",
       "      <th>2</th>\n",
       "      <td>2019-08-02</td>\n",
       "      <td>A</td>\n",
       "      <td>44</td>\n",
       "      <td>38</td>\n",
       "      <td>242401</td>\n",
       "      <td>1338</td>\n",
       "      <td>0.033</td>\n",
       "    </tr>\n",
       "    <tr>\n",
       "      <th>3</th>\n",
       "      <td>2019-08-02</td>\n",
       "      <td>B</td>\n",
       "      <td>45</td>\n",
       "      <td>43</td>\n",
       "      <td>266748</td>\n",
       "      <td>1294</td>\n",
       "      <td>0.035</td>\n",
       "    </tr>\n",
       "    <tr>\n",
       "      <th>4</th>\n",
       "      <td>2019-08-03</td>\n",
       "      <td>A</td>\n",
       "      <td>68</td>\n",
       "      <td>62</td>\n",
       "      <td>354874</td>\n",
       "      <td>1845</td>\n",
       "      <td>0.037</td>\n",
       "    </tr>\n",
       "    <tr>\n",
       "      <th>5</th>\n",
       "      <td>2019-08-03</td>\n",
       "      <td>B</td>\n",
       "      <td>61</td>\n",
       "      <td>59</td>\n",
       "      <td>380996</td>\n",
       "      <td>1803</td>\n",
       "      <td>0.034</td>\n",
       "    </tr>\n",
       "  </tbody>\n",
       "</table>\n",
       "</div>"
      ],
      "text/plain": [
       "        date group  orders  buyers  revenue  visitors  conversion\n",
       "0 2019-08-01     A      24      20   148579       719       0.033\n",
       "1 2019-08-01     B      21      20   101217       713       0.029\n",
       "2 2019-08-02     A      44      38   242401      1338       0.033\n",
       "3 2019-08-02     B      45      43   266748      1294       0.035\n",
       "4 2019-08-03     A      68      62   354874      1845       0.037\n",
       "5 2019-08-03     B      61      59   380996      1803       0.034"
      ]
     },
     "execution_count": 165,
     "metadata": {},
     "output_type": "execute_result"
    }
   ],
   "source": [
    "# добавим расчетную колонку с конверсией.\n",
    "cumulative_data['conversion'] = cumulative_data['orders'] / cumulative_data['visitors']\n",
    "cumulative_data.head(6)"
   ]
  },
  {
   "cell_type": "markdown",
   "metadata": {},
   "source": [
    "### выручка по группам"
   ]
  },
  {
   "cell_type": "markdown",
   "metadata": {},
   "source": [
    "Теперь построим график кумулятивной выручки по группам."
   ]
  },
  {
   "cell_type": "code",
   "execution_count": 166,
   "metadata": {},
   "outputs": [
    {
     "data": {
      "image/png": "[encoded data removed]",
      "text/plain": [
       "<Figure size 1440x576 with 1 Axes>"
      ]
     },
     "metadata": {
      "needs_background": "light"
     },
     "output_type": "display_data"
    }
   ],
   "source": [
    "# датафрейм с кумулятивным количеством заказов и кумулятивной выручкой по дням в группе А\n",
    "cumulative_revenue_a = cumulative_data[cumulative_data['group']=='A'][['date','revenue', 'orders']]\n",
    "\n",
    "# датафрейм с кумулятивным количеством заказов и кумулятивной выручкой по дням в группе B\n",
    "cumulative_revenue_b = cumulative_data[cumulative_data['group']=='B'][['date','revenue', 'orders']]\n",
    "fig, ax = plt.subplots(figsize=(20, 8))\n",
    "plt.plot(cumulative_revenue_a['date'], cumulative_revenue_a['revenue'], label='A')\n",
    "plt.plot(cumulative_revenue_b['date'], cumulative_revenue_b['revenue'], label='B')\n",
    "plt.title('График динамики кумулятивной выручки по группам А и В')\n",
    "plt.ylabel(\"Выручка, млн.\")\n",
    "plt.legend()\n",
    "plt.grid(True)\n",
    "plt.show()"
   ]
  },
  {
   "cell_type": "markdown",
   "metadata": {},
   "source": [
    "Судя по графику, кумулятивная выручка группы А растет линейно, и примрно с 13 августа выручка группы B значительно превышает выручку группы А.\n",
    "Также примерно с 18 августа примечателен резкий скачок в группе В, что может гооврить о резком скачке числа заказов, либо о наличии аномально дорогих заказов в выборке."
   ]
  },
  {
   "cell_type": "markdown",
   "metadata": {},
   "source": [
    "### средний чек по группам"
   ]
  },
  {
   "cell_type": "markdown",
   "metadata": {},
   "source": [
    "Построим график динамики кумулятивного среднего чека по группам."
   ]
  },
  {
   "cell_type": "code",
   "execution_count": 167,
   "metadata": {},
   "outputs": [
    {
     "data": {
      "image/png": "[encoded data removed]",
      "text/plain": [
       "<Figure size 1440x576 with 1 Axes>"
      ]
     },
     "metadata": {
      "needs_background": "light"
     },
     "output_type": "display_data"
    }
   ],
   "source": [
    "fig, ax = plt.subplots(figsize=(20, 8))\n",
    "plt.plot(cumulative_revenue_a['date'], \n",
    "         cumulative_revenue_a['revenue'] / cumulative_revenue_a['orders'],\n",
    "         label='A')\n",
    "\n",
    "plt.plot(cumulative_revenue_b['date'], \n",
    "         cumulative_revenue_b['revenue'] / cumulative_revenue_b['orders'], \n",
    "         label='B')\n",
    "\n",
    "plt.title('График динамики кумулятивного среднего чека по группам А и В')\n",
    "plt.ylabel(\"Выручка, млн.\")\n",
    "plt.legend()\n",
    "plt.grid(True)\n",
    "plt.show()"
   ]
  },
  {
   "cell_type": "markdown",
   "metadata": {},
   "source": [
    "Из графика видно, что средний чек в группе А стабилизировался после роста. Показатель группы В снова показал резкий рывок в тот же момент времени. Это говорит нам о том, что рост прибыли зависит от аномально дорогих заказов в выборке."
   ]
  },
  {
   "cell_type": "markdown",
   "metadata": {},
   "source": [
    "### относительноe изменениe кумулятивного среднего чека группы B к группе A"
   ]
  },
  {
   "cell_type": "markdown",
   "metadata": {},
   "source": [
    "Теперь исследуем изменение кумулятивного среднего чека группы B по сравнению с группой A."
   ]
  },
  {
   "cell_type": "code",
   "execution_count": 168,
   "metadata": {},
   "outputs": [
    {
     "data": {
      "image/png": "[encoded data removed]",
      "text/plain": [
       "<Figure size 1440x576 with 1 Axes>"
      ]
     },
     "metadata": {
      "needs_background": "light"
     },
     "output_type": "display_data"
    }
   ],
   "source": [
    "# собираем данные в одном датафрейме\n",
    "cumulative_revenue_ab = cumulative_revenue_a.merge(\n",
    "    cumulative_revenue_b, \n",
    "    left_on='date', \n",
    "    right_on='date', \n",
    "    how='left', \n",
    "    suffixes=['_a', '_b']\n",
    ")\n",
    "\n",
    "# cтроим отношение средних чеков\n",
    "fig, ax = plt.subplots(figsize=(20, 8))\n",
    "plt.plot(cumulative_revenue_ab['date'], \n",
    "         (\n",
    "             cumulative_revenue_ab['revenue_b']/cumulative_revenue_ab['orders_b']\n",
    "         )/\n",
    "         (\n",
    "             cumulative_revenue_ab['revenue_a']/cumulative_revenue_ab['orders_a']\n",
    "         )-1\n",
    "        )\n",
    "\n",
    "# добавляем ось X\n",
    "plt.axhline(y=0, color='black', linestyle='--')\n",
    "plt.title('График относительного изменения кумулятивного среднего чека группы B к группе A')\n",
    "plt.grid(True)\n",
    "plt.show()"
   ]
  },
  {
   "cell_type": "markdown",
   "metadata": {},
   "source": [
    "По-прежнему, все говорит о наличии выбросов в данных - снова резкий скачок начиная с 13 августа."
   ]
  },
  {
   "cell_type": "markdown",
   "metadata": {},
   "source": [
    "### кумулятивная конверсия по группам"
   ]
  },
  {
   "cell_type": "code",
   "execution_count": 169,
   "metadata": {},
   "outputs": [
    {
     "data": {
      "image/png": "[encoded data removed]",
      "text/plain": [
       "<Figure size 1440x576 with 1 Axes>"
      ]
     },
     "metadata": {
      "needs_background": "light"
     },
     "output_type": "display_data"
    }
   ],
   "source": [
    "# отделяем данные по группе A\n",
    "cumulative_data_a = cumulative_data[cumulative_data['group']=='A']\n",
    "\n",
    "# отделяем данные по группе B\n",
    "cumulative_data_b = cumulative_data[cumulative_data['group']=='B']\n",
    "\n",
    "# строим графики\n",
    "fig, ax = plt.subplots(figsize=(20, 8))\n",
    "plt.plot(cumulative_data_a['date'], cumulative_data_a['conversion'], label='A')\n",
    "plt.plot(cumulative_data_b['date'], cumulative_data_b['conversion'], label='B')\n",
    "plt.legend()\n",
    "plt.title('Кумулятивная конверсия по группам')\n",
    "plt.xlabel(' ')\n",
    "plt.ylabel('Конверсия')\n",
    "plt.grid(True)\n",
    "plt.show()"
   ]
  },
  {
   "cell_type": "markdown",
   "metadata": {},
   "source": [
    "Примерно до 5 августа показатели конверсии обеих групп колебались, однако уже после преодоления этой временной отметки, показатель конверсии группы В превышает показатель группы А."
   ]
  },
  {
   "cell_type": "markdown",
   "metadata": {},
   "source": [
    "### относительное изменение кумулятивной конверсии группы B к группе A"
   ]
  },
  {
   "cell_type": "code",
   "execution_count": 170,
   "metadata": {},
   "outputs": [
    {
     "data": {
      "image/png": "[encoded data removed]",
      "text/plain": [
       "<Figure size 1440x576 with 1 Axes>"
      ]
     },
     "metadata": {
      "needs_background": "light"
     },
     "output_type": "display_data"
    }
   ],
   "source": [
    "cumulative_conversions_ab = (\n",
    "    cumulative_data_a[['date','conversion']]\n",
    "    .merge(\n",
    "        cumulative_data_b[['date','conversion']], \n",
    "        left_on='date', \n",
    "        right_on='date', \n",
    "        how='left', \n",
    "        suffixes=['_a', '_b']\n",
    "    )\n",
    ")\n",
    "fig, ax = plt.subplots(figsize=(20, 8))\n",
    "plt.plot(\n",
    "    cumulative_conversions_ab['date'], \n",
    "    cumulative_conversions_ab['conversion_b']/\n",
    "    cumulative_conversions_ab['conversion_a']-1\n",
    ")\n",
    "\n",
    "# добавляем ось X\n",
    "plt.axhline(y=0, color='black', linestyle='--')\n",
    "plt.axhline(y=0.15, color='grey', linestyle='--')\n",
    "plt.title('Относительный прирост конверсии группы B относительно группы A')\n",
    "plt.grid(True)\n",
    "plt.show()"
   ]
  },
  {
   "cell_type": "markdown",
   "metadata": {},
   "source": [
    "В начале теста группа B значительно проигрывала группе A, затем вырвалась вперёд. Потом её конверсия снова падала, но теперь постепенно растёт.\n",
    "В целом отношение конверсии ещё не установилось, и сейчас делать какие-либо выводы по тесту нельзя. Впрочем, сперва стоит проанализировать аномалии, о которых нам сигнализировали предыдущие графики, возможно, они изменят картину."
   ]
  },
  {
   "cell_type": "markdown",
   "metadata": {},
   "source": [
    "### анализ количества заказов по пользователям и их стоимости"
   ]
  },
  {
   "cell_type": "markdown",
   "metadata": {},
   "source": [
    "Изучим гистограмму распределения количества заказов на одного пользователя."
   ]
  },
  {
   "cell_type": "code",
   "execution_count": 171,
   "metadata": {},
   "outputs": [],
   "source": [
    "# таблица с количесвом заказов по идентификаторам пользователей\n",
    "orders_by_users = (\n",
    "    orders.groupby('visitor_id', as_index=False)\n",
    "    .agg({'transaction_id': 'nunique'})\n",
    ")\n",
    "orders_by_users.columns=['user_id', 'orders']"
   ]
  },
  {
   "cell_type": "code",
   "execution_count": 172,
   "metadata": {},
   "outputs": [
    {
     "data": {
      "text/plain": [
       "count   1,031.000\n",
       "mean        1.161\n",
       "std         0.725\n",
       "min         1.000\n",
       "25%         1.000\n",
       "50%         1.000\n",
       "75%         1.000\n",
       "max        11.000\n",
       "Name: orders, dtype: float64"
      ]
     },
     "metadata": {},
     "output_type": "display_data"
    },
    {
     "data": {
      "image/png": "[encoded data removed]",
      "text/plain": [
       "<Figure size 432x288 with 1 Axes>"
      ]
     },
     "metadata": {
      "needs_background": "light"
     },
     "output_type": "display_data"
    }
   ],
   "source": [
    "plt.hist(orders_by_users['orders']);\n",
    "plt.title('Распределение количества заказов по пользователям')\n",
    "plt.xlabel('Количество заказов')\n",
    "plt.ylabel('Количество пользователей')\n",
    "plt.grid(True)\n",
    "\n",
    "display(orders_by_users['orders'].describe())"
   ]
  },
  {
   "cell_type": "markdown",
   "metadata": {},
   "source": [
    "Большинство пользователей заказывают только один раз, однако есть и пользователи с 2-3 заказами. Построим точечную диаграмму числа заказов на одного пользователя:"
   ]
  },
  {
   "cell_type": "code",
   "execution_count": 173,
   "metadata": {},
   "outputs": [
    {
     "data": {
      "image/png": "[encoded data removed]",
      "text/plain": [
       "<Figure size 936x504 with 1 Axes>"
      ]
     },
     "metadata": {
      "needs_background": "light"
     },
     "output_type": "display_data"
    }
   ],
   "source": [
    "x_values = pd.Series(range(0,len(orders_by_users)))\n",
    "fig, ax = plt.subplots(figsize=(13, 7))\n",
    "plt.title('Распределение количества заказов по пользователям')\n",
    "plt.scatter(x_values, orders_by_users['orders']); \n",
    "plt.grid(True)"
   ]
  },
  {
   "cell_type": "markdown",
   "metadata": {},
   "source": [
    "Пользователей с 2-4 заказами довольно много. Однако их точная доля не ясна — непонятно, считать их аномалиями или нет. Посчитаем выборочные перцентили количества заказов на одного пользователя:"
   ]
  },
  {
   "cell_type": "code",
   "execution_count": 174,
   "metadata": {},
   "outputs": [
    {
     "data": {
      "text/plain": [
       "array([2., 4.])"
      ]
     },
     "execution_count": 174,
     "metadata": {},
     "output_type": "execute_result"
    }
   ],
   "source": [
    "np.percentile(orders_by_users['orders'], [95, 99])"
   ]
  },
  {
   "cell_type": "markdown",
   "metadata": {},
   "source": [
    "Таким образом, не более 5% пользователей оформляли больше чем 2 заказа и 1% пользователей заказывали более 4 раз. "
   ]
  },
  {
   "cell_type": "markdown",
   "metadata": {},
   "source": [
    "Выберем 4 заказа на одного пользователя за верхнюю границу числа заказов, и отсеем аномальных пользователей по ней. "
   ]
  },
  {
   "cell_type": "markdown",
   "metadata": {},
   "source": [
    "Теперь изучим гистограмму распределение стоимости заказов."
   ]
  },
  {
   "cell_type": "code",
   "execution_count": 175,
   "metadata": {},
   "outputs": [],
   "source": [
    "# выставляем ограничение на показ знаков после запятой\n",
    "pd.options.display.float_format = '{:,.3f}'.format"
   ]
  },
  {
   "cell_type": "code",
   "execution_count": 176,
   "metadata": {},
   "outputs": [
    {
     "data": {
      "text/plain": [
       "count       1,197.000\n",
       "mean        8,348.006\n",
       "std        39,191.132\n",
       "min            50.000\n",
       "25%         1,220.000\n",
       "50%         2,978.000\n",
       "75%         8,290.000\n",
       "max     1,294,500.000\n",
       "Name: revenue, dtype: float64"
      ]
     },
     "metadata": {},
     "output_type": "display_data"
    },
    {
     "data": {
      "image/png": "[encoded data removed]",
      "text/plain": [
       "<Figure size 432x288 with 1 Axes>"
      ]
     },
     "metadata": {
      "needs_background": "light"
     },
     "output_type": "display_data"
    }
   ],
   "source": [
    "plt.hist(orders['revenue']);\n",
    "plt.title('Распределение количества заказов по пользователям')\n",
    "plt.xlabel('Количество заказов')\n",
    "plt.ylabel('Количество пользователей')\n",
    "plt.grid(True)\n",
    "display(orders['revenue'].describe())"
   ]
  },
  {
   "cell_type": "code",
   "execution_count": 177,
   "metadata": {},
   "outputs": [
    {
     "data": {
      "image/png": "[encoded data removed]",
      "text/plain": [
       "<Figure size 936x504 with 1 Axes>"
      ]
     },
     "metadata": {
      "needs_background": "light"
     },
     "output_type": "display_data"
    }
   ],
   "source": [
    "x_values = pd.Series(range(0,len(orders)))\n",
    "fig, ax = plt.subplots(figsize=(13, 7))\n",
    "plt.title('Распределение стоимости заказов по пользователям')\n",
    "plt.scatter(x_values, orders['revenue']); \n",
    "plt.grid(True)"
   ]
  },
  {
   "cell_type": "markdown",
   "metadata": {},
   "source": [
    "В данных есть заказ стоимостью более чем 1.2 млн, который вызвал всплеск на графиках кумулятивных метрик, а также другой заказ, стоимостю примерно равной 200 тыс. Они вполне могли повлиять на результат исследования."
   ]
  },
  {
   "cell_type": "markdown",
   "metadata": {},
   "source": [
    "Теперь построим такой же график, но без двух крупных выбросов, которые мы обнаружили выше."
   ]
  },
  {
   "cell_type": "code",
   "execution_count": 178,
   "metadata": {},
   "outputs": [
    {
     "data": {
      "image/png": "[encoded data removed]",
      "text/plain": [
       "<Figure size 936x504 with 1 Axes>"
      ]
     },
     "metadata": {
      "needs_background": "light"
     },
     "output_type": "display_data"
    }
   ],
   "source": [
    "# строим точечную диаграмму\n",
    "fig, ax = plt.subplots(figsize=(13, 7))\n",
    "plt.ylim(0, 150000)\n",
    "plt.scatter(x_values, orders['revenue'])\n",
    "plt.title('Распределение стоимости заказов по пользователям')\n",
    "plt.grid(True)\n",
    "plt.show()"
   ]
  },
  {
   "cell_type": "markdown",
   "metadata": {},
   "source": [
    "На новом графике стоимость заказов не превышает 100 000. Теперь посчитаем 95-й и 99-й перцентили стоимости заказов на пользователя и выберим границу для определения аномалий."
   ]
  },
  {
   "cell_type": "code",
   "execution_count": 179,
   "metadata": {},
   "outputs": [
    {
     "data": {
      "text/plain": [
       "array([28000. , 58233.2])"
      ]
     },
     "execution_count": 179,
     "metadata": {},
     "output_type": "execute_result"
    }
   ],
   "source": [
    "np.percentile(orders['revenue'], [95, 99])"
   ]
  },
  {
   "cell_type": "markdown",
   "metadata": {},
   "source": [
    "Получается, не более 5% пользователей оформляли заказы не дороже чем 28000 и 1% пользователей заказывали не дороже чем 58233. Установим границу по величине 99% перцентиля - стоимостью 58233."
   ]
  },
  {
   "cell_type": "markdown",
   "metadata": {},
   "source": [
    "### Анализ статистической значимости в среднем количестве заказов на посетителя (конверсии) между группами по «сырым» данным.\n"
   ]
  },
  {
   "cell_type": "markdown",
   "metadata": {},
   "source": [
    "Посчитаем статистическую значимость различий в среднем количестве заказов на посетителя между группами по «сырым» данным. "
   ]
  },
  {
   "cell_type": "markdown",
   "metadata": {},
   "source": [
    "Введем основную и альтернативные гипотезы:\n",
    "- **H0** - различий в конверсиях групп нет\n",
    "- **H1** - различия в конверсиях групп есть"
   ]
  },
  {
   "cell_type": "code",
   "execution_count": 192,
   "metadata": {},
   "outputs": [],
   "source": [
    "# сначала подготовим данные\n",
    "visitors_daily_a = visitors[visitors['group'] == 'A'][['date', 'visitors']]\n",
    "visitors_daily_a.columns = ['date', 'visitors_per_date_a']\n",
    "\n",
    "visitors_cummulative_a = visitors_daily_a.apply(\n",
    "    lambda x: visitors_daily_a[visitors_daily_a['date'] <= x['date']].agg(\n",
    "        {'date': 'max', 'visitors_per_date_a': 'sum'}\n",
    "    ),\n",
    "    axis=1,\n",
    ")\n",
    "visitors_cummulative_a.columns = ['date', 'visitors_cummulative_a']\n",
    "\n",
    "visitors_daily_b = visitors[visitors['group'] == 'B'][['date', 'visitors']]\n",
    "visitors_daily_b.columns = ['date', 'visitors_per_date_b']\n",
    "\n",
    "visitors_cummulative_b = visitors_daily_b.apply(\n",
    "    lambda x: visitors_daily_b[visitors_daily_b['date'] <= x['date']].agg(\n",
    "        {'date': 'max', 'visitors_per_date_b': 'sum'}\n",
    "    ),\n",
    "    axis=1,\n",
    ")\n",
    "visitors_cummulative_b.columns = ['date', 'visitors_cummulative_b']\n",
    "\n",
    "orders_daily_a = (\n",
    "    orders[orders['group'] == 'A'][['date', 'transaction_id', 'visitor_id', 'revenue']]\n",
    "    .groupby('date', as_index=False)\n",
    "    .agg({'transaction_id': pd.Series.nunique, 'revenue': 'sum'})\n",
    ")\n",
    "orders_daily_a.columns = ['date', 'orders_daily_a', 'revenue_per_date_a']\n",
    "\n",
    "orders_cummulative_a = orders_daily_a.apply(\n",
    "    lambda x: orders_daily_a[orders_daily_a['date'] <= x['date']].agg(\n",
    "        {'date': 'max', 'orders_daily_a': 'sum', 'revenue_per_date_a': 'sum'}\n",
    "    ),\n",
    "    axis=1,\n",
    ").sort_values(by=['date'])\n",
    "\n",
    "orders_cummulative_a.columns = ['date','orders_cummulative_a','revenue_cummulative_a']\n",
    "\n",
    "orders_daily_b = (\n",
    "    orders[orders['group'] == 'B'][['date', 'transaction_id', 'visitor_id', 'revenue']]\n",
    "    .groupby('date', as_index=False)\n",
    "    .agg({'transaction_id': pd.Series.nunique, 'revenue': 'sum'})\n",
    ")\n",
    "orders_daily_b.columns = ['date', 'orders_daily_b', 'revenue_per_date_b']\n",
    "\n",
    "orders_cummulative_b = orders_daily_b.apply(\n",
    "    lambda x: orders_daily_b[orders_daily_b['date'] <= x['date']].agg(\n",
    "        {'date': 'max', 'orders_daily_b': 'sum', 'revenue_per_date_b': 'sum'}\n",
    "    ),\n",
    "    axis=1,\n",
    ").sort_values(by=['date'])\n",
    "\n",
    "orders_cummulative_b.columns = ['date','orders_cummulative_b','revenue_cummulative_b']"
   ]
  },
  {
   "cell_type": "code",
   "execution_count": 181,
   "metadata": {},
   "outputs": [],
   "source": [
    "# в  переменных orders_by_users_a и orders_by_users_bдля пользователей, совершивших хотя бы 1 заказ, будет указано число заказов\n",
    "orders_by_users_a = (\n",
    "    orders[orders['group'] == 'A']\n",
    "    .groupby('visitor_id', as_index=False)\n",
    "    .agg({'transaction_id': pd.Series.nunique})\n",
    ")\n",
    "orders_by_users_a.columns = ['visitor_id', 'orders']\n",
    "\n",
    "orders_by_users_b = (\n",
    "    orders[orders['group'] == 'B']\n",
    "    .groupby('visitor_id', as_index=False)\n",
    "    .agg({'transaction_id': pd.Series.nunique})\n",
    ")\n",
    "orders_by_users_b.columns = ['visitor_id', 'orders']"
   ]
  },
  {
   "cell_type": "code",
   "execution_count": 182,
   "metadata": {},
   "outputs": [],
   "source": [
    "# в переменных sample_a и sample_b пользователям с заказами будет соответствовать число заказов пользователя. \n",
    "# А пользователям без заказов — нули. \n",
    "sample_a = pd.concat([orders_by_users_a['orders'],\n",
    "                      pd.Series(\n",
    "                          0, \n",
    "                          index=np.arange(visitors_daily_a['visitors_per_date_a'].sum() - \n",
    "                                          len(orders_by_users_a['orders'])), \n",
    "                          name='orders')],axis=0\n",
    "                    )\n",
    "\n",
    "sample_b = pd.concat([orders_by_users_b['orders'],\n",
    "                      pd.Series(\n",
    "                          0, \n",
    "                          index=np.arange(visitors_daily_b['visitors_per_date_b'].sum() - \n",
    "                                          len(orders_by_users_b['orders'])), \n",
    "                          name='orders')],axis=0\n",
    "                    )"
   ]
  },
  {
   "cell_type": "markdown",
   "metadata": {},
   "source": [
    "Так как нам предстоит рассчитать cтатистическую значимость различий сразу по нескольким показателям, создадим функцию, в которой используем критерий Манна-Уитни (так как данные скорее всего содержат выбросы), указав уровень статистической значимости (alpha=0.05) и форматирование."
   ]
  },
  {
   "cell_type": "code",
   "execution_count": 183,
   "metadata": {},
   "outputs": [],
   "source": [
    "# Функция для проверки гипотезы о равенстве групп data A и data B\n",
    "def stat_significance(data_a, data_b):\n",
    "    alpha = 0.05\n",
    "    p_value = st.mannwhitneyu(data_a, data_b)[1]\n",
    "    print(\"P-value: {0:.3f}\".format(p_value))\n",
    "\n",
    "    if (p_value < alpha):\n",
    "        print(\"Отвергаем нулевую гипотезу: между группами есть разница\")\n",
    "    else:\n",
    "        print(\"Не получилось отвергнуть нулевую гипотезу, нет оснований считать группы разными\")\n",
    "    \n",
    "    print(\"Относительный прирост В к А: {0:.3%}\".format(data_b.mean() / data_a.mean()-1))"
   ]
  },
  {
   "cell_type": "code",
   "execution_count": 184,
   "metadata": {
    "scrolled": true
   },
   "outputs": [
    {
     "name": "stdout",
     "output_type": "stream",
     "text": [
      "P-value: 0.017\n",
      "Отвергаем нулевую гипотезу: между группами есть разница\n",
      "Относительный прирост В к А: 13.808%\n"
     ]
    }
   ],
   "source": [
    "stat_significance(sample_a, sample_b)"
   ]
  },
  {
   "cell_type": "markdown",
   "metadata": {},
   "source": [
    "P-value = 0.017, что меньше 0.05. Значит, нулевую гипотезу об отсутствии различий стоит отвергнуть. Относительный выигрыш группы B равен 13.81%"
   ]
  },
  {
   "cell_type": "markdown",
   "metadata": {},
   "source": [
    "### Анализ статистической значимости различий в среднем чеке заказа между группами по «сырым» данным"
   ]
  },
  {
   "cell_type": "markdown",
   "metadata": {},
   "source": [
    "Теперь посчитаем статистическую значимость различий в среднем чеке заказа между группами по «сырым» данным. "
   ]
  },
  {
   "cell_type": "markdown",
   "metadata": {},
   "source": [
    "Введем основную и альтернативные гипотезы:\n",
    "- **H0** - различий в среднем чеке заказа между группами нет\n",
    "- **H1** - различия в среднем чеке заказа между группами есть"
   ]
  },
  {
   "cell_type": "code",
   "execution_count": 185,
   "metadata": {},
   "outputs": [
    {
     "name": "stdout",
     "output_type": "stream",
     "text": [
      "P-value: 0.729\n",
      "Не получилось отвергнуть нулевую гипотезу, нет оснований считать группы разными\n",
      "Относительный прирост В к А: 25.871%\n"
     ]
    }
   ],
   "source": [
    "stat_significance(orders[orders['group']=='A']['revenue'], orders[orders['group']=='B']['revenue'])"
   ]
  },
  {
   "cell_type": "markdown",
   "metadata": {},
   "source": [
    "Так как p-value значительно больше 0.05, то считать, что в среднем чеке есть различия, нельзя. Также мы выяснили, что средний чек группы B значительно выше среднего чека группы A, примерно на 26%. Отсюда следует, что наблюдаемые различия не являются значимыми при таком уровне значимости, а следовательно были получены случайно."
   ]
  },
  {
   "cell_type": "markdown",
   "metadata": {},
   "source": [
    "###  Анализ статистической значимости различий в среднем количестве заказов на посетителя (конверсии) между группами по «очищенным» данным."
   ]
  },
  {
   "cell_type": "markdown",
   "metadata": {},
   "source": [
    "Ранее мы приняли за \"аномальных\" пользователей с более, чем 4 заказами и стоимостью дороже 58233. Теперь \"очистим\" данные - сделаем срез данных по 99 процентилю."
   ]
  },
  {
   "cell_type": "code",
   "execution_count": 186,
   "metadata": {},
   "outputs": [],
   "source": [
    "# 4\n",
    "many_orders = np.percentile(orders_by_users['orders'], 99) \n",
    "# 58233\n",
    "expensive_orders = np.percentile(orders['revenue'], 99) "
   ]
  },
  {
   "cell_type": "code",
   "execution_count": 187,
   "metadata": {},
   "outputs": [],
   "source": [
    "# сделаем срез по значениям \"аномальных\" пользователей\n",
    "users_with_many_orders = pd.concat(\n",
    "    [\n",
    "        orders_by_users_a[orders_by_users_a['orders'] > many_orders]['visitor_id'],\n",
    "        orders_by_users_b[orders_by_users_b['orders'] > many_orders]['visitor_id'],\n",
    "    ],\n",
    "    axis=0,\n",
    ")\n",
    "users_with_expensive_orders = orders[orders['revenue'] > expensive_orders]['visitor_id']"
   ]
  },
  {
   "cell_type": "code",
   "execution_count": 188,
   "metadata": {},
   "outputs": [
    {
     "data": {
      "text/plain": [
       "1099     148427295\n",
       "949      887908475\n",
       "744      888512513\n",
       "1103    1164614297\n",
       "1136    1307669133\n",
       "Name: visitor_id, dtype: int64"
      ]
     },
     "metadata": {},
     "output_type": "display_data"
    },
    {
     "data": {
      "text/plain": [
       "15"
      ]
     },
     "metadata": {},
     "output_type": "display_data"
    }
   ],
   "source": [
    "# Объединим срезы в таблице abnormalUsers\n",
    "abnormal_users = (\n",
    "    pd.concat([users_with_many_orders, users_with_expensive_orders], axis=0)\n",
    "    .drop_duplicates()\n",
    "    .sort_values()\n",
    ")\n",
    "display(abnormal_users.head(5))\n",
    "display(abnormal_users.shape[0]) "
   ]
  },
  {
   "cell_type": "markdown",
   "metadata": {},
   "source": [
    "Всего 15 аномальных пользователей. \n",
    "Узнаем, как их действия повлияли на результаты теста. Посчитаем статистическую значимость различий в среднем количестве заказов между группами теста по очищенным данным. Сначала подготовим выборки количества заказов по пользователям по группам теста:"
   ]
  },
  {
   "cell_type": "code",
   "execution_count": 189,
   "metadata": {},
   "outputs": [],
   "source": [
    "sample_a_filtered = pd.concat(\n",
    "    [\n",
    "        orders_by_users_a[\n",
    "            np.logical_not(orders_by_users_a['visitor_id'].isin(abnormal_users))\n",
    "        ]['orders'],\n",
    "        pd.Series(\n",
    "            0,\n",
    "            index=np.arange(\n",
    "                data['visitors_per_date_a'].sum() - len(orders_by_users_a['orders'])\n",
    "            ),\n",
    "            name='orders',\n",
    "        ),\n",
    "    ],\n",
    "    axis=0,\n",
    ")\n",
    "\n",
    "sample_b_filtered = pd.concat(\n",
    "    [\n",
    "        orders_by_users_b[\n",
    "            np.logical_not(orders_by_users_b['visitor_id'].isin(abnormal_users))\n",
    "        ]['orders'],\n",
    "        pd.Series(\n",
    "            0,\n",
    "            index=np.arange(\n",
    "                data['visitors_per_date_b'].sum() - len(orders_by_users_b['orders'])\n",
    "            ),\n",
    "            name='orders',\n",
    "        ),\n",
    "    ],\n",
    "    axis=0,\n",
    ")"
   ]
  },
  {
   "cell_type": "code",
   "execution_count": 190,
   "metadata": {},
   "outputs": [
    {
     "name": "stdout",
     "output_type": "stream",
     "text": [
      "P-value: 0.014\n",
      "Отвергаем нулевую гипотезу: между группами есть разница\n",
      "Относительный прирост В к А: 15.331%\n"
     ]
    }
   ],
   "source": [
    "stat_significance(sample_a_filtered, sample_b_filtered)"
   ]
  },
  {
   "cell_type": "markdown",
   "metadata": {},
   "source": [
    "По очищенным данным разница в конверсии между группами действительно есть, а относительный прирост конверсии группы В относительно группы А выше на 15.3%."
   ]
  },
  {
   "cell_type": "markdown",
   "metadata": {},
   "source": [
    "### Анализ статистической значимости различий в среднем чеке заказа между группами по «очищенным» данным."
   ]
  },
  {
   "cell_type": "markdown",
   "metadata": {},
   "source": [
    "Теперь узнаем, произошло ли что-нибудь с результатами по среднему чеку."
   ]
  },
  {
   "cell_type": "code",
   "execution_count": 191,
   "metadata": {},
   "outputs": [
    {
     "name": "stdout",
     "output_type": "stream",
     "text": [
      "P-value: 0.851\n",
      "Не получилось отвергнуть нулевую гипотезу, нет оснований считать группы разными\n",
      "Относительный прирост В к А: -0.575%\n"
     ]
    }
   ],
   "source": [
    "stat_significance(\n",
    "    orders[(orders['group']=='A') & np.logical_not(orders['visitor_id'].isin(abnormal_users))]['revenue'], \n",
    "    orders[(orders['group']=='B') & np.logical_not(orders['visitor_id'].isin(abnormal_users))]['revenue']\n",
    "                  )"
   ]
  },
  {
   "cell_type": "markdown",
   "metadata": {},
   "source": [
    "P-value увеличился до 0.851, но и разница между сегментами сократилась до -0.575%. Получается, что оснований считать группы разными нет."
   ]
  },
  {
   "cell_type": "markdown",
   "metadata": {},
   "source": [
    "# Выводы"
   ]
  },
  {
   "cell_type": "markdown",
   "metadata": {},
   "source": [
    "На основании проведенного анализа, можно сделать следующие выводы и рекоммендации, изложенные ниже:"
   ]
  },
  {
   "cell_type": "markdown",
   "metadata": {},
   "source": [
    "**Часть 1. Приоритезация гипотез**\n",
    "1. По части приоритезации гипотез из списка, предоставленных отделом Маркетинга следует в первую очередь обратить внимание на гипотезы:\n",
    "- \"Запустить акцию, дающую скидку на товар в день рождения\";\n",
    "- \"Добавить два новых канала привлечения трафика, что позволит привлекать на 30% больше пользователей\";\n",
    "- \"Добавить форму подписки на все основные страницы, чтобы собрать базу клиентов для email-рассылок\".\n",
    "\n",
    "2. Если приоритизация гипотез включает в себя охват пользователей интернет-магазина, то гипотезы следует распределить таким образом:\n",
    "- \"Добавить форму подписки на все основные страницы, чтобы собрать базу клиентов для email-рассылок\";\n",
    "- \"Добавить блоки рекомендаций товаров на сайт интернет магазина, чтобы повысить конверсию и средний чек заказа\";\n",
    "- \"Добавить два новых канала привлечения трафика, что позволит привлекать на 30% больше пользователей\"."
   ]
  },
  {
   "cell_type": "markdown",
   "metadata": {},
   "source": [
    "**Часть 2. Анализ A/B-теста**\n",
    "Проведя исследование различий по показателям коверсии и среднего чека групп А и B, можно сделать следующие выводы:\n",
    "\n",
    "- Существует статистически значимое различие по конверсии между группами как по «сырым», так и по данным после фильтрации аномалий. Конверсия группы В выше, чем в группе А, на 13-15%;\n",
    "\n",
    "- Нет статистически значимого различия по среднему чеку между группами ни по «сырым», ни по данным после фильтрации аномалий. При этом средний чек группы В выше (на \"очищенных\" данных - примерно на 2%);\n",
    "\n",
    "- График относительного изменения кумулятивной конверсии группы B к группе A показывает, что результаты группы В стабильно лучше группы А;\n",
    "\n",
    "На основании вышеизложенного рекомендуем **остановить тест**, зафиксировав победу группы B (ее конверсия значительно выше конверсии группы А)."
   ]
  }
 ],
 "metadata": {
  "ExecuteTimeLog": [
   {
    "duration": 1369,
    "start_time": "2023-04-16T15:13:53.110Z"
   },
   {
    "duration": 4,
    "start_time": "2023-04-16T15:14:33.128Z"
   },
   {
    "duration": 3,
    "start_time": "2023-04-16T15:14:36.444Z"
   },
   {
    "duration": 183,
    "start_time": "2023-04-16T15:15:58.253Z"
   },
   {
    "duration": 18,
    "start_time": "2023-04-16T15:16:33.030Z"
   },
   {
    "duration": 14,
    "start_time": "2023-04-16T15:16:41.848Z"
   },
   {
    "duration": 16,
    "start_time": "2023-04-16T15:18:00.410Z"
   },
   {
    "duration": 26,
    "start_time": "2023-04-16T15:19:17.646Z"
   },
   {
    "duration": 15,
    "start_time": "2023-04-16T15:19:29.536Z"
   },
   {
    "duration": 16,
    "start_time": "2023-04-16T15:19:52.121Z"
   },
   {
    "duration": 20,
    "start_time": "2023-04-16T15:20:00.680Z"
   },
   {
    "duration": 24,
    "start_time": "2023-04-16T15:20:43.518Z"
   },
   {
    "duration": 16,
    "start_time": "2023-04-16T15:20:52.822Z"
   },
   {
    "duration": 13,
    "start_time": "2023-04-16T15:27:10.939Z"
   },
   {
    "duration": 118,
    "start_time": "2023-04-16T15:27:48.831Z"
   },
   {
    "duration": 9,
    "start_time": "2023-04-16T15:28:16.850Z"
   },
   {
    "duration": 8,
    "start_time": "2023-04-16T15:28:25.732Z"
   },
   {
    "duration": 6,
    "start_time": "2023-04-16T15:29:58.125Z"
   },
   {
    "duration": 6,
    "start_time": "2023-04-16T15:30:23.227Z"
   },
   {
    "duration": 5,
    "start_time": "2023-04-16T15:30:26.338Z"
   },
   {
    "duration": 3,
    "start_time": "2023-04-16T15:31:50.013Z"
   },
   {
    "duration": 68,
    "start_time": "2023-04-16T15:31:50.018Z"
   },
   {
    "duration": 23,
    "start_time": "2023-04-16T15:31:50.087Z"
   },
   {
    "duration": 14,
    "start_time": "2023-04-16T15:31:50.112Z"
   },
   {
    "duration": 12,
    "start_time": "2023-04-16T15:31:50.128Z"
   },
   {
    "duration": 11,
    "start_time": "2023-04-16T15:31:50.142Z"
   },
   {
    "duration": 7,
    "start_time": "2023-04-16T15:31:50.155Z"
   },
   {
    "duration": 6,
    "start_time": "2023-04-16T15:31:58.035Z"
   },
   {
    "duration": 5,
    "start_time": "2023-04-16T15:33:35.630Z"
   },
   {
    "duration": 14,
    "start_time": "2023-04-16T15:33:53.426Z"
   },
   {
    "duration": 3,
    "start_time": "2023-04-16T15:40:40.697Z"
   },
   {
    "duration": 6,
    "start_time": "2023-04-16T15:43:09.709Z"
   },
   {
    "duration": 5,
    "start_time": "2023-04-16T15:44:34.020Z"
   },
   {
    "duration": 11,
    "start_time": "2023-04-16T15:49:24.122Z"
   },
   {
    "duration": 16,
    "start_time": "2023-04-16T15:56:38.723Z"
   },
   {
    "duration": 159,
    "start_time": "2023-04-16T16:30:26.626Z"
   },
   {
    "duration": 159,
    "start_time": "2023-04-16T16:30:31.022Z"
   },
   {
    "duration": 115,
    "start_time": "2023-04-16T16:32:43.835Z"
   },
   {
    "duration": 6,
    "start_time": "2023-04-16T16:34:06.576Z"
   },
   {
    "duration": 15,
    "start_time": "2023-04-16T16:34:13.827Z"
   },
   {
    "duration": 14,
    "start_time": "2023-04-16T16:34:38.727Z"
   },
   {
    "duration": 10,
    "start_time": "2023-04-16T16:43:01.816Z"
   },
   {
    "duration": 248,
    "start_time": "2023-04-16T16:51:26.173Z"
   },
   {
    "duration": 243,
    "start_time": "2023-04-16T16:51:49.344Z"
   },
   {
    "duration": 225,
    "start_time": "2023-04-16T16:51:54.703Z"
   },
   {
    "duration": 223,
    "start_time": "2023-04-16T16:52:57.920Z"
   },
   {
    "duration": 238,
    "start_time": "2023-04-16T16:53:04.419Z"
   },
   {
    "duration": 296,
    "start_time": "2023-04-16T17:01:08.934Z"
   },
   {
    "duration": 389,
    "start_time": "2023-04-16T17:39:43.325Z"
   },
   {
    "duration": 360,
    "start_time": "2023-04-16T17:44:44.956Z"
   },
   {
    "duration": 318,
    "start_time": "2023-04-16T17:47:59.319Z"
   },
   {
    "duration": 49,
    "start_time": "2023-04-17T08:19:32.242Z"
   },
   {
    "duration": 1419,
    "start_time": "2023-04-17T08:19:37.749Z"
   },
   {
    "duration": 188,
    "start_time": "2023-04-17T08:19:39.172Z"
   },
   {
    "duration": 21,
    "start_time": "2023-04-17T08:19:39.362Z"
   },
   {
    "duration": 16,
    "start_time": "2023-04-17T08:19:39.385Z"
   },
   {
    "duration": 16,
    "start_time": "2023-04-17T08:19:39.403Z"
   },
   {
    "duration": 13,
    "start_time": "2023-04-17T08:19:39.420Z"
   },
   {
    "duration": 8,
    "start_time": "2023-04-17T08:19:39.435Z"
   },
   {
    "duration": 18,
    "start_time": "2023-04-17T08:19:39.445Z"
   },
   {
    "duration": 8,
    "start_time": "2023-04-17T08:19:39.465Z"
   },
   {
    "duration": 14,
    "start_time": "2023-04-17T08:19:39.512Z"
   },
   {
    "duration": 12,
    "start_time": "2023-04-17T08:19:39.528Z"
   },
   {
    "duration": 199,
    "start_time": "2023-04-17T08:19:39.542Z"
   },
   {
    "duration": 133,
    "start_time": "2023-04-17T08:19:39.743Z"
   },
   {
    "duration": 21,
    "start_time": "2023-04-17T08:19:39.878Z"
   },
   {
    "duration": 27,
    "start_time": "2023-04-17T08:19:39.900Z"
   },
   {
    "duration": 320,
    "start_time": "2023-04-17T08:19:39.929Z"
   },
   {
    "duration": 247,
    "start_time": "2023-04-17T08:19:40.251Z"
   },
   {
    "duration": 398,
    "start_time": "2023-04-17T08:19:40.500Z"
   },
   {
    "duration": 301,
    "start_time": "2023-04-17T08:19:40.899Z"
   },
   {
    "duration": 359,
    "start_time": "2023-04-17T08:19:41.202Z"
   },
   {
    "duration": 73,
    "start_time": "2023-04-17T08:19:41.563Z"
   },
   {
    "duration": 19,
    "start_time": "2023-04-17T08:20:38.426Z"
   },
   {
    "duration": 7,
    "start_time": "2023-04-17T08:22:35.124Z"
   },
   {
    "duration": 16,
    "start_time": "2023-04-17T08:23:08.830Z"
   },
   {
    "duration": 7,
    "start_time": "2023-04-17T08:25:54.116Z"
   },
   {
    "duration": 114,
    "start_time": "2023-04-17T08:27:42.926Z"
   },
   {
    "duration": 10,
    "start_time": "2023-04-17T08:27:55.826Z"
   },
   {
    "duration": 140,
    "start_time": "2023-04-17T08:29:05.550Z"
   },
   {
    "duration": 275,
    "start_time": "2023-04-17T08:29:24.774Z"
   },
   {
    "duration": 141,
    "start_time": "2023-04-17T08:29:51.277Z"
   },
   {
    "duration": 149,
    "start_time": "2023-04-17T08:30:16.312Z"
   },
   {
    "duration": 154,
    "start_time": "2023-04-17T08:30:47.425Z"
   },
   {
    "duration": 38,
    "start_time": "2023-04-17T08:31:21.213Z"
   },
   {
    "duration": 29,
    "start_time": "2023-04-17T08:31:33.314Z"
   },
   {
    "duration": 26,
    "start_time": "2023-04-17T08:31:37.127Z"
   },
   {
    "duration": 133,
    "start_time": "2023-04-17T08:32:24.666Z"
   },
   {
    "duration": 111,
    "start_time": "2023-04-17T08:32:28.210Z"
   },
   {
    "duration": 120,
    "start_time": "2023-04-17T08:35:11.045Z"
   },
   {
    "duration": 368,
    "start_time": "2023-04-17T08:35:25.581Z"
   },
   {
    "duration": 282,
    "start_time": "2023-04-17T08:35:30.019Z"
   },
   {
    "duration": 367,
    "start_time": "2023-04-17T08:35:33.893Z"
   },
   {
    "duration": 255,
    "start_time": "2023-04-17T08:35:39.210Z"
   },
   {
    "duration": 367,
    "start_time": "2023-04-17T08:35:43.566Z"
   },
   {
    "duration": 134,
    "start_time": "2023-04-17T08:36:18.601Z"
   },
   {
    "duration": 125,
    "start_time": "2023-04-17T08:36:25.197Z"
   },
   {
    "duration": 174,
    "start_time": "2023-04-17T08:36:35.989Z"
   },
   {
    "duration": 164,
    "start_time": "2023-04-17T08:36:45.336Z"
   },
   {
    "duration": 130,
    "start_time": "2023-04-17T08:36:51.930Z"
   },
   {
    "duration": 155,
    "start_time": "2023-04-17T08:37:07.723Z"
   },
   {
    "duration": 5,
    "start_time": "2023-04-17T08:40:25.972Z"
   },
   {
    "duration": 58,
    "start_time": "2023-04-17T17:24:17.570Z"
   },
   {
    "duration": 1413,
    "start_time": "2023-04-17T17:24:19.940Z"
   },
   {
    "duration": 212,
    "start_time": "2023-04-17T17:24:21.355Z"
   },
   {
    "duration": 33,
    "start_time": "2023-04-17T17:24:21.569Z"
   },
   {
    "duration": 27,
    "start_time": "2023-04-17T17:24:21.604Z"
   },
   {
    "duration": 40,
    "start_time": "2023-04-17T17:24:21.634Z"
   },
   {
    "duration": 24,
    "start_time": "2023-04-17T17:24:21.677Z"
   },
   {
    "duration": 17,
    "start_time": "2023-04-17T17:24:21.703Z"
   },
   {
    "duration": 25,
    "start_time": "2023-04-17T17:24:21.722Z"
   },
   {
    "duration": 36,
    "start_time": "2023-04-17T17:24:21.749Z"
   },
   {
    "duration": 41,
    "start_time": "2023-04-17T17:24:21.787Z"
   },
   {
    "duration": 13,
    "start_time": "2023-04-17T17:24:21.830Z"
   },
   {
    "duration": 201,
    "start_time": "2023-04-17T17:24:21.845Z"
   },
   {
    "duration": 152,
    "start_time": "2023-04-17T17:24:22.048Z"
   },
   {
    "duration": 17,
    "start_time": "2023-04-17T17:24:22.203Z"
   },
   {
    "duration": 19,
    "start_time": "2023-04-17T17:24:22.222Z"
   },
   {
    "duration": 399,
    "start_time": "2023-04-17T17:24:22.243Z"
   },
   {
    "duration": 284,
    "start_time": "2023-04-17T17:24:22.643Z"
   },
   {
    "duration": 431,
    "start_time": "2023-04-17T17:24:22.929Z"
   },
   {
    "duration": 357,
    "start_time": "2023-04-17T17:24:23.362Z"
   },
   {
    "duration": 357,
    "start_time": "2023-04-17T17:24:23.721Z"
   },
   {
    "duration": 23,
    "start_time": "2023-04-17T17:24:24.079Z"
   },
   {
    "duration": 142,
    "start_time": "2023-04-17T17:24:24.104Z"
   },
   {
    "duration": 243,
    "start_time": "2023-04-17T17:24:24.248Z"
   },
   {
    "duration": 8,
    "start_time": "2023-04-17T17:24:24.493Z"
   },
   {
    "duration": 168,
    "start_time": "2023-04-17T17:25:10.043Z"
   },
   {
    "duration": 153,
    "start_time": "2023-04-17T17:26:30.108Z"
   },
   {
    "duration": 5,
    "start_time": "2023-04-17T17:26:41.178Z"
   },
   {
    "duration": 230,
    "start_time": "2023-04-17T17:27:15.314Z"
   },
   {
    "duration": 174,
    "start_time": "2023-04-17T17:27:22.574Z"
   },
   {
    "duration": 216,
    "start_time": "2023-04-17T17:32:47.826Z"
   },
   {
    "duration": 4,
    "start_time": "2023-04-17T17:33:21.003Z"
   },
   {
    "duration": 203,
    "start_time": "2023-04-17T17:33:22.475Z"
   },
   {
    "duration": 309,
    "start_time": "2023-04-17T17:33:59.817Z"
   },
   {
    "duration": 320,
    "start_time": "2023-04-17T17:34:09.402Z"
   },
   {
    "duration": 161,
    "start_time": "2023-04-17T17:34:18.603Z"
   },
   {
    "duration": 3,
    "start_time": "2023-04-17T17:37:25.709Z"
   },
   {
    "duration": 188,
    "start_time": "2023-04-17T17:37:27.027Z"
   },
   {
    "duration": 3,
    "start_time": "2023-04-17T17:37:33.836Z"
   },
   {
    "duration": 227,
    "start_time": "2023-04-17T17:37:35.874Z"
   },
   {
    "duration": 3,
    "start_time": "2023-04-17T17:37:55.173Z"
   },
   {
    "duration": 289,
    "start_time": "2023-04-17T17:37:56.223Z"
   },
   {
    "duration": 4,
    "start_time": "2023-04-17T17:38:03.712Z"
   },
   {
    "duration": 184,
    "start_time": "2023-04-17T17:38:05.124Z"
   },
   {
    "duration": 157,
    "start_time": "2023-04-17T17:39:18.321Z"
   },
   {
    "duration": 188,
    "start_time": "2023-04-17T17:39:32.427Z"
   },
   {
    "duration": 190,
    "start_time": "2023-04-17T17:43:03.138Z"
   },
   {
    "duration": 191,
    "start_time": "2023-04-17T17:45:20.144Z"
   },
   {
    "duration": 301,
    "start_time": "2023-04-17T17:49:15.492Z"
   },
   {
    "duration": 318,
    "start_time": "2023-04-17T17:55:05.006Z"
   },
   {
    "duration": 165,
    "start_time": "2023-04-17T17:55:38.558Z"
   },
   {
    "duration": 182,
    "start_time": "2023-04-17T17:56:02.503Z"
   },
   {
    "duration": 300,
    "start_time": "2023-04-17T17:57:26.209Z"
   },
   {
    "duration": 280,
    "start_time": "2023-04-17T17:57:35.660Z"
   },
   {
    "duration": 6,
    "start_time": "2023-04-17T17:58:07.547Z"
   },
   {
    "duration": 1130,
    "start_time": "2023-04-18T09:28:00.567Z"
   },
   {
    "duration": 192,
    "start_time": "2023-04-18T09:28:01.699Z"
   },
   {
    "duration": 21,
    "start_time": "2023-04-18T09:28:01.892Z"
   },
   {
    "duration": 41,
    "start_time": "2023-04-18T09:28:01.914Z"
   },
   {
    "duration": 37,
    "start_time": "2023-04-18T09:28:01.957Z"
   },
   {
    "duration": 46,
    "start_time": "2023-04-18T09:28:01.996Z"
   },
   {
    "duration": 28,
    "start_time": "2023-04-18T09:28:02.044Z"
   },
   {
    "duration": 33,
    "start_time": "2023-04-18T09:28:02.074Z"
   },
   {
    "duration": 41,
    "start_time": "2023-04-18T09:28:02.109Z"
   },
   {
    "duration": 41,
    "start_time": "2023-04-18T09:28:02.152Z"
   },
   {
    "duration": 69,
    "start_time": "2023-04-18T09:28:02.195Z"
   },
   {
    "duration": 160,
    "start_time": "2023-04-18T09:28:02.266Z"
   },
   {
    "duration": 123,
    "start_time": "2023-04-18T09:28:02.427Z"
   },
   {
    "duration": 16,
    "start_time": "2023-04-18T09:28:02.554Z"
   },
   {
    "duration": 17,
    "start_time": "2023-04-18T09:28:02.571Z"
   },
   {
    "duration": 302,
    "start_time": "2023-04-18T09:28:02.590Z"
   },
   {
    "duration": 224,
    "start_time": "2023-04-18T09:28:02.893Z"
   },
   {
    "duration": 385,
    "start_time": "2023-04-18T09:28:03.118Z"
   },
   {
    "duration": 254,
    "start_time": "2023-04-18T09:28:03.505Z"
   },
   {
    "duration": 300,
    "start_time": "2023-04-18T09:28:03.760Z"
   },
   {
    "duration": 6,
    "start_time": "2023-04-18T09:28:04.061Z"
   },
   {
    "duration": 141,
    "start_time": "2023-04-18T09:28:04.068Z"
   },
   {
    "duration": 172,
    "start_time": "2023-04-18T09:28:04.211Z"
   },
   {
    "duration": 4,
    "start_time": "2023-04-18T09:28:04.385Z"
   },
   {
    "duration": 8,
    "start_time": "2023-04-18T09:28:04.390Z"
   },
   {
    "duration": 204,
    "start_time": "2023-04-18T09:28:04.399Z"
   },
   {
    "duration": 142,
    "start_time": "2023-04-18T09:28:04.605Z"
   },
   {
    "duration": 157,
    "start_time": "2023-04-18T09:28:04.749Z"
   },
   {
    "duration": 6,
    "start_time": "2023-04-18T09:28:04.907Z"
   },
   {
    "duration": 191,
    "start_time": "2023-04-18T09:28:04.914Z"
   },
   {
    "duration": 192,
    "start_time": "2023-04-18T09:29:31.559Z"
   },
   {
    "duration": 197,
    "start_time": "2023-04-18T09:29:39.261Z"
   },
   {
    "duration": 4,
    "start_time": "2023-04-18T09:34:59.979Z"
   },
   {
    "duration": 85,
    "start_time": "2023-04-18T09:34:59.985Z"
   },
   {
    "duration": 17,
    "start_time": "2023-04-18T09:35:00.071Z"
   },
   {
    "duration": 38,
    "start_time": "2023-04-18T09:35:00.090Z"
   },
   {
    "duration": 40,
    "start_time": "2023-04-18T09:35:00.130Z"
   },
   {
    "duration": 57,
    "start_time": "2023-04-18T09:35:00.172Z"
   },
   {
    "duration": 77,
    "start_time": "2023-04-18T09:35:00.231Z"
   },
   {
    "duration": 62,
    "start_time": "2023-04-18T09:35:00.310Z"
   },
   {
    "duration": 46,
    "start_time": "2023-04-18T09:35:00.374Z"
   },
   {
    "duration": 104,
    "start_time": "2023-04-18T09:35:00.422Z"
   },
   {
    "duration": 68,
    "start_time": "2023-04-18T09:35:00.529Z"
   },
   {
    "duration": 244,
    "start_time": "2023-04-18T09:35:00.599Z"
   },
   {
    "duration": 126,
    "start_time": "2023-04-18T09:35:00.844Z"
   },
   {
    "duration": 29,
    "start_time": "2023-04-18T09:35:00.973Z"
   },
   {
    "duration": 86,
    "start_time": "2023-04-18T09:35:01.004Z"
   },
   {
    "duration": 287,
    "start_time": "2023-04-18T09:35:01.092Z"
   },
   {
    "duration": 224,
    "start_time": "2023-04-18T09:35:01.381Z"
   },
   {
    "duration": 356,
    "start_time": "2023-04-18T09:35:01.607Z"
   },
   {
    "duration": 248,
    "start_time": "2023-04-18T09:35:01.964Z"
   },
   {
    "duration": 363,
    "start_time": "2023-04-18T09:35:02.214Z"
   },
   {
    "duration": 8,
    "start_time": "2023-04-18T09:35:02.579Z"
   },
   {
    "duration": 161,
    "start_time": "2023-04-18T09:35:02.589Z"
   },
   {
    "duration": 168,
    "start_time": "2023-04-18T09:35:02.752Z"
   },
   {
    "duration": 6,
    "start_time": "2023-04-18T09:35:02.922Z"
   },
   {
    "duration": 9,
    "start_time": "2023-04-18T09:35:02.929Z"
   },
   {
    "duration": 244,
    "start_time": "2023-04-18T09:35:02.940Z"
   },
   {
    "duration": 142,
    "start_time": "2023-04-18T09:35:03.185Z"
   },
   {
    "duration": 158,
    "start_time": "2023-04-18T09:35:03.329Z"
   },
   {
    "duration": 5,
    "start_time": "2023-04-18T09:35:03.489Z"
   },
   {
    "duration": 217,
    "start_time": "2023-04-18T09:35:03.495Z"
   },
   {
    "duration": 122,
    "start_time": "2023-04-18T09:43:26.330Z"
   },
   {
    "duration": 6,
    "start_time": "2023-04-18T09:44:25.922Z"
   },
   {
    "duration": 4,
    "start_time": "2023-04-18T10:01:50.450Z"
   },
   {
    "duration": 10,
    "start_time": "2023-04-18T10:07:25.086Z"
   },
   {
    "duration": 4,
    "start_time": "2023-04-18T10:08:00.951Z"
   },
   {
    "duration": 21,
    "start_time": "2023-04-18T10:08:02.230Z"
   },
   {
    "duration": 13,
    "start_time": "2023-04-18T11:06:23.926Z"
   },
   {
    "duration": 5,
    "start_time": "2023-04-18T11:57:04.326Z"
   },
   {
    "duration": 3,
    "start_time": "2023-04-18T11:57:06.621Z"
   },
   {
    "duration": 60,
    "start_time": "2023-04-18T17:52:13.102Z"
   },
   {
    "duration": 1900,
    "start_time": "2023-04-18T17:52:16.888Z"
   },
   {
    "duration": 396,
    "start_time": "2023-04-18T17:52:18.790Z"
   },
   {
    "duration": 31,
    "start_time": "2023-04-18T17:52:19.192Z"
   },
   {
    "duration": 18,
    "start_time": "2023-04-18T17:52:19.225Z"
   },
   {
    "duration": 18,
    "start_time": "2023-04-18T17:52:19.246Z"
   },
   {
    "duration": 15,
    "start_time": "2023-04-18T17:52:19.267Z"
   },
   {
    "duration": 41,
    "start_time": "2023-04-18T17:52:19.285Z"
   },
   {
    "duration": 24,
    "start_time": "2023-04-18T17:52:19.332Z"
   },
   {
    "duration": 40,
    "start_time": "2023-04-18T17:52:19.358Z"
   },
   {
    "duration": 37,
    "start_time": "2023-04-18T17:52:19.401Z"
   },
   {
    "duration": 30,
    "start_time": "2023-04-18T17:52:19.445Z"
   },
   {
    "duration": 272,
    "start_time": "2023-04-18T17:52:19.477Z"
   },
   {
    "duration": 193,
    "start_time": "2023-04-18T17:52:19.751Z"
   },
   {
    "duration": 31,
    "start_time": "2023-04-18T17:52:19.948Z"
   },
   {
    "duration": 32,
    "start_time": "2023-04-18T17:52:19.984Z"
   },
   {
    "duration": 523,
    "start_time": "2023-04-18T17:52:20.018Z"
   },
   {
    "duration": 379,
    "start_time": "2023-04-18T17:52:20.543Z"
   },
   {
    "duration": 515,
    "start_time": "2023-04-18T17:52:20.926Z"
   },
   {
    "duration": 499,
    "start_time": "2023-04-18T17:52:21.450Z"
   },
   {
    "duration": 495,
    "start_time": "2023-04-18T17:52:21.952Z"
   },
   {
    "duration": 7,
    "start_time": "2023-04-18T17:52:22.448Z"
   },
   {
    "duration": 205,
    "start_time": "2023-04-18T17:52:22.456Z"
   },
   {
    "duration": 220,
    "start_time": "2023-04-18T17:52:22.666Z"
   },
   {
    "duration": 7,
    "start_time": "2023-04-18T17:52:22.888Z"
   },
   {
    "duration": 9,
    "start_time": "2023-04-18T17:52:22.898Z"
   },
   {
    "duration": 389,
    "start_time": "2023-04-18T17:52:22.909Z"
   },
   {
    "duration": 226,
    "start_time": "2023-04-18T17:52:23.300Z"
   },
   {
    "duration": 240,
    "start_time": "2023-04-18T17:52:23.530Z"
   },
   {
    "duration": 10,
    "start_time": "2023-04-18T17:52:23.784Z"
   },
   {
    "duration": 294,
    "start_time": "2023-04-18T17:52:23.796Z"
   },
   {
    "duration": 184,
    "start_time": "2023-04-18T17:52:24.092Z"
   },
   {
    "duration": 9,
    "start_time": "2023-04-18T17:52:24.278Z"
   },
   {
    "duration": 7,
    "start_time": "2023-04-18T17:52:24.289Z"
   },
   {
    "duration": 44,
    "start_time": "2023-04-18T17:52:24.298Z"
   },
   {
    "duration": 15,
    "start_time": "2023-04-18T17:52:24.349Z"
   },
   {
    "duration": 15,
    "start_time": "2023-04-18T17:52:24.372Z"
   },
   {
    "duration": 5,
    "start_time": "2023-04-18T17:52:41.438Z"
   },
   {
    "duration": 4,
    "start_time": "2023-04-18T17:53:21.435Z"
   },
   {
    "duration": 11,
    "start_time": "2023-04-18T18:02:55.112Z"
   },
   {
    "duration": 4,
    "start_time": "2023-04-18T18:04:07.838Z"
   },
   {
    "duration": 1516,
    "start_time": "2023-04-19T08:58:17.011Z"
   },
   {
    "duration": 208,
    "start_time": "2023-04-19T08:58:18.530Z"
   },
   {
    "duration": 27,
    "start_time": "2023-04-19T08:58:18.740Z"
   },
   {
    "duration": 19,
    "start_time": "2023-04-19T08:58:18.768Z"
   },
   {
    "duration": 52,
    "start_time": "2023-04-19T08:58:18.790Z"
   },
   {
    "duration": 12,
    "start_time": "2023-04-19T08:58:18.844Z"
   },
   {
    "duration": 9,
    "start_time": "2023-04-19T08:58:18.858Z"
   },
   {
    "duration": 24,
    "start_time": "2023-04-19T08:58:18.868Z"
   },
   {
    "duration": 12,
    "start_time": "2023-04-19T08:58:18.894Z"
   },
   {
    "duration": 37,
    "start_time": "2023-04-19T08:58:18.908Z"
   },
   {
    "duration": 12,
    "start_time": "2023-04-19T08:58:18.947Z"
   },
   {
    "duration": 218,
    "start_time": "2023-04-19T08:58:18.961Z"
   },
   {
    "duration": 165,
    "start_time": "2023-04-19T08:58:19.181Z"
   },
   {
    "duration": 20,
    "start_time": "2023-04-19T08:58:19.351Z"
   },
   {
    "duration": 17,
    "start_time": "2023-04-19T08:58:19.373Z"
   },
   {
    "duration": 419,
    "start_time": "2023-04-19T08:58:19.391Z"
   },
   {
    "duration": 287,
    "start_time": "2023-04-19T08:58:19.812Z"
   },
   {
    "duration": 449,
    "start_time": "2023-04-19T08:58:20.102Z"
   },
   {
    "duration": 326,
    "start_time": "2023-04-19T08:58:20.553Z"
   },
   {
    "duration": 350,
    "start_time": "2023-04-19T08:58:20.882Z"
   },
   {
    "duration": 9,
    "start_time": "2023-04-19T08:58:21.242Z"
   },
   {
    "duration": 177,
    "start_time": "2023-04-19T08:58:21.253Z"
   },
   {
    "duration": 182,
    "start_time": "2023-04-19T08:58:21.432Z"
   },
   {
    "duration": 7,
    "start_time": "2023-04-19T08:58:21.616Z"
   },
   {
    "duration": 17,
    "start_time": "2023-04-19T08:58:21.626Z"
   },
   {
    "duration": 300,
    "start_time": "2023-04-19T08:58:21.646Z"
   },
   {
    "duration": 183,
    "start_time": "2023-04-19T08:58:21.948Z"
   },
   {
    "duration": 202,
    "start_time": "2023-04-19T08:58:22.133Z"
   },
   {
    "duration": 7,
    "start_time": "2023-04-19T08:58:22.337Z"
   },
   {
    "duration": 280,
    "start_time": "2023-04-19T08:58:22.347Z"
   },
   {
    "duration": 161,
    "start_time": "2023-04-19T08:58:22.629Z"
   },
   {
    "duration": 9,
    "start_time": "2023-04-19T08:58:22.792Z"
   },
   {
    "duration": 6,
    "start_time": "2023-04-19T08:58:22.803Z"
   },
   {
    "duration": 36,
    "start_time": "2023-04-19T08:58:22.812Z"
   },
   {
    "duration": 10,
    "start_time": "2023-04-19T08:58:22.850Z"
   },
   {
    "duration": 7,
    "start_time": "2023-04-19T08:58:22.862Z"
   },
   {
    "duration": 32,
    "start_time": "2023-04-19T08:58:22.871Z"
   },
   {
    "duration": 115,
    "start_time": "2023-04-19T08:58:22.905Z"
   },
   {
    "duration": 10,
    "start_time": "2023-04-19T09:00:08.839Z"
   },
   {
    "duration": 12,
    "start_time": "2023-04-19T09:00:55.299Z"
   },
   {
    "duration": 23,
    "start_time": "2023-04-19T09:01:01.398Z"
   },
   {
    "duration": 11,
    "start_time": "2023-04-19T09:11:05.084Z"
   },
   {
    "duration": 1214,
    "start_time": "2023-04-19T11:14:51.467Z"
   },
   {
    "duration": 250,
    "start_time": "2023-04-19T11:14:52.684Z"
   },
   {
    "duration": 43,
    "start_time": "2023-04-19T11:14:52.936Z"
   },
   {
    "duration": 32,
    "start_time": "2023-04-19T11:14:52.987Z"
   },
   {
    "duration": 62,
    "start_time": "2023-04-19T11:14:53.021Z"
   },
   {
    "duration": 36,
    "start_time": "2023-04-19T11:14:53.085Z"
   },
   {
    "duration": 19,
    "start_time": "2023-04-19T11:14:53.123Z"
   },
   {
    "duration": 52,
    "start_time": "2023-04-19T11:14:53.143Z"
   },
   {
    "duration": 35,
    "start_time": "2023-04-19T11:14:53.197Z"
   },
   {
    "duration": 53,
    "start_time": "2023-04-19T11:14:53.235Z"
   },
   {
    "duration": 15,
    "start_time": "2023-04-19T11:14:53.290Z"
   },
   {
    "duration": 200,
    "start_time": "2023-04-19T11:14:53.306Z"
   },
   {
    "duration": 135,
    "start_time": "2023-04-19T11:14:53.508Z"
   },
   {
    "duration": 31,
    "start_time": "2023-04-19T11:14:53.644Z"
   },
   {
    "duration": 32,
    "start_time": "2023-04-19T11:14:53.676Z"
   },
   {
    "duration": 382,
    "start_time": "2023-04-19T11:14:53.709Z"
   },
   {
    "duration": 273,
    "start_time": "2023-04-19T11:14:54.092Z"
   },
   {
    "duration": 400,
    "start_time": "2023-04-19T11:14:54.382Z"
   },
   {
    "duration": 351,
    "start_time": "2023-04-19T11:14:54.785Z"
   },
   {
    "duration": 398,
    "start_time": "2023-04-19T11:14:55.139Z"
   },
   {
    "duration": 10,
    "start_time": "2023-04-19T11:14:55.539Z"
   },
   {
    "duration": 176,
    "start_time": "2023-04-19T11:14:55.550Z"
   },
   {
    "duration": 164,
    "start_time": "2023-04-19T11:14:55.728Z"
   },
   {
    "duration": 5,
    "start_time": "2023-04-19T11:14:55.893Z"
   },
   {
    "duration": 21,
    "start_time": "2023-04-19T11:14:55.900Z"
   },
   {
    "duration": 273,
    "start_time": "2023-04-19T11:14:55.923Z"
   },
   {
    "duration": 195,
    "start_time": "2023-04-19T11:14:56.197Z"
   },
   {
    "duration": 192,
    "start_time": "2023-04-19T11:14:56.395Z"
   },
   {
    "duration": 5,
    "start_time": "2023-04-19T11:14:56.589Z"
   },
   {
    "duration": 229,
    "start_time": "2023-04-19T11:14:56.596Z"
   },
   {
    "duration": 160,
    "start_time": "2023-04-19T11:14:56.827Z"
   },
   {
    "duration": 8,
    "start_time": "2023-04-19T11:14:56.990Z"
   },
   {
    "duration": 22,
    "start_time": "2023-04-19T11:14:57.000Z"
   },
   {
    "duration": 48,
    "start_time": "2023-04-19T11:14:57.023Z"
   },
   {
    "duration": 15,
    "start_time": "2023-04-19T11:14:57.072Z"
   },
   {
    "duration": 24,
    "start_time": "2023-04-19T11:14:57.089Z"
   },
   {
    "duration": 21,
    "start_time": "2023-04-19T11:14:57.115Z"
   },
   {
    "duration": 14,
    "start_time": "2023-04-19T11:14:57.137Z"
   },
   {
    "duration": 50,
    "start_time": "2023-04-19T11:14:57.152Z"
   },
   {
    "duration": 37,
    "start_time": "2023-04-19T11:14:57.204Z"
   },
   {
    "duration": 20,
    "start_time": "2023-04-19T11:14:57.243Z"
   },
   {
    "duration": 1412,
    "start_time": "2023-04-20T07:38:37.907Z"
   },
   {
    "duration": 208,
    "start_time": "2023-04-20T07:38:39.323Z"
   },
   {
    "duration": 31,
    "start_time": "2023-04-20T07:38:39.533Z"
   },
   {
    "duration": 22,
    "start_time": "2023-04-20T07:38:39.567Z"
   },
   {
    "duration": 19,
    "start_time": "2023-04-20T07:38:39.591Z"
   },
   {
    "duration": 12,
    "start_time": "2023-04-20T07:38:39.612Z"
   },
   {
    "duration": 7,
    "start_time": "2023-04-20T07:38:39.625Z"
   },
   {
    "duration": 15,
    "start_time": "2023-04-20T07:38:39.634Z"
   },
   {
    "duration": 42,
    "start_time": "2023-04-20T07:38:39.651Z"
   },
   {
    "duration": 6,
    "start_time": "2023-04-20T07:38:39.696Z"
   },
   {
    "duration": 17,
    "start_time": "2023-04-20T07:38:39.704Z"
   },
   {
    "duration": 12,
    "start_time": "2023-04-20T07:38:39.723Z"
   },
   {
    "duration": 217,
    "start_time": "2023-04-20T07:38:39.736Z"
   },
   {
    "duration": 162,
    "start_time": "2023-04-20T07:38:39.954Z"
   },
   {
    "duration": 19,
    "start_time": "2023-04-20T07:38:40.120Z"
   },
   {
    "duration": 24,
    "start_time": "2023-04-20T07:38:40.141Z"
   },
   {
    "duration": 366,
    "start_time": "2023-04-20T07:38:40.167Z"
   },
   {
    "duration": 268,
    "start_time": "2023-04-20T07:38:40.534Z"
   },
   {
    "duration": 374,
    "start_time": "2023-04-20T07:38:40.804Z"
   },
   {
    "duration": 317,
    "start_time": "2023-04-20T07:38:41.180Z"
   },
   {
    "duration": 398,
    "start_time": "2023-04-20T07:38:41.499Z"
   },
   {
    "duration": 9,
    "start_time": "2023-04-20T07:38:41.900Z"
   },
   {
    "duration": 201,
    "start_time": "2023-04-20T07:38:41.912Z"
   },
   {
    "duration": 167,
    "start_time": "2023-04-20T07:38:42.115Z"
   },
   {
    "duration": 14,
    "start_time": "2023-04-20T07:38:42.284Z"
   },
   {
    "duration": 10,
    "start_time": "2023-04-20T07:38:42.300Z"
   },
   {
    "duration": 270,
    "start_time": "2023-04-20T07:38:42.312Z"
   },
   {
    "duration": 183,
    "start_time": "2023-04-20T07:38:42.585Z"
   },
   {
    "duration": 196,
    "start_time": "2023-04-20T07:38:42.771Z"
   },
   {
    "duration": 5,
    "start_time": "2023-04-20T07:38:42.968Z"
   },
   {
    "duration": 263,
    "start_time": "2023-04-20T07:38:42.975Z"
   },
   {
    "duration": 157,
    "start_time": "2023-04-20T07:38:43.240Z"
   },
   {
    "duration": 7,
    "start_time": "2023-04-20T07:38:43.399Z"
   },
   {
    "duration": 8,
    "start_time": "2023-04-20T07:38:43.407Z"
   },
   {
    "duration": 35,
    "start_time": "2023-04-20T07:38:43.417Z"
   },
   {
    "duration": 8,
    "start_time": "2023-04-20T07:38:43.454Z"
   },
   {
    "duration": 4,
    "start_time": "2023-04-20T07:38:43.464Z"
   },
   {
    "duration": 27,
    "start_time": "2023-04-20T07:38:43.469Z"
   },
   {
    "duration": 9,
    "start_time": "2023-04-20T07:38:43.498Z"
   },
   {
    "duration": 10,
    "start_time": "2023-04-20T07:38:43.509Z"
   },
   {
    "duration": 28,
    "start_time": "2023-04-20T07:38:43.520Z"
   },
   {
    "duration": 11,
    "start_time": "2023-04-20T07:38:43.550Z"
   },
   {
    "duration": 6,
    "start_time": "2023-04-20T07:39:48.963Z"
   },
   {
    "duration": 6,
    "start_time": "2023-04-20T07:39:52.305Z"
   },
   {
    "duration": 4,
    "start_time": "2023-04-20T07:44:57.502Z"
   },
   {
    "duration": 4,
    "start_time": "2023-04-20T07:45:11.089Z"
   },
   {
    "duration": 5,
    "start_time": "2023-04-20T07:45:28.095Z"
   },
   {
    "duration": 5,
    "start_time": "2023-04-20T07:45:34.705Z"
   },
   {
    "duration": 6,
    "start_time": "2023-04-20T07:45:40.303Z"
   },
   {
    "duration": 9,
    "start_time": "2023-04-20T07:45:54.629Z"
   },
   {
    "duration": 45,
    "start_time": "2023-04-20T07:47:23.252Z"
   },
   {
    "duration": 133,
    "start_time": "2023-04-20T07:47:27.544Z"
   },
   {
    "duration": 52,
    "start_time": "2023-04-20T07:47:32.218Z"
   },
   {
    "duration": 8,
    "start_time": "2023-04-20T07:47:38.657Z"
   },
   {
    "duration": 6,
    "start_time": "2023-04-20T07:50:12.555Z"
   },
   {
    "duration": 8,
    "start_time": "2023-04-20T07:50:43.560Z"
   },
   {
    "duration": 8,
    "start_time": "2023-04-20T07:50:51.235Z"
   },
   {
    "duration": 116,
    "start_time": "2023-04-20T08:00:44.157Z"
   },
   {
    "duration": 938,
    "start_time": "2023-04-20T08:00:53.320Z"
   },
   {
    "duration": 8,
    "start_time": "2023-04-20T08:01:33.270Z"
   },
   {
    "duration": 12,
    "start_time": "2023-04-20T08:03:47.049Z"
   },
   {
    "duration": 19,
    "start_time": "2023-04-20T08:04:08.491Z"
   },
   {
    "duration": 18,
    "start_time": "2023-04-20T08:04:12.005Z"
   },
   {
    "duration": 11,
    "start_time": "2023-04-20T08:05:26.911Z"
   },
   {
    "duration": 11,
    "start_time": "2023-04-20T08:06:15.219Z"
   },
   {
    "duration": 10,
    "start_time": "2023-04-20T08:11:45.196Z"
   },
   {
    "duration": 8,
    "start_time": "2023-04-20T08:11:51.372Z"
   },
   {
    "duration": 14,
    "start_time": "2023-04-20T08:16:55.973Z"
   },
   {
    "duration": 22,
    "start_time": "2023-04-20T08:17:21.269Z"
   },
   {
    "duration": 22,
    "start_time": "2023-04-20T08:17:57.209Z"
   },
   {
    "duration": 14,
    "start_time": "2023-04-20T08:18:37.330Z"
   },
   {
    "duration": 10,
    "start_time": "2023-04-20T08:18:40.713Z"
   },
   {
    "duration": 15,
    "start_time": "2023-04-20T08:20:05.810Z"
   },
   {
    "duration": 13,
    "start_time": "2023-04-20T08:20:16.520Z"
   },
   {
    "duration": 12,
    "start_time": "2023-04-20T08:20:54.358Z"
   },
   {
    "duration": 21,
    "start_time": "2023-04-20T08:23:39.073Z"
   },
   {
    "duration": 6,
    "start_time": "2023-04-20T08:23:57.777Z"
   },
   {
    "duration": 18,
    "start_time": "2023-04-20T08:25:12.430Z"
   },
   {
    "duration": 853,
    "start_time": "2023-04-20T08:26:01.033Z"
   },
   {
    "duration": 178,
    "start_time": "2023-04-20T08:27:01.297Z"
   },
   {
    "duration": 301,
    "start_time": "2023-04-20T08:27:27.370Z"
   },
   {
    "duration": 7,
    "start_time": "2023-04-20T08:29:48.743Z"
   },
   {
    "duration": 20,
    "start_time": "2023-04-20T08:30:36.964Z"
   },
   {
    "duration": 218,
    "start_time": "2023-04-20T08:35:03.938Z"
   },
   {
    "duration": 56,
    "start_time": "2023-04-20T08:36:58.757Z"
   },
   {
    "duration": 53,
    "start_time": "2023-04-20T08:38:17.438Z"
   },
   {
    "duration": 13,
    "start_time": "2023-04-20T08:38:24.464Z"
   },
   {
    "duration": 50,
    "start_time": "2023-04-20T10:08:51.528Z"
   },
   {
    "duration": 1324,
    "start_time": "2023-04-20T10:08:55.826Z"
   },
   {
    "duration": 213,
    "start_time": "2023-04-20T10:08:57.152Z"
   },
   {
    "duration": 20,
    "start_time": "2023-04-20T10:08:57.367Z"
   },
   {
    "duration": 36,
    "start_time": "2023-04-20T10:08:57.389Z"
   },
   {
    "duration": 50,
    "start_time": "2023-04-20T10:08:57.427Z"
   },
   {
    "duration": 12,
    "start_time": "2023-04-20T10:08:57.479Z"
   },
   {
    "duration": 6,
    "start_time": "2023-04-20T10:08:57.492Z"
   },
   {
    "duration": 14,
    "start_time": "2023-04-20T10:08:57.500Z"
   },
   {
    "duration": 9,
    "start_time": "2023-04-20T10:08:57.516Z"
   },
   {
    "duration": 4,
    "start_time": "2023-04-20T10:08:57.528Z"
   },
   {
    "duration": 11,
    "start_time": "2023-04-20T10:08:57.533Z"
   },
   {
    "duration": 6,
    "start_time": "2023-04-20T10:08:57.546Z"
   },
   {
    "duration": 15,
    "start_time": "2023-04-20T10:08:57.553Z"
   },
   {
    "duration": 109,
    "start_time": "2023-04-20T10:08:57.569Z"
   },
   {
    "duration": 0,
    "start_time": "2023-04-20T10:08:57.680Z"
   },
   {
    "duration": 0,
    "start_time": "2023-04-20T10:08:57.682Z"
   },
   {
    "duration": 0,
    "start_time": "2023-04-20T10:08:57.683Z"
   },
   {
    "duration": 0,
    "start_time": "2023-04-20T10:08:57.684Z"
   },
   {
    "duration": 0,
    "start_time": "2023-04-20T10:08:57.685Z"
   },
   {
    "duration": 0,
    "start_time": "2023-04-20T10:08:57.686Z"
   },
   {
    "duration": 0,
    "start_time": "2023-04-20T10:08:57.687Z"
   },
   {
    "duration": 0,
    "start_time": "2023-04-20T10:08:57.688Z"
   },
   {
    "duration": 0,
    "start_time": "2023-04-20T10:08:57.689Z"
   },
   {
    "duration": 0,
    "start_time": "2023-04-20T10:08:57.690Z"
   },
   {
    "duration": 0,
    "start_time": "2023-04-20T10:08:57.691Z"
   },
   {
    "duration": 0,
    "start_time": "2023-04-20T10:08:57.718Z"
   },
   {
    "duration": 0,
    "start_time": "2023-04-20T10:08:57.719Z"
   },
   {
    "duration": 0,
    "start_time": "2023-04-20T10:08:57.720Z"
   },
   {
    "duration": 0,
    "start_time": "2023-04-20T10:08:57.721Z"
   },
   {
    "duration": 0,
    "start_time": "2023-04-20T10:08:57.723Z"
   },
   {
    "duration": 0,
    "start_time": "2023-04-20T10:08:57.723Z"
   },
   {
    "duration": 0,
    "start_time": "2023-04-20T10:08:57.725Z"
   },
   {
    "duration": 0,
    "start_time": "2023-04-20T10:08:57.726Z"
   },
   {
    "duration": 0,
    "start_time": "2023-04-20T10:08:57.727Z"
   },
   {
    "duration": 0,
    "start_time": "2023-04-20T10:08:57.728Z"
   },
   {
    "duration": 0,
    "start_time": "2023-04-20T10:08:57.729Z"
   },
   {
    "duration": 0,
    "start_time": "2023-04-20T10:08:57.730Z"
   },
   {
    "duration": 0,
    "start_time": "2023-04-20T10:08:57.731Z"
   },
   {
    "duration": 0,
    "start_time": "2023-04-20T10:08:57.733Z"
   },
   {
    "duration": 0,
    "start_time": "2023-04-20T10:08:57.734Z"
   },
   {
    "duration": 0,
    "start_time": "2023-04-20T10:08:57.735Z"
   },
   {
    "duration": 0,
    "start_time": "2023-04-20T10:08:57.736Z"
   },
   {
    "duration": 0,
    "start_time": "2023-04-20T10:08:57.737Z"
   },
   {
    "duration": 0,
    "start_time": "2023-04-20T10:08:57.738Z"
   },
   {
    "duration": 0,
    "start_time": "2023-04-20T10:08:57.739Z"
   },
   {
    "duration": 0,
    "start_time": "2023-04-20T10:08:57.740Z"
   },
   {
    "duration": 0,
    "start_time": "2023-04-20T10:08:57.741Z"
   },
   {
    "duration": 10,
    "start_time": "2023-04-20T10:09:46.473Z"
   },
   {
    "duration": 11,
    "start_time": "2023-04-20T10:12:18.527Z"
   },
   {
    "duration": 254,
    "start_time": "2023-04-20T10:12:30.500Z"
   },
   {
    "duration": 20,
    "start_time": "2023-04-20T10:13:30.990Z"
   },
   {
    "duration": 234,
    "start_time": "2023-04-20T10:14:17.149Z"
   },
   {
    "duration": 211,
    "start_time": "2023-04-20T10:14:42.041Z"
   },
   {
    "duration": 209,
    "start_time": "2023-04-20T10:15:06.757Z"
   },
   {
    "duration": 228,
    "start_time": "2023-04-20T10:15:24.273Z"
   },
   {
    "duration": 437,
    "start_time": "2023-04-20T10:16:48.839Z"
   },
   {
    "duration": 15,
    "start_time": "2023-04-20T10:18:48.501Z"
   },
   {
    "duration": 507,
    "start_time": "2023-04-20T10:19:07.172Z"
   },
   {
    "duration": 459,
    "start_time": "2023-04-20T10:19:40.291Z"
   },
   {
    "duration": 4,
    "start_time": "2023-04-20T10:20:01.977Z"
   },
   {
    "duration": 121,
    "start_time": "2023-04-20T10:20:01.983Z"
   },
   {
    "duration": 71,
    "start_time": "2023-04-20T10:20:02.106Z"
   },
   {
    "duration": 53,
    "start_time": "2023-04-20T10:20:02.179Z"
   },
   {
    "duration": 46,
    "start_time": "2023-04-20T10:20:02.234Z"
   },
   {
    "duration": 43,
    "start_time": "2023-04-20T10:20:02.282Z"
   },
   {
    "duration": 24,
    "start_time": "2023-04-20T10:20:02.326Z"
   },
   {
    "duration": 52,
    "start_time": "2023-04-20T10:20:02.352Z"
   },
   {
    "duration": 32,
    "start_time": "2023-04-20T10:20:02.407Z"
   },
   {
    "duration": 36,
    "start_time": "2023-04-20T10:20:02.441Z"
   },
   {
    "duration": 25,
    "start_time": "2023-04-20T10:20:02.479Z"
   },
   {
    "duration": 30,
    "start_time": "2023-04-20T10:20:02.506Z"
   },
   {
    "duration": 27,
    "start_time": "2023-04-20T10:20:02.538Z"
   },
   {
    "duration": 487,
    "start_time": "2023-04-20T10:20:02.568Z"
   },
   {
    "duration": 261,
    "start_time": "2023-04-20T10:20:03.058Z"
   },
   {
    "duration": 374,
    "start_time": "2023-04-20T10:20:03.321Z"
   },
   {
    "duration": 0,
    "start_time": "2023-04-20T10:20:03.697Z"
   },
   {
    "duration": 0,
    "start_time": "2023-04-20T10:20:03.698Z"
   },
   {
    "duration": 0,
    "start_time": "2023-04-20T10:20:03.699Z"
   },
   {
    "duration": 0,
    "start_time": "2023-04-20T10:20:03.700Z"
   },
   {
    "duration": 0,
    "start_time": "2023-04-20T10:20:03.701Z"
   },
   {
    "duration": 0,
    "start_time": "2023-04-20T10:20:03.703Z"
   },
   {
    "duration": 0,
    "start_time": "2023-04-20T10:20:03.704Z"
   },
   {
    "duration": 0,
    "start_time": "2023-04-20T10:20:03.705Z"
   },
   {
    "duration": 0,
    "start_time": "2023-04-20T10:20:03.706Z"
   },
   {
    "duration": 0,
    "start_time": "2023-04-20T10:20:03.707Z"
   },
   {
    "duration": 0,
    "start_time": "2023-04-20T10:20:03.708Z"
   },
   {
    "duration": 0,
    "start_time": "2023-04-20T10:20:03.709Z"
   },
   {
    "duration": 0,
    "start_time": "2023-04-20T10:20:03.710Z"
   },
   {
    "duration": 0,
    "start_time": "2023-04-20T10:20:03.711Z"
   },
   {
    "duration": 0,
    "start_time": "2023-04-20T10:20:03.712Z"
   },
   {
    "duration": 0,
    "start_time": "2023-04-20T10:20:03.713Z"
   },
   {
    "duration": 0,
    "start_time": "2023-04-20T10:20:03.714Z"
   },
   {
    "duration": 0,
    "start_time": "2023-04-20T10:20:03.715Z"
   },
   {
    "duration": 0,
    "start_time": "2023-04-20T10:20:03.716Z"
   },
   {
    "duration": 0,
    "start_time": "2023-04-20T10:20:03.717Z"
   },
   {
    "duration": 0,
    "start_time": "2023-04-20T10:20:03.718Z"
   },
   {
    "duration": 0,
    "start_time": "2023-04-20T10:20:03.719Z"
   },
   {
    "duration": 0,
    "start_time": "2023-04-20T10:20:03.720Z"
   },
   {
    "duration": 0,
    "start_time": "2023-04-20T10:20:03.721Z"
   },
   {
    "duration": 0,
    "start_time": "2023-04-20T10:20:03.721Z"
   },
   {
    "duration": 0,
    "start_time": "2023-04-20T10:20:03.722Z"
   },
   {
    "duration": 0,
    "start_time": "2023-04-20T10:20:03.723Z"
   },
   {
    "duration": 0,
    "start_time": "2023-04-20T10:20:03.724Z"
   },
   {
    "duration": 0,
    "start_time": "2023-04-20T10:20:03.725Z"
   },
   {
    "duration": 0,
    "start_time": "2023-04-20T10:20:03.726Z"
   },
   {
    "duration": 0,
    "start_time": "2023-04-20T10:20:03.727Z"
   },
   {
    "duration": 0,
    "start_time": "2023-04-20T10:20:03.728Z"
   },
   {
    "duration": 8,
    "start_time": "2023-04-20T10:20:10.629Z"
   },
   {
    "duration": 3,
    "start_time": "2023-04-20T10:20:14.482Z"
   },
   {
    "duration": 132,
    "start_time": "2023-04-20T10:20:14.488Z"
   },
   {
    "duration": 19,
    "start_time": "2023-04-20T10:20:14.621Z"
   },
   {
    "duration": 47,
    "start_time": "2023-04-20T10:20:14.642Z"
   },
   {
    "duration": 66,
    "start_time": "2023-04-20T10:20:14.692Z"
   },
   {
    "duration": 63,
    "start_time": "2023-04-20T10:20:14.760Z"
   },
   {
    "duration": 61,
    "start_time": "2023-04-20T10:20:14.825Z"
   },
   {
    "duration": 63,
    "start_time": "2023-04-20T10:20:14.887Z"
   },
   {
    "duration": 33,
    "start_time": "2023-04-20T10:20:14.952Z"
   },
   {
    "duration": 100,
    "start_time": "2023-04-20T10:20:14.987Z"
   },
   {
    "duration": 123,
    "start_time": "2023-04-20T10:20:15.089Z"
   },
   {
    "duration": 27,
    "start_time": "2023-04-20T10:20:15.213Z"
   },
   {
    "duration": 116,
    "start_time": "2023-04-20T10:20:15.243Z"
   },
   {
    "duration": 475,
    "start_time": "2023-04-20T10:20:15.361Z"
   },
   {
    "duration": 219,
    "start_time": "2023-04-20T10:20:15.838Z"
   },
   {
    "duration": 95,
    "start_time": "2023-04-20T10:20:16.059Z"
   },
   {
    "duration": 0,
    "start_time": "2023-04-20T10:20:16.156Z"
   },
   {
    "duration": 0,
    "start_time": "2023-04-20T10:20:16.157Z"
   },
   {
    "duration": 0,
    "start_time": "2023-04-20T10:20:16.159Z"
   },
   {
    "duration": 0,
    "start_time": "2023-04-20T10:20:16.160Z"
   },
   {
    "duration": 0,
    "start_time": "2023-04-20T10:20:16.162Z"
   },
   {
    "duration": 0,
    "start_time": "2023-04-20T10:20:16.163Z"
   },
   {
    "duration": 0,
    "start_time": "2023-04-20T10:20:16.165Z"
   },
   {
    "duration": 0,
    "start_time": "2023-04-20T10:20:16.166Z"
   },
   {
    "duration": 0,
    "start_time": "2023-04-20T10:20:16.168Z"
   },
   {
    "duration": 0,
    "start_time": "2023-04-20T10:20:16.169Z"
   },
   {
    "duration": 0,
    "start_time": "2023-04-20T10:20:16.171Z"
   },
   {
    "duration": 0,
    "start_time": "2023-04-20T10:20:16.172Z"
   },
   {
    "duration": 0,
    "start_time": "2023-04-20T10:20:16.173Z"
   },
   {
    "duration": 0,
    "start_time": "2023-04-20T10:20:16.174Z"
   },
   {
    "duration": 0,
    "start_time": "2023-04-20T10:20:16.175Z"
   },
   {
    "duration": 0,
    "start_time": "2023-04-20T10:20:16.176Z"
   },
   {
    "duration": 0,
    "start_time": "2023-04-20T10:20:16.178Z"
   },
   {
    "duration": 0,
    "start_time": "2023-04-20T10:20:16.179Z"
   },
   {
    "duration": 0,
    "start_time": "2023-04-20T10:20:16.180Z"
   },
   {
    "duration": 1,
    "start_time": "2023-04-20T10:20:16.181Z"
   },
   {
    "duration": 0,
    "start_time": "2023-04-20T10:20:16.183Z"
   },
   {
    "duration": 0,
    "start_time": "2023-04-20T10:20:16.184Z"
   },
   {
    "duration": 0,
    "start_time": "2023-04-20T10:20:16.185Z"
   },
   {
    "duration": 0,
    "start_time": "2023-04-20T10:20:16.187Z"
   },
   {
    "duration": 0,
    "start_time": "2023-04-20T10:20:16.188Z"
   },
   {
    "duration": 0,
    "start_time": "2023-04-20T10:20:16.189Z"
   },
   {
    "duration": 0,
    "start_time": "2023-04-20T10:20:16.190Z"
   },
   {
    "duration": 0,
    "start_time": "2023-04-20T10:20:16.191Z"
   },
   {
    "duration": 0,
    "start_time": "2023-04-20T10:20:16.192Z"
   },
   {
    "duration": 0,
    "start_time": "2023-04-20T10:20:16.193Z"
   },
   {
    "duration": 0,
    "start_time": "2023-04-20T10:20:16.218Z"
   },
   {
    "duration": 0,
    "start_time": "2023-04-20T10:20:16.219Z"
   },
   {
    "duration": 4,
    "start_time": "2023-04-20T10:20:23.167Z"
   },
   {
    "duration": 107,
    "start_time": "2023-04-20T10:20:23.173Z"
   },
   {
    "duration": 19,
    "start_time": "2023-04-20T10:20:23.282Z"
   },
   {
    "duration": 61,
    "start_time": "2023-04-20T10:20:23.302Z"
   },
   {
    "duration": 42,
    "start_time": "2023-04-20T10:20:23.367Z"
   },
   {
    "duration": 38,
    "start_time": "2023-04-20T10:20:23.411Z"
   },
   {
    "duration": 23,
    "start_time": "2023-04-20T10:20:23.450Z"
   },
   {
    "duration": 19,
    "start_time": "2023-04-20T10:20:23.475Z"
   },
   {
    "duration": 26,
    "start_time": "2023-04-20T10:20:23.496Z"
   },
   {
    "duration": 41,
    "start_time": "2023-04-20T10:20:23.524Z"
   },
   {
    "duration": 32,
    "start_time": "2023-04-20T10:20:23.567Z"
   },
   {
    "duration": 21,
    "start_time": "2023-04-20T10:20:23.601Z"
   },
   {
    "duration": 29,
    "start_time": "2023-04-20T10:20:23.624Z"
   },
   {
    "duration": 543,
    "start_time": "2023-04-20T10:20:23.657Z"
   },
   {
    "duration": 226,
    "start_time": "2023-04-20T10:20:24.202Z"
   },
   {
    "duration": 80,
    "start_time": "2023-04-20T10:20:24.430Z"
   },
   {
    "duration": 0,
    "start_time": "2023-04-20T10:20:24.511Z"
   },
   {
    "duration": 0,
    "start_time": "2023-04-20T10:20:24.513Z"
   },
   {
    "duration": 1,
    "start_time": "2023-04-20T10:20:24.513Z"
   },
   {
    "duration": 0,
    "start_time": "2023-04-20T10:20:24.515Z"
   },
   {
    "duration": 0,
    "start_time": "2023-04-20T10:20:24.516Z"
   },
   {
    "duration": 0,
    "start_time": "2023-04-20T10:20:24.517Z"
   },
   {
    "duration": 0,
    "start_time": "2023-04-20T10:20:24.518Z"
   },
   {
    "duration": 0,
    "start_time": "2023-04-20T10:20:24.519Z"
   },
   {
    "duration": 0,
    "start_time": "2023-04-20T10:20:24.520Z"
   },
   {
    "duration": 0,
    "start_time": "2023-04-20T10:20:24.521Z"
   },
   {
    "duration": 0,
    "start_time": "2023-04-20T10:20:24.522Z"
   },
   {
    "duration": 0,
    "start_time": "2023-04-20T10:20:24.523Z"
   },
   {
    "duration": 0,
    "start_time": "2023-04-20T10:20:24.524Z"
   },
   {
    "duration": 0,
    "start_time": "2023-04-20T10:20:24.526Z"
   },
   {
    "duration": 0,
    "start_time": "2023-04-20T10:20:24.527Z"
   },
   {
    "duration": 0,
    "start_time": "2023-04-20T10:20:24.528Z"
   },
   {
    "duration": 0,
    "start_time": "2023-04-20T10:20:24.529Z"
   },
   {
    "duration": 0,
    "start_time": "2023-04-20T10:20:24.530Z"
   },
   {
    "duration": 0,
    "start_time": "2023-04-20T10:20:24.531Z"
   },
   {
    "duration": 0,
    "start_time": "2023-04-20T10:20:24.532Z"
   },
   {
    "duration": 0,
    "start_time": "2023-04-20T10:20:24.534Z"
   },
   {
    "duration": 0,
    "start_time": "2023-04-20T10:20:24.535Z"
   },
   {
    "duration": 0,
    "start_time": "2023-04-20T10:20:24.536Z"
   },
   {
    "duration": 0,
    "start_time": "2023-04-20T10:20:24.537Z"
   },
   {
    "duration": 0,
    "start_time": "2023-04-20T10:20:24.538Z"
   },
   {
    "duration": 0,
    "start_time": "2023-04-20T10:20:24.539Z"
   },
   {
    "duration": 0,
    "start_time": "2023-04-20T10:20:24.540Z"
   },
   {
    "duration": 0,
    "start_time": "2023-04-20T10:20:24.541Z"
   },
   {
    "duration": 0,
    "start_time": "2023-04-20T10:20:24.542Z"
   },
   {
    "duration": 0,
    "start_time": "2023-04-20T10:20:24.543Z"
   },
   {
    "duration": 0,
    "start_time": "2023-04-20T10:20:24.544Z"
   },
   {
    "duration": 0,
    "start_time": "2023-04-20T10:20:24.545Z"
   },
   {
    "duration": 4,
    "start_time": "2023-04-20T10:20:42.169Z"
   },
   {
    "duration": 84,
    "start_time": "2023-04-20T10:20:42.175Z"
   },
   {
    "duration": 16,
    "start_time": "2023-04-20T10:20:42.261Z"
   },
   {
    "duration": 23,
    "start_time": "2023-04-20T10:20:42.279Z"
   },
   {
    "duration": 15,
    "start_time": "2023-04-20T10:20:42.304Z"
   },
   {
    "duration": 16,
    "start_time": "2023-04-20T10:20:42.321Z"
   },
   {
    "duration": 9,
    "start_time": "2023-04-20T10:20:42.339Z"
   },
   {
    "duration": 25,
    "start_time": "2023-04-20T10:20:42.349Z"
   },
   {
    "duration": 17,
    "start_time": "2023-04-20T10:20:42.376Z"
   },
   {
    "duration": 46,
    "start_time": "2023-04-20T10:20:42.395Z"
   },
   {
    "duration": 32,
    "start_time": "2023-04-20T10:20:42.445Z"
   },
   {
    "duration": 32,
    "start_time": "2023-04-20T10:20:42.479Z"
   },
   {
    "duration": 37,
    "start_time": "2023-04-20T10:20:42.513Z"
   },
   {
    "duration": 467,
    "start_time": "2023-04-20T10:20:42.552Z"
   },
   {
    "duration": 232,
    "start_time": "2023-04-20T10:20:43.021Z"
   },
   {
    "duration": 12,
    "start_time": "2023-04-20T10:20:43.255Z"
   },
   {
    "duration": 44,
    "start_time": "2023-04-20T10:20:43.269Z"
   },
   {
    "duration": 174,
    "start_time": "2023-04-20T10:20:43.315Z"
   },
   {
    "duration": 138,
    "start_time": "2023-04-20T10:20:43.491Z"
   },
   {
    "duration": 19,
    "start_time": "2023-04-20T10:20:43.630Z"
   },
   {
    "duration": 22,
    "start_time": "2023-04-20T10:20:43.651Z"
   },
   {
    "duration": 291,
    "start_time": "2023-04-20T10:20:43.674Z"
   },
   {
    "duration": 268,
    "start_time": "2023-04-20T10:20:43.968Z"
   },
   {
    "duration": 389,
    "start_time": "2023-04-20T10:20:44.238Z"
   },
   {
    "duration": 294,
    "start_time": "2023-04-20T10:20:44.629Z"
   },
   {
    "duration": 356,
    "start_time": "2023-04-20T10:20:44.925Z"
   },
   {
    "duration": 7,
    "start_time": "2023-04-20T10:20:45.283Z"
   },
   {
    "duration": 154,
    "start_time": "2023-04-20T10:20:45.291Z"
   },
   {
    "duration": 265,
    "start_time": "2023-04-20T10:20:45.449Z"
   },
   {
    "duration": 5,
    "start_time": "2023-04-20T10:20:45.716Z"
   },
   {
    "duration": 14,
    "start_time": "2023-04-20T10:20:45.722Z"
   },
   {
    "duration": 187,
    "start_time": "2023-04-20T10:20:45.738Z"
   },
   {
    "duration": 164,
    "start_time": "2023-04-20T10:20:45.926Z"
   },
   {
    "duration": 178,
    "start_time": "2023-04-20T10:20:46.092Z"
   },
   {
    "duration": 5,
    "start_time": "2023-04-20T10:20:46.271Z"
   },
   {
    "duration": 249,
    "start_time": "2023-04-20T10:20:46.277Z"
   },
   {
    "duration": 133,
    "start_time": "2023-04-20T10:20:46.527Z"
   },
   {
    "duration": 7,
    "start_time": "2023-04-20T10:20:46.662Z"
   },
   {
    "duration": 66,
    "start_time": "2023-04-20T10:20:46.670Z"
   },
   {
    "duration": 56,
    "start_time": "2023-04-20T10:20:46.738Z"
   },
   {
    "duration": 9,
    "start_time": "2023-04-20T10:20:46.796Z"
   },
   {
    "duration": 23,
    "start_time": "2023-04-20T10:20:46.807Z"
   },
   {
    "duration": 32,
    "start_time": "2023-04-20T10:20:46.831Z"
   },
   {
    "duration": 25,
    "start_time": "2023-04-20T10:20:46.864Z"
   },
   {
    "duration": 20,
    "start_time": "2023-04-20T10:20:46.890Z"
   },
   {
    "duration": 49,
    "start_time": "2023-04-20T10:20:46.912Z"
   },
   {
    "duration": 10,
    "start_time": "2023-04-20T10:20:46.963Z"
   },
   {
    "duration": 277,
    "start_time": "2023-04-20T10:31:40.568Z"
   },
   {
    "duration": 297,
    "start_time": "2023-04-20T10:32:09.913Z"
   },
   {
    "duration": 12,
    "start_time": "2023-04-20T10:45:06.778Z"
   },
   {
    "duration": 11,
    "start_time": "2023-04-20T10:45:10.560Z"
   },
   {
    "duration": 11,
    "start_time": "2023-04-20T10:45:14.939Z"
   },
   {
    "duration": 11,
    "start_time": "2023-04-20T10:45:20.637Z"
   },
   {
    "duration": 11,
    "start_time": "2023-04-20T10:45:42.582Z"
   },
   {
    "duration": 11,
    "start_time": "2023-04-20T10:46:01.758Z"
   },
   {
    "duration": 12,
    "start_time": "2023-04-20T10:46:44.809Z"
   },
   {
    "duration": 14,
    "start_time": "2023-04-20T10:46:57.170Z"
   },
   {
    "duration": 12,
    "start_time": "2023-04-20T10:47:05.596Z"
   },
   {
    "duration": 12,
    "start_time": "2023-04-20T10:47:08.890Z"
   },
   {
    "duration": 11,
    "start_time": "2023-04-20T10:48:33.651Z"
   },
   {
    "duration": 11,
    "start_time": "2023-04-20T10:48:38.945Z"
   },
   {
    "duration": 10,
    "start_time": "2023-04-20T10:52:03.046Z"
   },
   {
    "duration": 11,
    "start_time": "2023-04-20T10:53:39.709Z"
   },
   {
    "duration": 11,
    "start_time": "2023-04-20T10:53:43.996Z"
   },
   {
    "duration": 10,
    "start_time": "2023-04-20T10:56:43.473Z"
   },
   {
    "duration": 17,
    "start_time": "2023-04-20T10:57:03.784Z"
   },
   {
    "duration": 10,
    "start_time": "2023-04-20T10:58:33.562Z"
   },
   {
    "duration": 11,
    "start_time": "2023-04-20T10:59:01.828Z"
   },
   {
    "duration": 3,
    "start_time": "2023-04-20T11:04:07.244Z"
   },
   {
    "duration": 90,
    "start_time": "2023-04-20T11:04:07.249Z"
   },
   {
    "duration": 16,
    "start_time": "2023-04-20T11:04:07.341Z"
   },
   {
    "duration": 21,
    "start_time": "2023-04-20T11:04:07.359Z"
   },
   {
    "duration": 29,
    "start_time": "2023-04-20T11:04:07.382Z"
   },
   {
    "duration": 20,
    "start_time": "2023-04-20T11:04:07.412Z"
   },
   {
    "duration": 13,
    "start_time": "2023-04-20T11:04:07.433Z"
   },
   {
    "duration": 19,
    "start_time": "2023-04-20T11:04:07.447Z"
   },
   {
    "duration": 19,
    "start_time": "2023-04-20T11:04:07.468Z"
   },
   {
    "duration": 11,
    "start_time": "2023-04-20T11:04:07.489Z"
   },
   {
    "duration": 12,
    "start_time": "2023-04-20T11:04:07.501Z"
   },
   {
    "duration": 17,
    "start_time": "2023-04-20T11:04:07.515Z"
   },
   {
    "duration": 12,
    "start_time": "2023-04-20T11:04:07.534Z"
   },
   {
    "duration": 272,
    "start_time": "2023-04-20T11:04:07.549Z"
   },
   {
    "duration": 11,
    "start_time": "2023-04-20T11:04:07.823Z"
   },
   {
    "duration": 26,
    "start_time": "2023-04-20T11:04:07.836Z"
   },
   {
    "duration": 174,
    "start_time": "2023-04-20T11:04:07.863Z"
   },
   {
    "duration": 128,
    "start_time": "2023-04-20T11:04:08.039Z"
   },
   {
    "duration": 15,
    "start_time": "2023-04-20T11:04:08.169Z"
   },
   {
    "duration": 18,
    "start_time": "2023-04-20T11:04:08.186Z"
   },
   {
    "duration": 30,
    "start_time": "2023-04-20T11:04:08.205Z"
   },
   {
    "duration": 252,
    "start_time": "2023-04-20T11:04:08.236Z"
   },
   {
    "duration": 258,
    "start_time": "2023-04-20T11:04:08.490Z"
   },
   {
    "duration": 336,
    "start_time": "2023-04-20T11:04:08.750Z"
   },
   {
    "duration": 272,
    "start_time": "2023-04-20T11:04:09.088Z"
   },
   {
    "duration": 318,
    "start_time": "2023-04-20T11:04:09.361Z"
   },
   {
    "duration": 7,
    "start_time": "2023-04-20T11:04:09.681Z"
   },
   {
    "duration": 146,
    "start_time": "2023-04-20T11:04:09.689Z"
   },
   {
    "duration": 248,
    "start_time": "2023-04-20T11:04:09.837Z"
   },
   {
    "duration": 5,
    "start_time": "2023-04-20T11:04:10.087Z"
   },
   {
    "duration": 10,
    "start_time": "2023-04-20T11:04:10.093Z"
   },
   {
    "duration": 172,
    "start_time": "2023-04-20T11:04:10.104Z"
   },
   {
    "duration": 155,
    "start_time": "2023-04-20T11:04:10.279Z"
   },
   {
    "duration": 166,
    "start_time": "2023-04-20T11:04:10.436Z"
   },
   {
    "duration": 4,
    "start_time": "2023-04-20T11:04:10.604Z"
   },
   {
    "duration": 235,
    "start_time": "2023-04-20T11:04:10.618Z"
   },
   {
    "duration": 156,
    "start_time": "2023-04-20T11:04:10.855Z"
   },
   {
    "duration": 9,
    "start_time": "2023-04-20T11:04:11.013Z"
   },
   {
    "duration": 48,
    "start_time": "2023-04-20T11:04:11.023Z"
   },
   {
    "duration": 52,
    "start_time": "2023-04-20T11:04:11.073Z"
   },
   {
    "duration": 10,
    "start_time": "2023-04-20T11:04:11.129Z"
   },
   {
    "duration": 26,
    "start_time": "2023-04-20T11:04:11.140Z"
   },
   {
    "duration": 17,
    "start_time": "2023-04-20T11:04:11.168Z"
   },
   {
    "duration": 26,
    "start_time": "2023-04-20T11:04:11.186Z"
   },
   {
    "duration": 26,
    "start_time": "2023-04-20T11:04:11.214Z"
   },
   {
    "duration": 36,
    "start_time": "2023-04-20T11:04:11.242Z"
   },
   {
    "duration": 10,
    "start_time": "2023-04-20T11:04:11.280Z"
   },
   {
    "duration": 220,
    "start_time": "2023-04-20T11:04:33.616Z"
   }
  ],
  "kernelspec": {
   "display_name": "Python 3 (ipykernel)",
   "language": "python",
   "name": "python3"
  },
  "language_info": {
   "codemirror_mode": {
    "name": "ipython",
    "version": 3
   },
   "file_extension": ".py",
   "mimetype": "text/x-python",
   "name": "python",
   "nbconvert_exporter": "python",
   "pygments_lexer": "ipython3",
   "version": "3.10.9"
  },
  "toc": {
   "base_numbering": 1,
   "nav_menu": {},
   "number_sections": true,
   "sideBar": true,
   "skip_h1_title": true,
   "title_cell": "Table of Contents",
   "title_sidebar": "Contents",
   "toc_cell": false,
   "toc_position": {},
   "toc_section_display": true,
   "toc_window_display": false
  }
 },
 "nbformat": 4,
 "nbformat_minor": 2
}
