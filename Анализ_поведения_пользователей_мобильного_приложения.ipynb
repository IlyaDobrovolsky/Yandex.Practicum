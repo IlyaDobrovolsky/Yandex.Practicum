{
 "cells": [
  {
   "cell_type": "markdown",
   "metadata": {},
   "source": [
    "# Анализ поведения пользователей мобильного приложения"
   ]
  },
  {
   "cell_type": "markdown",
   "metadata": {},
   "source": [
    "**Задача:**\n",
    "Подготовить исследование рынка Москвы, найти интересные особенности и презентовать полученные результаты, которые в будущем помогут в выборе подходящего места."
   ]
  },
  {
   "cell_type": "markdown",
   "metadata": {},
   "source": [
    "**Ход исследования:**\n",
    "- Изучение и предобработка данных.\n",
    "- Изучение воронки продаж.\n",
    "- Исследование результатов A/A/B-эксперимента.\n",
    "- Подготовка презентации.\n"
   ]
  },
  {
   "cell_type": "markdown",
   "metadata": {},
   "source": [
    "**Данные:** \n",
    "- Файл **/datasets/logs_exp.csv**.\n"
   ]
  },
  {
   "cell_type": "markdown",
   "metadata": {},
   "source": [
    "**Структура /datasets/logs_exp.csv**:\n",
    "- **EventName** — название события;\n",
    "- **DeviceIDHash** — уникальный идентификатор пользователя;\n",
    "- **EventTimestamp** — время события;\n",
    "- **ExpId** — номер эксперимента: 246 и 247 — контрольные группы, а 248 — экспериментальная.\n"
   ]
  },
  {
   "cell_type": "markdown",
   "metadata": {},
   "source": [
    "# Обзор данных"
   ]
  },
  {
   "cell_type": "code",
   "execution_count": null,
   "metadata": {},
   "outputs": [],
   "source": [
    "# импорт библиотек\n",
    "import pandas as pd\n",
    "pd.options.mode.chained_assignment = None  \n",
    "import numpy as np\n",
    "import matplotlib.pyplot as plt\n",
    "import seaborn as sns\n",
    "import datetime as dt\n",
    "import math\n",
    "from scipy import stats as st\n",
    "from datetime import datetime, timedelta\n",
    "from plotly import graph_objects as go"
   ]
  },
  {
   "cell_type": "code",
   "execution_count": null,
   "metadata": {},
   "outputs": [],
   "source": [
    "# чтение файлов с данными и сохранение в df\n",
    "try:\n",
    "    data = pd.read_csv('/datasets/logs_exp.csv', sep='\\t')\n",
    "except:\n",
    "    data = pd.read_csv('logs_exp.csv', sep='\\t')"
   ]
  },
  {
   "cell_type": "code",
   "execution_count": null,
   "metadata": {},
   "outputs": [],
   "source": [
    "data.info()\n",
    "data.sample(5)"
   ]
  },
  {
   "cell_type": "markdown",
   "metadata": {},
   "source": [
    "На первый взгляд, серьезных проблем с данными нет. Нужно будет проверить их на дубликаты, привести названия столбцов к хорошему стилю и преобразовать данные со временем."
   ]
  },
  {
   "cell_type": "markdown",
   "metadata": {},
   "source": [
    "# Предобработка данных"
   ]
  },
  {
   "cell_type": "code",
   "execution_count": null,
   "metadata": {},
   "outputs": [],
   "source": [
    "# проверка таблиц на наличие дубликатов\n",
    "\n",
    "data.duplicated().sum()"
   ]
  },
  {
   "cell_type": "code",
   "execution_count": null,
   "metadata": {},
   "outputs": [],
   "source": [
    "# удалим дубликаты\n",
    "\n",
    "data = data.drop_duplicates().reset_index(drop=True)"
   ]
  },
  {
   "cell_type": "code",
   "execution_count": null,
   "metadata": {},
   "outputs": [],
   "source": [
    "# приведем наименования столбцов к хорошему стилю\n",
    "\n",
    "data = data.rename(columns={'EventName': 'event', 'DeviceIDHash': 'user_id', \n",
    "                            'EventTimestamp': 'date_time', 'ExpId': 'group_id'})\n",
    "data.columns"
   ]
  },
  {
   "cell_type": "code",
   "execution_count": null,
   "metadata": {
    "scrolled": false
   },
   "outputs": [],
   "source": [
    "# заменим тип данных datetime \n",
    "\n",
    "data['date_time'] = pd.to_datetime(data['date_time'], unit='s')"
   ]
  },
  {
   "cell_type": "code",
   "execution_count": null,
   "metadata": {},
   "outputs": [],
   "source": [
    "# добавим поле с датой\n",
    "\n",
    "data['date'] = pd.to_datetime(data['date_time'].dt.date)\n",
    "data.head(5)"
   ]
  },
  {
   "cell_type": "code",
   "execution_count": null,
   "metadata": {},
   "outputs": [],
   "source": [
    "# проверим, что пользователи в группах не пересекаются\n",
    "data.groupby('user_id')['group_id'].nunique().reset_index().query('group_id > 1')"
   ]
  },
  {
   "cell_type": "markdown",
   "metadata": {},
   "source": [
    "В результате преобработки данных мы удалили явные дубликаты, привели названия столбцов к хорошему стилю и добавили поле с датой. Теперь переходим к изучению и проверке данных."
   ]
  },
  {
   "cell_type": "markdown",
   "metadata": {},
   "source": [
    "# Изучение и проверка данных"
   ]
  },
  {
   "cell_type": "markdown",
   "metadata": {},
   "source": [
    "## Сколько всего событий и пользователей в логе?"
   ]
  },
  {
   "cell_type": "markdown",
   "metadata": {},
   "source": [
    "Узнаем сколько всего событий в логе. "
   ]
  },
  {
   "cell_type": "code",
   "execution_count": null,
   "metadata": {},
   "outputs": [],
   "source": [
    "print('Всего событий:', data.shape[0]) \n",
    "print('Видов событий:',data['event'].nunique())\n",
    "print('Всего пользователей:',data['user_id'].nunique())"
   ]
  },
  {
   "cell_type": "markdown",
   "metadata": {},
   "source": [
    "Итак, в логе 243713 событий, 5 видов событий и 7551 пользователей. Узнаем как распределяется количество событий по пользователям."
   ]
  },
  {
   "cell_type": "code",
   "execution_count": null,
   "metadata": {},
   "outputs": [],
   "source": [
    "events_by_user = data.groupby('user_id').agg({'event':'count'})\n",
    "display(events_by_user['event'].describe())"
   ]
  },
  {
   "cell_type": "code",
   "execution_count": null,
   "metadata": {
    "scrolled": false
   },
   "outputs": [],
   "source": [
    "plt.figure(figsize=(15, 5))\n",
    "plt.title('Распределение количества событий на пользователя')\n",
    "sns.histplot(events_by_user['event'], bins=50)\n",
    "plt.xlabel('Количество событий')                   \n",
    "plt.ylabel('Количество пользователей')             \n",
    "plt.show()"
   ]
  },
  {
   "cell_type": "markdown",
   "metadata": {},
   "source": [
    "Получается большинство пользователей совершило примерно 20 событий, притом минимальное количесвто - 1 событие, значит в датафрейме нет пользователей без событий вообще."
   ]
  },
  {
   "cell_type": "markdown",
   "metadata": {},
   "source": [
    "## Сколько в среднем событий приходится на пользователя?"
   ]
  },
  {
   "cell_type": "code",
   "execution_count": null,
   "metadata": {},
   "outputs": [],
   "source": [
    "data['date_time'].describe(datetime_is_numeric=True)"
   ]
  },
  {
   "cell_type": "markdown",
   "metadata": {},
   "source": [
    "Датафрейм содержит данные с 25.07.2019 по 07.08.2019. Построим гистограмму распределения количества пользователей по дате и времени."
   ]
  },
  {
   "cell_type": "code",
   "execution_count": null,
   "metadata": {},
   "outputs": [],
   "source": [
    "# гистограмма по дате и времени\n",
    "plt.title('Распределение логов по дате и времени', loc='left')\n",
    "data['date_time'].hist(bins=14*24,  figsize=(20, 8), alpha=0.7)\n",
    "plt.show()"
   ]
  },
  {
   "cell_type": "markdown",
   "metadata": {},
   "source": [
    "На гистограмме видно, что данные на конец июля непольные. В логи новых дней по некоторым пользователям могут «доезжать» события из прошлого — это может «перекашивать данные». Будет целесообразно для дальнейшего анализа использовать данные с 01.08.2019."
   ]
  },
  {
   "cell_type": "markdown",
   "metadata": {},
   "source": [
    "Теперь отбросим старые данные и посмотрим сколько событий и пользователей мы потеряли."
   ]
  },
  {
   "cell_type": "code",
   "execution_count": null,
   "metadata": {
    "scrolled": true
   },
   "outputs": [],
   "source": [
    "old_logs = data.shape[0]\n",
    "old_users = data['user_id'].nunique()\n",
    "print('Было событий:', old_logs)\n",
    "print('Было пользователей:', old_users)\n",
    "\n",
    "# отбрасываем старые данные\n",
    "data = data[data['date_time'] >= '2019-08-01']\n",
    "\n",
    "print('Стало событий:', data.shape[0])\n",
    "print('Стало пользователей:', data['user_id'].nunique())\n",
    "\n",
    "print('Изменение количества логов:', \n",
    "      data.shape[0]- old_logs, \n",
    "      '({:.1%})'.format((data.shape[0]-old_logs)/old_logs))\n",
    "print('Изменение количества пользователей:', \n",
    "      data['user_id'].nunique()- old_users, \n",
    "      '({:.1%})'.format((data['user_id'].nunique()-old_users)/old_users))"
   ]
  },
  {
   "cell_type": "markdown",
   "metadata": {},
   "source": [
    "Отбросив данные, мы потеряли всего 2826 логов (1,2%) и 17 (0,2%) пользователей, что является незначительным числом по сравнению с общим количеством. Теперь посмотрим на распределение пользователей по экспериментальным группам."
   ]
  },
  {
   "cell_type": "code",
   "execution_count": null,
   "metadata": {},
   "outputs": [],
   "source": [
    "data.groupby('group_id').agg({'user_id':'nunique'})"
   ]
  },
  {
   "cell_type": "markdown",
   "metadata": {},
   "source": [
    "Количество пользователей в каждой экспериментальной группе примерно одинаковое."
   ]
  },
  {
   "cell_type": "markdown",
   "metadata": {},
   "source": [
    "# Изучение воронки событий"
   ]
  },
  {
   "cell_type": "markdown",
   "metadata": {},
   "source": [
    "Для начала посмотрим, какие события есть в логах, как часто они встречаются."
   ]
  },
  {
   "cell_type": "code",
   "execution_count": null,
   "metadata": {},
   "outputs": [],
   "source": [
    "events = (data.\n",
    "          groupby('event').\n",
    "          agg({'user_id': 'count'}).\n",
    "          reset_index().\n",
    "          rename(columns={'user_id' : 'total_events'}).\n",
    "          sort_values(by='total_events', ascending=False))\n",
    "events"
   ]
  },
  {
   "cell_type": "code",
   "execution_count": null,
   "metadata": {
    "scrolled": false
   },
   "outputs": [],
   "source": [
    "plt.figure(figsize=(15, 5))\n",
    "ax = sns.barplot(x='total_events', y='event', data=events)\n",
    "ax.set_title('Частота событий в логах')\n",
    "ax.set_xlabel('Количество событий') \n",
    "plt.show()"
   ]
  },
  {
   "cell_type": "markdown",
   "metadata": {},
   "source": [
    "Итак, по частоте событий можно сказать следущеее:\n",
    "- Событие **MainScreenAppear** (просмотр главного экрана) произошло 117328 раз;\n",
    "- Событие **OffersScreenAppear** (просмотр каталога предложений) произошло 46333 раза;\n",
    "- Событие **CartScreenAppear** (просмотр карточки товара) произошло 42303 раза;\n",
    "- Событие **PaymentScreenSuccessful** (просмотр экрана с подтверждением успешной оплаты) произошло 33918 раз;\n",
    "- Событие **Tutorial** (Обучение) произошло 1005 раз."
   ]
  },
  {
   "cell_type": "markdown",
   "metadata": {},
   "source": [
    "Теперь посчитаем, сколько пользователей совершали каждое из этих событий."
   ]
  },
  {
   "cell_type": "code",
   "execution_count": null,
   "metadata": {},
   "outputs": [],
   "source": [
    "funnel = (data.\n",
    "          groupby('event').\n",
    "          agg({'user_id': 'nunique'}).\n",
    "          reset_index().\n",
    "          rename(columns={'user_id' : 'users'}).\n",
    "          sort_values(by='users', ascending=False))\n",
    "# нам также понадобится доля пользователей, которые хоть раз совершали событие.\n",
    "funnel['percent'] = round(funnel['users'] / old_users * 100, 2) \n",
    "funnel"
   ]
  },
  {
   "cell_type": "markdown",
   "metadata": {},
   "source": [
    "Порядок событий постепенно становится ясен. \n",
    "- Сначала пользователь видит **главную страницу** приложения - 7419 пользователей (98% от общего числа пользователей). \n",
    "- Затем он просматривает **каталог предложений** - 4593 пользователей (61% от общего числа)\n",
    "- Далее он ознакамливается с **карточкой товара** - 3734 пользователя (49% от общего числа)\n",
    "- И **завершает оплату** - 3539 пользователей (47% от общего числа)\n",
    "\n",
    "Событие Tutorial прошло всего 840 пользователей (11% от общего числа), поэтому оно никак не вписывается в нашу воронку. Довольно странно, что пользователь сначала завершает оплату в приложении, а потом уже читает инструкцию как им пользоваться. Поэтому его не будем учитывать при расчётах."
   ]
  },
  {
   "cell_type": "code",
   "execution_count": null,
   "metadata": {
    "scrolled": false
   },
   "outputs": [],
   "source": [
    "# исключаем из воронки событие Tutorial \n",
    "funnel = funnel[funnel['event'] != 'Tutorial']\n",
    "\n",
    "fig = go.Figure(go.Funnel(x = funnel['users'],\n",
    "                y = funnel['event'], \n",
    "                textposition = \"inside\",\n",
    "                textinfo = \"value+percent initial\",\n",
    "                opacity = 0.65, \n",
    "                marker = {\"color\": [\"#ffd800\", \"#ff4900\", \"#0076ff\", \"#00ffa6\"], \n",
    "                \"color\": [\"yellow\", \"red\", \"blue\", \"green\"]})\n",
    "    )\n",
    "fig.show()"
   ]
  },
  {
   "cell_type": "code",
   "execution_count": null,
   "metadata": {
    "scrolled": true
   },
   "outputs": [],
   "source": [
    "# Посчитаем долю пользователей, переходящих на следующий шаг воронки (колонка percent_of_previous)\n",
    "funnel['percent_of_previous'] = round(funnel['users'] / funnel['users'].shift() * 100, 2)\n",
    "funnel   "
   ]
  },
  {
   "cell_type": "markdown",
   "metadata": {},
   "source": [
    "Судю по всему меньше всего пользователей перешли с этапа просмотра главного экрана на этап просмотра каталога товаров. Возможно, это связано с неудобным интерфейсом или некорректной работой этой функции приложения у некоторых пользователей."
   ]
  },
  {
   "cell_type": "markdown",
   "metadata": {},
   "source": [
    "По графику видно, что целых 38% пользователей перестают пользоваться приложением после первого шага. И только 48% от общего количества доходят до этапа успешной оплаты товара. Такие изменения могут быть связаны с неудобным и интуитивно непонятным интерфейсом или же техническими неполадками (например, если эта функция некорректно работает на некоторых устройствах). "
   ]
  },
  {
   "cell_type": "markdown",
   "metadata": {},
   "source": [
    "## Изучение результатов эксперимента\n"
   ]
  },
  {
   "cell_type": "markdown",
   "metadata": {},
   "source": [
    "Сначала узнаем сколько пользователей в каждой экспериментальной группе."
   ]
  },
  {
   "cell_type": "code",
   "execution_count": null,
   "metadata": {},
   "outputs": [],
   "source": [
    "data.groupby('group_id').agg(count=('user_id', 'nunique'))"
   ]
  },
  {
   "cell_type": "markdown",
   "metadata": {},
   "source": [
    "Количество пользователей в группах примерно одинаковое. "
   ]
  },
  {
   "cell_type": "markdown",
   "metadata": {},
   "source": [
    "В рамках исследования мы будем сравнивать:\n",
    "\n",
    "- Контрольные группы со старыми шрифтами - 246 с 247;\n",
    "- Каждую из контрольных групп по отдельности с экспериментальной (246 с 248 и 247 с 248);\n",
    "- Объединенную контрольную группу и экспериментальную (246 + 247 с 248)."
   ]
  },
  {
   "cell_type": "markdown",
   "metadata": {},
   "source": [
    "Для удобства напишем функцию, которая, проведя статистический тест, позволит определить, различаются ли доли генеральной совокупности. Всего у нас 4 события, а значит 4 А/A-теста и 12 А/B-тестов. Для корректировки уровня значимости при множественных сравнениях будем использовать поправку Бонферонни (уровень значимости будем делить на количество сравнений).\n",
    "Аргументы функции:\n",
    "- **df1**, **df2** - датафреймы с логами\n",
    "- **event** - событие\n",
    "- **alpfa** - критический уровень статистической значимости\n",
    "- **n** - поправка Боннферони для критического уровня статистической значимости"
   ]
  },
  {
   "cell_type": "code",
   "execution_count": null,
   "metadata": {},
   "outputs": [],
   "source": [
    "def z_test(df1, df2, event, alpha, n):\n",
    "     \n",
    "    # критический уровень статистической значимости c поправкой Бонферрони\n",
    "    bonferroni_alpha = alpha / n\n",
    " \n",
    "    # число пользователей в группе 1 и группе 2:\n",
    "    n_users = np.array([df1['user_id'].nunique(), \n",
    "                        df2['user_id'].nunique()])\n",
    "\n",
    "    # число пользователей, совершивших событие в группе 1 и группе 2\n",
    "    success = np.array([df1[df1['event'] == event]['user_id'].nunique(), \n",
    "                        df2[df2['event'] == event]['user_id'].nunique()])\n",
    "\n",
    "    # пропорция успехов в первой группе:\n",
    "    p1 = success[0]/n_users[0]\n",
    "    # пропорция успехов во второй группе:\n",
    "    p2 = success[1]/n_users[1]\n",
    "    \n",
    "    # пропорция успехов в комбинированном датасете:\n",
    "    p_combined = (success[0] + success[1]) / (n_users[0] + n_users[1])\n",
    "\n",
    "    # разница пропорций в датасетах\n",
    "    difference = p1 - p2 \n",
    "\n",
    "    # считаем статистику в ст.отклонениях стандартного нормального распределения\n",
    "    z_value = difference /  np.sqrt(p_combined * (1 - p_combined) * (1/n_users[0] + 1/n_users[1]))\n",
    "\n",
    "    # задаем стандартное нормальное распределение (среднее 0, ст.отклонение 1)\n",
    "    distr = st.norm(0, 1)  \n",
    "\n",
    "    p_value = (1 - distr.cdf(abs(z_value))) * 2   # тест двусторонний, удваиваем результат\n",
    "    \n",
    "    print('Событие:', event)\n",
    "    print('p-значение: ', p_value)\n",
    "\n",
    "    if p_value < bonferroni_alpha:\n",
    "        print('Отвергаем нулевую гипотезу: между долями есть разница')\n",
    "    else:\n",
    "        print(\n",
    "        'Не получилось отвергнуть нулевую гипотезу, нет оснований считать доли разными')"
   ]
  },
  {
   "cell_type": "markdown",
   "metadata": {},
   "source": [
    "Введем основную и альтернативную гипотезы:\n",
    "- **H0** - доли уникальных посетителей побывавших на этапе воронки одинаковы\n",
    "- **H1** - доли уникальных посетителей побывавших на этапе воронки разные"
   ]
  },
  {
   "cell_type": "markdown",
   "metadata": {},
   "source": [
    "### А/А-тест"
   ]
  },
  {
   "cell_type": "markdown",
   "metadata": {},
   "source": [
    "У нас есть 2 контрольные группы для А/А-эксперимента, чтобы проверить корректность всех механизмов и расчётов. Проверим, находят ли статистические критерии разницу между выборками 246 и 247."
   ]
  },
  {
   "cell_type": "code",
   "execution_count": null,
   "metadata": {},
   "outputs": [],
   "source": [
    "for event in funnel['event'].unique():\n",
    "    z_test(data[data['group_id'] == 246], data[data['group_id'] == 247], event,.05, 4)\n",
    "    print()"
   ]
  },
  {
   "cell_type": "markdown",
   "metadata": {},
   "source": [
    "Между группами 246 и 247 ни по одному событию нет статистически достоверного отличия при выбранном уровне значимости, значит можно приступать к А/B тестированию."
   ]
  },
  {
   "cell_type": "markdown",
   "metadata": {},
   "source": [
    "### A/A/B-тест"
   ]
  },
  {
   "cell_type": "markdown",
   "metadata": {},
   "source": [
    "#### Группы 246 и 248."
   ]
  },
  {
   "cell_type": "markdown",
   "metadata": {},
   "source": [
    "Проверим, есть ли статистически значимая разница между контрольными группами 246 и 248."
   ]
  },
  {
   "cell_type": "code",
   "execution_count": null,
   "metadata": {},
   "outputs": [],
   "source": [
    "for event in funnel['event'].unique():\n",
    "    z_test(data[data['group_id'] == 246], data[data['group_id'] == 248], event, .05, 12)\n",
    "    print()"
   ]
  },
  {
   "cell_type": "markdown",
   "metadata": {},
   "source": [
    "У нас нет оснований считать контрольные группы 246 и 248 разными при заданном уровне статистически значимой."
   ]
  },
  {
   "cell_type": "markdown",
   "metadata": {},
   "source": [
    "#### Группы 247 и 248."
   ]
  },
  {
   "cell_type": "markdown",
   "metadata": {},
   "source": [
    "Теперт проверим разницу между группами 247 и 248."
   ]
  },
  {
   "cell_type": "code",
   "execution_count": null,
   "metadata": {},
   "outputs": [],
   "source": [
    "for event in funnel['event'].unique():\n",
    "    z_test(data[data['group_id'] == 247], data[data['group_id'] == 248], event,.05,12)\n",
    "    print()"
   ]
  },
  {
   "cell_type": "markdown",
   "metadata": {},
   "source": [
    "Аналогично и с группой 247 по сравнению с экспериментальной группой 248 - статистически значимых различий нет."
   ]
  },
  {
   "cell_type": "markdown",
   "metadata": {},
   "source": [
    "#### Объединенная группа 246+247 и экспериментальная группа 248."
   ]
  },
  {
   "cell_type": "code",
   "execution_count": null,
   "metadata": {},
   "outputs": [],
   "source": [
    "for event in funnel['event'].unique():\n",
    "    z_test(data[data['group_id'] != 248], data[data['group_id'] == 248], event,.05,12)\n",
    "    print()"
   ]
  },
  {
   "cell_type": "markdown",
   "metadata": {},
   "source": [
    "Снова никакой статистически значимой разницы разницы. "
   ]
  },
  {
   "cell_type": "markdown",
   "metadata": {},
   "source": [
    "Из всех проведенных нами тестов следует вывод о том, что изменение шрифтов во всем приложении никак не повлияло на поведение пользователей."
   ]
  },
  {
   "cell_type": "markdown",
   "metadata": {},
   "source": [
    "# Выводы"
   ]
  },
  {
   "cell_type": "markdown",
   "metadata": {},
   "source": [
    "В ходе исследования мы проанализировали поведение покупателей на основании логов пользователей, а так же, результаты А/А/В-теста. \n",
    "\n",
    "Резюмируя результаты проведенного анализа:\n",
    "\n",
    "**Воронка событий:**\n",
    "- Главную страницу (MainScreenAppear) увидели 7419 пользователей (100% от общего числа пользователей);\n",
    "- Страницу товара (OffersScreenAppear) просмотрели 4593 пользователей (62% от общего числа);\n",
    "- Карточку товара (CartScreenAppear) просмотрели 3734 пользователя (50% от общего числа);\n",
    "- Завершили оплату (PaymentScreenSuccessful) 3539 пользователей (48% от общего числа).\n",
    "- Прохождение обучения (Tutorial) мы исключили из анализа, так как его прошло всего 840 пользователей (11% от общего числа), и оно никак не вписывается в воронку событий. \n",
    "\n",
    "Больше всего пользователей приложение потеряло после первого шага (более 38%), примерно 9% пользователей на следующем шаге и около 2% при переходе на последний шаг. Таким образом, примерно 48% пользователей дошло до этапа оплаты заказа. \n",
    "\n",
    "**A/A/B-эксперимент:**\n",
    "Также мы проанализировали результаты А/А/В-эксперимента, суть которого заключалась в изменении шрифта во всем приложении. В эксперименте были ипользованы логи событий за неделю (с 01/08/2019 по 07/08/2019).\n",
    "\n",
    "В эксперименте участвовали пользователи, разделенные на три группы (две контрольные - 246 и 247 и одна экспериментальная - 248).\n",
    "\n",
    "По результатам A/A/B теста можно сделать вывод, что изменение шрифтов во всем приложении никак не повлияло на поведение пользователей, так как статистически значимой разницы между группами не обнаружилось.\n",
    "\n",
    "Таким образом, изменение шрифтов во всём приложении на поведение пользователей не повлияло."
   ]
  }
 ],
 "metadata": {
  "ExecuteTimeLog": [
   {
    "duration": 1360,
    "start_time": "2023-04-24T08:29:29.671Z"
   },
   {
    "duration": 743,
    "start_time": "2023-04-24T08:29:46.008Z"
   },
   {
    "duration": 4,
    "start_time": "2023-04-24T09:02:23.806Z"
   },
   {
    "duration": 174,
    "start_time": "2023-04-24T09:02:23.987Z"
   },
   {
    "duration": 157,
    "start_time": "2023-04-24T09:03:26.778Z"
   },
   {
    "duration": 31,
    "start_time": "2023-04-24T09:03:27.282Z"
   },
   {
    "duration": 62,
    "start_time": "2023-04-24T09:05:52.091Z"
   },
   {
    "duration": 69,
    "start_time": "2023-04-24T09:06:02.025Z"
   },
   {
    "duration": 54,
    "start_time": "2023-04-24T09:06:05.373Z"
   },
   {
    "duration": 8,
    "start_time": "2023-04-24T09:06:38.377Z"
   },
   {
    "duration": 7,
    "start_time": "2023-04-24T09:06:40.177Z"
   },
   {
    "duration": 7,
    "start_time": "2023-04-24T09:06:52.889Z"
   },
   {
    "duration": 16,
    "start_time": "2023-04-24T09:36:12.676Z"
   },
   {
    "duration": 3,
    "start_time": "2023-04-24T09:36:23.833Z"
   },
   {
    "duration": 164,
    "start_time": "2023-04-24T09:36:23.986Z"
   },
   {
    "duration": 26,
    "start_time": "2023-04-24T09:36:24.152Z"
   },
   {
    "duration": 53,
    "start_time": "2023-04-24T09:36:24.179Z"
   },
   {
    "duration": 80,
    "start_time": "2023-04-24T09:36:24.233Z"
   },
   {
    "duration": 8,
    "start_time": "2023-04-24T09:36:24.315Z"
   },
   {
    "duration": 59,
    "start_time": "2023-04-24T09:36:24.325Z"
   },
   {
    "duration": 19,
    "start_time": "2023-04-24T09:36:52.872Z"
   },
   {
    "duration": 3,
    "start_time": "2023-04-24T09:36:57.415Z"
   },
   {
    "duration": 174,
    "start_time": "2023-04-24T09:36:57.420Z"
   },
   {
    "duration": 30,
    "start_time": "2023-04-24T09:36:57.596Z"
   },
   {
    "duration": 72,
    "start_time": "2023-04-24T09:36:57.627Z"
   },
   {
    "duration": 71,
    "start_time": "2023-04-24T09:36:57.701Z"
   },
   {
    "duration": 8,
    "start_time": "2023-04-24T09:36:57.774Z"
   },
   {
    "duration": 17,
    "start_time": "2023-04-24T09:36:57.783Z"
   },
   {
    "duration": 92,
    "start_time": "2023-04-24T09:37:24.146Z"
   },
   {
    "duration": 117,
    "start_time": "2023-04-24T09:37:41.377Z"
   },
   {
    "duration": 30,
    "start_time": "2023-04-24T09:57:47.294Z"
   },
   {
    "duration": 34,
    "start_time": "2023-04-24T09:58:24.801Z"
   },
   {
    "duration": 49,
    "start_time": "2023-04-24T09:59:10.867Z"
   },
   {
    "duration": 31,
    "start_time": "2023-04-24T09:59:16.580Z"
   },
   {
    "duration": 28,
    "start_time": "2023-04-24T09:59:57.906Z"
   },
   {
    "duration": 27,
    "start_time": "2023-04-24T10:00:46.808Z"
   },
   {
    "duration": 24,
    "start_time": "2023-04-24T10:05:05.578Z"
   },
   {
    "duration": 98,
    "start_time": "2023-04-24T10:05:42.510Z"
   },
   {
    "duration": 11,
    "start_time": "2023-04-24T10:05:47.262Z"
   },
   {
    "duration": 38,
    "start_time": "2023-04-24T10:05:56.161Z"
   },
   {
    "duration": 22,
    "start_time": "2023-04-24T10:06:41.972Z"
   },
   {
    "duration": 25,
    "start_time": "2023-04-24T10:06:56.152Z"
   },
   {
    "duration": 22,
    "start_time": "2023-04-24T10:07:01.198Z"
   },
   {
    "duration": 167,
    "start_time": "2023-04-24T10:07:10.516Z"
   },
   {
    "duration": 130,
    "start_time": "2023-04-24T10:07:16.158Z"
   },
   {
    "duration": 272,
    "start_time": "2023-04-24T10:08:05.722Z"
   },
   {
    "duration": 393,
    "start_time": "2023-04-24T10:08:36.338Z"
   },
   {
    "duration": 200,
    "start_time": "2023-04-24T10:08:56.890Z"
   },
   {
    "duration": 233,
    "start_time": "2023-04-24T10:09:03.457Z"
   },
   {
    "duration": 224,
    "start_time": "2023-04-24T10:09:25.790Z"
   },
   {
    "duration": 179,
    "start_time": "2023-04-24T10:09:33.196Z"
   },
   {
    "duration": 253,
    "start_time": "2023-04-24T10:09:39.454Z"
   },
   {
    "duration": 228,
    "start_time": "2023-04-24T10:09:46.304Z"
   },
   {
    "duration": 185,
    "start_time": "2023-04-24T10:10:00.063Z"
   },
   {
    "duration": 228,
    "start_time": "2023-04-24T10:10:04.715Z"
   },
   {
    "duration": 856,
    "start_time": "2023-04-24T10:10:58.414Z"
   },
   {
    "duration": 245,
    "start_time": "2023-04-24T10:11:07.859Z"
   },
   {
    "duration": 619,
    "start_time": "2023-04-24T10:11:19.569Z"
   },
   {
    "duration": 234,
    "start_time": "2023-04-24T10:11:24.685Z"
   },
   {
    "duration": 214,
    "start_time": "2023-04-24T10:11:32.409Z"
   },
   {
    "duration": 294,
    "start_time": "2023-04-24T10:11:57.369Z"
   },
   {
    "duration": 395,
    "start_time": "2023-04-24T10:12:26.358Z"
   },
   {
    "duration": 9,
    "start_time": "2023-04-24T10:13:25.655Z"
   },
   {
    "duration": 451,
    "start_time": "2023-04-24T10:14:34.556Z"
   },
   {
    "duration": 365,
    "start_time": "2023-04-24T10:14:39.957Z"
   },
   {
    "duration": 198,
    "start_time": "2023-04-24T10:14:45.853Z"
   },
   {
    "duration": 237,
    "start_time": "2023-04-24T10:14:59.959Z"
   },
   {
    "duration": 235,
    "start_time": "2023-04-24T10:16:43.555Z"
   },
   {
    "duration": 226,
    "start_time": "2023-04-24T10:16:59.664Z"
   },
   {
    "duration": 237,
    "start_time": "2023-04-24T10:17:07.282Z"
   },
   {
    "duration": 237,
    "start_time": "2023-04-24T10:17:16.808Z"
   },
   {
    "duration": 293,
    "start_time": "2023-04-24T10:17:23.905Z"
   },
   {
    "duration": 329,
    "start_time": "2023-04-24T10:17:32.418Z"
   },
   {
    "duration": 1749,
    "start_time": "2023-04-25T10:47:22.013Z"
   },
   {
    "duration": 413,
    "start_time": "2023-04-25T10:47:23.766Z"
   },
   {
    "duration": 65,
    "start_time": "2023-04-25T10:47:24.181Z"
   },
   {
    "duration": 132,
    "start_time": "2023-04-25T10:47:24.249Z"
   },
   {
    "duration": 140,
    "start_time": "2023-04-25T10:47:24.386Z"
   },
   {
    "duration": 25,
    "start_time": "2023-04-25T10:47:24.528Z"
   },
   {
    "duration": 46,
    "start_time": "2023-04-25T10:47:24.559Z"
   },
   {
    "duration": 192,
    "start_time": "2023-04-25T10:47:24.608Z"
   },
   {
    "duration": 64,
    "start_time": "2023-04-25T10:47:24.802Z"
   },
   {
    "duration": 183,
    "start_time": "2023-04-25T10:47:24.869Z"
   },
   {
    "duration": 0,
    "start_time": "2023-04-25T10:47:25.054Z"
   },
   {
    "duration": 38,
    "start_time": "2023-04-25T10:47:50.331Z"
   },
   {
    "duration": 316,
    "start_time": "2023-04-25T10:47:56.500Z"
   },
   {
    "duration": 362,
    "start_time": "2023-04-25T10:48:03.706Z"
   },
   {
    "duration": 327,
    "start_time": "2023-04-25T10:48:09.197Z"
   },
   {
    "duration": 39,
    "start_time": "2023-04-25T10:52:18.089Z"
   },
   {
    "duration": 14,
    "start_time": "2023-04-25T10:52:48.019Z"
   },
   {
    "duration": 648,
    "start_time": "2023-04-25T10:56:51.784Z"
   },
   {
    "duration": 420,
    "start_time": "2023-04-25T10:57:03.632Z"
   },
   {
    "duration": 1269,
    "start_time": "2023-04-25T10:57:37.104Z"
   },
   {
    "duration": 1497,
    "start_time": "2023-04-25T10:58:09.595Z"
   },
   {
    "duration": 401,
    "start_time": "2023-04-25T10:58:34.525Z"
   },
   {
    "duration": 370,
    "start_time": "2023-04-25T10:58:41.612Z"
   },
   {
    "duration": 1500,
    "start_time": "2023-04-25T10:59:19.821Z"
   },
   {
    "duration": 475,
    "start_time": "2023-04-25T10:59:37.196Z"
   },
   {
    "duration": 473,
    "start_time": "2023-04-25T11:01:15.579Z"
   },
   {
    "duration": 577,
    "start_time": "2023-04-25T11:02:13.969Z"
   },
   {
    "duration": 443,
    "start_time": "2023-04-25T11:02:21.194Z"
   },
   {
    "duration": 41,
    "start_time": "2023-04-25T11:07:28.720Z"
   },
   {
    "duration": 10,
    "start_time": "2023-04-25T11:10:44.203Z"
   },
   {
    "duration": 10,
    "start_time": "2023-04-25T11:11:03.411Z"
   },
   {
    "duration": 33,
    "start_time": "2023-04-25T11:12:11.643Z"
   },
   {
    "duration": 28,
    "start_time": "2023-04-25T11:12:16.905Z"
   },
   {
    "duration": 4,
    "start_time": "2023-04-25T11:12:39.189Z"
   },
   {
    "duration": 209,
    "start_time": "2023-04-25T11:12:39.195Z"
   },
   {
    "duration": 56,
    "start_time": "2023-04-25T11:12:39.406Z"
   },
   {
    "duration": 84,
    "start_time": "2023-04-25T11:12:39.464Z"
   },
   {
    "duration": 98,
    "start_time": "2023-04-25T11:12:39.551Z"
   },
   {
    "duration": 10,
    "start_time": "2023-04-25T11:12:39.651Z"
   },
   {
    "duration": 14,
    "start_time": "2023-04-25T11:12:39.663Z"
   },
   {
    "duration": 144,
    "start_time": "2023-04-25T11:12:39.680Z"
   },
   {
    "duration": 52,
    "start_time": "2023-04-25T11:12:39.827Z"
   },
   {
    "duration": 29,
    "start_time": "2023-04-25T11:12:39.882Z"
   },
   {
    "duration": 278,
    "start_time": "2023-04-25T11:12:39.913Z"
   },
   {
    "duration": 16,
    "start_time": "2023-04-25T11:12:40.193Z"
   },
   {
    "duration": 422,
    "start_time": "2023-04-25T11:12:40.210Z"
   },
   {
    "duration": 48,
    "start_time": "2023-04-25T11:12:40.635Z"
   },
   {
    "duration": 40,
    "start_time": "2023-04-25T11:15:31.513Z"
   },
   {
    "duration": 45,
    "start_time": "2023-04-25T11:15:37.714Z"
   },
   {
    "duration": 34,
    "start_time": "2023-04-25T11:16:11.364Z"
   },
   {
    "duration": 4,
    "start_time": "2023-04-25T11:16:17.904Z"
   },
   {
    "duration": 202,
    "start_time": "2023-04-25T11:16:17.910Z"
   },
   {
    "duration": 57,
    "start_time": "2023-04-25T11:16:18.114Z"
   },
   {
    "duration": 88,
    "start_time": "2023-04-25T11:16:18.173Z"
   },
   {
    "duration": 77,
    "start_time": "2023-04-25T11:16:18.264Z"
   },
   {
    "duration": 17,
    "start_time": "2023-04-25T11:16:18.343Z"
   },
   {
    "duration": 18,
    "start_time": "2023-04-25T11:16:18.365Z"
   },
   {
    "duration": 176,
    "start_time": "2023-04-25T11:16:18.385Z"
   },
   {
    "duration": 40,
    "start_time": "2023-04-25T11:16:18.564Z"
   },
   {
    "duration": 41,
    "start_time": "2023-04-25T11:16:18.606Z"
   },
   {
    "duration": 257,
    "start_time": "2023-04-25T11:16:18.651Z"
   },
   {
    "duration": 15,
    "start_time": "2023-04-25T11:16:18.910Z"
   },
   {
    "duration": 426,
    "start_time": "2023-04-25T11:16:18.927Z"
   },
   {
    "duration": 33,
    "start_time": "2023-04-25T11:16:19.363Z"
   },
   {
    "duration": 33,
    "start_time": "2023-04-25T11:17:03.960Z"
   },
   {
    "duration": 5,
    "start_time": "2023-04-25T11:17:28.177Z"
   },
   {
    "duration": 192,
    "start_time": "2023-04-25T11:17:28.185Z"
   },
   {
    "duration": 34,
    "start_time": "2023-04-25T11:17:28.379Z"
   },
   {
    "duration": 89,
    "start_time": "2023-04-25T11:17:28.415Z"
   },
   {
    "duration": 82,
    "start_time": "2023-04-25T11:17:28.508Z"
   },
   {
    "duration": 10,
    "start_time": "2023-04-25T11:17:28.592Z"
   },
   {
    "duration": 25,
    "start_time": "2023-04-25T11:17:28.604Z"
   },
   {
    "duration": 141,
    "start_time": "2023-04-25T11:17:28.642Z"
   },
   {
    "duration": 76,
    "start_time": "2023-04-25T11:17:28.785Z"
   },
   {
    "duration": 36,
    "start_time": "2023-04-25T11:17:28.863Z"
   },
   {
    "duration": 459,
    "start_time": "2023-04-25T11:17:28.902Z"
   },
   {
    "duration": 16,
    "start_time": "2023-04-25T11:17:29.363Z"
   },
   {
    "duration": 415,
    "start_time": "2023-04-25T11:17:29.381Z"
   },
   {
    "duration": 54,
    "start_time": "2023-04-25T11:17:29.800Z"
   },
   {
    "duration": 31,
    "start_time": "2023-04-25T11:18:14.229Z"
   },
   {
    "duration": 38,
    "start_time": "2023-04-25T11:20:28.725Z"
   },
   {
    "duration": 5,
    "start_time": "2023-04-25T11:20:33.515Z"
   },
   {
    "duration": 261,
    "start_time": "2023-04-25T11:20:33.524Z"
   },
   {
    "duration": 39,
    "start_time": "2023-04-25T11:20:33.787Z"
   },
   {
    "duration": 110,
    "start_time": "2023-04-25T11:20:33.846Z"
   },
   {
    "duration": 83,
    "start_time": "2023-04-25T11:20:33.960Z"
   },
   {
    "duration": 19,
    "start_time": "2023-04-25T11:20:34.046Z"
   },
   {
    "duration": 17,
    "start_time": "2023-04-25T11:20:34.068Z"
   },
   {
    "duration": 170,
    "start_time": "2023-04-25T11:20:34.087Z"
   },
   {
    "duration": 48,
    "start_time": "2023-04-25T11:20:34.260Z"
   },
   {
    "duration": 55,
    "start_time": "2023-04-25T11:20:34.312Z"
   },
   {
    "duration": 294,
    "start_time": "2023-04-25T11:20:34.370Z"
   },
   {
    "duration": 15,
    "start_time": "2023-04-25T11:20:34.666Z"
   },
   {
    "duration": 434,
    "start_time": "2023-04-25T11:20:34.684Z"
   },
   {
    "duration": 45,
    "start_time": "2023-04-25T11:20:35.121Z"
   },
   {
    "duration": 44,
    "start_time": "2023-04-25T11:21:16.041Z"
   },
   {
    "duration": 5,
    "start_time": "2023-04-25T11:21:18.980Z"
   },
   {
    "duration": 196,
    "start_time": "2023-04-25T11:21:18.988Z"
   },
   {
    "duration": 56,
    "start_time": "2023-04-25T11:21:19.187Z"
   },
   {
    "duration": 74,
    "start_time": "2023-04-25T11:21:19.251Z"
   },
   {
    "duration": 93,
    "start_time": "2023-04-25T11:21:19.327Z"
   },
   {
    "duration": 29,
    "start_time": "2023-04-25T11:21:19.423Z"
   },
   {
    "duration": 46,
    "start_time": "2023-04-25T11:21:19.454Z"
   },
   {
    "duration": 162,
    "start_time": "2023-04-25T11:21:19.502Z"
   },
   {
    "duration": 48,
    "start_time": "2023-04-25T11:21:19.669Z"
   },
   {
    "duration": 50,
    "start_time": "2023-04-25T11:21:19.719Z"
   },
   {
    "duration": 276,
    "start_time": "2023-04-25T11:21:19.771Z"
   },
   {
    "duration": 20,
    "start_time": "2023-04-25T11:21:20.051Z"
   },
   {
    "duration": 490,
    "start_time": "2023-04-25T11:21:20.073Z"
   },
   {
    "duration": 46,
    "start_time": "2023-04-25T11:21:20.566Z"
   },
   {
    "duration": 13,
    "start_time": "2023-04-25T11:27:24.885Z"
   },
   {
    "duration": 23,
    "start_time": "2023-04-25T11:28:03.653Z"
   },
   {
    "duration": 69,
    "start_time": "2023-04-25T11:28:14.793Z"
   },
   {
    "duration": 39,
    "start_time": "2023-04-25T11:29:51.549Z"
   },
   {
    "duration": 61,
    "start_time": "2023-04-25T11:30:16.659Z"
   },
   {
    "duration": 39,
    "start_time": "2023-04-25T11:30:30.335Z"
   },
   {
    "duration": 31,
    "start_time": "2023-04-25T11:30:58.673Z"
   },
   {
    "duration": 14,
    "start_time": "2023-04-25T11:31:42.814Z"
   },
   {
    "duration": 298,
    "start_time": "2023-04-25T11:31:46.413Z"
   },
   {
    "duration": 1332,
    "start_time": "2023-04-25T18:11:27.657Z"
   },
   {
    "duration": 845,
    "start_time": "2023-04-25T18:11:28.992Z"
   },
   {
    "duration": 42,
    "start_time": "2023-04-25T18:11:29.839Z"
   },
   {
    "duration": 81,
    "start_time": "2023-04-25T18:11:29.883Z"
   },
   {
    "duration": 102,
    "start_time": "2023-04-25T18:11:29.967Z"
   },
   {
    "duration": 12,
    "start_time": "2023-04-25T18:11:30.071Z"
   },
   {
    "duration": 13,
    "start_time": "2023-04-25T18:11:30.085Z"
   },
   {
    "duration": 138,
    "start_time": "2023-04-25T18:11:30.100Z"
   },
   {
    "duration": 48,
    "start_time": "2023-04-25T18:11:30.240Z"
   },
   {
    "duration": 27,
    "start_time": "2023-04-25T18:11:30.290Z"
   },
   {
    "duration": 257,
    "start_time": "2023-04-25T18:11:30.320Z"
   },
   {
    "duration": 15,
    "start_time": "2023-04-25T18:11:30.579Z"
   },
   {
    "duration": 464,
    "start_time": "2023-04-25T18:11:30.597Z"
   },
   {
    "duration": 30,
    "start_time": "2023-04-25T18:11:31.064Z"
   },
   {
    "duration": 40,
    "start_time": "2023-04-25T18:11:31.096Z"
   },
   {
    "duration": 65,
    "start_time": "2023-04-25T18:11:31.138Z"
   },
   {
    "duration": 96,
    "start_time": "2023-04-25T18:11:31.205Z"
   },
   {
    "duration": 199,
    "start_time": "2023-04-25T18:11:45.846Z"
   },
   {
    "duration": 227,
    "start_time": "2023-04-25T18:25:02.167Z"
   },
   {
    "duration": 159,
    "start_time": "2023-04-25T18:25:20.293Z"
   },
   {
    "duration": 250,
    "start_time": "2023-04-25T18:25:29.487Z"
   },
   {
    "duration": 140,
    "start_time": "2023-04-25T18:25:36.300Z"
   },
   {
    "duration": 161,
    "start_time": "2023-04-25T18:25:49.582Z"
   },
   {
    "duration": 176,
    "start_time": "2023-04-25T18:25:56.380Z"
   },
   {
    "duration": 197,
    "start_time": "2023-04-25T18:27:26.650Z"
   },
   {
    "duration": 162,
    "start_time": "2023-04-25T18:27:39.713Z"
   },
   {
    "duration": 160,
    "start_time": "2023-04-25T18:28:01.241Z"
   },
   {
    "duration": 177,
    "start_time": "2023-04-25T18:55:03.272Z"
   },
   {
    "duration": 783,
    "start_time": "2023-04-25T18:55:16.366Z"
   },
   {
    "duration": 83,
    "start_time": "2023-04-25T18:55:24.006Z"
   },
   {
    "duration": 62,
    "start_time": "2023-04-25T18:55:53.254Z"
   },
   {
    "duration": 60,
    "start_time": "2023-04-25T18:57:52.523Z"
   },
   {
    "duration": 53,
    "start_time": "2023-04-25T18:58:19.707Z"
   },
   {
    "duration": 55,
    "start_time": "2023-04-25T19:07:22.884Z"
   },
   {
    "duration": 99,
    "start_time": "2023-04-25T19:15:11.031Z"
   },
   {
    "duration": 823,
    "start_time": "2023-04-25T19:26:56.530Z"
   },
   {
    "duration": 336,
    "start_time": "2023-04-25T19:27:03.296Z"
   },
   {
    "duration": 182,
    "start_time": "2023-04-25T19:27:13.129Z"
   },
   {
    "duration": 97,
    "start_time": "2023-04-25T19:30:30.877Z"
   },
   {
    "duration": 25,
    "start_time": "2023-04-25T19:33:50.964Z"
   },
   {
    "duration": 15,
    "start_time": "2023-04-25T19:35:55.246Z"
   },
   {
    "duration": 5,
    "start_time": "2023-04-25T19:35:58.850Z"
   },
   {
    "duration": 200,
    "start_time": "2023-04-25T19:35:58.858Z"
   },
   {
    "duration": 51,
    "start_time": "2023-04-25T19:35:59.061Z"
   },
   {
    "duration": 84,
    "start_time": "2023-04-25T19:35:59.114Z"
   },
   {
    "duration": 107,
    "start_time": "2023-04-25T19:35:59.202Z"
   },
   {
    "duration": 10,
    "start_time": "2023-04-25T19:35:59.311Z"
   },
   {
    "duration": 23,
    "start_time": "2023-04-25T19:35:59.324Z"
   },
   {
    "duration": 155,
    "start_time": "2023-04-25T19:35:59.355Z"
   },
   {
    "duration": 49,
    "start_time": "2023-04-25T19:35:59.512Z"
   },
   {
    "duration": 35,
    "start_time": "2023-04-25T19:35:59.563Z"
   },
   {
    "duration": 278,
    "start_time": "2023-04-25T19:35:59.600Z"
   },
   {
    "duration": 14,
    "start_time": "2023-04-25T19:35:59.880Z"
   },
   {
    "duration": 416,
    "start_time": "2023-04-25T19:35:59.896Z"
   },
   {
    "duration": 40,
    "start_time": "2023-04-25T19:36:00.317Z"
   },
   {
    "duration": 58,
    "start_time": "2023-04-25T19:36:00.359Z"
   },
   {
    "duration": 43,
    "start_time": "2023-04-25T19:36:00.419Z"
   },
   {
    "duration": 177,
    "start_time": "2023-04-25T19:36:00.464Z"
   },
   {
    "duration": 85,
    "start_time": "2023-04-25T19:36:00.643Z"
   },
   {
    "duration": 27,
    "start_time": "2023-04-25T19:36:00.730Z"
   },
   {
    "duration": 49,
    "start_time": "2023-04-25T19:36:21.884Z"
   },
   {
    "duration": 17,
    "start_time": "2023-04-25T19:36:36.258Z"
   },
   {
    "duration": 4,
    "start_time": "2023-04-25T19:36:47.274Z"
   },
   {
    "duration": 20,
    "start_time": "2023-04-25T19:36:49.675Z"
   },
   {
    "duration": 4,
    "start_time": "2023-04-25T19:37:22.284Z"
   },
   {
    "duration": 20,
    "start_time": "2023-04-25T19:37:25.107Z"
   },
   {
    "duration": 69,
    "start_time": "2023-04-27T07:30:05.098Z"
   },
   {
    "duration": 1208,
    "start_time": "2023-04-27T07:30:11.803Z"
   },
   {
    "duration": 1825,
    "start_time": "2023-04-27T07:30:13.013Z"
   },
   {
    "duration": 30,
    "start_time": "2023-04-27T07:30:14.839Z"
   },
   {
    "duration": 55,
    "start_time": "2023-04-27T07:30:14.870Z"
   },
   {
    "duration": 73,
    "start_time": "2023-04-27T07:30:14.927Z"
   },
   {
    "duration": 8,
    "start_time": "2023-04-27T07:30:15.001Z"
   },
   {
    "duration": 40,
    "start_time": "2023-04-27T07:30:15.011Z"
   },
   {
    "duration": 108,
    "start_time": "2023-04-27T07:30:15.053Z"
   },
   {
    "duration": 36,
    "start_time": "2023-04-27T07:30:15.163Z"
   },
   {
    "duration": 20,
    "start_time": "2023-04-27T07:30:15.200Z"
   },
   {
    "duration": 220,
    "start_time": "2023-04-27T07:30:15.221Z"
   },
   {
    "duration": 12,
    "start_time": "2023-04-27T07:30:15.442Z"
   },
   {
    "duration": 366,
    "start_time": "2023-04-27T07:30:15.456Z"
   },
   {
    "duration": 24,
    "start_time": "2023-04-27T07:30:15.824Z"
   },
   {
    "duration": 47,
    "start_time": "2023-04-27T07:30:15.849Z"
   },
   {
    "duration": 28,
    "start_time": "2023-04-27T07:30:15.898Z"
   },
   {
    "duration": 152,
    "start_time": "2023-04-27T07:30:15.928Z"
   },
   {
    "duration": 62,
    "start_time": "2023-04-27T07:30:16.082Z"
   },
   {
    "duration": 59,
    "start_time": "2023-04-27T07:30:16.146Z"
   },
   {
    "duration": 46,
    "start_time": "2023-04-27T07:30:20.567Z"
   },
   {
    "duration": 107,
    "start_time": "2023-04-27T07:30:32.355Z"
   },
   {
    "duration": 148,
    "start_time": "2023-04-27T07:31:29.034Z"
   },
   {
    "duration": 13,
    "start_time": "2023-04-27T07:35:12.278Z"
   },
   {
    "duration": 4,
    "start_time": "2023-04-27T07:36:20.739Z"
   },
   {
    "duration": 11,
    "start_time": "2023-04-27T07:36:30.068Z"
   },
   {
    "duration": 11,
    "start_time": "2023-04-27T07:36:41.132Z"
   },
   {
    "duration": 11,
    "start_time": "2023-04-27T07:37:20.322Z"
   },
   {
    "duration": 11,
    "start_time": "2023-04-27T07:37:26.649Z"
   },
   {
    "duration": 10,
    "start_time": "2023-04-27T07:37:35.072Z"
   },
   {
    "duration": 4,
    "start_time": "2023-04-27T07:37:49.186Z"
   },
   {
    "duration": 16,
    "start_time": "2023-04-27T07:37:53.688Z"
   },
   {
    "duration": 10,
    "start_time": "2023-04-27T07:38:22.210Z"
   },
   {
    "duration": 11,
    "start_time": "2023-04-27T07:38:31.551Z"
   },
   {
    "duration": 53,
    "start_time": "2023-04-27T07:38:43.494Z"
   },
   {
    "duration": 50,
    "start_time": "2023-04-27T07:38:49.142Z"
   },
   {
    "duration": 11,
    "start_time": "2023-04-27T07:38:59.820Z"
   },
   {
    "duration": 10,
    "start_time": "2023-04-27T07:39:56.769Z"
   },
   {
    "duration": 78,
    "start_time": "2023-04-27T07:42:03.909Z"
   },
   {
    "duration": 12,
    "start_time": "2023-04-27T07:42:12.477Z"
   },
   {
    "duration": 9,
    "start_time": "2023-04-27T07:42:15.493Z"
   },
   {
    "duration": 11,
    "start_time": "2023-04-27T07:42:21.346Z"
   },
   {
    "duration": 4,
    "start_time": "2023-04-27T08:30:01.663Z"
   },
   {
    "duration": 190,
    "start_time": "2023-04-27T08:30:01.669Z"
   },
   {
    "duration": 34,
    "start_time": "2023-04-27T08:30:01.861Z"
   },
   {
    "duration": 64,
    "start_time": "2023-04-27T08:30:01.897Z"
   },
   {
    "duration": 58,
    "start_time": "2023-04-27T08:30:01.963Z"
   },
   {
    "duration": 9,
    "start_time": "2023-04-27T08:30:02.023Z"
   },
   {
    "duration": 29,
    "start_time": "2023-04-27T08:30:02.033Z"
   },
   {
    "duration": 146,
    "start_time": "2023-04-27T08:30:02.064Z"
   },
   {
    "duration": 30,
    "start_time": "2023-04-27T08:30:02.212Z"
   },
   {
    "duration": 43,
    "start_time": "2023-04-27T08:30:02.244Z"
   },
   {
    "duration": 217,
    "start_time": "2023-04-27T08:30:02.290Z"
   },
   {
    "duration": 12,
    "start_time": "2023-04-27T08:30:02.509Z"
   },
   {
    "duration": 312,
    "start_time": "2023-04-27T08:30:02.522Z"
   },
   {
    "duration": 26,
    "start_time": "2023-04-27T08:30:02.836Z"
   },
   {
    "duration": 51,
    "start_time": "2023-04-27T08:30:02.864Z"
   },
   {
    "duration": 28,
    "start_time": "2023-04-27T08:30:02.917Z"
   },
   {
    "duration": 174,
    "start_time": "2023-04-27T08:30:02.948Z"
   },
   {
    "duration": 56,
    "start_time": "2023-04-27T08:30:03.125Z"
   },
   {
    "duration": 3,
    "start_time": "2023-04-27T08:30:04.717Z"
   },
   {
    "duration": 141,
    "start_time": "2023-04-27T08:30:04.723Z"
   },
   {
    "duration": 34,
    "start_time": "2023-04-27T08:30:04.866Z"
   },
   {
    "duration": 47,
    "start_time": "2023-04-27T08:30:04.902Z"
   },
   {
    "duration": 68,
    "start_time": "2023-04-27T08:30:04.951Z"
   },
   {
    "duration": 7,
    "start_time": "2023-04-27T08:30:05.021Z"
   },
   {
    "duration": 9,
    "start_time": "2023-04-27T08:30:05.029Z"
   },
   {
    "duration": 115,
    "start_time": "2023-04-27T08:30:05.039Z"
   },
   {
    "duration": 41,
    "start_time": "2023-04-27T08:30:05.155Z"
   },
   {
    "duration": 19,
    "start_time": "2023-04-27T08:30:05.197Z"
   },
   {
    "duration": 219,
    "start_time": "2023-04-27T08:30:05.217Z"
   },
   {
    "duration": 11,
    "start_time": "2023-04-27T08:30:05.438Z"
   },
   {
    "duration": 319,
    "start_time": "2023-04-27T08:30:05.450Z"
   },
   {
    "duration": 30,
    "start_time": "2023-04-27T08:30:05.772Z"
   },
   {
    "duration": 32,
    "start_time": "2023-04-27T08:30:05.804Z"
   },
   {
    "duration": 24,
    "start_time": "2023-04-27T08:30:05.838Z"
   },
   {
    "duration": 163,
    "start_time": "2023-04-27T08:30:05.863Z"
   },
   {
    "duration": 52,
    "start_time": "2023-04-27T08:30:06.028Z"
   },
   {
    "duration": 12,
    "start_time": "2023-04-27T08:30:06.093Z"
   },
   {
    "duration": 1040,
    "start_time": "2023-04-27T08:30:33.046Z"
   },
   {
    "duration": 172,
    "start_time": "2023-04-27T08:30:34.088Z"
   },
   {
    "duration": 46,
    "start_time": "2023-04-27T08:30:34.262Z"
   },
   {
    "duration": 61,
    "start_time": "2023-04-27T08:30:34.310Z"
   },
   {
    "duration": 74,
    "start_time": "2023-04-27T08:30:34.374Z"
   },
   {
    "duration": 11,
    "start_time": "2023-04-27T08:30:34.450Z"
   },
   {
    "duration": 11,
    "start_time": "2023-04-27T08:30:34.463Z"
   },
   {
    "duration": 101,
    "start_time": "2023-04-27T08:30:34.494Z"
   },
   {
    "duration": 34,
    "start_time": "2023-04-27T08:30:34.597Z"
   },
   {
    "duration": 19,
    "start_time": "2023-04-27T08:30:34.633Z"
   },
   {
    "duration": 229,
    "start_time": "2023-04-27T08:30:34.654Z"
   },
   {
    "duration": 27,
    "start_time": "2023-04-27T08:30:34.885Z"
   },
   {
    "duration": 391,
    "start_time": "2023-04-27T08:30:34.914Z"
   },
   {
    "duration": 25,
    "start_time": "2023-04-27T08:30:35.308Z"
   },
   {
    "duration": 31,
    "start_time": "2023-04-27T08:30:35.335Z"
   },
   {
    "duration": 52,
    "start_time": "2023-04-27T08:30:35.368Z"
   },
   {
    "duration": 156,
    "start_time": "2023-04-27T08:30:35.422Z"
   },
   {
    "duration": 61,
    "start_time": "2023-04-27T08:30:35.579Z"
   },
   {
    "duration": 167,
    "start_time": "2023-04-27T08:30:35.642Z"
   },
   {
    "duration": 44,
    "start_time": "2023-04-27T08:34:01.937Z"
   },
   {
    "duration": 162,
    "start_time": "2023-04-27T08:35:50.609Z"
   },
   {
    "duration": 71,
    "start_time": "2023-04-27T08:36:04.027Z"
   },
   {
    "duration": 51,
    "start_time": "2023-04-27T10:33:13.668Z"
   },
   {
    "duration": 1334,
    "start_time": "2023-04-27T10:33:17.674Z"
   },
   {
    "duration": 313,
    "start_time": "2023-04-27T10:33:19.010Z"
   },
   {
    "duration": 46,
    "start_time": "2023-04-27T10:33:19.325Z"
   },
   {
    "duration": 62,
    "start_time": "2023-04-27T10:33:19.376Z"
   },
   {
    "duration": 77,
    "start_time": "2023-04-27T10:33:19.440Z"
   },
   {
    "duration": 10,
    "start_time": "2023-04-27T10:33:19.519Z"
   },
   {
    "duration": 9,
    "start_time": "2023-04-27T10:33:19.530Z"
   },
   {
    "duration": 130,
    "start_time": "2023-04-27T10:33:19.541Z"
   },
   {
    "duration": 36,
    "start_time": "2023-04-27T10:33:19.673Z"
   },
   {
    "duration": 26,
    "start_time": "2023-04-27T10:33:19.710Z"
   },
   {
    "duration": 272,
    "start_time": "2023-04-27T10:33:19.737Z"
   },
   {
    "duration": 13,
    "start_time": "2023-04-27T10:33:20.011Z"
   },
   {
    "duration": 406,
    "start_time": "2023-04-27T10:33:20.026Z"
   },
   {
    "duration": 41,
    "start_time": "2023-04-27T10:33:20.434Z"
   },
   {
    "duration": 41,
    "start_time": "2023-04-27T10:33:20.477Z"
   },
   {
    "duration": 55,
    "start_time": "2023-04-27T10:33:20.520Z"
   },
   {
    "duration": 155,
    "start_time": "2023-04-27T10:33:20.576Z"
   },
   {
    "duration": 75,
    "start_time": "2023-04-27T10:33:20.733Z"
   },
   {
    "duration": 172,
    "start_time": "2023-04-27T10:33:20.809Z"
   },
   {
    "duration": 102,
    "start_time": "2023-04-27T10:33:20.982Z"
   },
   {
    "duration": 1405,
    "start_time": "2023-04-28T11:34:42.136Z"
   },
   {
    "duration": 909,
    "start_time": "2023-04-28T11:34:43.543Z"
   },
   {
    "duration": 45,
    "start_time": "2023-04-28T11:34:44.454Z"
   },
   {
    "duration": 78,
    "start_time": "2023-04-28T11:34:44.500Z"
   },
   {
    "duration": 69,
    "start_time": "2023-04-28T11:34:44.580Z"
   },
   {
    "duration": 23,
    "start_time": "2023-04-28T11:34:44.651Z"
   },
   {
    "duration": 14,
    "start_time": "2023-04-28T11:34:44.676Z"
   },
   {
    "duration": 171,
    "start_time": "2023-04-28T11:34:44.693Z"
   },
   {
    "duration": 43,
    "start_time": "2023-04-28T11:34:44.866Z"
   },
   {
    "duration": 23,
    "start_time": "2023-04-28T11:34:44.910Z"
   },
   {
    "duration": 272,
    "start_time": "2023-04-28T11:34:44.935Z"
   },
   {
    "duration": 12,
    "start_time": "2023-04-28T11:34:45.209Z"
   },
   {
    "duration": 450,
    "start_time": "2023-04-28T11:34:45.222Z"
   },
   {
    "duration": 28,
    "start_time": "2023-04-28T11:34:45.675Z"
   },
   {
    "duration": 36,
    "start_time": "2023-04-28T11:34:45.704Z"
   },
   {
    "duration": 57,
    "start_time": "2023-04-28T11:34:45.742Z"
   },
   {
    "duration": 178,
    "start_time": "2023-04-28T11:34:45.801Z"
   },
   {
    "duration": 69,
    "start_time": "2023-04-28T11:34:45.981Z"
   },
   {
    "duration": 226,
    "start_time": "2023-04-28T11:34:46.064Z"
   },
   {
    "duration": 87,
    "start_time": "2023-04-28T11:34:46.292Z"
   },
   {
    "duration": 7,
    "start_time": "2023-04-28T11:34:46.381Z"
   },
   {
    "duration": 6,
    "start_time": "2023-04-28T11:36:44.983Z"
   },
   {
    "duration": 113,
    "start_time": "2023-04-28T11:39:47.429Z"
   },
   {
    "duration": 99,
    "start_time": "2023-04-28T11:40:11.534Z"
   },
   {
    "duration": 104,
    "start_time": "2023-04-28T11:41:56.639Z"
   },
   {
    "duration": 10,
    "start_time": "2023-04-28T12:08:01.628Z"
   },
   {
    "duration": 189,
    "start_time": "2023-04-28T12:08:06.112Z"
   },
   {
    "duration": 10,
    "start_time": "2023-04-28T12:13:06.829Z"
   },
   {
    "duration": 168,
    "start_time": "2023-04-28T12:13:11.335Z"
   },
   {
    "duration": 1337,
    "start_time": "2023-04-28T14:37:06.660Z"
   },
   {
    "duration": 168,
    "start_time": "2023-04-28T14:37:07.999Z"
   },
   {
    "duration": 64,
    "start_time": "2023-04-28T14:37:08.170Z"
   },
   {
    "duration": 97,
    "start_time": "2023-04-28T14:37:08.237Z"
   },
   {
    "duration": 94,
    "start_time": "2023-04-28T14:37:08.336Z"
   },
   {
    "duration": 17,
    "start_time": "2023-04-28T14:37:08.432Z"
   },
   {
    "duration": 13,
    "start_time": "2023-04-28T14:37:08.451Z"
   },
   {
    "duration": 138,
    "start_time": "2023-04-28T14:37:08.466Z"
   },
   {
    "duration": 42,
    "start_time": "2023-04-28T14:37:08.606Z"
   },
   {
    "duration": 50,
    "start_time": "2023-04-28T14:37:08.651Z"
   },
   {
    "duration": 241,
    "start_time": "2023-04-28T14:37:08.704Z"
   },
   {
    "duration": 14,
    "start_time": "2023-04-28T14:37:08.946Z"
   },
   {
    "duration": 424,
    "start_time": "2023-04-28T14:37:08.962Z"
   },
   {
    "duration": 29,
    "start_time": "2023-04-28T14:37:09.392Z"
   },
   {
    "duration": 36,
    "start_time": "2023-04-28T14:37:09.423Z"
   },
   {
    "duration": 52,
    "start_time": "2023-04-28T14:37:09.461Z"
   },
   {
    "duration": 172,
    "start_time": "2023-04-28T14:37:09.515Z"
   },
   {
    "duration": 67,
    "start_time": "2023-04-28T14:37:09.692Z"
   },
   {
    "duration": 465,
    "start_time": "2023-04-28T14:37:09.762Z"
   },
   {
    "duration": 87,
    "start_time": "2023-04-28T14:37:10.233Z"
   },
   {
    "duration": 11,
    "start_time": "2023-04-28T14:37:10.322Z"
   },
   {
    "duration": 183,
    "start_time": "2023-04-28T14:37:10.336Z"
   },
   {
    "duration": 119,
    "start_time": "2023-04-28T14:37:10.521Z"
   },
   {
    "duration": 202,
    "start_time": "2023-04-28T14:37:10.642Z"
   },
   {
    "duration": 196,
    "start_time": "2023-04-28T14:37:10.846Z"
   },
   {
    "duration": 55,
    "start_time": "2023-04-28T15:22:52.151Z"
   },
   {
    "duration": 1435,
    "start_time": "2023-04-28T15:22:54.317Z"
   },
   {
    "duration": 557,
    "start_time": "2023-04-28T15:22:55.755Z"
   },
   {
    "duration": 34,
    "start_time": "2023-04-28T15:22:56.314Z"
   },
   {
    "duration": 63,
    "start_time": "2023-04-28T15:22:56.349Z"
   },
   {
    "duration": 85,
    "start_time": "2023-04-28T15:22:56.414Z"
   },
   {
    "duration": 12,
    "start_time": "2023-04-28T15:22:56.501Z"
   },
   {
    "duration": 11,
    "start_time": "2023-04-28T15:22:56.514Z"
   },
   {
    "duration": 118,
    "start_time": "2023-04-28T15:22:56.527Z"
   },
   {
    "duration": 55,
    "start_time": "2023-04-28T15:22:56.647Z"
   },
   {
    "duration": 32,
    "start_time": "2023-04-28T15:22:56.703Z"
   },
   {
    "duration": 22,
    "start_time": "2023-04-28T15:22:56.737Z"
   },
   {
    "duration": 241,
    "start_time": "2023-04-28T15:22:56.760Z"
   },
   {
    "duration": 12,
    "start_time": "2023-04-28T15:22:57.003Z"
   },
   {
    "duration": 398,
    "start_time": "2023-04-28T15:22:57.018Z"
   },
   {
    "duration": 36,
    "start_time": "2023-04-28T15:22:57.417Z"
   },
   {
    "duration": 54,
    "start_time": "2023-04-28T15:22:57.456Z"
   },
   {
    "duration": 26,
    "start_time": "2023-04-28T15:22:57.512Z"
   },
   {
    "duration": 166,
    "start_time": "2023-04-28T15:22:57.539Z"
   },
   {
    "duration": 54,
    "start_time": "2023-04-28T15:22:57.706Z"
   },
   {
    "duration": 190,
    "start_time": "2023-04-28T15:22:57.762Z"
   },
   {
    "duration": 72,
    "start_time": "2023-04-28T15:22:57.954Z"
   },
   {
    "duration": 60,
    "start_time": "2023-04-28T15:22:58.028Z"
   },
   {
    "duration": 118,
    "start_time": "2023-04-28T15:22:58.095Z"
   },
   {
    "duration": 109,
    "start_time": "2023-04-28T15:22:58.215Z"
   },
   {
    "duration": 185,
    "start_time": "2023-04-28T15:22:58.326Z"
   },
   {
    "duration": 189,
    "start_time": "2023-04-28T15:22:58.512Z"
   },
   {
    "duration": 83,
    "start_time": "2023-04-28T15:28:42.877Z"
   },
   {
    "duration": 241,
    "start_time": "2023-04-28T15:31:19.597Z"
   },
   {
    "duration": 799,
    "start_time": "2023-04-28T15:31:32.330Z"
   },
   {
    "duration": 210,
    "start_time": "2023-04-28T15:35:32.080Z"
   },
   {
    "duration": 589,
    "start_time": "2023-04-28T15:35:48.657Z"
   },
   {
    "duration": 4,
    "start_time": "2023-04-28T15:36:00.999Z"
   },
   {
    "duration": 251,
    "start_time": "2023-04-28T15:36:01.005Z"
   },
   {
    "duration": 37,
    "start_time": "2023-04-28T15:36:01.258Z"
   },
   {
    "duration": 77,
    "start_time": "2023-04-28T15:36:01.297Z"
   },
   {
    "duration": 79,
    "start_time": "2023-04-28T15:36:01.376Z"
   },
   {
    "duration": 120,
    "start_time": "2023-04-28T15:36:01.457Z"
   },
   {
    "duration": 10,
    "start_time": "2023-04-28T15:36:01.583Z"
   },
   {
    "duration": 134,
    "start_time": "2023-04-28T15:36:01.595Z"
   },
   {
    "duration": 41,
    "start_time": "2023-04-28T15:36:01.731Z"
   },
   {
    "duration": 36,
    "start_time": "2023-04-28T15:36:01.774Z"
   },
   {
    "duration": 62,
    "start_time": "2023-04-28T15:36:01.812Z"
   },
   {
    "duration": 222,
    "start_time": "2023-04-28T15:36:01.875Z"
   },
   {
    "duration": 12,
    "start_time": "2023-04-28T15:36:02.099Z"
   },
   {
    "duration": 607,
    "start_time": "2023-04-28T15:36:02.114Z"
   },
   {
    "duration": 26,
    "start_time": "2023-04-28T15:36:02.722Z"
   },
   {
    "duration": 43,
    "start_time": "2023-04-28T15:36:02.750Z"
   },
   {
    "duration": 26,
    "start_time": "2023-04-28T15:36:02.795Z"
   },
   {
    "duration": 178,
    "start_time": "2023-04-28T15:36:02.823Z"
   },
   {
    "duration": 56,
    "start_time": "2023-04-28T15:36:03.003Z"
   },
   {
    "duration": 28,
    "start_time": "2023-04-28T15:36:03.061Z"
   },
   {
    "duration": 74,
    "start_time": "2023-04-28T15:36:03.091Z"
   },
   {
    "duration": 6,
    "start_time": "2023-04-28T15:36:03.166Z"
   },
   {
    "duration": 124,
    "start_time": "2023-04-28T15:36:03.174Z"
   },
   {
    "duration": 102,
    "start_time": "2023-04-28T15:36:03.299Z"
   },
   {
    "duration": 159,
    "start_time": "2023-04-28T15:36:03.403Z"
   },
   {
    "duration": 175,
    "start_time": "2023-04-28T15:36:03.564Z"
   },
   {
    "duration": 104,
    "start_time": "2023-04-28T15:43:15.410Z"
   },
   {
    "duration": 29,
    "start_time": "2023-04-28T15:43:54.305Z"
   },
   {
    "duration": 4,
    "start_time": "2023-04-28T15:43:57.800Z"
   },
   {
    "duration": 179,
    "start_time": "2023-04-28T15:43:57.806Z"
   },
   {
    "duration": 31,
    "start_time": "2023-04-28T15:43:57.988Z"
   },
   {
    "duration": 97,
    "start_time": "2023-04-28T15:43:58.023Z"
   },
   {
    "duration": 81,
    "start_time": "2023-04-28T15:43:58.122Z"
   },
   {
    "duration": 8,
    "start_time": "2023-04-28T15:43:58.205Z"
   },
   {
    "duration": 26,
    "start_time": "2023-04-28T15:43:58.215Z"
   },
   {
    "duration": 121,
    "start_time": "2023-04-28T15:43:58.243Z"
   },
   {
    "duration": 48,
    "start_time": "2023-04-28T15:43:58.366Z"
   },
   {
    "duration": 43,
    "start_time": "2023-04-28T15:43:58.416Z"
   },
   {
    "duration": 66,
    "start_time": "2023-04-28T15:43:58.461Z"
   },
   {
    "duration": 287,
    "start_time": "2023-04-28T15:43:58.528Z"
   },
   {
    "duration": 12,
    "start_time": "2023-04-28T15:43:58.818Z"
   },
   {
    "duration": 751,
    "start_time": "2023-04-28T15:43:58.833Z"
   },
   {
    "duration": 31,
    "start_time": "2023-04-28T15:43:59.586Z"
   },
   {
    "duration": 62,
    "start_time": "2023-04-28T16:05:06.662Z"
   },
   {
    "duration": 65,
    "start_time": "2023-04-28T16:05:16.893Z"
   },
   {
    "duration": 69,
    "start_time": "2023-04-28T16:06:31.475Z"
   },
   {
    "duration": 84,
    "start_time": "2023-04-28T16:24:47.371Z"
   },
   {
    "duration": 84,
    "start_time": "2023-04-28T16:24:56.270Z"
   },
   {
    "duration": 64,
    "start_time": "2023-04-28T16:28:41.520Z"
   },
   {
    "duration": 71,
    "start_time": "2023-04-28T16:29:46.719Z"
   },
   {
    "duration": 58,
    "start_time": "2023-04-28T16:29:57.608Z"
   },
   {
    "duration": 63,
    "start_time": "2023-04-28T16:30:09.556Z"
   },
   {
    "duration": 70,
    "start_time": "2023-04-28T16:30:31.000Z"
   },
   {
    "duration": 61,
    "start_time": "2023-04-28T16:30:37.516Z"
   },
   {
    "duration": 53,
    "start_time": "2023-04-28T16:33:26.401Z"
   },
   {
    "duration": 70,
    "start_time": "2023-04-28T16:34:47.855Z"
   },
   {
    "duration": 72,
    "start_time": "2023-04-28T16:35:02.616Z"
   },
   {
    "duration": 62,
    "start_time": "2023-04-28T16:35:20.228Z"
   },
   {
    "duration": 56,
    "start_time": "2023-04-28T16:35:33.455Z"
   },
   {
    "duration": 61,
    "start_time": "2023-04-28T16:36:03.526Z"
   },
   {
    "duration": 55,
    "start_time": "2023-04-28T16:36:14.269Z"
   },
   {
    "duration": 64,
    "start_time": "2023-04-28T16:38:04.920Z"
   },
   {
    "duration": 65,
    "start_time": "2023-04-28T16:38:22.933Z"
   },
   {
    "duration": 60,
    "start_time": "2023-04-28T16:43:51.088Z"
   },
   {
    "duration": 58,
    "start_time": "2023-04-28T16:43:57.098Z"
   },
   {
    "duration": 61,
    "start_time": "2023-04-28T16:44:23.960Z"
   },
   {
    "duration": 60,
    "start_time": "2023-04-28T16:47:00.968Z"
   },
   {
    "duration": 61,
    "start_time": "2023-04-28T16:47:42.106Z"
   },
   {
    "duration": 75,
    "start_time": "2023-04-28T16:51:17.296Z"
   },
   {
    "duration": 747,
    "start_time": "2023-04-28T16:51:22.370Z"
   },
   {
    "duration": 57,
    "start_time": "2023-04-28T16:55:05.849Z"
   },
   {
    "duration": 65,
    "start_time": "2023-04-28T16:55:11.486Z"
   },
   {
    "duration": 61,
    "start_time": "2023-04-28T17:00:06.615Z"
   },
   {
    "duration": 67,
    "start_time": "2023-04-28T17:01:14.046Z"
   },
   {
    "duration": 71,
    "start_time": "2023-04-28T17:01:22.071Z"
   },
   {
    "duration": 67,
    "start_time": "2023-04-28T17:03:15.511Z"
   },
   {
    "duration": 70,
    "start_time": "2023-04-28T17:06:07.448Z"
   },
   {
    "duration": 65,
    "start_time": "2023-04-28T17:06:19.070Z"
   },
   {
    "duration": 683,
    "start_time": "2023-04-28T17:07:06.113Z"
   },
   {
    "duration": 58,
    "start_time": "2023-04-28T17:07:52.603Z"
   },
   {
    "duration": 4,
    "start_time": "2023-04-28T17:11:05.872Z"
   },
   {
    "duration": 5,
    "start_time": "2023-04-28T17:11:17.051Z"
   },
   {
    "duration": 6,
    "start_time": "2023-04-28T17:11:36.643Z"
   },
   {
    "duration": 6,
    "start_time": "2023-04-28T17:14:08.812Z"
   },
   {
    "duration": 5,
    "start_time": "2023-04-28T17:14:57.309Z"
   },
   {
    "duration": 6,
    "start_time": "2023-04-28T17:15:05.802Z"
   },
   {
    "duration": 6,
    "start_time": "2023-04-28T17:15:27.292Z"
   },
   {
    "duration": 6,
    "start_time": "2023-04-28T17:15:48.559Z"
   },
   {
    "duration": 8,
    "start_time": "2023-04-28T17:16:06.960Z"
   },
   {
    "duration": 58,
    "start_time": "2023-04-28T17:17:59.881Z"
   },
   {
    "duration": 108,
    "start_time": "2023-04-28T17:27:31.741Z"
   },
   {
    "duration": 1283,
    "start_time": "2023-04-28T21:13:25.198Z"
   },
   {
    "duration": 184,
    "start_time": "2023-04-28T21:13:26.483Z"
   },
   {
    "duration": 45,
    "start_time": "2023-04-28T21:13:26.668Z"
   },
   {
    "duration": 96,
    "start_time": "2023-04-28T21:13:26.717Z"
   },
   {
    "duration": 96,
    "start_time": "2023-04-28T21:13:26.815Z"
   },
   {
    "duration": 9,
    "start_time": "2023-04-28T21:13:26.914Z"
   },
   {
    "duration": 49,
    "start_time": "2023-04-28T21:13:26.925Z"
   },
   {
    "duration": 148,
    "start_time": "2023-04-28T21:13:26.976Z"
   },
   {
    "duration": 48,
    "start_time": "2023-04-28T21:13:27.125Z"
   },
   {
    "duration": 52,
    "start_time": "2023-04-28T21:13:27.176Z"
   },
   {
    "duration": 23,
    "start_time": "2023-04-28T21:13:27.230Z"
   },
   {
    "duration": 301,
    "start_time": "2023-04-28T21:13:27.255Z"
   },
   {
    "duration": 15,
    "start_time": "2023-04-28T21:13:27.558Z"
   },
   {
    "duration": 833,
    "start_time": "2023-04-28T21:13:27.599Z"
   },
   {
    "duration": 41,
    "start_time": "2023-04-28T21:13:28.434Z"
   },
   {
    "duration": 43,
    "start_time": "2023-04-28T21:13:28.498Z"
   },
   {
    "duration": 30,
    "start_time": "2023-04-28T21:13:28.543Z"
   },
   {
    "duration": 190,
    "start_time": "2023-04-28T21:13:28.575Z"
   },
   {
    "duration": 77,
    "start_time": "2023-04-28T21:13:28.767Z"
   },
   {
    "duration": 512,
    "start_time": "2023-04-28T21:13:28.845Z"
   },
   {
    "duration": 82,
    "start_time": "2023-04-28T21:13:29.359Z"
   },
   {
    "duration": 192,
    "start_time": "2023-04-28T21:13:29.442Z"
   },
   {
    "duration": 0,
    "start_time": "2023-04-28T21:13:29.636Z"
   },
   {
    "duration": 0,
    "start_time": "2023-04-28T21:13:29.637Z"
   },
   {
    "duration": 0,
    "start_time": "2023-04-28T21:13:29.638Z"
   },
   {
    "duration": 0,
    "start_time": "2023-04-28T21:13:29.639Z"
   },
   {
    "duration": 0,
    "start_time": "2023-04-28T21:13:29.640Z"
   },
   {
    "duration": 0,
    "start_time": "2023-04-28T21:13:29.641Z"
   },
   {
    "duration": 51,
    "start_time": "2023-04-28T21:18:30.530Z"
   },
   {
    "duration": 19,
    "start_time": "2023-04-28T21:18:30.583Z"
   },
   {
    "duration": 168,
    "start_time": "2023-04-28T21:18:30.609Z"
   },
   {
    "duration": 118,
    "start_time": "2023-04-28T21:18:30.780Z"
   },
   {
    "duration": 124,
    "start_time": "2023-04-28T21:18:30.900Z"
   },
   {
    "duration": 167,
    "start_time": "2023-04-28T21:18:31.026Z"
   },
   {
    "duration": 51,
    "start_time": "2023-04-29T05:45:41.869Z"
   },
   {
    "duration": 1366,
    "start_time": "2023-04-29T05:45:46.010Z"
   },
   {
    "duration": 694,
    "start_time": "2023-04-29T05:45:47.378Z"
   },
   {
    "duration": 37,
    "start_time": "2023-04-29T05:45:48.073Z"
   },
   {
    "duration": 80,
    "start_time": "2023-04-29T05:45:48.111Z"
   },
   {
    "duration": 114,
    "start_time": "2023-04-29T05:45:48.194Z"
   },
   {
    "duration": 12,
    "start_time": "2023-04-29T05:45:48.310Z"
   },
   {
    "duration": 10,
    "start_time": "2023-04-29T05:45:48.323Z"
   },
   {
    "duration": 124,
    "start_time": "2023-04-29T05:45:48.335Z"
   },
   {
    "duration": 77,
    "start_time": "2023-04-29T05:45:48.461Z"
   },
   {
    "duration": 46,
    "start_time": "2023-04-29T05:45:48.539Z"
   },
   {
    "duration": 25,
    "start_time": "2023-04-29T05:45:48.587Z"
   },
   {
    "duration": 247,
    "start_time": "2023-04-29T05:45:48.614Z"
   },
   {
    "duration": 22,
    "start_time": "2023-04-29T05:45:48.863Z"
   },
   {
    "duration": 697,
    "start_time": "2023-04-29T05:45:48.888Z"
   },
   {
    "duration": 35,
    "start_time": "2023-04-29T05:45:49.587Z"
   },
   {
    "duration": 35,
    "start_time": "2023-04-29T05:45:49.624Z"
   },
   {
    "duration": 45,
    "start_time": "2023-04-29T05:45:49.661Z"
   },
   {
    "duration": 177,
    "start_time": "2023-04-29T05:45:49.708Z"
   },
   {
    "duration": 62,
    "start_time": "2023-04-29T05:45:49.887Z"
   },
   {
    "duration": 258,
    "start_time": "2023-04-29T05:45:49.951Z"
   },
   {
    "duration": 827,
    "start_time": "2023-04-29T05:45:50.211Z"
   },
   {
    "duration": 0,
    "start_time": "2023-04-29T05:45:51.041Z"
   },
   {
    "duration": 0,
    "start_time": "2023-04-29T05:45:51.043Z"
   },
   {
    "duration": 0,
    "start_time": "2023-04-29T05:45:51.044Z"
   },
   {
    "duration": 0,
    "start_time": "2023-04-29T05:45:51.046Z"
   },
   {
    "duration": 0,
    "start_time": "2023-04-29T05:45:51.048Z"
   },
   {
    "duration": 0,
    "start_time": "2023-04-29T05:45:51.049Z"
   },
   {
    "duration": 776,
    "start_time": "2023-04-29T05:47:06.996Z"
   },
   {
    "duration": 54,
    "start_time": "2023-04-29T05:55:15.188Z"
   },
   {
    "duration": 545,
    "start_time": "2023-04-29T05:55:19.803Z"
   },
   {
    "duration": 774,
    "start_time": "2023-04-29T05:58:24.893Z"
   },
   {
    "duration": 731,
    "start_time": "2023-04-29T05:58:56.515Z"
   },
   {
    "duration": 22,
    "start_time": "2023-04-29T06:01:36.974Z"
   },
   {
    "duration": 814,
    "start_time": "2023-04-29T06:01:44.857Z"
   },
   {
    "duration": 711,
    "start_time": "2023-04-29T06:01:52.711Z"
   },
   {
    "duration": 14,
    "start_time": "2023-04-29T06:02:11.498Z"
   },
   {
    "duration": 20,
    "start_time": "2023-04-29T06:09:02.421Z"
   },
   {
    "duration": 1095,
    "start_time": "2023-04-29T06:09:30.884Z"
   },
   {
    "duration": 949,
    "start_time": "2023-04-29T06:09:45.706Z"
   },
   {
    "duration": 1259,
    "start_time": "2023-04-29T06:09:52.929Z"
   },
   {
    "duration": 18,
    "start_time": "2023-04-29T06:14:34.016Z"
   },
   {
    "duration": 851,
    "start_time": "2023-04-29T06:14:50.521Z"
   },
   {
    "duration": 11,
    "start_time": "2023-04-29T06:15:08.631Z"
   },
   {
    "duration": 878,
    "start_time": "2023-04-29T06:16:36.847Z"
   },
   {
    "duration": 1090,
    "start_time": "2023-04-29T06:16:53.497Z"
   },
   {
    "duration": 11,
    "start_time": "2023-04-29T06:19:25.997Z"
   },
   {
    "duration": 10,
    "start_time": "2023-04-29T06:19:51.814Z"
   },
   {
    "duration": 4,
    "start_time": "2023-04-29T06:20:01.532Z"
   },
   {
    "duration": 210,
    "start_time": "2023-04-29T06:20:01.538Z"
   },
   {
    "duration": 40,
    "start_time": "2023-04-29T06:20:01.750Z"
   },
   {
    "duration": 56,
    "start_time": "2023-04-29T06:20:01.792Z"
   },
   {
    "duration": 78,
    "start_time": "2023-04-29T06:20:01.850Z"
   },
   {
    "duration": 8,
    "start_time": "2023-04-29T06:20:01.930Z"
   },
   {
    "duration": 36,
    "start_time": "2023-04-29T06:20:01.940Z"
   },
   {
    "duration": 146,
    "start_time": "2023-04-29T06:20:01.978Z"
   },
   {
    "duration": 42,
    "start_time": "2023-04-29T06:20:02.126Z"
   },
   {
    "duration": 46,
    "start_time": "2023-04-29T06:20:02.169Z"
   },
   {
    "duration": 62,
    "start_time": "2023-04-29T06:20:02.217Z"
   },
   {
    "duration": 275,
    "start_time": "2023-04-29T06:20:02.280Z"
   },
   {
    "duration": 14,
    "start_time": "2023-04-29T06:20:02.556Z"
   },
   {
    "duration": 673,
    "start_time": "2023-04-29T06:20:02.584Z"
   },
   {
    "duration": 45,
    "start_time": "2023-04-29T06:20:03.259Z"
   },
   {
    "duration": 35,
    "start_time": "2023-04-29T06:20:03.306Z"
   },
   {
    "duration": 46,
    "start_time": "2023-04-29T06:20:03.343Z"
   },
   {
    "duration": 166,
    "start_time": "2023-04-29T06:20:03.391Z"
   },
   {
    "duration": 71,
    "start_time": "2023-04-29T06:20:03.559Z"
   },
   {
    "duration": 11,
    "start_time": "2023-04-29T06:20:03.632Z"
   },
   {
    "duration": 40,
    "start_time": "2023-04-29T06:20:03.644Z"
   },
   {
    "duration": 67,
    "start_time": "2023-04-29T06:20:03.688Z"
   },
   {
    "duration": 6,
    "start_time": "2023-04-29T06:20:03.757Z"
   },
   {
    "duration": 137,
    "start_time": "2023-04-29T06:20:03.765Z"
   },
   {
    "duration": 124,
    "start_time": "2023-04-29T06:20:03.904Z"
   },
   {
    "duration": 162,
    "start_time": "2023-04-29T06:20:04.031Z"
   },
   {
    "duration": 168,
    "start_time": "2023-04-29T06:20:04.195Z"
   },
   {
    "duration": 12,
    "start_time": "2023-04-29T06:20:56.996Z"
   },
   {
    "duration": 3,
    "start_time": "2023-04-29T06:23:40.240Z"
   },
   {
    "duration": 26,
    "start_time": "2023-04-29T06:23:57.277Z"
   },
   {
    "duration": 11,
    "start_time": "2023-04-29T06:24:12.072Z"
   },
   {
    "duration": 12,
    "start_time": "2023-04-29T06:24:17.450Z"
   },
   {
    "duration": 4,
    "start_time": "2023-04-29T06:24:18.460Z"
   },
   {
    "duration": 173,
    "start_time": "2023-04-29T06:24:18.467Z"
   },
   {
    "duration": 30,
    "start_time": "2023-04-29T06:24:18.642Z"
   },
   {
    "duration": 60,
    "start_time": "2023-04-29T06:24:18.685Z"
   },
   {
    "duration": 63,
    "start_time": "2023-04-29T06:24:18.746Z"
   },
   {
    "duration": 10,
    "start_time": "2023-04-29T06:24:18.812Z"
   },
   {
    "duration": 9,
    "start_time": "2023-04-29T06:24:18.824Z"
   },
   {
    "duration": 133,
    "start_time": "2023-04-29T06:24:18.835Z"
   },
   {
    "duration": 56,
    "start_time": "2023-04-29T06:24:18.970Z"
   },
   {
    "duration": 36,
    "start_time": "2023-04-29T06:24:19.029Z"
   },
   {
    "duration": 45,
    "start_time": "2023-04-29T06:24:19.067Z"
   },
   {
    "duration": 326,
    "start_time": "2023-04-29T06:24:19.114Z"
   },
   {
    "duration": 13,
    "start_time": "2023-04-29T06:24:19.442Z"
   },
   {
    "duration": 648,
    "start_time": "2023-04-29T06:24:19.457Z"
   },
   {
    "duration": 32,
    "start_time": "2023-04-29T06:24:20.107Z"
   },
   {
    "duration": 59,
    "start_time": "2023-04-29T06:24:20.141Z"
   },
   {
    "duration": 27,
    "start_time": "2023-04-29T06:24:20.202Z"
   },
   {
    "duration": 175,
    "start_time": "2023-04-29T06:24:20.230Z"
   },
   {
    "duration": 64,
    "start_time": "2023-04-29T06:24:20.407Z"
   },
   {
    "duration": 32,
    "start_time": "2023-04-29T06:24:20.473Z"
   },
   {
    "duration": 14,
    "start_time": "2023-04-29T06:24:20.507Z"
   },
   {
    "duration": 70,
    "start_time": "2023-04-29T06:24:20.523Z"
   },
   {
    "duration": 10,
    "start_time": "2023-04-29T06:24:20.595Z"
   },
   {
    "duration": 132,
    "start_time": "2023-04-29T06:24:20.606Z"
   },
   {
    "duration": 122,
    "start_time": "2023-04-29T06:24:20.740Z"
   },
   {
    "duration": 134,
    "start_time": "2023-04-29T06:24:20.864Z"
   },
   {
    "duration": 144,
    "start_time": "2023-04-29T06:24:20.999Z"
   },
   {
    "duration": 10,
    "start_time": "2023-04-29T06:24:25.725Z"
   },
   {
    "duration": 13,
    "start_time": "2023-04-29T06:25:08.161Z"
   },
   {
    "duration": 10,
    "start_time": "2023-04-29T06:25:19.629Z"
   },
   {
    "duration": 16,
    "start_time": "2023-04-29T06:25:25.813Z"
   },
   {
    "duration": 8,
    "start_time": "2023-04-29T06:25:28.684Z"
   },
   {
    "duration": 168,
    "start_time": "2023-04-29T06:25:28.697Z"
   },
   {
    "duration": 37,
    "start_time": "2023-04-29T06:25:28.867Z"
   },
   {
    "duration": 49,
    "start_time": "2023-04-29T06:25:28.905Z"
   },
   {
    "duration": 80,
    "start_time": "2023-04-29T06:25:28.957Z"
   },
   {
    "duration": 7,
    "start_time": "2023-04-29T06:25:29.039Z"
   },
   {
    "duration": 7,
    "start_time": "2023-04-29T06:25:29.049Z"
   },
   {
    "duration": 166,
    "start_time": "2023-04-29T06:25:29.059Z"
   },
   {
    "duration": 64,
    "start_time": "2023-04-29T06:25:29.227Z"
   },
   {
    "duration": 34,
    "start_time": "2023-04-29T06:25:29.299Z"
   },
   {
    "duration": 23,
    "start_time": "2023-04-29T06:25:29.335Z"
   },
   {
    "duration": 252,
    "start_time": "2023-04-29T06:25:29.360Z"
   },
   {
    "duration": 11,
    "start_time": "2023-04-29T06:25:29.614Z"
   },
   {
    "duration": 754,
    "start_time": "2023-04-29T06:25:29.629Z"
   },
   {
    "duration": 32,
    "start_time": "2023-04-29T06:25:30.385Z"
   },
   {
    "duration": 44,
    "start_time": "2023-04-29T06:25:30.419Z"
   },
   {
    "duration": 55,
    "start_time": "2023-04-29T06:25:30.464Z"
   },
   {
    "duration": 200,
    "start_time": "2023-04-29T06:25:30.520Z"
   },
   {
    "duration": 84,
    "start_time": "2023-04-29T06:25:30.722Z"
   },
   {
    "duration": 12,
    "start_time": "2023-04-29T06:25:30.809Z"
   },
   {
    "duration": 23,
    "start_time": "2023-04-29T06:25:30.823Z"
   },
   {
    "duration": 84,
    "start_time": "2023-04-29T06:25:30.848Z"
   },
   {
    "duration": 9,
    "start_time": "2023-04-29T06:25:30.934Z"
   },
   {
    "duration": 169,
    "start_time": "2023-04-29T06:25:30.945Z"
   },
   {
    "duration": 126,
    "start_time": "2023-04-29T06:25:31.116Z"
   },
   {
    "duration": 156,
    "start_time": "2023-04-29T06:25:31.244Z"
   },
   {
    "duration": 148,
    "start_time": "2023-04-29T06:25:31.402Z"
   },
   {
    "duration": 4,
    "start_time": "2023-04-29T06:26:46.741Z"
   },
   {
    "duration": 13,
    "start_time": "2023-04-29T06:26:52.583Z"
   },
   {
    "duration": 4,
    "start_time": "2023-04-29T06:28:19.879Z"
   },
   {
    "duration": 4,
    "start_time": "2023-04-29T06:28:24.956Z"
   },
   {
    "duration": 180,
    "start_time": "2023-04-29T06:28:24.962Z"
   },
   {
    "duration": 29,
    "start_time": "2023-04-29T06:28:25.144Z"
   },
   {
    "duration": 84,
    "start_time": "2023-04-29T06:28:25.174Z"
   },
   {
    "duration": 81,
    "start_time": "2023-04-29T06:28:25.261Z"
   },
   {
    "duration": 7,
    "start_time": "2023-04-29T06:28:25.344Z"
   },
   {
    "duration": 9,
    "start_time": "2023-04-29T06:28:25.353Z"
   },
   {
    "duration": 179,
    "start_time": "2023-04-29T06:28:25.364Z"
   },
   {
    "duration": 69,
    "start_time": "2023-04-29T06:28:25.545Z"
   },
   {
    "duration": 34,
    "start_time": "2023-04-29T06:28:25.616Z"
   },
   {
    "duration": 22,
    "start_time": "2023-04-29T06:28:25.652Z"
   },
   {
    "duration": 232,
    "start_time": "2023-04-29T06:28:25.685Z"
   },
   {
    "duration": 10,
    "start_time": "2023-04-29T06:28:25.919Z"
   },
   {
    "duration": 665,
    "start_time": "2023-04-29T06:28:25.932Z"
   },
   {
    "duration": 35,
    "start_time": "2023-04-29T06:28:26.599Z"
   },
   {
    "duration": 55,
    "start_time": "2023-04-29T06:28:26.636Z"
   },
   {
    "duration": 36,
    "start_time": "2023-04-29T06:28:26.693Z"
   },
   {
    "duration": 318,
    "start_time": "2023-04-29T06:28:26.731Z"
   },
   {
    "duration": 76,
    "start_time": "2023-04-29T06:28:27.050Z"
   },
   {
    "duration": 11,
    "start_time": "2023-04-29T06:28:27.128Z"
   },
   {
    "duration": 10,
    "start_time": "2023-04-29T06:28:27.141Z"
   },
   {
    "duration": 80,
    "start_time": "2023-04-29T06:28:27.152Z"
   },
   {
    "duration": 7,
    "start_time": "2023-04-29T06:28:27.233Z"
   },
   {
    "duration": 122,
    "start_time": "2023-04-29T06:28:27.242Z"
   },
   {
    "duration": 141,
    "start_time": "2023-04-29T06:28:27.365Z"
   },
   {
    "duration": 130,
    "start_time": "2023-04-29T06:28:27.509Z"
   },
   {
    "duration": 165,
    "start_time": "2023-04-29T06:28:27.641Z"
   },
   {
    "duration": 10,
    "start_time": "2023-04-29T06:28:35.701Z"
   },
   {
    "duration": 10,
    "start_time": "2023-04-29T06:29:31.468Z"
   },
   {
    "duration": 12,
    "start_time": "2023-04-29T06:30:05.154Z"
   },
   {
    "duration": 11,
    "start_time": "2023-04-29T06:30:10.447Z"
   },
   {
    "duration": 5,
    "start_time": "2023-04-29T06:30:12.439Z"
   },
   {
    "duration": 176,
    "start_time": "2023-04-29T06:30:12.447Z"
   },
   {
    "duration": 30,
    "start_time": "2023-04-29T06:30:12.625Z"
   },
   {
    "duration": 68,
    "start_time": "2023-04-29T06:30:12.657Z"
   },
   {
    "duration": 79,
    "start_time": "2023-04-29T06:30:12.728Z"
   },
   {
    "duration": 7,
    "start_time": "2023-04-29T06:30:12.809Z"
   },
   {
    "duration": 9,
    "start_time": "2023-04-29T06:30:12.817Z"
   },
   {
    "duration": 139,
    "start_time": "2023-04-29T06:30:12.828Z"
   },
   {
    "duration": 63,
    "start_time": "2023-04-29T06:30:12.968Z"
   },
   {
    "duration": 36,
    "start_time": "2023-04-29T06:30:13.032Z"
   },
   {
    "duration": 53,
    "start_time": "2023-04-29T06:30:13.070Z"
   },
   {
    "duration": 233,
    "start_time": "2023-04-29T06:30:13.125Z"
   },
   {
    "duration": 13,
    "start_time": "2023-04-29T06:30:13.359Z"
   },
   {
    "duration": 658,
    "start_time": "2023-04-29T06:30:13.388Z"
   },
   {
    "duration": 65,
    "start_time": "2023-04-29T06:30:14.048Z"
   },
   {
    "duration": 45,
    "start_time": "2023-04-29T06:30:14.115Z"
   },
   {
    "duration": 42,
    "start_time": "2023-04-29T06:30:14.186Z"
   },
   {
    "duration": 231,
    "start_time": "2023-04-29T06:30:14.230Z"
   },
   {
    "duration": 74,
    "start_time": "2023-04-29T06:30:14.463Z"
   },
   {
    "duration": 11,
    "start_time": "2023-04-29T06:30:14.538Z"
   },
   {
    "duration": 9,
    "start_time": "2023-04-29T06:30:14.551Z"
   },
   {
    "duration": 73,
    "start_time": "2023-04-29T06:30:14.562Z"
   },
   {
    "duration": 6,
    "start_time": "2023-04-29T06:30:14.637Z"
   },
   {
    "duration": 124,
    "start_time": "2023-04-29T06:30:14.645Z"
   },
   {
    "duration": 131,
    "start_time": "2023-04-29T06:30:14.770Z"
   },
   {
    "duration": 123,
    "start_time": "2023-04-29T06:30:14.903Z"
   },
   {
    "duration": 160,
    "start_time": "2023-04-29T06:30:15.028Z"
   },
   {
    "duration": 10,
    "start_time": "2023-04-29T06:30:39.361Z"
   },
   {
    "duration": 10,
    "start_time": "2023-04-29T06:30:42.161Z"
   },
   {
    "duration": 11,
    "start_time": "2023-04-29T06:30:45.498Z"
   },
   {
    "duration": 5,
    "start_time": "2023-04-29T06:30:46.501Z"
   },
   {
    "duration": 171,
    "start_time": "2023-04-29T06:30:46.509Z"
   },
   {
    "duration": 43,
    "start_time": "2023-04-29T06:30:46.682Z"
   },
   {
    "duration": 76,
    "start_time": "2023-04-29T06:30:46.727Z"
   },
   {
    "duration": 59,
    "start_time": "2023-04-29T06:30:46.806Z"
   },
   {
    "duration": 7,
    "start_time": "2023-04-29T06:30:46.866Z"
   },
   {
    "duration": 16,
    "start_time": "2023-04-29T06:30:46.875Z"
   },
   {
    "duration": 177,
    "start_time": "2023-04-29T06:30:46.896Z"
   },
   {
    "duration": 51,
    "start_time": "2023-04-29T06:30:47.075Z"
   },
   {
    "duration": 35,
    "start_time": "2023-04-29T06:30:47.128Z"
   },
   {
    "duration": 50,
    "start_time": "2023-04-29T06:30:47.165Z"
   },
   {
    "duration": 264,
    "start_time": "2023-04-29T06:30:47.217Z"
   },
   {
    "duration": 19,
    "start_time": "2023-04-29T06:30:47.484Z"
   },
   {
    "duration": 780,
    "start_time": "2023-04-29T06:30:47.506Z"
   },
   {
    "duration": 35,
    "start_time": "2023-04-29T06:30:48.289Z"
   },
   {
    "duration": 37,
    "start_time": "2023-04-29T06:30:48.326Z"
   },
   {
    "duration": 55,
    "start_time": "2023-04-29T06:30:48.364Z"
   },
   {
    "duration": 209,
    "start_time": "2023-04-29T06:30:48.422Z"
   },
   {
    "duration": 70,
    "start_time": "2023-04-29T06:30:48.633Z"
   },
   {
    "duration": 11,
    "start_time": "2023-04-29T06:30:48.705Z"
   },
   {
    "duration": 46,
    "start_time": "2023-04-29T06:30:48.717Z"
   },
   {
    "duration": 83,
    "start_time": "2023-04-29T06:30:48.765Z"
   },
   {
    "duration": 6,
    "start_time": "2023-04-29T06:30:48.850Z"
   },
   {
    "duration": 111,
    "start_time": "2023-04-29T06:30:48.857Z"
   },
   {
    "duration": 131,
    "start_time": "2023-04-29T06:30:48.969Z"
   },
   {
    "duration": 105,
    "start_time": "2023-04-29T06:30:49.102Z"
   },
   {
    "duration": 142,
    "start_time": "2023-04-29T06:30:49.208Z"
   },
   {
    "duration": 12,
    "start_time": "2023-04-29T06:30:57.448Z"
   },
   {
    "duration": 4,
    "start_time": "2023-04-29T06:31:32.215Z"
   },
   {
    "duration": 207,
    "start_time": "2023-04-29T06:31:32.221Z"
   },
   {
    "duration": 35,
    "start_time": "2023-04-29T06:31:32.439Z"
   },
   {
    "duration": 69,
    "start_time": "2023-04-29T06:31:32.476Z"
   },
   {
    "duration": 74,
    "start_time": "2023-04-29T06:31:32.547Z"
   },
   {
    "duration": 7,
    "start_time": "2023-04-29T06:31:32.623Z"
   },
   {
    "duration": 7,
    "start_time": "2023-04-29T06:31:32.632Z"
   },
   {
    "duration": 135,
    "start_time": "2023-04-29T06:31:32.641Z"
   },
   {
    "duration": 48,
    "start_time": "2023-04-29T06:31:32.786Z"
   },
   {
    "duration": 67,
    "start_time": "2023-04-29T06:31:32.837Z"
   },
   {
    "duration": 25,
    "start_time": "2023-04-29T06:31:32.906Z"
   },
   {
    "duration": 248,
    "start_time": "2023-04-29T06:31:32.933Z"
   },
   {
    "duration": 17,
    "start_time": "2023-04-29T06:31:33.185Z"
   },
   {
    "duration": 754,
    "start_time": "2023-04-29T06:31:33.204Z"
   },
   {
    "duration": 49,
    "start_time": "2023-04-29T06:31:33.963Z"
   },
   {
    "duration": 46,
    "start_time": "2023-04-29T06:31:34.014Z"
   },
   {
    "duration": 54,
    "start_time": "2023-04-29T06:31:34.062Z"
   },
   {
    "duration": 218,
    "start_time": "2023-04-29T06:31:34.119Z"
   },
   {
    "duration": 107,
    "start_time": "2023-04-29T06:31:34.339Z"
   },
   {
    "duration": 13,
    "start_time": "2023-04-29T06:31:34.448Z"
   },
   {
    "duration": 40,
    "start_time": "2023-04-29T06:31:34.463Z"
   },
   {
    "duration": 55,
    "start_time": "2023-04-29T06:31:34.505Z"
   },
   {
    "duration": 7,
    "start_time": "2023-04-29T06:31:34.562Z"
   },
   {
    "duration": 144,
    "start_time": "2023-04-29T06:31:34.571Z"
   },
   {
    "duration": 131,
    "start_time": "2023-04-29T06:31:34.718Z"
   },
   {
    "duration": 122,
    "start_time": "2023-04-29T06:31:34.851Z"
   },
   {
    "duration": 168,
    "start_time": "2023-04-29T06:31:34.974Z"
   },
   {
    "duration": 4,
    "start_time": "2023-04-29T06:31:59.384Z"
   },
   {
    "duration": 171,
    "start_time": "2023-04-29T06:31:59.390Z"
   },
   {
    "duration": 36,
    "start_time": "2023-04-29T06:31:59.563Z"
   },
   {
    "duration": 58,
    "start_time": "2023-04-29T06:31:59.601Z"
   },
   {
    "duration": 73,
    "start_time": "2023-04-29T06:31:59.661Z"
   },
   {
    "duration": 6,
    "start_time": "2023-04-29T06:31:59.735Z"
   },
   {
    "duration": 7,
    "start_time": "2023-04-29T06:31:59.743Z"
   },
   {
    "duration": 127,
    "start_time": "2023-04-29T06:31:59.751Z"
   },
   {
    "duration": 44,
    "start_time": "2023-04-29T06:31:59.887Z"
   },
   {
    "duration": 52,
    "start_time": "2023-04-29T06:31:59.934Z"
   },
   {
    "duration": 28,
    "start_time": "2023-04-29T06:31:59.995Z"
   },
   {
    "duration": 234,
    "start_time": "2023-04-29T06:32:00.025Z"
   },
   {
    "duration": 12,
    "start_time": "2023-04-29T06:32:00.261Z"
   },
   {
    "duration": 738,
    "start_time": "2023-04-29T06:32:00.274Z"
   },
   {
    "duration": 31,
    "start_time": "2023-04-29T06:32:01.014Z"
   },
   {
    "duration": 55,
    "start_time": "2023-04-29T06:32:01.047Z"
   },
   {
    "duration": 28,
    "start_time": "2023-04-29T06:32:01.104Z"
   },
   {
    "duration": 185,
    "start_time": "2023-04-29T06:32:01.134Z"
   },
   {
    "duration": 74,
    "start_time": "2023-04-29T06:32:01.320Z"
   },
   {
    "duration": 151,
    "start_time": "2023-04-29T06:32:01.400Z"
   },
   {
    "duration": 50,
    "start_time": "2023-04-29T06:32:01.552Z"
   },
   {
    "duration": 101,
    "start_time": "2023-04-29T06:32:01.604Z"
   },
   {
    "duration": 6,
    "start_time": "2023-04-29T06:32:01.707Z"
   },
   {
    "duration": 149,
    "start_time": "2023-04-29T06:32:01.715Z"
   },
   {
    "duration": 107,
    "start_time": "2023-04-29T06:32:01.866Z"
   },
   {
    "duration": 125,
    "start_time": "2023-04-29T06:32:01.974Z"
   },
   {
    "duration": 143,
    "start_time": "2023-04-29T06:32:02.101Z"
   },
   {
    "duration": 9,
    "start_time": "2023-04-29T06:32:52.065Z"
   },
   {
    "duration": 104,
    "start_time": "2023-04-29T06:36:03.555Z"
   },
   {
    "duration": 108,
    "start_time": "2023-04-29T06:36:07.568Z"
   },
   {
    "duration": 1282,
    "start_time": "2023-06-21T19:42:32.711Z"
   },
   {
    "duration": 794,
    "start_time": "2023-06-21T19:42:33.994Z"
   },
   {
    "duration": 37,
    "start_time": "2023-06-21T19:42:34.790Z"
   },
   {
    "duration": 89,
    "start_time": "2023-06-21T19:42:34.830Z"
   },
   {
    "duration": 101,
    "start_time": "2023-06-21T19:42:34.921Z"
   },
   {
    "duration": 9,
    "start_time": "2023-06-21T19:42:35.024Z"
   },
   {
    "duration": 36,
    "start_time": "2023-06-21T19:42:35.035Z"
   },
   {
    "duration": 125,
    "start_time": "2023-06-21T19:42:35.073Z"
   },
   {
    "duration": 59,
    "start_time": "2023-06-21T19:42:35.202Z"
   },
   {
    "duration": 39,
    "start_time": "2023-06-21T19:42:35.269Z"
   },
   {
    "duration": 32,
    "start_time": "2023-06-21T19:42:35.310Z"
   },
   {
    "duration": 242,
    "start_time": "2023-06-21T19:42:35.356Z"
   },
   {
    "duration": 16,
    "start_time": "2023-06-21T19:42:35.601Z"
   },
   {
    "duration": 1672,
    "start_time": "2023-06-21T19:42:35.619Z"
   },
   {
    "duration": 98,
    "start_time": "2023-06-21T19:42:37.292Z"
   },
   {
    "duration": 92,
    "start_time": "2023-06-21T19:42:37.392Z"
   },
   {
    "duration": 90,
    "start_time": "2023-06-21T19:42:37.489Z"
   },
   {
    "duration": 483,
    "start_time": "2023-06-21T19:42:37.582Z"
   },
   {
    "duration": 131,
    "start_time": "2023-06-21T19:42:38.067Z"
   },
   {
    "duration": 611,
    "start_time": "2023-06-21T19:42:38.201Z"
   },
   {
    "duration": 25,
    "start_time": "2023-06-21T19:42:38.862Z"
   },
   {
    "duration": 169,
    "start_time": "2023-06-21T19:42:38.894Z"
   },
   {
    "duration": 15,
    "start_time": "2023-06-21T19:42:39.069Z"
   },
   {
    "duration": 280,
    "start_time": "2023-06-21T19:42:39.089Z"
   },
   {
    "duration": 218,
    "start_time": "2023-06-21T19:42:39.373Z"
   },
   {
    "duration": 264,
    "start_time": "2023-06-21T19:42:39.593Z"
   },
   {
    "duration": 303,
    "start_time": "2023-06-21T19:42:39.863Z"
   },
   {
    "duration": 44,
    "start_time": "2023-06-27T11:42:44.787Z"
   }
  ],
  "kernelspec": {
   "display_name": "Python 3 (ipykernel)",
   "language": "python",
   "name": "python3"
  },
  "language_info": {
   "codemirror_mode": {
    "name": "ipython",
    "version": 3
   },
   "file_extension": ".py",
   "mimetype": "text/x-python",
   "name": "python",
   "nbconvert_exporter": "python",
   "pygments_lexer": "ipython3",
   "version": "3.10.9"
  },
  "toc": {
   "base_numbering": 1,
   "nav_menu": {},
   "number_sections": false,
   "sideBar": true,
   "skip_h1_title": false,
   "title_cell": "Table of Contents",
   "title_sidebar": "Contents",
   "toc_cell": false,
   "toc_position": {
    "height": "calc(100% - 180px)",
    "left": "10px",
    "top": "150px",
    "width": "285.25px"
   },
   "toc_section_display": true,
   "toc_window_display": true
  }
 },
 "nbformat": 4,
 "nbformat_minor": 2
}
