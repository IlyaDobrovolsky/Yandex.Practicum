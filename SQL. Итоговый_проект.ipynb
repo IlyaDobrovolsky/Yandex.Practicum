{
 "cells": [
  {
   "cell_type": "markdown",
   "id": "809e3a7c",
   "metadata": {},
   "source": [
    "# SQL. Итоговый проект."
   ]
  },
  {
   "cell_type": "markdown",
   "id": "01a124f4",
   "metadata": {},
   "source": [
    "**Цель исследования:**  анализ базы данных крупного сервиса для чтения книг по подписке с целью определения предпочтений пользователей, успешных книг, пользовательских обзоров, а также выявления популярных авторов и издательств для разработки ценностного предложения нового продукта."
   ]
  },
  {
   "cell_type": "markdown",
   "id": "fe955267",
   "metadata": {},
   "source": [
    "# Описание данных"
   ]
  },
  {
   "cell_type": "markdown",
   "id": "92b78b1c",
   "metadata": {},
   "source": [
    "**Таблица `books`**\n",
    "\n",
    "Содержит данные о книгах:\n",
    "\n",
    "- `book_id` — идентификатор книги;\n",
    "- `author_id` — идентификатор автора;\n",
    "- `title` — название книги;\n",
    "- `num_pages` — количество страниц;\n",
    "- `publication_date` — дата публикации книги;\n",
    "- `publisher_id` — идентификатор издателя.\n",
    "\n",
    "**Таблица `authors`**\n",
    "\n",
    "Содержит данные об авторах:\n",
    "\n",
    "- `author_id` — идентификатор автора;\n",
    "- `author` — имя автора.\n",
    "\n",
    "**Таблица `publishers`**\n",
    "\n",
    "Содержит данные об издательствах:\n",
    "\n",
    "- `publisher_id` — идентификатор издательства;\n",
    "- `publisher` — название издательства;\n",
    "\n",
    "**Таблица `ratings`**\n",
    "\n",
    "Содержит данные о пользовательских оценках книг:\n",
    "\n",
    "- `rating_id` — идентификатор оценки;\n",
    "- `book_id` — идентификатор книги;\n",
    "- `username` — имя пользователя, оставившего оценку;\n",
    "- `rating` — оценка книги.\n",
    "\n",
    "**Таблица `reviews`**\n",
    "\n",
    "Содержит данные о пользовательских обзорах на книги:\n",
    "\n",
    "- `review_id` — идентификатор обзора;\n",
    "- `book_id` — идентификатор книги;\n",
    "- `username` — имя пользователя, написавшего обзор;\n",
    "- `text` — текст обзора."
   ]
  },
  {
   "cell_type": "markdown",
   "id": "b165d51e",
   "metadata": {},
   "source": [
    "# Доступ к базе данных"
   ]
  },
  {
   "cell_type": "code",
   "execution_count": 52,
   "id": "33e072d4",
   "metadata": {},
   "outputs": [],
   "source": [
    "# pip install psycopg2"
   ]
  },
  {
   "cell_type": "code",
   "execution_count": 53,
   "id": "5431edfe",
   "metadata": {},
   "outputs": [],
   "source": [
    "# импортируем библиотеки\n",
    "import pandas as pd\n",
    "from sqlalchemy import text, create_engine\n",
    "\n",
    "# устанавливаем параметры\n",
    "db_config = {'user': 'praktikum_student', # имя пользователя\n",
    "'pwd': 'Sdf4$2;d-d30pp', # пароль\n",
    "'host': 'rc1b-wcoijxj3yxfsf3fs.mdb.yandexcloud.net',\n",
    "'port': 6432, # порт подключения\n",
    "'db': 'data-analyst-final-project-db'} # название базы данных\n",
    "connection_string = 'postgresql://{user}:{pwd}@{host}:{port}/{db}'.format(**db_config)\n",
    "\n",
    "# сохраняем коннектор\n",
    "engine = create_engine(connection_string, connect_args={'sslmode':'require'})"
   ]
  },
  {
   "cell_type": "markdown",
   "id": "5436efab",
   "metadata": {},
   "source": [
    "# Обзор данных"
   ]
  },
  {
   "cell_type": "markdown",
   "id": "e1d88d02",
   "metadata": {},
   "source": [
    "Выведем первые строки каждой таблицы."
   ]
  },
  {
   "cell_type": "markdown",
   "id": "10a0f9fb",
   "metadata": {},
   "source": [
    "**Таблица `books`**"
   ]
  },
  {
   "cell_type": "code",
   "execution_count": 54,
   "id": "4f61b5c9",
   "metadata": {},
   "outputs": [
    {
     "data": {
      "text/html": [
       "<div>\n",
       "<style scoped>\n",
       "    .dataframe tbody tr th:only-of-type {\n",
       "        vertical-align: middle;\n",
       "    }\n",
       "\n",
       "    .dataframe tbody tr th {\n",
       "        vertical-align: top;\n",
       "    }\n",
       "\n",
       "    .dataframe thead th {\n",
       "        text-align: right;\n",
       "    }\n",
       "</style>\n",
       "<table border=\"1\" class=\"dataframe\">\n",
       "  <thead>\n",
       "    <tr style=\"text-align: right;\">\n",
       "      <th></th>\n",
       "      <th>book_id</th>\n",
       "      <th>author_id</th>\n",
       "      <th>title</th>\n",
       "      <th>num_pages</th>\n",
       "      <th>publication_date</th>\n",
       "      <th>publisher_id</th>\n",
       "    </tr>\n",
       "  </thead>\n",
       "  <tbody>\n",
       "    <tr>\n",
       "      <th>0</th>\n",
       "      <td>1</td>\n",
       "      <td>546</td>\n",
       "      <td>'Salem's Lot</td>\n",
       "      <td>594</td>\n",
       "      <td>2005-11-01</td>\n",
       "      <td>93</td>\n",
       "    </tr>\n",
       "  </tbody>\n",
       "</table>\n",
       "</div>"
      ],
      "text/plain": [
       "   book_id  author_id         title  num_pages publication_date  publisher_id\n",
       "0        1        546  'Salem's Lot        594       2005-11-01            93"
      ]
     },
     "execution_count": 54,
     "metadata": {},
     "output_type": "execute_result"
    }
   ],
   "source": [
    "query =('''\n",
    "    \n",
    "     SELECT *\n",
    "     FROM books\n",
    "     LIMIT 1\n",
    "\n",
    "''')\n",
    "\n",
    "pd.io.sql.read_sql(query, con = engine) "
   ]
  },
  {
   "cell_type": "markdown",
   "id": "dbcf2940",
   "metadata": {},
   "source": [
    "**Таблица `authors`**"
   ]
  },
  {
   "cell_type": "code",
   "execution_count": 55,
   "id": "9e6f2a82",
   "metadata": {},
   "outputs": [
    {
     "data": {
      "text/html": [
       "<div>\n",
       "<style scoped>\n",
       "    .dataframe tbody tr th:only-of-type {\n",
       "        vertical-align: middle;\n",
       "    }\n",
       "\n",
       "    .dataframe tbody tr th {\n",
       "        vertical-align: top;\n",
       "    }\n",
       "\n",
       "    .dataframe thead th {\n",
       "        text-align: right;\n",
       "    }\n",
       "</style>\n",
       "<table border=\"1\" class=\"dataframe\">\n",
       "  <thead>\n",
       "    <tr style=\"text-align: right;\">\n",
       "      <th></th>\n",
       "      <th>author_id</th>\n",
       "      <th>author</th>\n",
       "    </tr>\n",
       "  </thead>\n",
       "  <tbody>\n",
       "    <tr>\n",
       "      <th>0</th>\n",
       "      <td>1</td>\n",
       "      <td>A.S. Byatt</td>\n",
       "    </tr>\n",
       "  </tbody>\n",
       "</table>\n",
       "</div>"
      ],
      "text/plain": [
       "   author_id      author\n",
       "0          1  A.S. Byatt"
      ]
     },
     "execution_count": 55,
     "metadata": {},
     "output_type": "execute_result"
    }
   ],
   "source": [
    "query =('''\n",
    "    \n",
    "     SELECT *\n",
    "     FROM authors\n",
    "     LIMIT 1\n",
    "\n",
    "''')\n",
    "\n",
    "pd.io.sql.read_sql(query, con = engine) "
   ]
  },
  {
   "cell_type": "markdown",
   "id": "301b5b5f",
   "metadata": {},
   "source": [
    "**Таблица `publishers`**"
   ]
  },
  {
   "cell_type": "code",
   "execution_count": 56,
   "id": "5c3ba63a",
   "metadata": {},
   "outputs": [
    {
     "data": {
      "text/html": [
       "<div>\n",
       "<style scoped>\n",
       "    .dataframe tbody tr th:only-of-type {\n",
       "        vertical-align: middle;\n",
       "    }\n",
       "\n",
       "    .dataframe tbody tr th {\n",
       "        vertical-align: top;\n",
       "    }\n",
       "\n",
       "    .dataframe thead th {\n",
       "        text-align: right;\n",
       "    }\n",
       "</style>\n",
       "<table border=\"1\" class=\"dataframe\">\n",
       "  <thead>\n",
       "    <tr style=\"text-align: right;\">\n",
       "      <th></th>\n",
       "      <th>publisher_id</th>\n",
       "      <th>publisher</th>\n",
       "    </tr>\n",
       "  </thead>\n",
       "  <tbody>\n",
       "    <tr>\n",
       "      <th>0</th>\n",
       "      <td>1</td>\n",
       "      <td>Ace</td>\n",
       "    </tr>\n",
       "  </tbody>\n",
       "</table>\n",
       "</div>"
      ],
      "text/plain": [
       "   publisher_id publisher\n",
       "0             1       Ace"
      ]
     },
     "execution_count": 56,
     "metadata": {},
     "output_type": "execute_result"
    }
   ],
   "source": [
    "query =('''\n",
    "    \n",
    "     SELECT *\n",
    "     FROM publishers\n",
    "     LIMIT 1\n",
    "\n",
    "''')\n",
    "\n",
    "pd.io.sql.read_sql(query, con = engine) "
   ]
  },
  {
   "cell_type": "markdown",
   "id": "60ea8079",
   "metadata": {},
   "source": [
    "**Таблица `ratings`**"
   ]
  },
  {
   "cell_type": "code",
   "execution_count": 57,
   "id": "4e465b07",
   "metadata": {},
   "outputs": [
    {
     "data": {
      "text/html": [
       "<div>\n",
       "<style scoped>\n",
       "    .dataframe tbody tr th:only-of-type {\n",
       "        vertical-align: middle;\n",
       "    }\n",
       "\n",
       "    .dataframe tbody tr th {\n",
       "        vertical-align: top;\n",
       "    }\n",
       "\n",
       "    .dataframe thead th {\n",
       "        text-align: right;\n",
       "    }\n",
       "</style>\n",
       "<table border=\"1\" class=\"dataframe\">\n",
       "  <thead>\n",
       "    <tr style=\"text-align: right;\">\n",
       "      <th></th>\n",
       "      <th>rating_id</th>\n",
       "      <th>book_id</th>\n",
       "      <th>username</th>\n",
       "      <th>rating</th>\n",
       "    </tr>\n",
       "  </thead>\n",
       "  <tbody>\n",
       "    <tr>\n",
       "      <th>0</th>\n",
       "      <td>1</td>\n",
       "      <td>1</td>\n",
       "      <td>ryanfranco</td>\n",
       "      <td>4</td>\n",
       "    </tr>\n",
       "  </tbody>\n",
       "</table>\n",
       "</div>"
      ],
      "text/plain": [
       "   rating_id  book_id    username  rating\n",
       "0          1        1  ryanfranco       4"
      ]
     },
     "execution_count": 57,
     "metadata": {},
     "output_type": "execute_result"
    }
   ],
   "source": [
    "query =('''\n",
    "    \n",
    "     SELECT *\n",
    "     FROM ratings\n",
    "     LIMIT 1\n",
    "\n",
    "''')\n",
    "\n",
    "pd.io.sql.read_sql(query, con = engine) "
   ]
  },
  {
   "cell_type": "markdown",
   "id": "f462a294",
   "metadata": {},
   "source": [
    "**Таблица `reviews`**"
   ]
  },
  {
   "cell_type": "code",
   "execution_count": 58,
   "id": "f8d7511a",
   "metadata": {},
   "outputs": [
    {
     "data": {
      "text/html": [
       "<div>\n",
       "<style scoped>\n",
       "    .dataframe tbody tr th:only-of-type {\n",
       "        vertical-align: middle;\n",
       "    }\n",
       "\n",
       "    .dataframe tbody tr th {\n",
       "        vertical-align: top;\n",
       "    }\n",
       "\n",
       "    .dataframe thead th {\n",
       "        text-align: right;\n",
       "    }\n",
       "</style>\n",
       "<table border=\"1\" class=\"dataframe\">\n",
       "  <thead>\n",
       "    <tr style=\"text-align: right;\">\n",
       "      <th></th>\n",
       "      <th>review_id</th>\n",
       "      <th>book_id</th>\n",
       "      <th>username</th>\n",
       "      <th>text</th>\n",
       "    </tr>\n",
       "  </thead>\n",
       "  <tbody>\n",
       "    <tr>\n",
       "      <th>0</th>\n",
       "      <td>1</td>\n",
       "      <td>1</td>\n",
       "      <td>brandtandrea</td>\n",
       "      <td>Mention society tell send professor analysis. ...</td>\n",
       "    </tr>\n",
       "  </tbody>\n",
       "</table>\n",
       "</div>"
      ],
      "text/plain": [
       "   review_id  book_id      username  \\\n",
       "0          1        1  brandtandrea   \n",
       "\n",
       "                                                text  \n",
       "0  Mention society tell send professor analysis. ...  "
      ]
     },
     "execution_count": 58,
     "metadata": {},
     "output_type": "execute_result"
    }
   ],
   "source": [
    "query =('''\n",
    "    \n",
    "     SELECT *\n",
    "     FROM reviews\n",
    "     LIMIT 1\n",
    "\n",
    "''')\n",
    "\n",
    "pd.io.sql.read_sql(query, con = engine) "
   ]
  },
  {
   "cell_type": "markdown",
   "id": "c2087aa3",
   "metadata": {},
   "source": [
    "# Задания"
   ]
  },
  {
   "cell_type": "markdown",
   "id": "f7c7101f",
   "metadata": {},
   "source": [
    "## Задание 1."
   ]
  },
  {
   "cell_type": "markdown",
   "id": "6a102084",
   "metadata": {},
   "source": [
    "**`Посчитайте, сколько книг вышло после 1 января 2000 года`**"
   ]
  },
  {
   "cell_type": "code",
   "execution_count": 59,
   "id": "eccd9e3e",
   "metadata": {
    "scrolled": true
   },
   "outputs": [
    {
     "data": {
      "text/html": [
       "<div>\n",
       "<style scoped>\n",
       "    .dataframe tbody tr th:only-of-type {\n",
       "        vertical-align: middle;\n",
       "    }\n",
       "\n",
       "    .dataframe tbody tr th {\n",
       "        vertical-align: top;\n",
       "    }\n",
       "\n",
       "    .dataframe thead th {\n",
       "        text-align: right;\n",
       "    }\n",
       "</style>\n",
       "<table border=\"1\" class=\"dataframe\">\n",
       "  <thead>\n",
       "    <tr style=\"text-align: right;\">\n",
       "      <th></th>\n",
       "      <th>count</th>\n",
       "    </tr>\n",
       "  </thead>\n",
       "  <tbody>\n",
       "    <tr>\n",
       "      <th>0</th>\n",
       "      <td>819</td>\n",
       "    </tr>\n",
       "  </tbody>\n",
       "</table>\n",
       "</div>"
      ],
      "text/plain": [
       "   count\n",
       "0    819"
      ]
     },
     "execution_count": 59,
     "metadata": {},
     "output_type": "execute_result"
    }
   ],
   "source": [
    "query =('''\n",
    "    \n",
    "     SELECT COUNT(book_id)\n",
    "     FROM books\n",
    "     WHERE publication_date > '2000-01-01'\n",
    "\n",
    "''')\n",
    "\n",
    "pd.io.sql.read_sql(query, con = engine) "
   ]
  },
  {
   "cell_type": "markdown",
   "id": "b154da21",
   "metadata": {},
   "source": [
    "**`Вывод:`** после 1 января 2000 года вышло **819** книг."
   ]
  },
  {
   "cell_type": "markdown",
   "id": "ea44c2e6",
   "metadata": {},
   "source": [
    "## Задание 2."
   ]
  },
  {
   "cell_type": "markdown",
   "id": "c411b2a2",
   "metadata": {},
   "source": [
    "**`Для каждой книги посчитайте количество обзоров и среднюю оценку`**"
   ]
  },
  {
   "cell_type": "code",
   "execution_count": 60,
   "id": "abdcb1ac",
   "metadata": {
    "scrolled": false
   },
   "outputs": [
    {
     "data": {
      "text/html": [
       "<div>\n",
       "<style scoped>\n",
       "    .dataframe tbody tr th:only-of-type {\n",
       "        vertical-align: middle;\n",
       "    }\n",
       "\n",
       "    .dataframe tbody tr th {\n",
       "        vertical-align: top;\n",
       "    }\n",
       "\n",
       "    .dataframe thead th {\n",
       "        text-align: right;\n",
       "    }\n",
       "</style>\n",
       "<table border=\"1\" class=\"dataframe\">\n",
       "  <thead>\n",
       "    <tr style=\"text-align: right;\">\n",
       "      <th></th>\n",
       "      <th>title</th>\n",
       "      <th>book_id</th>\n",
       "      <th>avg_rating</th>\n",
       "      <th>total_reviews</th>\n",
       "    </tr>\n",
       "  </thead>\n",
       "  <tbody>\n",
       "    <tr>\n",
       "      <th>0</th>\n",
       "      <td>Twilight (Twilight  #1)</td>\n",
       "      <td>948</td>\n",
       "      <td>3.66</td>\n",
       "      <td>7</td>\n",
       "    </tr>\n",
       "    <tr>\n",
       "      <th>1</th>\n",
       "      <td>Water for Elephants</td>\n",
       "      <td>963</td>\n",
       "      <td>3.98</td>\n",
       "      <td>6</td>\n",
       "    </tr>\n",
       "    <tr>\n",
       "      <th>2</th>\n",
       "      <td>The Glass Castle</td>\n",
       "      <td>734</td>\n",
       "      <td>4.21</td>\n",
       "      <td>6</td>\n",
       "    </tr>\n",
       "    <tr>\n",
       "      <th>3</th>\n",
       "      <td>Harry Potter and the Prisoner of Azkaban (Harr...</td>\n",
       "      <td>302</td>\n",
       "      <td>4.41</td>\n",
       "      <td>6</td>\n",
       "    </tr>\n",
       "    <tr>\n",
       "      <th>4</th>\n",
       "      <td>The Curious Incident of the Dog in the Night-Time</td>\n",
       "      <td>695</td>\n",
       "      <td>4.08</td>\n",
       "      <td>6</td>\n",
       "    </tr>\n",
       "    <tr>\n",
       "      <th>...</th>\n",
       "      <td>...</td>\n",
       "      <td>...</td>\n",
       "      <td>...</td>\n",
       "      <td>...</td>\n",
       "    </tr>\n",
       "    <tr>\n",
       "      <th>995</th>\n",
       "      <td>Anne Rice's The Vampire Lestat: A Graphic Novel</td>\n",
       "      <td>83</td>\n",
       "      <td>3.67</td>\n",
       "      <td>0</td>\n",
       "    </tr>\n",
       "    <tr>\n",
       "      <th>996</th>\n",
       "      <td>The Natural Way to Draw</td>\n",
       "      <td>808</td>\n",
       "      <td>3.00</td>\n",
       "      <td>0</td>\n",
       "    </tr>\n",
       "    <tr>\n",
       "      <th>997</th>\n",
       "      <td>The Cat in the Hat and Other Dr. Seuss Favorites</td>\n",
       "      <td>672</td>\n",
       "      <td>5.00</td>\n",
       "      <td>0</td>\n",
       "    </tr>\n",
       "    <tr>\n",
       "      <th>998</th>\n",
       "      <td>Essential Tales and Poems</td>\n",
       "      <td>221</td>\n",
       "      <td>4.00</td>\n",
       "      <td>0</td>\n",
       "    </tr>\n",
       "    <tr>\n",
       "      <th>999</th>\n",
       "      <td>Disney's Beauty and the Beast (A Little Golden...</td>\n",
       "      <td>191</td>\n",
       "      <td>4.00</td>\n",
       "      <td>0</td>\n",
       "    </tr>\n",
       "  </tbody>\n",
       "</table>\n",
       "<p>1000 rows × 4 columns</p>\n",
       "</div>"
      ],
      "text/plain": [
       "                                                 title  book_id  avg_rating  \\\n",
       "0                              Twilight (Twilight  #1)      948        3.66   \n",
       "1                                  Water for Elephants      963        3.98   \n",
       "2                                     The Glass Castle      734        4.21   \n",
       "3    Harry Potter and the Prisoner of Azkaban (Harr...      302        4.41   \n",
       "4    The Curious Incident of the Dog in the Night-Time      695        4.08   \n",
       "..                                                 ...      ...         ...   \n",
       "995    Anne Rice's The Vampire Lestat: A Graphic Novel       83        3.67   \n",
       "996                            The Natural Way to Draw      808        3.00   \n",
       "997   The Cat in the Hat and Other Dr. Seuss Favorites      672        5.00   \n",
       "998                          Essential Tales and Poems      221        4.00   \n",
       "999  Disney's Beauty and the Beast (A Little Golden...      191        4.00   \n",
       "\n",
       "     total_reviews  \n",
       "0                7  \n",
       "1                6  \n",
       "2                6  \n",
       "3                6  \n",
       "4                6  \n",
       "..             ...  \n",
       "995              0  \n",
       "996              0  \n",
       "997              0  \n",
       "998              0  \n",
       "999              0  \n",
       "\n",
       "[1000 rows x 4 columns]"
      ]
     },
     "execution_count": 60,
     "metadata": {},
     "output_type": "execute_result"
    }
   ],
   "source": [
    "query =('''\n",
    "    \n",
    "     SELECT b.title,\n",
    "            b.book_id,\n",
    "            ROUND(AVG(ra.rating), 2) AS avg_rating,\n",
    "            COUNT(DISTINCT re.review_id) AS total_reviews\n",
    "     FROM books AS b\n",
    "     INNER JOIN ratings AS ra ON ra.book_id = b.book_id\n",
    "     LEFT JOIN reviews  AS re ON re.book_id = b.book_id\n",
    "     GROUP BY b.title,\n",
    "              b.book_id\n",
    "     ORDER BY total_reviews DESC;\n",
    "\n",
    "''')\n",
    "\n",
    "pd.io.sql.read_sql(query, con = engine) "
   ]
  },
  {
   "cell_type": "markdown",
   "id": "00b9f78a",
   "metadata": {},
   "source": [
    "**`Вывод:`** Мы посчитали количество обзоров и среднюю оценку каждой книги."
   ]
  },
  {
   "cell_type": "markdown",
   "id": "0df30d8e",
   "metadata": {},
   "source": [
    "## Задание 3."
   ]
  },
  {
   "cell_type": "markdown",
   "id": "9eca046a",
   "metadata": {},
   "source": [
    "**`Определите издательство, которое выпустило наибольшее число книг толще 50 страниц`**"
   ]
  },
  {
   "cell_type": "code",
   "execution_count": 61,
   "id": "c7c43ff0",
   "metadata": {
    "scrolled": true
   },
   "outputs": [
    {
     "data": {
      "text/html": [
       "<div>\n",
       "<style scoped>\n",
       "    .dataframe tbody tr th:only-of-type {\n",
       "        vertical-align: middle;\n",
       "    }\n",
       "\n",
       "    .dataframe tbody tr th {\n",
       "        vertical-align: top;\n",
       "    }\n",
       "\n",
       "    .dataframe thead th {\n",
       "        text-align: right;\n",
       "    }\n",
       "</style>\n",
       "<table border=\"1\" class=\"dataframe\">\n",
       "  <thead>\n",
       "    <tr style=\"text-align: right;\">\n",
       "      <th></th>\n",
       "      <th>publisher</th>\n",
       "      <th>books</th>\n",
       "    </tr>\n",
       "  </thead>\n",
       "  <tbody>\n",
       "    <tr>\n",
       "      <th>0</th>\n",
       "      <td>Penguin Books</td>\n",
       "      <td>42</td>\n",
       "    </tr>\n",
       "  </tbody>\n",
       "</table>\n",
       "</div>"
      ],
      "text/plain": [
       "       publisher  books\n",
       "0  Penguin Books     42"
      ]
     },
     "execution_count": 61,
     "metadata": {},
     "output_type": "execute_result"
    }
   ],
   "source": [
    "query =('''\n",
    "    \n",
    "     SELECT p.publisher,\n",
    "            COUNT(b.book_id) AS books\n",
    "     FROM publishers AS p\n",
    "     JOIN books AS b ON p.publisher_id = b.publisher_id\n",
    "     WHERE b.num_pages > 50\n",
    "     GROUP BY p.publisher_id  \n",
    "     ORDER BY books DESC\n",
    "     LIMIT 1;\n",
    "     \n",
    "''')\n",
    "\n",
    "pd.io.sql.read_sql(query, con = engine) "
   ]
  },
  {
   "cell_type": "markdown",
   "id": "4f37f1ea",
   "metadata": {},
   "source": [
    "**`Вывод:`** Издательство **Penguin Books** выпустило наибольшее число книг толще 50 страниц - **42 книги**."
   ]
  },
  {
   "cell_type": "markdown",
   "id": "ccc00d8a",
   "metadata": {},
   "source": [
    "## Задание 4."
   ]
  },
  {
   "cell_type": "markdown",
   "id": "ddd617be",
   "metadata": {},
   "source": [
    "**`Определите автора с самой высокой средней оценкой книг — учитывая только книги с 50 и более оценками`**"
   ]
  },
  {
   "cell_type": "code",
   "execution_count": 62,
   "id": "cee32ca2",
   "metadata": {},
   "outputs": [
    {
     "data": {
      "text/html": [
       "<div>\n",
       "<style scoped>\n",
       "    .dataframe tbody tr th:only-of-type {\n",
       "        vertical-align: middle;\n",
       "    }\n",
       "\n",
       "    .dataframe tbody tr th {\n",
       "        vertical-align: top;\n",
       "    }\n",
       "\n",
       "    .dataframe thead th {\n",
       "        text-align: right;\n",
       "    }\n",
       "</style>\n",
       "<table border=\"1\" class=\"dataframe\">\n",
       "  <thead>\n",
       "    <tr style=\"text-align: right;\">\n",
       "      <th></th>\n",
       "      <th>author</th>\n",
       "      <th>average_rating</th>\n",
       "    </tr>\n",
       "  </thead>\n",
       "  <tbody>\n",
       "    <tr>\n",
       "      <th>0</th>\n",
       "      <td>J.K. Rowling/Mary GrandPré</td>\n",
       "      <td>4.28</td>\n",
       "    </tr>\n",
       "  </tbody>\n",
       "</table>\n",
       "</div>"
      ],
      "text/plain": [
       "                       author  average_rating\n",
       "0  J.K. Rowling/Mary GrandPré            4.28"
      ]
     },
     "execution_count": 62,
     "metadata": {},
     "output_type": "execute_result"
    }
   ],
   "source": [
    "query =('''\n",
    "   SELECT author,\n",
    "          ROUND (AVG(avg_rating), 2) AS average_rating\n",
    "   FROM (SELECT author_id,\n",
    "                title,\n",
    "                AVG(rating) AS avg_rating\n",
    "        FROM books AS b\n",
    "        LEFT JOIN ratings AS r ON b.book_id = r.book_id\n",
    "        GROUP BY title, author_id\n",
    "        HAVING COUNT(rating_id) >= 50) as query\n",
    "    LEFT JOIN authors AS a ON query.author_id = a.author_id\n",
    "    GROUP BY author\n",
    "    ORDER BY average_rating DESC\n",
    "    LIMIT 1\n",
    "''')   \n",
    "pd.io.sql.read_sql(query, con = engine)"
   ]
  },
  {
   "cell_type": "markdown",
   "id": "265f1f6c",
   "metadata": {},
   "source": [
    "**`Вывод:`**  Автор с самой высокой средней оценкой книг с 50 и более оценками **J.K. Rowling/Mary GrandPré**."
   ]
  },
  {
   "cell_type": "markdown",
   "id": "cb4b76d4",
   "metadata": {},
   "source": [
    "## Задание 5."
   ]
  },
  {
   "cell_type": "markdown",
   "id": "1797f6b6",
   "metadata": {},
   "source": [
    "**`Посчитайте среднее количество обзоров от пользователей, которые поставили больше 48 оценок`**"
   ]
  },
  {
   "cell_type": "code",
   "execution_count": 63,
   "id": "fb5afb1c",
   "metadata": {},
   "outputs": [
    {
     "data": {
      "text/html": [
       "<div>\n",
       "<style scoped>\n",
       "    .dataframe tbody tr th:only-of-type {\n",
       "        vertical-align: middle;\n",
       "    }\n",
       "\n",
       "    .dataframe tbody tr th {\n",
       "        vertical-align: top;\n",
       "    }\n",
       "\n",
       "    .dataframe thead th {\n",
       "        text-align: right;\n",
       "    }\n",
       "</style>\n",
       "<table border=\"1\" class=\"dataframe\">\n",
       "  <thead>\n",
       "    <tr style=\"text-align: right;\">\n",
       "      <th></th>\n",
       "      <th>avg_review_count</th>\n",
       "    </tr>\n",
       "  </thead>\n",
       "  <tbody>\n",
       "    <tr>\n",
       "      <th>0</th>\n",
       "      <td>24.0</td>\n",
       "    </tr>\n",
       "  </tbody>\n",
       "</table>\n",
       "</div>"
      ],
      "text/plain": [
       "   avg_review_count\n",
       "0              24.0"
      ]
     },
     "execution_count": 63,
     "metadata": {},
     "output_type": "execute_result"
    }
   ],
   "source": [
    "query =('''\n",
    "\n",
    "   SELECT ROUND(AVG(subquery.total_reviews), 2) AS avg_review_count\n",
    "   FROM (SELECT username,\n",
    "                COUNT(review_id) AS total_reviews\n",
    "         FROM reviews \n",
    "         WHERE username IN (SELECT username\n",
    "                          FROM ratings\n",
    "                          GROUP BY username\n",
    "                          HAVING COUNT(rating_id) > 48)\n",
    "         GROUP BY username) AS subquery\n",
    "       \n",
    "\n",
    "''')\n",
    "\n",
    "pd.io.sql.read_sql(query, con = engine)"
   ]
  },
  {
   "cell_type": "markdown",
   "id": "d9a6221d",
   "metadata": {},
   "source": [
    "**`Вывод:`**  Cреднее количество обзоров от пользователей, которые поставили больше 48 оценок - **24**."
   ]
  },
  {
   "cell_type": "markdown",
   "id": "dd965fde",
   "metadata": {},
   "source": [
    "# Общие выводы"
   ]
  },
  {
   "cell_type": "markdown",
   "id": "a2663dca",
   "metadata": {},
   "source": [
    "По результатам проведенного анализа  базы данных крупного сервиса для чтения книг по подписке, можно сделать следующие выводы:\n",
    "- После 1 января 2000 года вышло **819** книг.\n",
    "- Издательство **Penguin Books** выпустило наибольшее число книг толще 50 страниц - **42 книги**.\n",
    "- Автор с самой высокой средней оценкой книг с 50 и более оценками **J.K. Rowling/Mary GrandPré**.\n",
    "- Cреднее количество обзоров от пользователей, которые поставили больше 48 оценок - **24**."
   ]
  }
 ],
 "metadata": {
  "ExecuteTimeLog": [
   {
    "duration": 23551,
    "start_time": "2023-06-26T22:43:25.581Z"
   },
   {
    "duration": 16134,
    "start_time": "2023-06-26T22:43:49.135Z"
   },
   {
    "duration": 276,
    "start_time": "2023-06-26T22:44:05.270Z"
   },
   {
    "duration": 77,
    "start_time": "2023-06-26T22:44:05.548Z"
   },
   {
    "duration": 75,
    "start_time": "2023-06-26T22:44:05.628Z"
   },
   {
    "duration": 77,
    "start_time": "2023-06-26T22:44:05.705Z"
   },
   {
    "duration": 78,
    "start_time": "2023-06-26T22:44:05.784Z"
   },
   {
    "duration": 77,
    "start_time": "2023-06-26T22:44:05.864Z"
   },
   {
    "duration": 118,
    "start_time": "2023-06-26T22:44:05.943Z"
   },
   {
    "duration": 77,
    "start_time": "2023-06-26T22:44:06.063Z"
   },
   {
    "duration": 84,
    "start_time": "2023-06-26T22:44:06.142Z"
   },
   {
    "duration": 80,
    "start_time": "2023-06-26T22:44:06.229Z"
   },
   {
    "duration": 83,
    "start_time": "2023-06-26T23:13:32.631Z"
   },
   {
    "duration": 44,
    "start_time": "2023-06-27T06:41:44.388Z"
   },
   {
    "duration": 20599,
    "start_time": "2023-06-27T06:42:00.699Z"
   },
   {
    "duration": 0,
    "start_time": "2023-06-27T06:42:34.757Z"
   },
   {
    "duration": 0,
    "start_time": "2023-06-27T06:42:34.758Z"
   },
   {
    "duration": 0,
    "start_time": "2023-06-27T06:42:34.759Z"
   },
   {
    "duration": 0,
    "start_time": "2023-06-27T06:42:34.760Z"
   },
   {
    "duration": 0,
    "start_time": "2023-06-27T06:42:34.761Z"
   },
   {
    "duration": 0,
    "start_time": "2023-06-27T06:42:34.762Z"
   },
   {
    "duration": 0,
    "start_time": "2023-06-27T06:42:34.763Z"
   },
   {
    "duration": 0,
    "start_time": "2023-06-27T06:42:34.763Z"
   },
   {
    "duration": 0,
    "start_time": "2023-06-27T06:42:34.764Z"
   },
   {
    "duration": 0,
    "start_time": "2023-06-27T06:42:34.766Z"
   },
   {
    "duration": 0,
    "start_time": "2023-06-27T06:42:34.767Z"
   },
   {
    "duration": 0,
    "start_time": "2023-06-27T06:42:34.768Z"
   },
   {
    "duration": 0,
    "start_time": "2023-06-27T06:42:34.769Z"
   },
   {
    "duration": 18157,
    "start_time": "2023-06-27T06:42:40.873Z"
   },
   {
    "duration": 4,
    "start_time": "2023-06-27T06:42:59.032Z"
   },
   {
    "duration": 279,
    "start_time": "2023-06-27T06:42:59.037Z"
   },
   {
    "duration": 74,
    "start_time": "2023-06-27T06:42:59.318Z"
   },
   {
    "duration": 74,
    "start_time": "2023-06-27T06:42:59.394Z"
   },
   {
    "duration": 87,
    "start_time": "2023-06-27T06:42:59.469Z"
   },
   {
    "duration": 74,
    "start_time": "2023-06-27T06:42:59.557Z"
   },
   {
    "duration": 74,
    "start_time": "2023-06-27T06:42:59.633Z"
   },
   {
    "duration": 112,
    "start_time": "2023-06-27T06:42:59.708Z"
   },
   {
    "duration": 76,
    "start_time": "2023-06-27T06:42:59.822Z"
   },
   {
    "duration": 80,
    "start_time": "2023-06-27T06:42:59.900Z"
   },
   {
    "duration": 235,
    "start_time": "2023-06-27T06:42:59.981Z"
   },
   {
    "duration": 0,
    "start_time": "2023-06-27T06:43:00.217Z"
   },
   {
    "duration": 186,
    "start_time": "2023-06-27T06:43:41.136Z"
   },
   {
    "duration": 164,
    "start_time": "2023-06-27T06:43:55.229Z"
   },
   {
    "duration": 172,
    "start_time": "2023-06-27T06:44:04.046Z"
   },
   {
    "duration": 79,
    "start_time": "2023-06-27T06:44:20.872Z"
   },
   {
    "duration": 79,
    "start_time": "2023-06-27T06:47:08.952Z"
   },
   {
    "duration": 200,
    "start_time": "2023-06-27T06:47:23.081Z"
   },
   {
    "duration": 77,
    "start_time": "2023-06-27T06:47:33.074Z"
   },
   {
    "duration": 194,
    "start_time": "2023-06-27T07:12:44.733Z"
   },
   {
    "duration": 175,
    "start_time": "2023-06-27T07:12:59.148Z"
   },
   {
    "duration": 226,
    "start_time": "2023-06-27T07:19:43.730Z"
   },
   {
    "duration": 262,
    "start_time": "2023-06-27T07:21:48.112Z"
   },
   {
    "duration": 221,
    "start_time": "2023-06-27T07:21:50.867Z"
   },
   {
    "duration": 169,
    "start_time": "2023-06-27T07:21:57.937Z"
   },
   {
    "duration": 79,
    "start_time": "2023-06-27T07:22:03.061Z"
   },
   {
    "duration": 78,
    "start_time": "2023-06-27T07:23:47.400Z"
   },
   {
    "duration": 3,
    "start_time": "2023-06-27T07:27:10.318Z"
   },
   {
    "duration": 23,
    "start_time": "2023-06-27T07:27:10.324Z"
   },
   {
    "duration": 273,
    "start_time": "2023-06-27T07:27:10.349Z"
   },
   {
    "duration": 78,
    "start_time": "2023-06-27T07:27:10.624Z"
   },
   {
    "duration": 78,
    "start_time": "2023-06-27T07:27:10.704Z"
   },
   {
    "duration": 76,
    "start_time": "2023-06-27T07:27:10.784Z"
   },
   {
    "duration": 75,
    "start_time": "2023-06-27T07:27:10.862Z"
   },
   {
    "duration": 75,
    "start_time": "2023-06-27T07:27:10.938Z"
   },
   {
    "duration": 112,
    "start_time": "2023-06-27T07:27:11.014Z"
   },
   {
    "duration": 76,
    "start_time": "2023-06-27T07:27:11.127Z"
   },
   {
    "duration": 80,
    "start_time": "2023-06-27T07:27:11.204Z"
   },
   {
    "duration": 76,
    "start_time": "2023-06-27T07:27:11.285Z"
   }
  ],
  "kernelspec": {
   "display_name": "Python 3 (ipykernel)",
   "language": "python",
   "name": "python3"
  },
  "language_info": {
   "codemirror_mode": {
    "name": "ipython",
    "version": 3
   },
   "file_extension": ".py",
   "mimetype": "text/x-python",
   "name": "python",
   "nbconvert_exporter": "python",
   "pygments_lexer": "ipython3",
   "version": "3.10.9"
  },
  "toc": {
   "base_numbering": 1,
   "nav_menu": {},
   "number_sections": false,
   "sideBar": true,
   "skip_h1_title": false,
   "title_cell": "Table of Contents",
   "title_sidebar": "Contents",
   "toc_cell": false,
   "toc_position": {
    "height": "calc(100% - 180px)",
    "left": "10px",
    "top": "150px",
    "width": "165px"
   },
   "toc_section_display": true,
   "toc_window_display": true
  }
 },
 "nbformat": 4,
 "nbformat_minor": 5
}
