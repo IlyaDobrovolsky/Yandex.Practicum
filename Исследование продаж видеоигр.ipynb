{
 "cells": [
  {
   "cell_type": "markdown",
   "metadata": {},
   "source": [
    "# Исследование продаж видеоигр\n",
    "\n",
    "В этом проекте мы будем работать с историческими данными о продажах игр, оценки пользователей и экспертов, жанры и платформы. Основная задача - выявить определяющие успешность игры закономерности, что позволит заказчику сделать ставку на потенциально популярный продукт и спланировать рекламные кампании.\n",
    "\n",
    "**Цели исследования:**\n",
    " 1. Изучить общую информацию о продажах видеоигр.\n",
    " 2. Изучить зависимость продаж видеоигр от платформ, построить показательные графики.\n",
    " 3. Определить несколько наиболее прибыльные платформы.\n",
    " 4. Определить как влияют на продажи внутри одной популярной платформы отзывы пользователей и критиков.\n",
    " 5. Проверить гипотезы о средних рейтингах определенных платформ и жанров игр.\n",
    "\n",
    "**Ход исследования:**\n",
    " 1. Первоначальный обзор данных, получение общего представления о датафрейме и его столбцах.\n",
    " 2. Предобработка данных.\n",
    " 3. Исследовательский анализ данных.\n",
    " 4. Проверка гипотез.\n",
    " 5. Выводы.\n"
   ]
  },
  {
   "cell_type": "markdown",
   "metadata": {},
   "source": [
    "# Обзор данных"
   ]
  },
  {
   "cell_type": "markdown",
   "metadata": {},
   "source": [
    "Для начала импортируем все необходимые библиотеки."
   ]
  },
  {
   "cell_type": "code",
   "execution_count": 1,
   "metadata": {},
   "outputs": [],
   "source": [
    "import pandas as pd\n",
    "from scipy import stats as st\n",
    "from math import factorial\n",
    "import numpy as np\n",
    "import matplotlib.pyplot as plt\n",
    "import seaborn as sns"
   ]
  },
  {
   "cell_type": "markdown",
   "metadata": {},
   "source": [
    "Прочитаем файл с датафреймом и сохраним его в переменной."
   ]
  },
  {
   "cell_type": "code",
   "execution_count": 2,
   "metadata": {},
   "outputs": [],
   "source": [
    "try:\n",
    "    df = pd.read_csv('/datasets/games.csv')\n",
    "except:\n",
    "    df = pd.read_csv('games.csv')"
   ]
  },
  {
   "cell_type": "markdown",
   "metadata": {},
   "source": [
    "Изучим общую информацию о датафрейме."
   ]
  },
  {
   "cell_type": "code",
   "execution_count": 3,
   "metadata": {},
   "outputs": [
    {
     "data": {
      "text/html": [
       "<div>\n",
       "<style scoped>\n",
       "    .dataframe tbody tr th:only-of-type {\n",
       "        vertical-align: middle;\n",
       "    }\n",
       "\n",
       "    .dataframe tbody tr th {\n",
       "        vertical-align: top;\n",
       "    }\n",
       "\n",
       "    .dataframe thead th {\n",
       "        text-align: right;\n",
       "    }\n",
       "</style>\n",
       "<table border=\"1\" class=\"dataframe\">\n",
       "  <thead>\n",
       "    <tr style=\"text-align: right;\">\n",
       "      <th></th>\n",
       "      <th>Name</th>\n",
       "      <th>Platform</th>\n",
       "      <th>Year_of_Release</th>\n",
       "      <th>Genre</th>\n",
       "      <th>NA_sales</th>\n",
       "      <th>EU_sales</th>\n",
       "      <th>JP_sales</th>\n",
       "      <th>Other_sales</th>\n",
       "      <th>Critic_Score</th>\n",
       "      <th>User_Score</th>\n",
       "      <th>Rating</th>\n",
       "    </tr>\n",
       "  </thead>\n",
       "  <tbody>\n",
       "    <tr>\n",
       "      <th>10247</th>\n",
       "      <td>Classic Road</td>\n",
       "      <td>SNES</td>\n",
       "      <td>1993.0</td>\n",
       "      <td>Sports</td>\n",
       "      <td>0.00</td>\n",
       "      <td>0.00</td>\n",
       "      <td>0.11</td>\n",
       "      <td>0.00</td>\n",
       "      <td>NaN</td>\n",
       "      <td>NaN</td>\n",
       "      <td>NaN</td>\n",
       "    </tr>\n",
       "    <tr>\n",
       "      <th>15348</th>\n",
       "      <td>Whiteout</td>\n",
       "      <td>PS2</td>\n",
       "      <td>2002.0</td>\n",
       "      <td>Racing</td>\n",
       "      <td>0.01</td>\n",
       "      <td>0.01</td>\n",
       "      <td>0.00</td>\n",
       "      <td>0.00</td>\n",
       "      <td>50.0</td>\n",
       "      <td>tbd</td>\n",
       "      <td>T</td>\n",
       "    </tr>\n",
       "    <tr>\n",
       "      <th>3389</th>\n",
       "      <td>NFL Blitz 2001</td>\n",
       "      <td>PS</td>\n",
       "      <td>2000.0</td>\n",
       "      <td>Sports</td>\n",
       "      <td>0.33</td>\n",
       "      <td>0.22</td>\n",
       "      <td>0.00</td>\n",
       "      <td>0.04</td>\n",
       "      <td>70.0</td>\n",
       "      <td>tbd</td>\n",
       "      <td>E</td>\n",
       "    </tr>\n",
       "    <tr>\n",
       "      <th>9344</th>\n",
       "      <td>Pro Yaky? Spirits 6</td>\n",
       "      <td>PS2</td>\n",
       "      <td>2009.0</td>\n",
       "      <td>Sports</td>\n",
       "      <td>0.00</td>\n",
       "      <td>0.00</td>\n",
       "      <td>0.13</td>\n",
       "      <td>0.00</td>\n",
       "      <td>NaN</td>\n",
       "      <td>NaN</td>\n",
       "      <td>NaN</td>\n",
       "    </tr>\n",
       "    <tr>\n",
       "      <th>11560</th>\n",
       "      <td>Pac-Man and the Ghostly Adventures 2</td>\n",
       "      <td>3DS</td>\n",
       "      <td>2014.0</td>\n",
       "      <td>Adventure</td>\n",
       "      <td>0.03</td>\n",
       "      <td>0.04</td>\n",
       "      <td>0.00</td>\n",
       "      <td>0.01</td>\n",
       "      <td>60.0</td>\n",
       "      <td>tbd</td>\n",
       "      <td>E10+</td>\n",
       "    </tr>\n",
       "  </tbody>\n",
       "</table>\n",
       "</div>"
      ],
      "text/plain": [
       "                                       Name Platform  Year_of_Release  \\\n",
       "10247                          Classic Road     SNES           1993.0   \n",
       "15348                              Whiteout      PS2           2002.0   \n",
       "3389                         NFL Blitz 2001       PS           2000.0   \n",
       "9344                    Pro Yaky? Spirits 6      PS2           2009.0   \n",
       "11560  Pac-Man and the Ghostly Adventures 2      3DS           2014.0   \n",
       "\n",
       "           Genre  NA_sales  EU_sales  JP_sales  Other_sales  Critic_Score  \\\n",
       "10247     Sports      0.00      0.00      0.11         0.00           NaN   \n",
       "15348     Racing      0.01      0.01      0.00         0.00          50.0   \n",
       "3389      Sports      0.33      0.22      0.00         0.04          70.0   \n",
       "9344      Sports      0.00      0.00      0.13         0.00           NaN   \n",
       "11560  Adventure      0.03      0.04      0.00         0.01          60.0   \n",
       "\n",
       "      User_Score Rating  \n",
       "10247        NaN    NaN  \n",
       "15348        tbd      T  \n",
       "3389         tbd      E  \n",
       "9344         NaN    NaN  \n",
       "11560        tbd   E10+  "
      ]
     },
     "execution_count": 3,
     "metadata": {},
     "output_type": "execute_result"
    }
   ],
   "source": [
    "df.sample(5)"
   ]
  },
  {
   "cell_type": "code",
   "execution_count": 4,
   "metadata": {
    "scrolled": false
   },
   "outputs": [
    {
     "name": "stdout",
     "output_type": "stream",
     "text": [
      "<class 'pandas.core.frame.DataFrame'>\n",
      "RangeIndex: 16715 entries, 0 to 16714\n",
      "Data columns (total 11 columns):\n",
      " #   Column           Non-Null Count  Dtype  \n",
      "---  ------           --------------  -----  \n",
      " 0   Name             16713 non-null  object \n",
      " 1   Platform         16715 non-null  object \n",
      " 2   Year_of_Release  16446 non-null  float64\n",
      " 3   Genre            16713 non-null  object \n",
      " 4   NA_sales         16715 non-null  float64\n",
      " 5   EU_sales         16715 non-null  float64\n",
      " 6   JP_sales         16715 non-null  float64\n",
      " 7   Other_sales      16715 non-null  float64\n",
      " 8   Critic_Score     8137 non-null   float64\n",
      " 9   User_Score       10014 non-null  object \n",
      " 10  Rating           9949 non-null   object \n",
      "dtypes: float64(6), object(5)\n",
      "memory usage: 1.4+ MB\n"
     ]
    }
   ],
   "source": [
    "df.info()"
   ]
  },
  {
   "cell_type": "code",
   "execution_count": 5,
   "metadata": {},
   "outputs": [
    {
     "data": {
      "text/html": [
       "<div>\n",
       "<style scoped>\n",
       "    .dataframe tbody tr th:only-of-type {\n",
       "        vertical-align: middle;\n",
       "    }\n",
       "\n",
       "    .dataframe tbody tr th {\n",
       "        vertical-align: top;\n",
       "    }\n",
       "\n",
       "    .dataframe thead th {\n",
       "        text-align: right;\n",
       "    }\n",
       "</style>\n",
       "<table border=\"1\" class=\"dataframe\">\n",
       "  <thead>\n",
       "    <tr style=\"text-align: right;\">\n",
       "      <th></th>\n",
       "      <th>Year_of_Release</th>\n",
       "      <th>NA_sales</th>\n",
       "      <th>EU_sales</th>\n",
       "      <th>JP_sales</th>\n",
       "      <th>Other_sales</th>\n",
       "      <th>Critic_Score</th>\n",
       "    </tr>\n",
       "  </thead>\n",
       "  <tbody>\n",
       "    <tr>\n",
       "      <th>count</th>\n",
       "      <td>16446.000000</td>\n",
       "      <td>16715.000000</td>\n",
       "      <td>16715.000000</td>\n",
       "      <td>16715.000000</td>\n",
       "      <td>16715.000000</td>\n",
       "      <td>8137.000000</td>\n",
       "    </tr>\n",
       "    <tr>\n",
       "      <th>mean</th>\n",
       "      <td>2006.484616</td>\n",
       "      <td>0.263377</td>\n",
       "      <td>0.145060</td>\n",
       "      <td>0.077617</td>\n",
       "      <td>0.047342</td>\n",
       "      <td>68.967679</td>\n",
       "    </tr>\n",
       "    <tr>\n",
       "      <th>std</th>\n",
       "      <td>5.877050</td>\n",
       "      <td>0.813604</td>\n",
       "      <td>0.503339</td>\n",
       "      <td>0.308853</td>\n",
       "      <td>0.186731</td>\n",
       "      <td>13.938165</td>\n",
       "    </tr>\n",
       "    <tr>\n",
       "      <th>min</th>\n",
       "      <td>1980.000000</td>\n",
       "      <td>0.000000</td>\n",
       "      <td>0.000000</td>\n",
       "      <td>0.000000</td>\n",
       "      <td>0.000000</td>\n",
       "      <td>13.000000</td>\n",
       "    </tr>\n",
       "    <tr>\n",
       "      <th>25%</th>\n",
       "      <td>2003.000000</td>\n",
       "      <td>0.000000</td>\n",
       "      <td>0.000000</td>\n",
       "      <td>0.000000</td>\n",
       "      <td>0.000000</td>\n",
       "      <td>60.000000</td>\n",
       "    </tr>\n",
       "    <tr>\n",
       "      <th>50%</th>\n",
       "      <td>2007.000000</td>\n",
       "      <td>0.080000</td>\n",
       "      <td>0.020000</td>\n",
       "      <td>0.000000</td>\n",
       "      <td>0.010000</td>\n",
       "      <td>71.000000</td>\n",
       "    </tr>\n",
       "    <tr>\n",
       "      <th>75%</th>\n",
       "      <td>2010.000000</td>\n",
       "      <td>0.240000</td>\n",
       "      <td>0.110000</td>\n",
       "      <td>0.040000</td>\n",
       "      <td>0.030000</td>\n",
       "      <td>79.000000</td>\n",
       "    </tr>\n",
       "    <tr>\n",
       "      <th>max</th>\n",
       "      <td>2016.000000</td>\n",
       "      <td>41.360000</td>\n",
       "      <td>28.960000</td>\n",
       "      <td>10.220000</td>\n",
       "      <td>10.570000</td>\n",
       "      <td>98.000000</td>\n",
       "    </tr>\n",
       "  </tbody>\n",
       "</table>\n",
       "</div>"
      ],
      "text/plain": [
       "       Year_of_Release      NA_sales      EU_sales      JP_sales  \\\n",
       "count     16446.000000  16715.000000  16715.000000  16715.000000   \n",
       "mean       2006.484616      0.263377      0.145060      0.077617   \n",
       "std           5.877050      0.813604      0.503339      0.308853   \n",
       "min        1980.000000      0.000000      0.000000      0.000000   \n",
       "25%        2003.000000      0.000000      0.000000      0.000000   \n",
       "50%        2007.000000      0.080000      0.020000      0.000000   \n",
       "75%        2010.000000      0.240000      0.110000      0.040000   \n",
       "max        2016.000000     41.360000     28.960000     10.220000   \n",
       "\n",
       "        Other_sales  Critic_Score  \n",
       "count  16715.000000   8137.000000  \n",
       "mean       0.047342     68.967679  \n",
       "std        0.186731     13.938165  \n",
       "min        0.000000     13.000000  \n",
       "25%        0.000000     60.000000  \n",
       "50%        0.010000     71.000000  \n",
       "75%        0.030000     79.000000  \n",
       "max       10.570000     98.000000  "
      ]
     },
     "execution_count": 5,
     "metadata": {},
     "output_type": "execute_result"
    }
   ],
   "source": [
    "df.describe()"
   ]
  },
  {
   "cell_type": "markdown",
   "metadata": {},
   "source": [
    "Согласно документации, в датафрейме 11 колонок:\n",
    "\n",
    "1. **Name** — название игры\n",
    "2. **Platform** — платформа\n",
    "3. **Year_of_Release** — год выпуска\n",
    "4. **Genre** — жанр игры\n",
    "5. **NA_sales** — продажи в Северной Америке (миллионы проданных копий)\n",
    "6. **EU_sales** — продажи в Европе (миллионы проданных копий)\n",
    "7. **JP_sales** — продажи в Японии (миллионы проданных копий)\n",
    "8. **Other_sales** — продажи в других странах (миллионы проданных копий)\n",
    "9. **Critic_Score** — оценка критиков (максимум 100)\n",
    "10. **User_Score** — оценка пользователей (максимум 10)\n",
    "11. **Rating** — рейтинг от организации ESRB (англ. Entertainment Software Rating Board)."
   ]
  },
  {
   "cell_type": "markdown",
   "metadata": {},
   "source": [
    "Построим гистограммы для каждого столбца."
   ]
  },
  {
   "cell_type": "code",
   "execution_count": 6,
   "metadata": {},
   "outputs": [
    {
     "data": {
      "image/png": "[encoded data removed]",
      "text/plain": [
       "<Figure size 720x1080 with 6 Axes>"
      ]
     },
     "metadata": {
      "needs_background": "light"
     },
     "output_type": "display_data"
    }
   ],
   "source": [
    "df.hist(figsize=(10, 15));"
   ]
  },
  {
   "cell_type": "markdown",
   "metadata": {},
   "source": [
    "Проверим наличие пропусков и явных дубликатов."
   ]
  },
  {
   "cell_type": "code",
   "execution_count": 7,
   "metadata": {
    "scrolled": true
   },
   "outputs": [
    {
     "data": {
      "text/plain": [
       "Name                  2\n",
       "Platform              0\n",
       "Year_of_Release     269\n",
       "Genre                 2\n",
       "NA_sales              0\n",
       "EU_sales              0\n",
       "JP_sales              0\n",
       "Other_sales           0\n",
       "Critic_Score       8578\n",
       "User_Score         6701\n",
       "Rating             6766\n",
       "dtype: int64"
      ]
     },
     "execution_count": 7,
     "metadata": {},
     "output_type": "execute_result"
    }
   ],
   "source": [
    "df.isna().sum()"
   ]
  },
  {
   "cell_type": "code",
   "execution_count": 8,
   "metadata": {},
   "outputs": [
    {
     "data": {
      "text/plain": [
       "0"
      ]
     },
     "execution_count": 8,
     "metadata": {},
     "output_type": "execute_result"
    }
   ],
   "source": [
    "df.duplicated().sum()"
   ]
  },
  {
   "cell_type": "markdown",
   "metadata": {},
   "source": [
    "**Вывод:** Итак, мы сделали первоначальный осмотр датафрейма. Сразу можно отметить некорректный тип данных в некоторых столбцах и наличие пропусков. Также следует привести названия некоторых столбцов к нижнему регистру и добавить в датафрейм столбец с суммарной продажей во всех регионах."
   ]
  },
  {
   "cell_type": "markdown",
   "metadata": {},
   "source": [
    "# Предобработка данных"
   ]
  },
  {
   "cell_type": "markdown",
   "metadata": {},
   "source": [
    "Для начала заменим названия некоторых столбцов (приведем к нижнему регистру)."
   ]
  },
  {
   "cell_type": "code",
   "execution_count": 9,
   "metadata": {},
   "outputs": [
    {
     "data": {
      "text/plain": [
       "Index(['name', 'platform', 'year_of_release', 'genre', 'na_sales', 'eu_sales',\n",
       "       'jp_sales', 'other_sales', 'critic_score', 'user_score', 'rating'],\n",
       "      dtype='object')"
      ]
     },
     "execution_count": 9,
     "metadata": {},
     "output_type": "execute_result"
    }
   ],
   "source": [
    "df.columns = df.columns.str.lower()\n",
    "df.columns"
   ]
  },
  {
   "cell_type": "markdown",
   "metadata": {},
   "source": [
    "Теперь поработаем с типом данных в столбцах. Поменяем тип в столбце с годом выпуска на целочисленный, так как год не может быть дробным числом. Но сначала посчитаем количество пропусков в этом столбце."
   ]
  },
  {
   "cell_type": "code",
   "execution_count": 10,
   "metadata": {},
   "outputs": [
    {
     "data": {
      "text/plain": [
       "1.609332934489979"
      ]
     },
     "execution_count": 10,
     "metadata": {},
     "output_type": "execute_result"
    }
   ],
   "source": [
    "df['year_of_release'].isna().sum()\n",
    "df['year_of_release'].isna().sum()/df.shape[0]*100"
   ]
  },
  {
   "cell_type": "markdown",
   "metadata": {},
   "source": [
    "269 - это примерно 1.6% процентов, значит строки с пропусками в годах можно удалить."
   ]
  },
  {
   "cell_type": "code",
   "execution_count": 11,
   "metadata": {},
   "outputs": [],
   "source": [
    "df = df.dropna(subset=['year_of_release'])"
   ]
  },
  {
   "cell_type": "code",
   "execution_count": 12,
   "metadata": {},
   "outputs": [
    {
     "data": {
      "text/plain": [
       "array([2006, 1985, 2008, 2009, 1996, 1989, 1984, 2005, 1999, 2007, 2010,\n",
       "       2013, 2004, 1990, 1988, 2002, 2001, 2011, 1998, 2015, 2012, 2014,\n",
       "       1992, 1997, 1993, 1994, 1982, 2016, 2003, 1986, 2000, 1995, 1991,\n",
       "       1981, 1987, 1980, 1983])"
      ]
     },
     "execution_count": 12,
     "metadata": {},
     "output_type": "execute_result"
    }
   ],
   "source": [
    "# Теперь поменяем тип\n",
    "df['year_of_release'] = df['year_of_release'].astype('int') \n",
    "df['year_of_release'].unique()"
   ]
  },
  {
   "cell_type": "markdown",
   "metadata": {},
   "source": [
    "Теперь разберемся с пропусками в остальных столбцах. "
   ]
  },
  {
   "cell_type": "code",
   "execution_count": 13,
   "metadata": {},
   "outputs": [
    {
     "data": {
      "text/plain": [
       "name                  2\n",
       "platform              0\n",
       "year_of_release       0\n",
       "genre                 2\n",
       "na_sales              0\n",
       "eu_sales              0\n",
       "jp_sales              0\n",
       "other_sales           0\n",
       "critic_score       8463\n",
       "user_score         6607\n",
       "rating             6678\n",
       "dtype: int64"
      ]
     },
     "execution_count": 13,
     "metadata": {},
     "output_type": "execute_result"
    }
   ],
   "source": [
    "df.isna().sum()"
   ]
  },
  {
   "cell_type": "markdown",
   "metadata": {},
   "source": [
    "По 2 пропуска в столбцах с названием игры и жанром можно смело удалять."
   ]
  },
  {
   "cell_type": "code",
   "execution_count": 14,
   "metadata": {},
   "outputs": [],
   "source": [
    "df = df.dropna(subset=['name'])\n",
    "df = df.dropna(subset=['genre'])"
   ]
  },
  {
   "cell_type": "markdown",
   "metadata": {},
   "source": [
    "Пропуски в столбцах с оценкой критиков и пользователей, а также рейтинга возрастной категории лучше оставить, так как, скорее всего, в 1980 году (а это самая старая в датафрейме игра) еще не было никаких рейтингов и оценок игр от критиков.\n",
    "\n",
    "Пропусков в столбце с оценками критиков больше, чем с оценками пользователей. Такое могло произойти из-за того, что зачастую критики оценивают наиболее популярные игры, а вот игры с небольшим комьюнити оценивают только игроки.\n",
    "\n",
    "Проверим наши догадки."
   ]
  },
  {
   "cell_type": "code",
   "execution_count": 15,
   "metadata": {
    "scrolled": false
   },
   "outputs": [
    {
     "data": {
      "image/png": "[encoded data removed]",
      "text/plain": [
       "<Figure size 432x288 with 1 Axes>"
      ]
     },
     "metadata": {
      "needs_background": "light"
     },
     "output_type": "display_data"
    }
   ],
   "source": [
    "critics_score_nan_year = (df.loc[df['critic_score'].isna()==True]\\\n",
    "                      .pivot_table(index='year_of_release', values='name', aggfunc='count')\\\n",
    "                      .reset_index())\n",
    "user_score_nan_year = (df.loc[df['user_score'].isna()==True]\\\n",
    "                      .pivot_table(index='year_of_release', values='name', aggfunc='count')\\\n",
    "                      .reset_index()\n",
    "                     )\n",
    "\n",
    "\n",
    "fig, ax = plt.subplots()\n",
    "ax.set(title='Количество пропущенных оценок игр по годам их выпуска',\n",
    "       xlabel='Год выпуска', ylabel='Количество игр без оценок')\n",
    "ax.plot(critics_score_nan_year['year_of_release'], critics_score_nan_year['name'], 'o-', label='Нет оценок критиков')\n",
    "ax.plot(user_score_nan_year['year_of_release'], user_score_nan_year['name'], '.-m', label='Нет оценок пользователей')\n",
    "ax.grid(linestyle='--')\n",
    "ax.legend(frameon=True)\n",
    "plt.show()"
   ]
  },
  {
   "cell_type": "markdown",
   "metadata": {},
   "source": [
    "Действительно, примерно до 1995 года отзывов было намного меньше, причем как от критиков, так и от игроков. Но постепенно стали появляться сайты с отзывами, игровое комьюинити расширялось и желающих поделиться своим мнением об игре стало больше."
   ]
  },
  {
   "cell_type": "markdown",
   "metadata": {},
   "source": [
    "Теперь разберемся с аббревиатурой 'tbd' (\"to be determined\" - \"Будет определено\") в столбце с оценкой пользователей. Заменим это значение пропусками и поменяем тип на float."
   ]
  },
  {
   "cell_type": "code",
   "execution_count": 16,
   "metadata": {},
   "outputs": [],
   "source": [
    "df.user_score.replace('tbd', np.nan, inplace=True)\n",
    "df['user_score'] = df['user_score'].astype('float')"
   ]
  },
  {
   "cell_type": "code",
   "execution_count": 17,
   "metadata": {
    "scrolled": true
   },
   "outputs": [
    {
     "data": {
      "text/plain": [
       "E       3921\n",
       "T       2905\n",
       "M       1536\n",
       "E10+    1393\n",
       "EC         8\n",
       "K-A        3\n",
       "RP         1\n",
       "AO         1\n",
       "Name: rating, dtype: int64"
      ]
     },
     "execution_count": 17,
     "metadata": {},
     "output_type": "execute_result"
    }
   ],
   "source": [
    "df['rating'].value_counts()"
   ]
  },
  {
   "cell_type": "markdown",
   "metadata": {},
   "source": [
    "Cистема ESRB (Совет по рейтингу развлекательного программного обеспечения) делит все игры на 7 категорий:\n",
    "\n",
    "**EC** - Для детей младшего возраста. Подходит для детей от 3 лет, неприемлемое содержание отсутствует.\n",
    "\n",
    "**E** - Подходит для всех возрастных категорий. Игра не должна содержать звуков или изображений, которые могут напугать маленьких детей. Не должна использоваться ненормативная лексика. Первоначально K-A (\"Kids to Adults\")\n",
    "\n",
    "**E 10+** - Подходит для лиц старше 10 лет. Игра может содержать умеренные формы насилия, а некоторые сцены могут пугать детей.\n",
    "\n",
    "**T** - Подходит для лиц старше 13 лет. Игра может содержать более реалистичные и натуралистические сцены насилия. Примеры: Fortnite, Sims 4.\n",
    "\n",
    "**M** - Подходит для лиц старше 17 лет. Этот рейтинг используется, когда насилие становится реалистичным и похожим на реальную жизнь. Также может присутствовать ненормативная лексика, употребление табака, алкоголя или запрещенных наркотиков.\n",
    "\n",
    "**AO** - Подходит для взрослых старше 18 лет. Классификация «для взрослых» используется, когда в игре присутствует крайний уровень насилия и немотивированного убийства. Также может присутствовать романтизация наркотиков, азартных игр и сексуальной активности.|\n",
    "\n",
    "**RP** - Категория ещё не присвоена. Играм с категорией RP еще не присвоен окончательный рейтинг ESRB."
   ]
  },
  {
   "cell_type": "markdown",
   "metadata": {},
   "source": [
    "Рейтинг ESRB - это метод оценки игр для США и Канады. Пропуски в этом столбце могут означать следующее:\n",
    "<ul>\n",
    "  <li>Игра продается в США или Канаде, но рейтинг для нее пока не установлен.</li>\n",
    "  <li>Игра продается в другом регионе, где рейтинг ESRB не используется. </li>\n",
    "</ul>\n"
   ]
  },
  {
   "cell_type": "markdown",
   "metadata": {},
   "source": [
    "Тогда заменим пропуски на значение 'no_ESRB', что означает отсутствие рейтинга у игры на данный момент."
   ]
  },
  {
   "cell_type": "code",
   "execution_count": 18,
   "metadata": {},
   "outputs": [],
   "source": [
    "df.loc[df['rating'] == 'K-A', 'rating'] = 'E'\n",
    "df.loc[df['rating'] == 'EC', 'rating'] = 'E'\n",
    "df['rating'] = df['rating'].fillna('no_ESRB')"
   ]
  },
  {
   "cell_type": "markdown",
   "metadata": {},
   "source": [
    "Теперь проверим наличие явных дубликатов."
   ]
  },
  {
   "cell_type": "code",
   "execution_count": 19,
   "metadata": {},
   "outputs": [
    {
     "data": {
      "text/plain": [
       "0"
      ]
     },
     "execution_count": 19,
     "metadata": {},
     "output_type": "execute_result"
    }
   ],
   "source": [
    "df.duplicated().sum()"
   ]
  },
  {
   "cell_type": "markdown",
   "metadata": {},
   "source": [
    "Посчитаем суммарные продажи во всех регионах и запишем их в отдельный столбец."
   ]
  },
  {
   "cell_type": "code",
   "execution_count": 20,
   "metadata": {},
   "outputs": [],
   "source": [
    "df['total_sales'] = df['na_sales'] + df['eu_sales'] + df['jp_sales'] + df['other_sales']"
   ]
  },
  {
   "cell_type": "code",
   "execution_count": 21,
   "metadata": {
    "scrolled": true
   },
   "outputs": [
    {
     "data": {
      "text/html": [
       "<div>\n",
       "<style scoped>\n",
       "    .dataframe tbody tr th:only-of-type {\n",
       "        vertical-align: middle;\n",
       "    }\n",
       "\n",
       "    .dataframe tbody tr th {\n",
       "        vertical-align: top;\n",
       "    }\n",
       "\n",
       "    .dataframe thead th {\n",
       "        text-align: right;\n",
       "    }\n",
       "</style>\n",
       "<table border=\"1\" class=\"dataframe\">\n",
       "  <thead>\n",
       "    <tr style=\"text-align: right;\">\n",
       "      <th></th>\n",
       "      <th>name</th>\n",
       "      <th>platform</th>\n",
       "      <th>year_of_release</th>\n",
       "      <th>genre</th>\n",
       "      <th>na_sales</th>\n",
       "      <th>eu_sales</th>\n",
       "      <th>jp_sales</th>\n",
       "      <th>other_sales</th>\n",
       "      <th>critic_score</th>\n",
       "      <th>user_score</th>\n",
       "      <th>rating</th>\n",
       "      <th>total_sales</th>\n",
       "    </tr>\n",
       "  </thead>\n",
       "  <tbody>\n",
       "    <tr>\n",
       "      <th>0</th>\n",
       "      <td>Wii Sports</td>\n",
       "      <td>Wii</td>\n",
       "      <td>2006</td>\n",
       "      <td>Sports</td>\n",
       "      <td>41.36</td>\n",
       "      <td>28.96</td>\n",
       "      <td>3.77</td>\n",
       "      <td>8.45</td>\n",
       "      <td>76.0</td>\n",
       "      <td>8.0</td>\n",
       "      <td>E</td>\n",
       "      <td>82.54</td>\n",
       "    </tr>\n",
       "    <tr>\n",
       "      <th>1</th>\n",
       "      <td>Super Mario Bros.</td>\n",
       "      <td>NES</td>\n",
       "      <td>1985</td>\n",
       "      <td>Platform</td>\n",
       "      <td>29.08</td>\n",
       "      <td>3.58</td>\n",
       "      <td>6.81</td>\n",
       "      <td>0.77</td>\n",
       "      <td>NaN</td>\n",
       "      <td>NaN</td>\n",
       "      <td>no_ESRB</td>\n",
       "      <td>40.24</td>\n",
       "    </tr>\n",
       "    <tr>\n",
       "      <th>2</th>\n",
       "      <td>Mario Kart Wii</td>\n",
       "      <td>Wii</td>\n",
       "      <td>2008</td>\n",
       "      <td>Racing</td>\n",
       "      <td>15.68</td>\n",
       "      <td>12.76</td>\n",
       "      <td>3.79</td>\n",
       "      <td>3.29</td>\n",
       "      <td>82.0</td>\n",
       "      <td>8.3</td>\n",
       "      <td>E</td>\n",
       "      <td>35.52</td>\n",
       "    </tr>\n",
       "    <tr>\n",
       "      <th>3</th>\n",
       "      <td>Wii Sports Resort</td>\n",
       "      <td>Wii</td>\n",
       "      <td>2009</td>\n",
       "      <td>Sports</td>\n",
       "      <td>15.61</td>\n",
       "      <td>10.93</td>\n",
       "      <td>3.28</td>\n",
       "      <td>2.95</td>\n",
       "      <td>80.0</td>\n",
       "      <td>8.0</td>\n",
       "      <td>E</td>\n",
       "      <td>32.77</td>\n",
       "    </tr>\n",
       "    <tr>\n",
       "      <th>4</th>\n",
       "      <td>Pokemon Red/Pokemon Blue</td>\n",
       "      <td>GB</td>\n",
       "      <td>1996</td>\n",
       "      <td>Role-Playing</td>\n",
       "      <td>11.27</td>\n",
       "      <td>8.89</td>\n",
       "      <td>10.22</td>\n",
       "      <td>1.00</td>\n",
       "      <td>NaN</td>\n",
       "      <td>NaN</td>\n",
       "      <td>no_ESRB</td>\n",
       "      <td>31.38</td>\n",
       "    </tr>\n",
       "  </tbody>\n",
       "</table>\n",
       "</div>"
      ],
      "text/plain": [
       "                       name platform  year_of_release         genre  na_sales  \\\n",
       "0                Wii Sports      Wii             2006        Sports     41.36   \n",
       "1         Super Mario Bros.      NES             1985      Platform     29.08   \n",
       "2            Mario Kart Wii      Wii             2008        Racing     15.68   \n",
       "3         Wii Sports Resort      Wii             2009        Sports     15.61   \n",
       "4  Pokemon Red/Pokemon Blue       GB             1996  Role-Playing     11.27   \n",
       "\n",
       "   eu_sales  jp_sales  other_sales  critic_score  user_score   rating  \\\n",
       "0     28.96      3.77         8.45          76.0         8.0        E   \n",
       "1      3.58      6.81         0.77           NaN         NaN  no_ESRB   \n",
       "2     12.76      3.79         3.29          82.0         8.3        E   \n",
       "3     10.93      3.28         2.95          80.0         8.0        E   \n",
       "4      8.89     10.22         1.00           NaN         NaN  no_ESRB   \n",
       "\n",
       "   total_sales  \n",
       "0        82.54  \n",
       "1        40.24  \n",
       "2        35.52  \n",
       "3        32.77  \n",
       "4        31.38  "
      ]
     },
     "execution_count": 21,
     "metadata": {},
     "output_type": "execute_result"
    }
   ],
   "source": [
    "df.head(5)"
   ]
  },
  {
   "cell_type": "code",
   "execution_count": 22,
   "metadata": {},
   "outputs": [
    {
     "name": "stdout",
     "output_type": "stream",
     "text": [
      "<class 'pandas.core.frame.DataFrame'>\n",
      "Int64Index: 16444 entries, 0 to 16714\n",
      "Data columns (total 12 columns):\n",
      " #   Column           Non-Null Count  Dtype  \n",
      "---  ------           --------------  -----  \n",
      " 0   name             16444 non-null  object \n",
      " 1   platform         16444 non-null  object \n",
      " 2   year_of_release  16444 non-null  int64  \n",
      " 3   genre            16444 non-null  object \n",
      " 4   na_sales         16444 non-null  float64\n",
      " 5   eu_sales         16444 non-null  float64\n",
      " 6   jp_sales         16444 non-null  float64\n",
      " 7   other_sales      16444 non-null  float64\n",
      " 8   critic_score     7983 non-null   float64\n",
      " 9   user_score       7463 non-null   float64\n",
      " 10  rating           16444 non-null  object \n",
      " 11  total_sales      16444 non-null  float64\n",
      "dtypes: float64(7), int64(1), object(4)\n",
      "memory usage: 1.6+ MB\n",
      "None\n",
      "-------------------------\n",
      "name [' Beyblade Burst' ' Fire Emblem Fates' \" Frozen: Olaf's Quest\" ...\n",
      " 'uDraw Studio' 'uDraw Studio: Instant Artist'\n",
      " '¡Shin Chan Flipa en colores!']\n",
      "name : кол-во NaN 0 , процент NaN 0.0 %\n",
      "-------------------------\n",
      "platform ['2600' '3DO' '3DS' 'DC' 'DS' 'GB' 'GBA' 'GC' 'GEN' 'GG' 'N64' 'NES' 'NG'\n",
      " 'PC' 'PCFX' 'PS' 'PS2' 'PS3' 'PS4' 'PSP' 'PSV' 'SAT' 'SCD' 'SNES' 'TG16'\n",
      " 'WS' 'Wii' 'WiiU' 'X360' 'XB' 'XOne']\n",
      "platform : кол-во NaN 0 , процент NaN 0.0 %\n",
      "-------------------------\n",
      "year_of_release [1980 1981 1982 1983 1984 1985 1986 1987 1988 1989 1990 1991 1992 1993\n",
      " 1994 1995 1996 1997 1998 1999 2000 2001 2002 2003 2004 2005 2006 2007\n",
      " 2008 2009 2010 2011 2012 2013 2014 2015 2016]\n",
      "year_of_release : кол-во NaN 0 , процент NaN 0.0 %\n",
      "-------------------------\n",
      "genre ['Action' 'Adventure' 'Fighting' 'Misc' 'Platform' 'Puzzle' 'Racing'\n",
      " 'Role-Playing' 'Shooter' 'Simulation' 'Sports' 'Strategy']\n",
      "genre : кол-во NaN 0 , процент NaN 0.0 %\n",
      "-------------------------\n",
      "critic_score [13. 17. 19. 20. 21. 23. 24. 25. 26. 27. 28. 29. 30. 31. 32. 33. 34. 35.\n",
      " 36. 37. 38. 39. 40. 41. 42. 43. 44. 45. 46. 47. 48. 49. 50. 51. 52. 53.\n",
      " 54. 55. 56. 57. 58. 59. 60. 61. 62. 63. 64. 65. 66. 67. 68. 69. 70. 71.\n",
      " 72. 73. 74. 75. 76. 77. 78. 79. 80. 81. 82. 83. 84. 85. 86. 87. 88. 89.\n",
      " 90. 91. 92. 93. 94. 95. 96. 97. 98. nan]\n",
      "critic_score : кол-во NaN 8461 , процент NaN 51.45 %\n",
      "-------------------------\n",
      "user_score [0.  0.2 0.3 0.5 0.6 0.7 0.9 1.  1.1 1.2 1.3 1.4 1.5 1.6 1.7 1.8 1.9 2.\n",
      " 2.1 2.2 2.3 2.4 2.5 2.6 2.7 2.8 2.9 3.  3.1 3.2 3.3 3.4 3.5 3.6 3.7 3.8\n",
      " 3.9 4.  4.1 4.2 4.3 4.4 4.5 4.6 4.7 4.8 4.9 5.  5.1 5.2 5.3 5.4 5.5 5.6\n",
      " 5.7 5.8 5.9 6.  6.1 6.2 6.3 6.4 6.5 6.6 6.7 6.8 6.9 7.  7.1 7.2 7.3 7.4\n",
      " 7.5 7.6 7.7 7.8 7.9 8.  8.1 8.2 8.3 8.4 8.5 8.6 8.7 8.8 8.9 9.  9.1 9.2\n",
      " 9.3 9.4 9.5 9.6 9.7 nan]\n",
      "user_score : кол-во NaN 8981 , процент NaN 54.62 %\n",
      "-------------------------\n",
      "rating ['AO' 'E' 'E10+' 'M' 'RP' 'T' 'no_ESRB']\n",
      "rating : кол-во NaN 0 , процент NaN 0.0 %\n"
     ]
    }
   ],
   "source": [
    "# Комментарий ревьюера\n",
    "# Посмотрим, что у нас осталось\n",
    "temp = df.copy() \n",
    "list_c = ['name', 'platform', 'year_of_release', 'genre', 'critic_score', 'user_score', 'rating']\n",
    "print(temp.info())\n",
    "for col_l in list_c:\n",
    "  print('-'* 25)\n",
    "  print(col_l, temp[col_l].sort_values().unique())\n",
    "  print(col_l,': кол-во NaN',temp[col_l].isna().sum(),\n",
    "        ', процент NaN', round(temp[col_l].isna().sum()/len(temp)*100, 2),'%')"
   ]
  },
  {
   "cell_type": "markdown",
   "metadata": {},
   "source": [
    "# Анализ данных"
   ]
  },
  {
   "cell_type": "markdown",
   "metadata": {},
   "source": [
    "## Сколько игр выпускалось в разные годы?"
   ]
  },
  {
   "cell_type": "markdown",
   "metadata": {},
   "source": [
    "Перейдем к анализу данных. Узнаем сколько игр выпускалось в разные годы на разные платформы."
   ]
  },
  {
   "cell_type": "code",
   "execution_count": 23,
   "metadata": {},
   "outputs": [
    {
     "data": {
      "text/html": [
       "<div>\n",
       "<style scoped>\n",
       "    .dataframe tbody tr th:only-of-type {\n",
       "        vertical-align: middle;\n",
       "    }\n",
       "\n",
       "    .dataframe tbody tr th {\n",
       "        vertical-align: top;\n",
       "    }\n",
       "\n",
       "    .dataframe thead th {\n",
       "        text-align: right;\n",
       "    }\n",
       "</style>\n",
       "<table border=\"1\" class=\"dataframe\">\n",
       "  <thead>\n",
       "    <tr style=\"text-align: right;\">\n",
       "      <th>platform</th>\n",
       "      <th>year_of_release</th>\n",
       "      <th>2600</th>\n",
       "      <th>3DO</th>\n",
       "      <th>3DS</th>\n",
       "      <th>DC</th>\n",
       "      <th>DS</th>\n",
       "      <th>GB</th>\n",
       "      <th>GBA</th>\n",
       "      <th>GC</th>\n",
       "      <th>GEN</th>\n",
       "      <th>...</th>\n",
       "      <th>SCD</th>\n",
       "      <th>SNES</th>\n",
       "      <th>TG16</th>\n",
       "      <th>WS</th>\n",
       "      <th>Wii</th>\n",
       "      <th>WiiU</th>\n",
       "      <th>X360</th>\n",
       "      <th>XB</th>\n",
       "      <th>XOne</th>\n",
       "      <th>All</th>\n",
       "    </tr>\n",
       "  </thead>\n",
       "  <tbody>\n",
       "    <tr>\n",
       "      <th>18</th>\n",
       "      <td>1998</td>\n",
       "      <td>0</td>\n",
       "      <td>0</td>\n",
       "      <td>0</td>\n",
       "      <td>7</td>\n",
       "      <td>0</td>\n",
       "      <td>8</td>\n",
       "      <td>0</td>\n",
       "      <td>0</td>\n",
       "      <td>0</td>\n",
       "      <td>...</td>\n",
       "      <td>0</td>\n",
       "      <td>2</td>\n",
       "      <td>0</td>\n",
       "      <td>0</td>\n",
       "      <td>0</td>\n",
       "      <td>0</td>\n",
       "      <td>0</td>\n",
       "      <td>0</td>\n",
       "      <td>0</td>\n",
       "      <td>379</td>\n",
       "    </tr>\n",
       "    <tr>\n",
       "      <th>22</th>\n",
       "      <td>2002</td>\n",
       "      <td>0</td>\n",
       "      <td>0</td>\n",
       "      <td>0</td>\n",
       "      <td>1</td>\n",
       "      <td>0</td>\n",
       "      <td>0</td>\n",
       "      <td>198</td>\n",
       "      <td>152</td>\n",
       "      <td>0</td>\n",
       "      <td>...</td>\n",
       "      <td>0</td>\n",
       "      <td>0</td>\n",
       "      <td>0</td>\n",
       "      <td>0</td>\n",
       "      <td>0</td>\n",
       "      <td>0</td>\n",
       "      <td>0</td>\n",
       "      <td>158</td>\n",
       "      <td>0</td>\n",
       "      <td>829</td>\n",
       "    </tr>\n",
       "    <tr>\n",
       "      <th>20</th>\n",
       "      <td>2000</td>\n",
       "      <td>0</td>\n",
       "      <td>0</td>\n",
       "      <td>0</td>\n",
       "      <td>20</td>\n",
       "      <td>0</td>\n",
       "      <td>17</td>\n",
       "      <td>1</td>\n",
       "      <td>0</td>\n",
       "      <td>0</td>\n",
       "      <td>...</td>\n",
       "      <td>0</td>\n",
       "      <td>0</td>\n",
       "      <td>0</td>\n",
       "      <td>2</td>\n",
       "      <td>0</td>\n",
       "      <td>0</td>\n",
       "      <td>0</td>\n",
       "      <td>1</td>\n",
       "      <td>0</td>\n",
       "      <td>350</td>\n",
       "    </tr>\n",
       "    <tr>\n",
       "      <th>6</th>\n",
       "      <td>1986</td>\n",
       "      <td>2</td>\n",
       "      <td>0</td>\n",
       "      <td>0</td>\n",
       "      <td>0</td>\n",
       "      <td>0</td>\n",
       "      <td>0</td>\n",
       "      <td>0</td>\n",
       "      <td>0</td>\n",
       "      <td>0</td>\n",
       "      <td>...</td>\n",
       "      <td>0</td>\n",
       "      <td>0</td>\n",
       "      <td>0</td>\n",
       "      <td>0</td>\n",
       "      <td>0</td>\n",
       "      <td>0</td>\n",
       "      <td>0</td>\n",
       "      <td>0</td>\n",
       "      <td>0</td>\n",
       "      <td>21</td>\n",
       "    </tr>\n",
       "    <tr>\n",
       "      <th>8</th>\n",
       "      <td>1988</td>\n",
       "      <td>2</td>\n",
       "      <td>0</td>\n",
       "      <td>0</td>\n",
       "      <td>0</td>\n",
       "      <td>0</td>\n",
       "      <td>1</td>\n",
       "      <td>0</td>\n",
       "      <td>0</td>\n",
       "      <td>0</td>\n",
       "      <td>...</td>\n",
       "      <td>0</td>\n",
       "      <td>0</td>\n",
       "      <td>0</td>\n",
       "      <td>0</td>\n",
       "      <td>0</td>\n",
       "      <td>0</td>\n",
       "      <td>0</td>\n",
       "      <td>0</td>\n",
       "      <td>0</td>\n",
       "      <td>15</td>\n",
       "    </tr>\n",
       "  </tbody>\n",
       "</table>\n",
       "<p>5 rows × 33 columns</p>\n",
       "</div>"
      ],
      "text/plain": [
       "platform year_of_release  2600  3DO  3DS  DC  DS  GB  GBA   GC  GEN  ...  SCD  \\\n",
       "18                  1998     0    0    0   7   0   8    0    0    0  ...    0   \n",
       "22                  2002     0    0    0   1   0   0  198  152    0  ...    0   \n",
       "20                  2000     0    0    0  20   0  17    1    0    0  ...    0   \n",
       "6                   1986     2    0    0   0   0   0    0    0    0  ...    0   \n",
       "8                   1988     2    0    0   0   0   1    0    0    0  ...    0   \n",
       "\n",
       "platform  SNES  TG16  WS  Wii  WiiU  X360   XB  XOne  All  \n",
       "18           2     0   0    0     0     0    0     0  379  \n",
       "22           0     0   0    0     0     0  158     0  829  \n",
       "20           0     0   2    0     0     0    1     0  350  \n",
       "6            0     0   0    0     0     0    0     0   21  \n",
       "8            0     0   0    0     0     0    0     0   15  \n",
       "\n",
       "[5 rows x 33 columns]"
      ]
     },
     "execution_count": 23,
     "metadata": {},
     "output_type": "execute_result"
    }
   ],
   "source": [
    "games_per_year_pivot = df.pivot_table(index = 'year_of_release',  \n",
    "                                columns='platform', \n",
    "                                values='name',\n",
    "                                aggfunc='count',\n",
    "                                fill_value=0, margins=True).reset_index()\n",
    "\n",
    "games_per_year_pivot.sample(5)"
   ]
  },
  {
   "cell_type": "code",
   "execution_count": 24,
   "metadata": {
    "scrolled": false
   },
   "outputs": [
    {
     "data": {
      "image/png": "[encoded data removed]",
      "text/plain": [
       "<Figure size 1440x648 with 1 Axes>"
      ]
     },
     "metadata": {
      "needs_background": "light"
     },
     "output_type": "display_data"
    }
   ],
   "source": [
    "fig, ax = plt.subplots()\n",
    "\n",
    "games_per_year = df.pivot_table(index = 'year_of_release',  \n",
    "                                columns='platform', \n",
    "                                values='name',\n",
    "                                aggfunc='count').plot(kind='bar',stacked=True, ax=ax,figsize=(20,9), alpha=0.5)\n",
    "ax.set_xlabel('Годы')\n",
    "ax.set_ylabel('Количество выпущенных игр')\n",
    "ax.set_title('Распределение по годам количества выпущенных игр на разных платформах')\n",
    "plt.show()"
   ]
  },
  {
   "cell_type": "code",
   "execution_count": 25,
   "metadata": {},
   "outputs": [
    {
     "data": {
      "text/html": [
       "<div>\n",
       "<style scoped>\n",
       "    .dataframe tbody tr th:only-of-type {\n",
       "        vertical-align: middle;\n",
       "    }\n",
       "\n",
       "    .dataframe tbody tr th {\n",
       "        vertical-align: top;\n",
       "    }\n",
       "\n",
       "    .dataframe thead th {\n",
       "        text-align: right;\n",
       "    }\n",
       "</style>\n",
       "<table border=\"1\" class=\"dataframe\">\n",
       "  <thead>\n",
       "    <tr style=\"text-align: right;\">\n",
       "      <th>platform</th>\n",
       "      <th>year_of_release</th>\n",
       "      <th>All</th>\n",
       "    </tr>\n",
       "  </thead>\n",
       "  <tbody>\n",
       "    <tr>\n",
       "      <th>37</th>\n",
       "      <td>All</td>\n",
       "      <td>16444</td>\n",
       "    </tr>\n",
       "    <tr>\n",
       "      <th>28</th>\n",
       "      <td>2008</td>\n",
       "      <td>1427</td>\n",
       "    </tr>\n",
       "    <tr>\n",
       "      <th>29</th>\n",
       "      <td>2009</td>\n",
       "      <td>1426</td>\n",
       "    </tr>\n",
       "    <tr>\n",
       "      <th>30</th>\n",
       "      <td>2010</td>\n",
       "      <td>1255</td>\n",
       "    </tr>\n",
       "    <tr>\n",
       "      <th>27</th>\n",
       "      <td>2007</td>\n",
       "      <td>1197</td>\n",
       "    </tr>\n",
       "    <tr>\n",
       "      <th>31</th>\n",
       "      <td>2011</td>\n",
       "      <td>1136</td>\n",
       "    </tr>\n",
       "    <tr>\n",
       "      <th>26</th>\n",
       "      <td>2006</td>\n",
       "      <td>1006</td>\n",
       "    </tr>\n",
       "    <tr>\n",
       "      <th>25</th>\n",
       "      <td>2005</td>\n",
       "      <td>939</td>\n",
       "    </tr>\n",
       "    <tr>\n",
       "      <th>22</th>\n",
       "      <td>2002</td>\n",
       "      <td>829</td>\n",
       "    </tr>\n",
       "    <tr>\n",
       "      <th>23</th>\n",
       "      <td>2003</td>\n",
       "      <td>775</td>\n",
       "    </tr>\n",
       "    <tr>\n",
       "      <th>24</th>\n",
       "      <td>2004</td>\n",
       "      <td>762</td>\n",
       "    </tr>\n",
       "    <tr>\n",
       "      <th>32</th>\n",
       "      <td>2012</td>\n",
       "      <td>653</td>\n",
       "    </tr>\n",
       "    <tr>\n",
       "      <th>35</th>\n",
       "      <td>2015</td>\n",
       "      <td>606</td>\n",
       "    </tr>\n",
       "    <tr>\n",
       "      <th>34</th>\n",
       "      <td>2014</td>\n",
       "      <td>581</td>\n",
       "    </tr>\n",
       "    <tr>\n",
       "      <th>33</th>\n",
       "      <td>2013</td>\n",
       "      <td>544</td>\n",
       "    </tr>\n",
       "    <tr>\n",
       "      <th>36</th>\n",
       "      <td>2016</td>\n",
       "      <td>502</td>\n",
       "    </tr>\n",
       "    <tr>\n",
       "      <th>21</th>\n",
       "      <td>2001</td>\n",
       "      <td>482</td>\n",
       "    </tr>\n",
       "    <tr>\n",
       "      <th>18</th>\n",
       "      <td>1998</td>\n",
       "      <td>379</td>\n",
       "    </tr>\n",
       "    <tr>\n",
       "      <th>20</th>\n",
       "      <td>2000</td>\n",
       "      <td>350</td>\n",
       "    </tr>\n",
       "    <tr>\n",
       "      <th>19</th>\n",
       "      <td>1999</td>\n",
       "      <td>338</td>\n",
       "    </tr>\n",
       "    <tr>\n",
       "      <th>17</th>\n",
       "      <td>1997</td>\n",
       "      <td>289</td>\n",
       "    </tr>\n",
       "    <tr>\n",
       "      <th>16</th>\n",
       "      <td>1996</td>\n",
       "      <td>263</td>\n",
       "    </tr>\n",
       "    <tr>\n",
       "      <th>15</th>\n",
       "      <td>1995</td>\n",
       "      <td>219</td>\n",
       "    </tr>\n",
       "    <tr>\n",
       "      <th>14</th>\n",
       "      <td>1994</td>\n",
       "      <td>121</td>\n",
       "    </tr>\n",
       "    <tr>\n",
       "      <th>13</th>\n",
       "      <td>1993</td>\n",
       "      <td>60</td>\n",
       "    </tr>\n",
       "    <tr>\n",
       "      <th>1</th>\n",
       "      <td>1981</td>\n",
       "      <td>46</td>\n",
       "    </tr>\n",
       "    <tr>\n",
       "      <th>12</th>\n",
       "      <td>1992</td>\n",
       "      <td>43</td>\n",
       "    </tr>\n",
       "    <tr>\n",
       "      <th>11</th>\n",
       "      <td>1991</td>\n",
       "      <td>41</td>\n",
       "    </tr>\n",
       "    <tr>\n",
       "      <th>2</th>\n",
       "      <td>1982</td>\n",
       "      <td>36</td>\n",
       "    </tr>\n",
       "    <tr>\n",
       "      <th>6</th>\n",
       "      <td>1986</td>\n",
       "      <td>21</td>\n",
       "    </tr>\n",
       "    <tr>\n",
       "      <th>3</th>\n",
       "      <td>1983</td>\n",
       "      <td>17</td>\n",
       "    </tr>\n",
       "    <tr>\n",
       "      <th>9</th>\n",
       "      <td>1989</td>\n",
       "      <td>17</td>\n",
       "    </tr>\n",
       "    <tr>\n",
       "      <th>7</th>\n",
       "      <td>1987</td>\n",
       "      <td>16</td>\n",
       "    </tr>\n",
       "    <tr>\n",
       "      <th>10</th>\n",
       "      <td>1990</td>\n",
       "      <td>16</td>\n",
       "    </tr>\n",
       "    <tr>\n",
       "      <th>8</th>\n",
       "      <td>1988</td>\n",
       "      <td>15</td>\n",
       "    </tr>\n",
       "    <tr>\n",
       "      <th>5</th>\n",
       "      <td>1985</td>\n",
       "      <td>14</td>\n",
       "    </tr>\n",
       "    <tr>\n",
       "      <th>4</th>\n",
       "      <td>1984</td>\n",
       "      <td>14</td>\n",
       "    </tr>\n",
       "    <tr>\n",
       "      <th>0</th>\n",
       "      <td>1980</td>\n",
       "      <td>9</td>\n",
       "    </tr>\n",
       "  </tbody>\n",
       "</table>\n",
       "</div>"
      ],
      "text/plain": [
       "platform year_of_release    All\n",
       "37                   All  16444\n",
       "28                  2008   1427\n",
       "29                  2009   1426\n",
       "30                  2010   1255\n",
       "27                  2007   1197\n",
       "31                  2011   1136\n",
       "26                  2006   1006\n",
       "25                  2005    939\n",
       "22                  2002    829\n",
       "23                  2003    775\n",
       "24                  2004    762\n",
       "32                  2012    653\n",
       "35                  2015    606\n",
       "34                  2014    581\n",
       "33                  2013    544\n",
       "36                  2016    502\n",
       "21                  2001    482\n",
       "18                  1998    379\n",
       "20                  2000    350\n",
       "19                  1999    338\n",
       "17                  1997    289\n",
       "16                  1996    263\n",
       "15                  1995    219\n",
       "14                  1994    121\n",
       "13                  1993     60\n",
       "1                   1981     46\n",
       "12                  1992     43\n",
       "11                  1991     41\n",
       "2                   1982     36\n",
       "6                   1986     21\n",
       "3                   1983     17\n",
       "9                   1989     17\n",
       "7                   1987     16\n",
       "10                  1990     16\n",
       "8                   1988     15\n",
       "5                   1985     14\n",
       "4                   1984     14\n",
       "0                   1980      9"
      ]
     },
     "execution_count": 25,
     "metadata": {},
     "output_type": "execute_result"
    }
   ],
   "source": [
    "games_per_year_pivot[['year_of_release', 'All']].sort_values(by='All', ascending=False)"
   ]
  },
  {
   "cell_type": "markdown",
   "metadata": {},
   "source": [
    "В целом, количество игр за все время сильно увеличилось, однако с течением времени появлялись новые платформы, поэтому во всем датафрейме их состав постоянно менялся. Наиболее количество игр вышло в 2005-2011 годах, а наименьшее в 1980 году. Данные с 1980 по примерно 1995 г. не такие показательные, так как за год выпускалось от силы 20 игр, что очень мало по отношению к другим годам. Несмотря на устойчивый рост, после 2011 года заметна тенденция к снижению количества выпускаемых игр, что может быть связано с выходом на рынок новых платформ."
   ]
  },
  {
   "cell_type": "markdown",
   "metadata": {},
   "source": [
    "## Как менялись продажи по платформам?"
   ]
  },
  {
   "cell_type": "markdown",
   "metadata": {},
   "source": [
    "Теперь выберем несколько платформ с наибольшими суммарными продажами и построим распределение по годам."
   ]
  },
  {
   "cell_type": "code",
   "execution_count": 26,
   "metadata": {},
   "outputs": [
    {
     "data": {
      "text/html": [
       "<div>\n",
       "<style scoped>\n",
       "    .dataframe tbody tr th:only-of-type {\n",
       "        vertical-align: middle;\n",
       "    }\n",
       "\n",
       "    .dataframe tbody tr th {\n",
       "        vertical-align: top;\n",
       "    }\n",
       "\n",
       "    .dataframe thead th {\n",
       "        text-align: right;\n",
       "    }\n",
       "</style>\n",
       "<table border=\"1\" class=\"dataframe\">\n",
       "  <thead>\n",
       "    <tr style=\"text-align: right;\">\n",
       "      <th></th>\n",
       "      <th>platform</th>\n",
       "      <th>total_sales</th>\n",
       "    </tr>\n",
       "  </thead>\n",
       "  <tbody>\n",
       "    <tr>\n",
       "      <th>16</th>\n",
       "      <td>PS2</td>\n",
       "      <td>1233.56</td>\n",
       "    </tr>\n",
       "    <tr>\n",
       "      <th>28</th>\n",
       "      <td>X360</td>\n",
       "      <td>961.24</td>\n",
       "    </tr>\n",
       "    <tr>\n",
       "      <th>17</th>\n",
       "      <td>PS3</td>\n",
       "      <td>931.34</td>\n",
       "    </tr>\n",
       "    <tr>\n",
       "      <th>26</th>\n",
       "      <td>Wii</td>\n",
       "      <td>891.18</td>\n",
       "    </tr>\n",
       "    <tr>\n",
       "      <th>4</th>\n",
       "      <td>DS</td>\n",
       "      <td>802.78</td>\n",
       "    </tr>\n",
       "    <tr>\n",
       "      <th>15</th>\n",
       "      <td>PS</td>\n",
       "      <td>727.58</td>\n",
       "    </tr>\n",
       "    <tr>\n",
       "      <th>18</th>\n",
       "      <td>PS4</td>\n",
       "      <td>314.14</td>\n",
       "    </tr>\n",
       "    <tr>\n",
       "      <th>6</th>\n",
       "      <td>GBA</td>\n",
       "      <td>312.88</td>\n",
       "    </tr>\n",
       "    <tr>\n",
       "      <th>19</th>\n",
       "      <td>PSP</td>\n",
       "      <td>289.53</td>\n",
       "    </tr>\n",
       "    <tr>\n",
       "      <th>2</th>\n",
       "      <td>3DS</td>\n",
       "      <td>257.81</td>\n",
       "    </tr>\n",
       "  </tbody>\n",
       "</table>\n",
       "</div>"
      ],
      "text/plain": [
       "   platform  total_sales\n",
       "16      PS2      1233.56\n",
       "28     X360       961.24\n",
       "17      PS3       931.34\n",
       "26      Wii       891.18\n",
       "4        DS       802.78\n",
       "15       PS       727.58\n",
       "18      PS4       314.14\n",
       "6       GBA       312.88\n",
       "19      PSP       289.53\n",
       "2       3DS       257.81"
      ]
     },
     "execution_count": 26,
     "metadata": {},
     "output_type": "execute_result"
    }
   ],
   "source": [
    "top_10_platforms = df.groupby('platform')\\\n",
    ".sum()['total_sales']\\\n",
    ".reset_index()\\\n",
    ".sort_values(by='total_sales', ascending=False)\\\n",
    ".head(10)\n",
    "top_10_platforms"
   ]
  },
  {
   "cell_type": "code",
   "execution_count": 27,
   "metadata": {
    "scrolled": false
   },
   "outputs": [
    {
     "data": {
      "image/png": "[encoded data removed]",
      "text/plain": [
       "<Figure size 1440x648 with 1 Axes>"
      ]
     },
     "metadata": {
      "needs_background": "light"
     },
     "output_type": "display_data"
    }
   ],
   "source": [
    "fig, ax = plt.subplots()\n",
    "top_10_platforms = df.pivot_table(index = 'platform', values='total_sales',\n",
    "                                aggfunc='sum').sort_values(by='total_sales', ascending=False)\\\n",
    ".head(10).plot(kind='bar',stacked=True, ax=ax,figsize=(20,9), alpha=0.5)\n",
    "\n",
    "ax.set_xlabel('Платформа')\n",
    "ax.set_ylabel('Суммарные продажи, млн.копий')\n",
    "ax.set_title('Топ-10 платформ с наибольшими суммарными продажами')\n",
    "plt.show()"
   ]
  },
  {
   "cell_type": "markdown",
   "metadata": {},
   "source": [
    "По графику видно, что в датфрейме продажи игр для первых 6 платформ значетельно превосходят последующие, однако для полноты выборки возмем еще и PS4. Теперь, выбрав наиболее популярные платформы, построим для них распределение по годам, чтобы узнать за какой характерный срок появляются новые и исчезают старые платформы."
   ]
  },
  {
   "cell_type": "code",
   "execution_count": 28,
   "metadata": {},
   "outputs": [
    {
     "data": {
      "image/png": "[encoded data removed]",
      "text/plain": [
       "<Figure size 1440x576 with 1 Axes>"
      ]
     },
     "metadata": {
      "needs_background": "light"
     },
     "output_type": "display_data"
    }
   ],
   "source": [
    "data_top_sales = df.query('2017 > year_of_release >= 2000').pivot_table(\n",
    "    index = 'year_of_release', \n",
    "    columns = 'platform',\n",
    "    values = 'total_sales', \n",
    "    aggfunc = 'sum'\n",
    "    ).fillna(0)\n",
    "\n",
    "data_top_sales = data_top_sales[['PS2', 'X360','PS3','Wii', 'DS', 'PS', 'PS4']]\n",
    "ax = data_top_sales.plot(xticks=data_top_sales.index,figsize=(20,8), grid=True)\n",
    "ylab = ax.set_ylabel('Суммарные продажи, млн.копий')\n",
    "xlab = ax.set_xlabel('Годы')\n",
    "plt.title('Распределение продаж по годам у топ-7 платформ по суммарным продажам')\n",
    "plt.show()     "
   ]
  },
  {
   "cell_type": "markdown",
   "metadata": {},
   "source": [
    "Суммарные продажи разных платформ довольно значительно отличаются, некоторые платформы достигают 200 млн. за свой срок, а для некоторых 50-70 млн. копий является пиковым значением. В среднем период \"жизни\" платформы составляет примерно 5 лет. За это время продажи игр достигают примерно 25% процентов от максимального уровня. Затем примерно через 5 лет это значение повторяется, но уже на стадии спада продаж, после того, как продажи достигли своего пика.  "
   ]
  },
  {
   "cell_type": "markdown",
   "metadata": {},
   "source": [
    "Самой продаваемой платформой долгое время была PS2. В свой период у неё практичеки не было конкурентоспособных аналогов, она в течение долгого времени занимала топовые позиции. Второе и третье места делят между собой Xbox360, Playstation3, DS и Wii: игры на этих платформах были популярны в одни и те же годы, и предпочтения потребителей игр разделились между ними. Продажи на PS4 с 2015 года показывают спад, также как и платформы 3DS, PS3 и X360 (три последние уже практически исчезли с рынка). Можно предположить, что в скором времени значительную долю рынка займут новые платформы. Также вполне возможнен рост продаж PS4 по аналогии с PS3, когда за период 2012-2013 гг., несмотря на спад, продажи на эту платформу несколько увеличились за этот год."
   ]
  },
  {
   "cell_type": "markdown",
   "metadata": {},
   "source": [
    "Тем не менее, с целью составления прогноза по продажам на 2017 год наиболее целесообразно взять актуальный период в 2-3 года. Связано это с тем, что в такой динамичной индустрии как рынок компьютерных игр (много разных платформ появляется за относительно короткий период времени), промежуток в 5 лет - приблизительное время жизни одной платформы - это довольно долго. Скорее всего, чем больше актуальный период, тем больше ненужных платформ придется анализировать, а уже практически \"мертвые\" тренды вряд ли кого-то интересуют."
   ]
  },
  {
   "cell_type": "markdown",
   "metadata": {},
   "source": [
    "Таким образом, для построения прогноза по продажам на 2017 год возьмем данные за 2014-2016 года."
   ]
  },
  {
   "cell_type": "code",
   "execution_count": 29,
   "metadata": {},
   "outputs": [
    {
     "data": {
      "image/png": "[encoded data removed]",
      "text/plain": [
       "<Figure size 864x432 with 1 Axes>"
      ]
     },
     "metadata": {
      "needs_background": "light"
     },
     "output_type": "display_data"
    }
   ],
   "source": [
    "data_sales_2014_2016 = df.query('year_of_release >= 2014').pivot_table(\n",
    "    index = 'year_of_release', \n",
    "    columns = 'platform',\n",
    "    values = 'total_sales', \n",
    "    aggfunc = 'sum'\n",
    "    ).fillna(0)\n",
    "\n",
    "ax = data_sales_2014_2016.plot(xticks=data_sales_2014_2016.index,figsize=(12,6), grid=True)\n",
    "ylab = ax.set_ylabel('Продажи, млн.копий')\n",
    "xlab = ax.set_xlabel('Годы')\n",
    "plt.title('Распределение продаж платформ за 2012 - 2016 гг.')\n",
    "plt.show()     "
   ]
  },
  {
   "cell_type": "markdown",
   "metadata": {},
   "source": [
    "Так, из данных на графике, можно выбрать несколько плафторм, которые могут принести потенциальную прибыль. Консоли PS4, вышедшие в 2013 году продолжают набирать популярность, что в целом, естественно, учитывая, что прошла только пололвина её жизненного цикла.\n",
    "\n",
    "Затем идет Xone - прямой конкурент PS4. Топ-3 замыкает платформа 3DS. Следует отметить, что каждая из эти платформ показывает спад, что может быть связано с присутствием на рынке значительного числа менее популярных платформ, скорее всего, когда их жизненный цикл подойдет к концу, их пользователи перейдут на более популярные платформы."
   ]
  },
  {
   "cell_type": "code",
   "execution_count": 30,
   "metadata": {},
   "outputs": [],
   "source": [
    "df_2014_2016 = df.query('year_of_release >= 2014')"
   ]
  },
  {
   "cell_type": "code",
   "execution_count": 31,
   "metadata": {},
   "outputs": [
    {
     "data": {
      "image/png": "[encoded data removed]",
      "text/plain": [
       "<Figure size 1440x576 with 1 Axes>"
      ]
     },
     "metadata": {
      "needs_background": "light"
     },
     "output_type": "display_data"
    }
   ],
   "source": [
    "fig = plt.subplots(figsize=(20,8))\n",
    "plt.title(\"Глобальные продажи игр по плафтормам\")\n",
    "plot = sns.boxplot(x=\"platform\", y=\"total_sales\", data=df_2014_2016, palette='rainbow', showfliers=False)\n",
    "plt.xlabel('Название платформы')\n",
    "plt.ylabel('Общие продажи, млн.долл')\n",
    "plt.show()"
   ]
  },
  {
   "cell_type": "code",
   "execution_count": 32,
   "metadata": {},
   "outputs": [
    {
     "data": {
      "image/png": "[encoded data removed]",
      "text/plain": [
       "<Figure size 1440x576 with 1 Axes>"
      ]
     },
     "metadata": {
      "needs_background": "light"
     },
     "output_type": "display_data"
    }
   ],
   "source": [
    "fig = plt.subplots(figsize=(20,8))\n",
    "plt.title(\"Глобальные продажи игр по плафтормам\")\n",
    "sns.boxplot(x=\"platform\", y=\"total_sales\", data=df_2014_2016, palette='rainbow')\n",
    "plt.xlabel('Название платформы')\n",
    "plt.ylabel('Общие продажи, млн.долл')\n",
    "plt.show()"
   ]
  },
  {
   "cell_type": "markdown",
   "metadata": {},
   "source": [
    "Мы можем заметить, что медианные значения продаж смещены к нижнему краю – то есть на всех платформах выходит много игр с относительно небольшими продажами. При этом везде есть небольшое количество бестселлеров, продажи которых могут многократно превышать обычные значения. Из-за чего, на одних из самых популярных плафтормах XBoxOne, PS4, PS3, XBox360, Wii, WiiU появляются длинные \"усы\" сигнализирующее о наличии выдающихся значений.\n",
    "\n",
    "Это может быть связано с разнобразием игр на ведущих платформах: поскольку платформы Playstation и Xbox достаточно давно приобрели популярность среди потребителей, они могут позволить себе выпуск достаточно ранжированного по цене игрового контента."
   ]
  },
  {
   "cell_type": "markdown",
   "metadata": {},
   "source": [
    "## Как влияют на продажи внутри одной популярной платформы отзывы пользователей и критиков?"
   ]
  },
  {
   "cell_type": "markdown",
   "metadata": {},
   "source": [
    "Возмем за самую популярную платформу PS4, так как за период 2014-2016 она является самой популярной. Построим диаграмму рассеяния и посчитаем корреляцию между отзывами и продажами."
   ]
  },
  {
   "cell_type": "code",
   "execution_count": 33,
   "metadata": {},
   "outputs": [
    {
     "name": "stdout",
     "output_type": "stream",
     "text": [
      "Корреляция количества продаж платформе PS4 от оценки пользователей:  -0.031957110204556376\n"
     ]
    },
    {
     "data": {
      "image/png": "[encoded data removed]",
      "text/plain": [
       "<Figure size 432x288 with 1 Axes>"
      ]
     },
     "metadata": {
      "needs_background": "light"
     },
     "output_type": "display_data"
    }
   ],
   "source": [
    "df_2014_2016.query('platform == \"PS4\"')\\\n",
    ".plot(kind='scatter',\n",
    "      x='user_score',\n",
    "      y='total_sales',\n",
    "      grid=True,\n",
    "      xlabel = 'Оценка пользователей',\n",
    "      ylabel = 'Количество продаж в млн.копий',\n",
    "      title = 'Зависимость продаж от оценки пользователей')\n",
    "\n",
    "print('Корреляция количества продаж платформе PS4 от оценки пользователей: ', df.query('platform == \"PS4\"')['total_sales']\\\n",
    ".corr(df.query('platform == \"PS4\"')['user_score']))"
   ]
  },
  {
   "cell_type": "code",
   "execution_count": 34,
   "metadata": {},
   "outputs": [
    {
     "data": {
      "image/png": "[encoded data removed]",
      "text/plain": [
       "<Figure size 432x288 with 1 Axes>"
      ]
     },
     "metadata": {
      "needs_background": "light"
     },
     "output_type": "display_data"
    },
    {
     "name": "stdout",
     "output_type": "stream",
     "text": [
      "Корреляция количества продаж на платформе PS4 от оценки критиков:  0.406567902061781\n"
     ]
    }
   ],
   "source": [
    "df_2014_2016.query('platform == \"PS4\"')\\\n",
    ".plot(kind='scatter',\n",
    "      x='critic_score',\n",
    "      y='total_sales', \n",
    "      xlabel = 'Оценка критиков',\n",
    "      grid=True,\n",
    "      ylabel = 'Количество продаж в млн.копий',\n",
    "      title = 'Зависимость продаж от оценки критиков')\n",
    "plt.show()\n",
    "\n",
    "print('Корреляция количества продаж на платформе PS4 от оценки критиков: ',df.query('platform == \"PS4\"')['total_sales']\\\n",
    ".corr(df.query('platform == \"PS4\"')['critic_score']))"
   ]
  },
  {
   "cell_type": "markdown",
   "metadata": {},
   "source": [
    "Коэффициент корреляции между оценкой покупателей и совокупными продажами составил -0.03, что говорит об отсутствии зависимости между этими показателями. При этом диаграмма рассения схожа с диаграммой рассеяния по оценкам критиков, но имеет больший разброс при низких оценках. Возможно, это связано с тем, что потребитель сначала покупает игру, а затем, поиграв, ставит ей оценку, исходя из субъективного впечатления.\n",
    "\n",
    "Коэффициент корреляции между оценкой критиков и совокупными продажами составил 0.4, что говорит о небольшой зависимости между этими показателями. Этот же вывод мы можем сделать из диаграммы рассеяния: игры с низкими оценками критиков практически не продаются, в то время как игры с высокими оценками имеют больше продаж. Скорее всего, критиками оцениваются не все игры, а наиболее популярные у покупателей.\n",
    "\n",
    "Тем не менее, связь оценок с сумммами продаж не является сильной. Соответственно, на продажи игр влияют какие-то иные факторы. Для того чтобы убедится в этом построим такие же диаграммы для остальных "
   ]
  },
  {
   "cell_type": "code",
   "execution_count": 35,
   "metadata": {},
   "outputs": [],
   "source": [
    "def other_platform_matrix(name_of_platform):\n",
    "    platform = df_2014_2016[df_2014_2016['platform'] == name_of_platform]\n",
    "    fig, ax = plt.subplots(1, 2, figsize=(15,5))\n",
    "    sns.scatterplot(x='user_score', y='total_sales', data=platform, ax=ax[0])\n",
    "    sns.scatterplot(x='critic_score', y='total_sales', data=platform, ax=ax[1])\n",
    "    fig.suptitle(name_of_platform, fontsize=15)\n",
    "    ax[0].set(xlabel='Оценка пользователей')\n",
    "    ax[1].set(xlabel='Оценка критиков')\n",
    "    ax[0].set(ylabel='Количество продаж')\n",
    "    ax[1].set(ylabel='Количество продаж')\n",
    "    plt.show()\n",
    "    \n",
    "    correl = platform['user_score'].corr(platform['total_sales'])\n",
    "    critic_correl = platform['critic_score'].corr(platform['total_sales'])\n",
    "    print(f'Корреляция количества продаж на платформе {name_of_platform} от оценки пользователей: {correl}')\n",
    "    print(f'Корреляция количества продаж на платформе {name_of_platform} от оценки критиков: {critic_correl}')"
   ]
  },
  {
   "cell_type": "code",
   "execution_count": 36,
   "metadata": {},
   "outputs": [
    {
     "data": {
      "image/png": "[encoded data removed]",
      "text/plain": [
       "<Figure size 1080x360 with 2 Axes>"
      ]
     },
     "metadata": {
      "needs_background": "light"
     },
     "output_type": "display_data"
    },
    {
     "name": "stdout",
     "output_type": "stream",
     "text": [
      "Корреляция количества продаж на платформе XOne от оценки пользователей: -0.0703839280647581\n",
      "Корреляция количества продаж на платформе XOne от оценки критиков: 0.42867694370333226\n"
     ]
    },
    {
     "data": {
      "image/png": "[encoded data removed]",
      "text/plain": [
       "<Figure size 1080x360 with 2 Axes>"
      ]
     },
     "metadata": {
      "needs_background": "light"
     },
     "output_type": "display_data"
    },
    {
     "name": "stdout",
     "output_type": "stream",
     "text": [
      "Корреляция количества продаж на платформе PS3 от оценки пользователей: -0.16676141347662118\n",
      "Корреляция количества продаж на платформе PS3 от оценки критиков: 0.44657460493190704\n"
     ]
    },
    {
     "data": {
      "image/png": "[encoded data removed]",
      "text/plain": [
       "<Figure size 1080x360 with 2 Axes>"
      ]
     },
     "metadata": {
      "needs_background": "light"
     },
     "output_type": "display_data"
    },
    {
     "name": "stdout",
     "output_type": "stream",
     "text": [
      "Корреляция количества продаж на платформе X360 от оценки пользователей: -0.138444570945665\n",
      "Корреляция количества продаж на платформе X360 от оценки критиков: 0.5257228356581523\n"
     ]
    },
    {
     "data": {
      "image/png": "[encoded data removed]",
      "text/plain": [
       "<Figure size 1080x360 with 2 Axes>"
      ]
     },
     "metadata": {
      "needs_background": "light"
     },
     "output_type": "display_data"
    },
    {
     "name": "stdout",
     "output_type": "stream",
     "text": [
      "Корреляция количества продаж на платформе 3DS от оценки пользователей: 0.2151932718527028\n",
      "Корреляция количества продаж на платформе 3DS от оценки критиков: 0.314117492869051\n"
     ]
    }
   ],
   "source": [
    "other_platforms = ['XOne', 'PS3', 'X360', '3DS']\n",
    "for platform in other_platforms:\n",
    "    other_platform_matrix(platform)"
   ]
  },
  {
   "cell_type": "markdown",
   "metadata": {},
   "source": [
    "Коэффициент корреляции между оценкой критиков и совокупными продажами для других платформ из топ 5 варьируется от -0.17 до 0.22, что говорит о незначительной зависимости между этими показателями. Диаграмма рассеяния тоже имеет больше разбросанных значений при средних и низких оценках. \n",
    "\n",
    "Коэффициент корреляции между оценкой покупателей и совокупными продажами варьируется примерно от 0.31 до 0.52. Это значение примерно равно коэффициенту корреляции на платформе PS4, однако всё равно нельзя сказать, что продажи напрямую зависят от оценок пользователей. Соответственно, проанализровав топ 5 плафторм, можно сказать, что общие продажи не зависят от того, какую оценку игре поставили пользователи или критики. Такие данные лучше не учитывать при выборе стратегии компании."
   ]
  },
  {
   "cell_type": "markdown",
   "metadata": {},
   "source": [
    "## Изучение распределения по жанрам"
   ]
  },
  {
   "cell_type": "code",
   "execution_count": 37,
   "metadata": {
    "scrolled": false
   },
   "outputs": [
    {
     "data": {
      "text/plain": [
       "Action          619\n",
       "Role-Playing    221\n",
       "Adventure       185\n",
       "Sports          161\n",
       "Shooter         128\n",
       "Misc            113\n",
       "Racing           69\n",
       "Fighting         60\n",
       "Simulation       44\n",
       "Platform         38\n",
       "Strategy         37\n",
       "Puzzle           14\n",
       "Name: genre, dtype: int64"
      ]
     },
     "execution_count": 37,
     "metadata": {},
     "output_type": "execute_result"
    }
   ],
   "source": [
    "df_2014_2016['genre'].value_counts()"
   ]
  },
  {
   "cell_type": "code",
   "execution_count": 38,
   "metadata": {},
   "outputs": [
    {
     "data": {
      "text/html": [
       "<div>\n",
       "<style scoped>\n",
       "    .dataframe tbody tr th:only-of-type {\n",
       "        vertical-align: middle;\n",
       "    }\n",
       "\n",
       "    .dataframe tbody tr th {\n",
       "        vertical-align: top;\n",
       "    }\n",
       "\n",
       "    .dataframe thead th {\n",
       "        text-align: right;\n",
       "    }\n",
       "</style>\n",
       "<table border=\"1\" class=\"dataframe\">\n",
       "  <thead>\n",
       "    <tr style=\"text-align: right;\">\n",
       "      <th>platform</th>\n",
       "      <th>3DS</th>\n",
       "      <th>PC</th>\n",
       "      <th>PS3</th>\n",
       "      <th>PS4</th>\n",
       "      <th>PSP</th>\n",
       "      <th>PSV</th>\n",
       "      <th>Wii</th>\n",
       "      <th>WiiU</th>\n",
       "      <th>X360</th>\n",
       "      <th>XOne</th>\n",
       "    </tr>\n",
       "    <tr>\n",
       "      <th>genre</th>\n",
       "      <th></th>\n",
       "      <th></th>\n",
       "      <th></th>\n",
       "      <th></th>\n",
       "      <th></th>\n",
       "      <th></th>\n",
       "      <th></th>\n",
       "      <th></th>\n",
       "      <th></th>\n",
       "      <th></th>\n",
       "    </tr>\n",
       "  </thead>\n",
       "  <tbody>\n",
       "    <tr>\n",
       "      <th>Action</th>\n",
       "      <td>22.06</td>\n",
       "      <td>5.34</td>\n",
       "      <td>18.10</td>\n",
       "      <td>91.62</td>\n",
       "      <td>0.20</td>\n",
       "      <td>7.47</td>\n",
       "      <td>1.19</td>\n",
       "      <td>9.99</td>\n",
       "      <td>12.33</td>\n",
       "      <td>31.06</td>\n",
       "    </tr>\n",
       "    <tr>\n",
       "      <th>Adventure</th>\n",
       "      <td>1.57</td>\n",
       "      <td>0.39</td>\n",
       "      <td>1.98</td>\n",
       "      <td>6.34</td>\n",
       "      <td>0.05</td>\n",
       "      <td>2.29</td>\n",
       "      <td>0.18</td>\n",
       "      <td>0.17</td>\n",
       "      <td>1.90</td>\n",
       "      <td>2.68</td>\n",
       "    </tr>\n",
       "    <tr>\n",
       "      <th>Fighting</th>\n",
       "      <td>8.10</td>\n",
       "      <td>0.10</td>\n",
       "      <td>2.89</td>\n",
       "      <td>7.73</td>\n",
       "      <td>0.00</td>\n",
       "      <td>0.69</td>\n",
       "      <td>0.00</td>\n",
       "      <td>5.88</td>\n",
       "      <td>0.66</td>\n",
       "      <td>2.17</td>\n",
       "    </tr>\n",
       "    <tr>\n",
       "      <th>Misc</th>\n",
       "      <td>3.85</td>\n",
       "      <td>0.05</td>\n",
       "      <td>6.69</td>\n",
       "      <td>7.77</td>\n",
       "      <td>0.02</td>\n",
       "      <td>3.43</td>\n",
       "      <td>3.14</td>\n",
       "      <td>4.59</td>\n",
       "      <td>1.27</td>\n",
       "      <td>6.74</td>\n",
       "    </tr>\n",
       "    <tr>\n",
       "      <th>Platform</th>\n",
       "      <td>3.98</td>\n",
       "      <td>0.06</td>\n",
       "      <td>0.76</td>\n",
       "      <td>5.42</td>\n",
       "      <td>0.00</td>\n",
       "      <td>0.19</td>\n",
       "      <td>0.00</td>\n",
       "      <td>6.87</td>\n",
       "      <td>0.19</td>\n",
       "      <td>0.62</td>\n",
       "    </tr>\n",
       "    <tr>\n",
       "      <th>Puzzle</th>\n",
       "      <td>0.87</td>\n",
       "      <td>0.00</td>\n",
       "      <td>0.04</td>\n",
       "      <td>0.02</td>\n",
       "      <td>0.00</td>\n",
       "      <td>0.06</td>\n",
       "      <td>0.00</td>\n",
       "      <td>1.22</td>\n",
       "      <td>0.00</td>\n",
       "      <td>0.00</td>\n",
       "    </tr>\n",
       "    <tr>\n",
       "      <th>Racing</th>\n",
       "      <td>0.00</td>\n",
       "      <td>0.64</td>\n",
       "      <td>1.00</td>\n",
       "      <td>10.16</td>\n",
       "      <td>0.00</td>\n",
       "      <td>0.10</td>\n",
       "      <td>0.00</td>\n",
       "      <td>7.09</td>\n",
       "      <td>1.64</td>\n",
       "      <td>6.89</td>\n",
       "    </tr>\n",
       "    <tr>\n",
       "      <th>Role-Playing</th>\n",
       "      <td>40.02</td>\n",
       "      <td>4.87</td>\n",
       "      <td>6.63</td>\n",
       "      <td>28.99</td>\n",
       "      <td>0.00</td>\n",
       "      <td>6.10</td>\n",
       "      <td>0.00</td>\n",
       "      <td>1.52</td>\n",
       "      <td>2.76</td>\n",
       "      <td>10.55</td>\n",
       "    </tr>\n",
       "    <tr>\n",
       "      <th>Shooter</th>\n",
       "      <td>0.00</td>\n",
       "      <td>5.79</td>\n",
       "      <td>12.17</td>\n",
       "      <td>78.46</td>\n",
       "      <td>0.00</td>\n",
       "      <td>0.64</td>\n",
       "      <td>0.00</td>\n",
       "      <td>4.83</td>\n",
       "      <td>13.66</td>\n",
       "      <td>55.39</td>\n",
       "    </tr>\n",
       "    <tr>\n",
       "      <th>Simulation</th>\n",
       "      <td>4.13</td>\n",
       "      <td>6.59</td>\n",
       "      <td>0.39</td>\n",
       "      <td>1.23</td>\n",
       "      <td>0.00</td>\n",
       "      <td>0.05</td>\n",
       "      <td>0.00</td>\n",
       "      <td>0.00</td>\n",
       "      <td>0.41</td>\n",
       "      <td>0.33</td>\n",
       "    </tr>\n",
       "    <tr>\n",
       "      <th>Sports</th>\n",
       "      <td>1.32</td>\n",
       "      <td>0.93</td>\n",
       "      <td>17.47</td>\n",
       "      <td>50.01</td>\n",
       "      <td>0.09</td>\n",
       "      <td>1.20</td>\n",
       "      <td>0.56</td>\n",
       "      <td>0.82</td>\n",
       "      <td>13.40</td>\n",
       "      <td>23.68</td>\n",
       "    </tr>\n",
       "    <tr>\n",
       "      <th>Strategy</th>\n",
       "      <td>0.78</td>\n",
       "      <td>2.29</td>\n",
       "      <td>0.06</td>\n",
       "      <td>0.40</td>\n",
       "      <td>0.00</td>\n",
       "      <td>0.18</td>\n",
       "      <td>0.00</td>\n",
       "      <td>0.00</td>\n",
       "      <td>0.00</td>\n",
       "      <td>0.25</td>\n",
       "    </tr>\n",
       "  </tbody>\n",
       "</table>\n",
       "</div>"
      ],
      "text/plain": [
       "platform        3DS    PC    PS3    PS4   PSP   PSV   Wii  WiiU   X360   XOne\n",
       "genre                                                                        \n",
       "Action        22.06  5.34  18.10  91.62  0.20  7.47  1.19  9.99  12.33  31.06\n",
       "Adventure      1.57  0.39   1.98   6.34  0.05  2.29  0.18  0.17   1.90   2.68\n",
       "Fighting       8.10  0.10   2.89   7.73  0.00  0.69  0.00  5.88   0.66   2.17\n",
       "Misc           3.85  0.05   6.69   7.77  0.02  3.43  3.14  4.59   1.27   6.74\n",
       "Platform       3.98  0.06   0.76   5.42  0.00  0.19  0.00  6.87   0.19   0.62\n",
       "Puzzle         0.87  0.00   0.04   0.02  0.00  0.06  0.00  1.22   0.00   0.00\n",
       "Racing         0.00  0.64   1.00  10.16  0.00  0.10  0.00  7.09   1.64   6.89\n",
       "Role-Playing  40.02  4.87   6.63  28.99  0.00  6.10  0.00  1.52   2.76  10.55\n",
       "Shooter        0.00  5.79  12.17  78.46  0.00  0.64  0.00  4.83  13.66  55.39\n",
       "Simulation     4.13  6.59   0.39   1.23  0.00  0.05  0.00  0.00   0.41   0.33\n",
       "Sports         1.32  0.93  17.47  50.01  0.09  1.20  0.56  0.82  13.40  23.68\n",
       "Strategy       0.78  2.29   0.06   0.40  0.00  0.18  0.00  0.00   0.00   0.25"
      ]
     },
     "execution_count": 38,
     "metadata": {},
     "output_type": "execute_result"
    }
   ],
   "source": [
    "df_2014_2016.pivot_table(\n",
    "    columns = 'platform',\n",
    "    index = 'genre',\n",
    "    values = 'total_sales',\n",
    "    aggfunc='sum').fillna(0)"
   ]
  },
  {
   "cell_type": "code",
   "execution_count": 39,
   "metadata": {},
   "outputs": [
    {
     "data": {
      "image/png": "[encoded data removed]",
      "text/plain": [
       "<Figure size 864x432 with 1 Axes>"
      ]
     },
     "metadata": {
      "needs_background": "light"
     },
     "output_type": "display_data"
    }
   ],
   "source": [
    "fig, ax = plt.subplots()\n",
    "df_2014_2016.groupby('genre')[['na_sales', 'eu_sales', 'jp_sales']].agg('mean').plot(kind='bar',stacked=True, ax=ax, figsize=(12,6), alpha=0.7)\n",
    "ax.set_title('Средние продажи по регионам в разрезе жанров')\n",
    "ax.set_ylabel('Продажи, млн копий')\n",
    "ax.set_xlabel('Жанр')\n",
    "ax.grid(True)\n",
    "plt.show()"
   ]
  },
  {
   "cell_type": "markdown",
   "metadata": {},
   "source": [
    "Самым прибыльным жанром является шутеры, который наиболее популярен в Америке и Европе. В топ-5 также входят игры жанра спорт, файтинги, платформеры и ролевые игры.  \n",
    "Самыми неперспективными жанрами игр для продаж является приключения, стратегии и головоломки."
   ]
  },
  {
   "cell_type": "markdown",
   "metadata": {},
   "source": [
    "**Вывод:**\n",
    "\n",
    "На основе анализа продаж можем сделать прогноз, что потенциально прибыльными в 2017 году будут платформы: XOne, которая уже несколько лет пользуется популярностью у потребителей игр; Playstation 4, только набирающая обороты и приносящая самый высокий доход от продаж.\n",
    "\n",
    "При анализе связи между оценкой игры и совокупными продажами было выявлено, что между оценкой критиков и продажами есть слабая связь, причём для популярных платформ она чуть сильнее, чем для непопулярных; и между оценкой пользователей и совокупными продажами нет связи (ни для популярных, ни для непопулярных платформ). С одной стороны, это может быть связано с тем, что люди обращают внимание на оценку игры, прежде чем покупают её (но корреляция невысокая, соответственно, это точно не ключевой показатель)."
   ]
  },
  {
   "cell_type": "markdown",
   "metadata": {},
   "source": [
    "## Составление портрета пользователя каждого региона"
   ]
  },
  {
   "cell_type": "code",
   "execution_count": 41,
   "metadata": {},
   "outputs": [],
   "source": [
    "# Функция для построения графиков по заданному параметру в каждом регионе.\n",
    "def region_stat(ind, xlabel_name):\n",
    "    na_temp = df_2014_2016.pivot_table(index=ind, values='na_sales', aggfunc='sum')\\\n",
    "    .sort_values(by='na_sales', ascending=False).head()\\\n",
    "    .reset_index()\n",
    "    eu_temp = df_2014_2016.pivot_table(index=ind, values='eu_sales', aggfunc='sum')\\\n",
    "    .sort_values(by='eu_sales', ascending=False).head()\\\n",
    "    .reset_index()\n",
    "    jp_temp = df_2014_2016.pivot_table(index=ind, values='jp_sales', aggfunc='sum')\\\n",
    "    .sort_values(by='jp_sales', ascending=False).head()\\\n",
    "    .reset_index()\n",
    "    \n",
    "    fig, (ax1, ax2, ax3) = plt.subplots(1, 3, figsize=(20, 5))\n",
    "    sns.barplot(data=na_temp, x=ind, y='na_sales', palette='muted', ax=ax1)\n",
    "    sns.barplot(data=eu_temp, x=ind, y='eu_sales', palette='muted', ax=ax2)\n",
    "    sns.barplot(data=jp_temp, x=ind, y='jp_sales', palette='muted', ax=ax3)\n",
    "    ax1.set(xlabel=xlabel_name)\n",
    "    ax2.set(xlabel=xlabel_name)\n",
    "    ax3.set(xlabel=xlabel_name)\n",
    "    ax1.set(ylabel='Количество продаж')\n",
    "    ax2.set(ylabel='Количество продаж')\n",
    "    ax3.set(ylabel='Количество продаж')\n",
    "    ax1.set(title='Сервеная Америка')\n",
    "    ax2.set(title='Европа')\n",
    "    ax3.set(title='Япония')\n",
    "    plt.show()"
   ]
  },
  {
   "cell_type": "markdown",
   "metadata": {},
   "source": [
    "### Платформа"
   ]
  },
  {
   "cell_type": "code",
   "execution_count": 42,
   "metadata": {},
   "outputs": [
    {
     "data": {
      "text/html": [
       "<style  type=\"text/css\" >\n",
       "</style><table id=\"T_7f6cf_\" ><thead>    <tr>        <th class=\"blank level0\" ></th>        <th class=\"col_heading level0 col0\" >eu_sales</th>        <th class=\"col_heading level0 col1\" >jp_sales</th>        <th class=\"col_heading level0 col2\" >na_sales</th>    </tr>    <tr>        <th class=\"index_name level0\" >platform</th>        <th class=\"blank\" ></th>        <th class=\"blank\" ></th>        <th class=\"blank\" ></th>    </tr></thead><tbody>\n",
       "                <tr>\n",
       "                        <th id=\"T_7f6cf_level0_row0\" class=\"row_heading level0 row0\" >3DS</th>\n",
       "                        <td id=\"T_7f6cf_row0_col0\" class=\"data row0 col0\" >6.0%</td>\n",
       "                        <td id=\"T_7f6cf_row0_col1\" class=\"data row0 col1\" >47.5%</td>\n",
       "                        <td id=\"T_7f6cf_row0_col2\" class=\"data row0 col2\" >8.0%</td>\n",
       "            </tr>\n",
       "            <tr>\n",
       "                        <th id=\"T_7f6cf_level0_row1\" class=\"row_heading level0 row1\" >PC</th>\n",
       "                        <td id=\"T_7f6cf_row1_col0\" class=\"data row1 col0\" >6.6%</td>\n",
       "                        <td id=\"T_7f6cf_row1_col1\" class=\"data row1 col1\" >0.0%</td>\n",
       "                        <td id=\"T_7f6cf_row1_col2\" class=\"data row1 col2\" >2.5%</td>\n",
       "            </tr>\n",
       "            <tr>\n",
       "                        <th id=\"T_7f6cf_level0_row2\" class=\"row_heading level0 row2\" >PS3</th>\n",
       "                        <td id=\"T_7f6cf_row2_col0\" class=\"data row2 col0\" >9.4%</td>\n",
       "                        <td id=\"T_7f6cf_row2_col1\" class=\"data row2 col1\" >12.1%</td>\n",
       "                        <td id=\"T_7f6cf_row2_col2\" class=\"data row2 col2\" >7.8%</td>\n",
       "            </tr>\n",
       "            <tr>\n",
       "                        <th id=\"T_7f6cf_level0_row3\" class=\"row_heading level0 row3\" >PS4</th>\n",
       "                        <td id=\"T_7f6cf_row3_col0\" class=\"data row3 col0\" >48.0%</td>\n",
       "                        <td id=\"T_7f6cf_row3_col1\" class=\"data row3 col1\" >16.1%</td>\n",
       "                        <td id=\"T_7f6cf_row3_col2\" class=\"data row3 col2\" >34.7%</td>\n",
       "            </tr>\n",
       "            <tr>\n",
       "                        <th id=\"T_7f6cf_level0_row4\" class=\"row_heading level0 row4\" >PSP</th>\n",
       "                        <td id=\"T_7f6cf_row4_col0\" class=\"data row4 col0\" >0.0%</td>\n",
       "                        <td id=\"T_7f6cf_row4_col1\" class=\"data row4 col1\" >0.4%</td>\n",
       "                        <td id=\"T_7f6cf_row4_col2\" class=\"data row4 col2\" >0.0%</td>\n",
       "            </tr>\n",
       "            <tr>\n",
       "                        <th id=\"T_7f6cf_level0_row5\" class=\"row_heading level0 row5\" >PSV</th>\n",
       "                        <td id=\"T_7f6cf_row5_col0\" class=\"data row5 col0\" >1.3%</td>\n",
       "                        <td id=\"T_7f6cf_row5_col1\" class=\"data row5 col1\" >15.6%</td>\n",
       "                        <td id=\"T_7f6cf_row5_col2\" class=\"data row5 col2\" >0.9%</td>\n",
       "            </tr>\n",
       "            <tr>\n",
       "                        <th id=\"T_7f6cf_level0_row6\" class=\"row_heading level0 row6\" >Wii</th>\n",
       "                        <td id=\"T_7f6cf_row6_col0\" class=\"data row6 col0\" >1.0%</td>\n",
       "                        <td id=\"T_7f6cf_row6_col1\" class=\"data row6 col1\" >0.0%</td>\n",
       "                        <td id=\"T_7f6cf_row6_col2\" class=\"data row6 col2\" >0.7%</td>\n",
       "            </tr>\n",
       "            <tr>\n",
       "                        <th id=\"T_7f6cf_level0_row7\" class=\"row_heading level0 row7\" >WiiU</th>\n",
       "                        <td id=\"T_7f6cf_row7_col0\" class=\"data row7 col0\" >4.9%</td>\n",
       "                        <td id=\"T_7f6cf_row7_col1\" class=\"data row7 col1\" >7.9%</td>\n",
       "                        <td id=\"T_7f6cf_row7_col2\" class=\"data row7 col2\" >6.8%</td>\n",
       "            </tr>\n",
       "            <tr>\n",
       "                        <th id=\"T_7f6cf_level0_row8\" class=\"row_heading level0 row8\" >X360</th>\n",
       "                        <td id=\"T_7f6cf_row8_col0\" class=\"data row8 col0\" >5.7%</td>\n",
       "                        <td id=\"T_7f6cf_row8_col1\" class=\"data row8 col1\" >0.1%</td>\n",
       "                        <td id=\"T_7f6cf_row8_col2\" class=\"data row8 col2\" >10.0%</td>\n",
       "            </tr>\n",
       "            <tr>\n",
       "                        <th id=\"T_7f6cf_level0_row9\" class=\"row_heading level0 row9\" >XOne</th>\n",
       "                        <td id=\"T_7f6cf_row9_col0\" class=\"data row9 col0\" >17.1%</td>\n",
       "                        <td id=\"T_7f6cf_row9_col1\" class=\"data row9 col1\" >0.3%</td>\n",
       "                        <td id=\"T_7f6cf_row9_col2\" class=\"data row9 col2\" >28.6%</td>\n",
       "            </tr>\n",
       "    </tbody></table>"
      ],
      "text/plain": [
       "<pandas.io.formats.style.Styler at 0x7f82e52325b0>"
      ]
     },
     "execution_count": 42,
     "metadata": {},
     "output_type": "execute_result"
    }
   ],
   "source": [
    "df_2014_2016.pivot_table(\n",
    "    index = 'platform',\n",
    "    values = ['na_sales', 'eu_sales', 'jp_sales'],\n",
    "    aggfunc =  'sum')\\\n",
    ".apply(lambda col: col / col.sum(), axis=0)\\\n",
    ".style.format(\"{:.1%}\")"
   ]
  },
  {
   "cell_type": "code",
   "execution_count": 43,
   "metadata": {},
   "outputs": [
    {
     "data": {
      "image/png": "[encoded data removed]",
      "text/plain": [
       "<Figure size 1440x360 with 3 Axes>"
      ]
     },
     "metadata": {
      "needs_background": "light"
     },
     "output_type": "display_data"
    }
   ],
   "source": [
    "region_stat('platform', 'Платформа')"
   ]
  },
  {
   "cell_type": "markdown",
   "metadata": {},
   "source": [
    "Разница в популярностях платформ очевидна. Пользователь из Севрной Америки предпочитает либо PS4, либо Xbox One. Доля остальных платформ в этом регионе значительно меньше. В Европейском регионе доминирует PS4, а вот в Японии самая популярная платформа - 3DS, затем идут обе консоли от PlayStation.  Япония - страна производства Sony и Nintendo, поэтому доля остальных платформ там незначительна."
   ]
  },
  {
   "cell_type": "markdown",
   "metadata": {},
   "source": [
    "### Жанр"
   ]
  },
  {
   "cell_type": "code",
   "execution_count": 47,
   "metadata": {},
   "outputs": [
    {
     "data": {
      "text/html": [
       "<style  type=\"text/css\" >\n",
       "</style><table id=\"T_8dbd6_\" ><thead>    <tr>        <th class=\"blank level0\" ></th>        <th class=\"col_heading level0 col0\" >eu_sales</th>        <th class=\"col_heading level0 col1\" >jp_sales</th>        <th class=\"col_heading level0 col2\" >na_sales</th>    </tr>    <tr>        <th class=\"index_name level0\" >genre</th>        <th class=\"blank\" ></th>        <th class=\"blank\" ></th>        <th class=\"blank\" ></th>    </tr></thead><tbody>\n",
       "                <tr>\n",
       "                        <th id=\"T_8dbd6_level0_row0\" class=\"row_heading level0 row0\" >Action</th>\n",
       "                        <td id=\"T_8dbd6_row0_col0\" class=\"data row0 col0\" >27.6%</td>\n",
       "                        <td id=\"T_8dbd6_row0_col1\" class=\"data row0 col1\" >31.8%</td>\n",
       "                        <td id=\"T_8dbd6_row0_col2\" class=\"data row0 col2\" >25.5%</td>\n",
       "            </tr>\n",
       "            <tr>\n",
       "                        <th id=\"T_8dbd6_level0_row1\" class=\"row_heading level0 row1\" >Adventure</th>\n",
       "                        <td id=\"T_8dbd6_row1_col0\" class=\"data row1 col0\" >2.4%</td>\n",
       "                        <td id=\"T_8dbd6_row1_col1\" class=\"data row1 col1\" >3.9%</td>\n",
       "                        <td id=\"T_8dbd6_row1_col2\" class=\"data row1 col2\" >2.0%</td>\n",
       "            </tr>\n",
       "            <tr>\n",
       "                        <th id=\"T_8dbd6_level0_row2\" class=\"row_heading level0 row2\" >Fighting</th>\n",
       "                        <td id=\"T_8dbd6_row2_col0\" class=\"data row2 col0\" >2.5%</td>\n",
       "                        <td id=\"T_8dbd6_row2_col1\" class=\"data row2 col1\" >6.8%</td>\n",
       "                        <td id=\"T_8dbd6_row2_col2\" class=\"data row2 col2\" >4.4%</td>\n",
       "            </tr>\n",
       "            <tr>\n",
       "                        <th id=\"T_8dbd6_level0_row3\" class=\"row_heading level0 row3\" >Misc</th>\n",
       "                        <td id=\"T_8dbd6_row3_col0\" class=\"data row3 col0\" >4.8%</td>\n",
       "                        <td id=\"T_8dbd6_row3_col1\" class=\"data row3 col1\" >6.0%</td>\n",
       "                        <td id=\"T_8dbd6_row3_col2\" class=\"data row3 col2\" >5.3%</td>\n",
       "            </tr>\n",
       "            <tr>\n",
       "                        <th id=\"T_8dbd6_level0_row4\" class=\"row_heading level0 row4\" >Platform</th>\n",
       "                        <td id=\"T_8dbd6_row4_col0\" class=\"data row4 col0\" >2.5%</td>\n",
       "                        <td id=\"T_8dbd6_row4_col1\" class=\"data row4 col1\" >2.9%</td>\n",
       "                        <td id=\"T_8dbd6_row4_col2\" class=\"data row4 col2\" >2.4%</td>\n",
       "            </tr>\n",
       "            <tr>\n",
       "                        <th id=\"T_8dbd6_level0_row5\" class=\"row_heading level0 row5\" >Puzzle</th>\n",
       "                        <td id=\"T_8dbd6_row5_col0\" class=\"data row5 col0\" >0.2%</td>\n",
       "                        <td id=\"T_8dbd6_row5_col1\" class=\"data row5 col1\" >1.0%</td>\n",
       "                        <td id=\"T_8dbd6_row5_col2\" class=\"data row5 col2\" >0.2%</td>\n",
       "            </tr>\n",
       "            <tr>\n",
       "                        <th id=\"T_8dbd6_level0_row6\" class=\"row_heading level0 row6\" >Racing</th>\n",
       "                        <td id=\"T_8dbd6_row6_col0\" class=\"data row6 col0\" >5.2%</td>\n",
       "                        <td id=\"T_8dbd6_row6_col1\" class=\"data row6 col1\" >1.9%</td>\n",
       "                        <td id=\"T_8dbd6_row6_col2\" class=\"data row6 col2\" >3.1%</td>\n",
       "            </tr>\n",
       "            <tr>\n",
       "                        <th id=\"T_8dbd6_level0_row7\" class=\"row_heading level0 row7\" >Role-Playing</th>\n",
       "                        <td id=\"T_8dbd6_row7_col0\" class=\"data row7 col0\" >10.4%</td>\n",
       "                        <td id=\"T_8dbd6_row7_col1\" class=\"data row7 col1\" >33.5%</td>\n",
       "                        <td id=\"T_8dbd6_row7_col2\" class=\"data row7 col2\" >11.8%</td>\n",
       "            </tr>\n",
       "            <tr>\n",
       "                        <th id=\"T_8dbd6_level0_row8\" class=\"row_heading level0 row8\" >Shooter</th>\n",
       "                        <td id=\"T_8dbd6_row8_col0\" class=\"data row8 col0\" >24.2%</td>\n",
       "                        <td id=\"T_8dbd6_row8_col1\" class=\"data row8 col1\" >5.2%</td>\n",
       "                        <td id=\"T_8dbd6_row8_col2\" class=\"data row8 col2\" >27.8%</td>\n",
       "            </tr>\n",
       "            <tr>\n",
       "                        <th id=\"T_8dbd6_level0_row9\" class=\"row_heading level0 row9\" >Simulation</th>\n",
       "                        <td id=\"T_8dbd6_row9_col0\" class=\"data row9 col0\" >2.7%</td>\n",
       "                        <td id=\"T_8dbd6_row9_col1\" class=\"data row9 col1\" >2.5%</td>\n",
       "                        <td id=\"T_8dbd6_row9_col2\" class=\"data row9 col2\" >0.9%</td>\n",
       "            </tr>\n",
       "            <tr>\n",
       "                        <th id=\"T_8dbd6_level0_row10\" class=\"row_heading level0 row10\" >Sports</th>\n",
       "                        <td id=\"T_8dbd6_row10_col0\" class=\"data row10 col0\" >16.9%</td>\n",
       "                        <td id=\"T_8dbd6_row10_col1\" class=\"data row10 col1\" >3.5%</td>\n",
       "                        <td id=\"T_8dbd6_row10_col2\" class=\"data row10 col2\" >16.2%</td>\n",
       "            </tr>\n",
       "            <tr>\n",
       "                        <th id=\"T_8dbd6_level0_row11\" class=\"row_heading level0 row11\" >Strategy</th>\n",
       "                        <td id=\"T_8dbd6_row11_col0\" class=\"data row11 col0\" >0.7%</td>\n",
       "                        <td id=\"T_8dbd6_row11_col1\" class=\"data row11 col1\" >1.0%</td>\n",
       "                        <td id=\"T_8dbd6_row11_col2\" class=\"data row11 col2\" >0.3%</td>\n",
       "            </tr>\n",
       "    </tbody></table>"
      ],
      "text/plain": [
       "<pandas.io.formats.style.Styler at 0x7f82e711ff70>"
      ]
     },
     "execution_count": 47,
     "metadata": {},
     "output_type": "execute_result"
    }
   ],
   "source": [
    "df_2014_2016.pivot_table(\n",
    "    index = 'genre',\n",
    "    values = ['na_sales', 'eu_sales', 'jp_sales'],\n",
    "    aggfunc =  'sum')\\\n",
    ".apply(lambda col: col / col.sum(), axis=0)\\\n",
    ".style.format(\"{:.1%}\")"
   ]
  },
  {
   "cell_type": "code",
   "execution_count": 48,
   "metadata": {},
   "outputs": [
    {
     "data": {
      "image/png": "[encoded data removed]",
      "text/plain": [
       "<Figure size 1440x360 with 3 Axes>"
      ]
     },
     "metadata": {
      "needs_background": "light"
     },
     "output_type": "display_data"
    }
   ],
   "source": [
    "region_stat('genre', 'Жанр')"
   ]
  },
  {
   "cell_type": "markdown",
   "metadata": {},
   "source": [
    "В Северной Америке самая большая доля рынка от глобальных продаж, количество продаж постепенно снижается: шутеры, экшен, спорт, ролевые и разное. График для Европы похож на распределение жанров для Америки, однако топ-1 теперь занимает экшен, а затем уже идут шутеры. В Японии снова особенная картина - 2 наиболее популярных жанра теперь ролевые игры и экшен, а вот доля остальных намного меньше. Также впервые появляется файтинг."
   ]
  },
  {
   "cell_type": "markdown",
   "metadata": {},
   "source": [
    "### Рейтинг"
   ]
  },
  {
   "cell_type": "code",
   "execution_count": 49,
   "metadata": {},
   "outputs": [
    {
     "data": {
      "text/html": [
       "<style  type=\"text/css\" >\n",
       "</style><table id=\"T_180ff_\" ><thead>    <tr>        <th class=\"blank level0\" ></th>        <th class=\"col_heading level0 col0\" >eu_sales</th>        <th class=\"col_heading level0 col1\" >jp_sales</th>        <th class=\"col_heading level0 col2\" >na_sales</th>    </tr>    <tr>        <th class=\"index_name level0\" >rating</th>        <th class=\"blank\" ></th>        <th class=\"blank\" ></th>        <th class=\"blank\" ></th>    </tr></thead><tbody>\n",
       "                <tr>\n",
       "                        <th id=\"T_180ff_level0_row0\" class=\"row_heading level0 row0\" >E</th>\n",
       "                        <td id=\"T_180ff_row0_col0\" class=\"data row0 col0\" >21.4%</td>\n",
       "                        <td id=\"T_180ff_row0_col1\" class=\"data row0 col1\" >9.6%</td>\n",
       "                        <td id=\"T_180ff_row0_col2\" class=\"data row0 col2\" >17.9%</td>\n",
       "            </tr>\n",
       "            <tr>\n",
       "                        <th id=\"T_180ff_level0_row1\" class=\"row_heading level0 row1\" >E10+</th>\n",
       "                        <td id=\"T_180ff_row1_col0\" class=\"data row1 col0\" >9.7%</td>\n",
       "                        <td id=\"T_180ff_row1_col1\" class=\"data row1 col1\" >4.8%</td>\n",
       "                        <td id=\"T_180ff_row1_col2\" class=\"data row1 col2\" >11.7%</td>\n",
       "            </tr>\n",
       "            <tr>\n",
       "                        <th id=\"T_180ff_level0_row2\" class=\"row_heading level0 row2\" >M</th>\n",
       "                        <td id=\"T_180ff_row2_col0\" class=\"data row2 col0\" >34.5%</td>\n",
       "                        <td id=\"T_180ff_row2_col1\" class=\"data row2 col1\" >8.6%</td>\n",
       "                        <td id=\"T_180ff_row2_col2\" class=\"data row2 col2\" >33.9%</td>\n",
       "            </tr>\n",
       "            <tr>\n",
       "                        <th id=\"T_180ff_level0_row3\" class=\"row_heading level0 row3\" >T</th>\n",
       "                        <td id=\"T_180ff_row3_col0\" class=\"data row3 col0\" >12.6%</td>\n",
       "                        <td id=\"T_180ff_row3_col1\" class=\"data row3 col1\" >15.9%</td>\n",
       "                        <td id=\"T_180ff_row3_col2\" class=\"data row3 col2\" >13.7%</td>\n",
       "            </tr>\n",
       "            <tr>\n",
       "                        <th id=\"T_180ff_level0_row4\" class=\"row_heading level0 row4\" >no_ESRB</th>\n",
       "                        <td id=\"T_180ff_row4_col0\" class=\"data row4 col0\" >21.8%</td>\n",
       "                        <td id=\"T_180ff_row4_col1\" class=\"data row4 col1\" >61.1%</td>\n",
       "                        <td id=\"T_180ff_row4_col2\" class=\"data row4 col2\" >22.8%</td>\n",
       "            </tr>\n",
       "    </tbody></table>"
      ],
      "text/plain": [
       "<pandas.io.formats.style.Styler at 0x7f82e4fa0550>"
      ]
     },
     "execution_count": 49,
     "metadata": {},
     "output_type": "execute_result"
    }
   ],
   "source": [
    "df_2014_2016.pivot_table(\n",
    "    index = 'rating',\n",
    "    values = ['na_sales', 'eu_sales', 'jp_sales'],\n",
    "    aggfunc =  'sum')\\\n",
    ".apply(lambda col: col / col.sum(), axis=0)\\\n",
    ".style.format(\"{:.1%}\")"
   ]
  },
  {
   "cell_type": "code",
   "execution_count": 50,
   "metadata": {},
   "outputs": [
    {
     "data": {
      "image/png": "[encoded data removed]",
      "text/plain": [
       "<Figure size 1440x360 with 3 Axes>"
      ]
     },
     "metadata": {
      "needs_background": "light"
     },
     "output_type": "display_data"
    }
   ],
   "source": [
    "region_stat('rating', 'Рейтинг')"
   ]
  },
  {
   "cell_type": "markdown",
   "metadata": {},
   "source": [
    "Игры без рейтинга занимают первое место в Японии, и значительную долю в каждом регионе. Так как этим значением мы ранее заполнили пропуски, возможно, не все игры подвергались оценке ESRB. Кроме того, в Японии она вовсе почти не используется. В Америке и Европе наиболее популярны игры с рейтином **М** (для лиц старше 17 лет), однако в Японии их обгоняют игры с рейтингом **Т** (для лиц старше 13 лет). Кроме того, во всех трех регионах наименьшие продажи у игр с рейтингом **Е10+** (для лиц старше 10 лет).\n"
   ]
  },
  {
   "cell_type": "markdown",
   "metadata": {},
   "source": [
    "**Вывод:**\n",
    "\n",
    "Если рассматривать наиболее перспективные платформы на 2017 год, то можно наблюдать следующее распределение популярности по представленным регионам:\n",
    "\n",
    "В Северной Америке и Европе наиболее популярна Playstation 4 .\n",
    "В Японии самой популярной является 3DS, которая в других регионах занимет второе место из перспективных.\n",
    "В Северной Америке и Европе также популярна платформа XBoxOne, игры на которую практически не продаются в Японии.\n",
    "В случае с жанрами распределение тоже преобретаер корреляционный характер, так, например:\n",
    "\n",
    "Во всех трёх регионах достаточно популярны игры в жанре \"Экшен\".\n",
    "В Японии самыми популярными являются игры в жанре \"Ролевые\".\n",
    "Различия в приверженности определённым жанрам могут быть в том числе связаны с различиями в популярности платформ в регионах. К примеру, игры в жанре \"Шутер\" совсем не популярны в Японии.\n",
    "\n",
    "В то же время, следует учитывать и культурные особенности, формирующие предпочтения потребителей. В Северной Америке и Европе очень схожи доли продаж популярных жанров, но и культура достаточно близка; в Японии предпочтения отличаются.\n",
    "\n",
    "Таким образом, в Северной Америке и Европе схожая структура продаж по рейтингу игр. В Японии предпочтения довольно сильно отличаются: подростковые игры более популярны, чем игры для взрослых. В остальном структура похожа. На игры для детей младшего возраста спроса почти нет ни в одном регионе."
   ]
  },
  {
   "cell_type": "markdown",
   "metadata": {},
   "source": [
    "## Проверка гипотез"
   ]
  },
  {
   "cell_type": "markdown",
   "metadata": {},
   "source": [
    "Теперь проверим гипотезы о средних значениях пользовательского рейтинга."
   ]
  },
  {
   "cell_type": "markdown",
   "metadata": {},
   "source": [
    "### Гипотеза 1. Средние пользовательские рейтинги платформ Xbox One и PC одинаковые."
   ]
  },
  {
   "cell_type": "code",
   "execution_count": 51,
   "metadata": {},
   "outputs": [],
   "source": [
    "# Сохраним в отдельных переменных данные об нужных платформах.\n",
    "xone_rate = df_2014_2016.query('platform == \"XOne\"')['user_score']\n",
    "pc_rate = df_2014_2016.query('platform == \"PC\"')['user_score']"
   ]
  },
  {
   "cell_type": "code",
   "execution_count": 52,
   "metadata": {},
   "outputs": [
    {
     "data": {
      "text/plain": [
       "6.594545454545454"
      ]
     },
     "execution_count": 52,
     "metadata": {},
     "output_type": "execute_result"
    }
   ],
   "source": [
    "xone_rate.mean()"
   ]
  },
  {
   "cell_type": "code",
   "execution_count": 53,
   "metadata": {},
   "outputs": [
    {
     "data": {
      "text/plain": [
       "6.298360655737704"
      ]
     },
     "execution_count": 53,
     "metadata": {},
     "output_type": "execute_result"
    }
   ],
   "source": [
    "pc_rate.mean()"
   ]
  },
  {
   "cell_type": "code",
   "execution_count": 54,
   "metadata": {},
   "outputs": [],
   "source": [
    "def hist(data, title_1, title_2):    # напишем фунцию для построения графиков  \n",
    "    sns.histplot(data)\n",
    "    plt.title(title_2, loc='left')\n",
    "    plt.show()"
   ]
  },
  {
   "cell_type": "code",
   "execution_count": 55,
   "metadata": {
    "scrolled": true
   },
   "outputs": [
    {
     "data": {
      "image/png": "[encoded data removed]",
      "text/plain": [
       "<Figure size 432x288 with 1 Axes>"
      ]
     },
     "metadata": {
      "needs_background": "light"
     },
     "output_type": "display_data"
    }
   ],
   "source": [
    "hist(\n",
    "    xone_rate, \n",
    "    'Распределение оценок пользователей Xbox One',\n",
    "    'Проверка нормальности распределения, оценки пользователей Xbox One'\n",
    ")"
   ]
  },
  {
   "cell_type": "code",
   "execution_count": 56,
   "metadata": {},
   "outputs": [
    {
     "data": {
      "image/png": "[encoded data removed]",
      "text/plain": [
       "<Figure size 432x288 with 1 Axes>"
      ]
     },
     "metadata": {
      "needs_background": "light"
     },
     "output_type": "display_data"
    }
   ],
   "source": [
    "hist(\n",
    "    pc_rate, \n",
    "    'Распределение оценок пользователей PC',\n",
    "    'Проверка нормальности распределения, оценки пользователей PC'\n",
    ")"
   ]
  },
  {
   "cell_type": "markdown",
   "metadata": {},
   "source": [
    "Данные распределены нормально, однако можно заметить некоторое смещение вправо."
   ]
  },
  {
   "cell_type": "markdown",
   "metadata": {},
   "source": [
    "**Нулевая гипотеза H0** - Средние двух генеральных совокупностей равны между собой.\n",
    "\n",
    "**Альтернативная гипотеза H1** - Средние двух генеральных совокупностей не равны между собой."
   ]
  },
  {
   "cell_type": "markdown",
   "metadata": {},
   "source": [
    "Согласно центральной предельной теореме, выборочные средние распределены нормально вокруг истинного среднего генеральной совокупности, поэтому введём уровень значимости, определяющий близость к среднему значению: 5%."
   ]
  },
  {
   "cell_type": "markdown",
   "metadata": {},
   "source": [
    "Кроме того, дисперсия каждой выборки должна быть оценена по датасету каждой из выборок, а не по их объединению. Также отметим, что выборки являются независимыми."
   ]
  },
  {
   "cell_type": "markdown",
   "metadata": {},
   "source": [
    "Проверим гипотезы через распределение t-Стьюдента."
   ]
  },
  {
   "cell_type": "code",
   "execution_count": 57,
   "metadata": {},
   "outputs": [
    {
     "name": "stdout",
     "output_type": "stream",
     "text": [
      "0.11601398086668943\n",
      "Не получилось отвергнуть нулевую гипотезу\n"
     ]
    }
   ],
   "source": [
    "alpha = .05\n",
    "results = st.ttest_ind(xone_rate, pc_rate,equal_var=False, nan_policy='omit')\n",
    "\n",
    "print(results.pvalue)\n",
    "if results.pvalue < alpha:\n",
    "    print('Отвергаем нулевую гипотезу')\n",
    "else:\n",
    "    print('Не получилось отвергнуть нулевую гипотезу')"
   ]
  },
  {
   "cell_type": "markdown",
   "metadata": {},
   "source": [
    "Получили результат: p-значение оказалось больше уровня значимости в 5%. Поэтому у нас не получается отвергнуть нулевую гипотезу: средние двух генеральных совокупностей равны между собой."
   ]
  },
  {
   "cell_type": "markdown",
   "metadata": {},
   "source": [
    "### Гипотеза 2. Средние пользовательские рейтинги жанров Action  и Sports  разные."
   ]
  },
  {
   "cell_type": "code",
   "execution_count": 58,
   "metadata": {},
   "outputs": [],
   "source": [
    "action_rate = df_2014_2016.query('genre == \"Action\"')['user_score']\n",
    "sports_rate = df_2014_2016.query('genre == \"Sports\"')['user_score']"
   ]
  },
  {
   "cell_type": "code",
   "execution_count": 59,
   "metadata": {},
   "outputs": [
    {
     "data": {
      "text/plain": [
       "6.760606060606061"
      ]
     },
     "execution_count": 59,
     "metadata": {},
     "output_type": "execute_result"
    }
   ],
   "source": [
    "action_rate.mean()"
   ]
  },
  {
   "cell_type": "code",
   "execution_count": 60,
   "metadata": {},
   "outputs": [
    {
     "data": {
      "text/plain": [
       "5.225196850393701"
      ]
     },
     "execution_count": 60,
     "metadata": {},
     "output_type": "execute_result"
    }
   ],
   "source": [
    "sports_rate.mean()"
   ]
  },
  {
   "cell_type": "code",
   "execution_count": 61,
   "metadata": {},
   "outputs": [
    {
     "data": {
      "image/png": "[encoded data removed]",
      "text/plain": [
       "<Figure size 432x288 with 1 Axes>"
      ]
     },
     "metadata": {
      "needs_background": "light"
     },
     "output_type": "display_data"
    }
   ],
   "source": [
    "hist(\n",
    "    action_rate, \n",
    "    'Распределение оценок жанра \"Экшен\"',\n",
    "    'Проверка нормальности распределения, оценки игр жанра \"Экшен\"'\n",
    ")"
   ]
  },
  {
   "cell_type": "code",
   "execution_count": 62,
   "metadata": {
    "scrolled": true
   },
   "outputs": [
    {
     "data": {
      "image/png": "[encoded data removed]",
      "text/plain": [
       "<Figure size 432x288 with 1 Axes>"
      ]
     },
     "metadata": {
      "needs_background": "light"
     },
     "output_type": "display_data"
    }
   ],
   "source": [
    "hist(\n",
    "    sports_rate, \n",
    "    'Распределение оценок жанра \"Спорт\"',\n",
    "    'Проверка нормальности распределения, оценки игр жанра \"Спорт\"'\n",
    ")"
   ]
  },
  {
   "cell_type": "markdown",
   "metadata": {},
   "source": [
    "**Нулевая гипотеза H0** - Средние двух генеральных совокупностей равны между собой.\n",
    "\n",
    "**Альтернативная гипотеза H1** - Средние двух генеральных совокупностей не равны между собой."
   ]
  },
  {
   "cell_type": "code",
   "execution_count": 63,
   "metadata": {},
   "outputs": [
    {
     "name": "stdout",
     "output_type": "stream",
     "text": [
      "1.182555038264477e-14\n",
      "Отвергаем нулевую гипотезу\n"
     ]
    }
   ],
   "source": [
    "alpha = .05\n",
    "results = st.ttest_ind(action_rate, sports_rate,equal_var=False, nan_policy='omit')\n",
    "\n",
    "print(results.pvalue) \n",
    "if results.pvalue < alpha:\n",
    "    print('Отвергаем нулевую гипотезу')\n",
    "else:\n",
    "    print('Не получилось отвергнуть нулевую гипотезу')"
   ]
  },
  {
   "cell_type": "markdown",
   "metadata": {},
   "source": [
    "Получили результат: p-значение оказалось меньше уровня значимости в 5%. Соответственно, мы отвергли нулевую гипотезу; приняли альтернативную гипотезу: средние двух генеральных совокупностей не равны между собой.\n",
    "\n",
    "**Вывод:** Средние пользовательские рейтинги жанров Action и Sports различаются."
   ]
  },
  {
   "cell_type": "markdown",
   "metadata": {},
   "source": [
    "# Общий вывод"
   ]
  },
  {
   "cell_type": "markdown",
   "metadata": {},
   "source": [
    "Итак, на основе исторических данных о продажах игр за 2016 нам необходимо было выявить закономерности, определяющие успешность игр.\n",
    "\n",
    "В процессе предобработки данных:\n",
    "\n",
    "<ul>\n",
    "  <li>Строки с пропусками были удалены или заполнены в соответствии с определённым алгоритмом</li>\n",
    "  <li>Явные дубликаты были обработаны и устранены</li>\n",
    "  <li>Был изменён тип данных в 3-х столбцах</li>\n",
    "  <li>Несколько строк с пропусками были удалены из-за незначительного показателя количества этих же пропусков</li>\n",
    "</ul>\n",
    "\n",
    "\n"
   ]
  },
  {
   "cell_type": "markdown",
   "metadata": {},
   "source": [
    "В ходе исследования мы сделали следующие выводы:\n",
    "\n",
    "<ul>\n",
    "  <li>Cамыми потенциально прибыльными платформами являются Sony PlayStation 4 и Xbox One. Какое-то время будут актуальны игры для платформ Nintendo 3DS</li>\n",
    "  <li>В Америке и Европе наиболее популярны игры на PS4 и Xbox One, а в Японии - на 3DS, PS4 и PS3</li>\n",
    "  <li>Наиболее популярны жанры Action, Shooter и Sports (для японского рынка наиболее актуальны игры в жанре Role-Playing);</li>\n",
    "  <li>В целом, оценки как пользователей, так и критиков не сильно влияют на продажи. Однако из этих двух показателей оценки критиков стоит принять во внимание. </li>\n",
    "</ul>\n",
    "\n",
    "\n",
    "\n",
    "\n",
    "\n"
   ]
  },
  {
   "cell_type": "markdown",
   "metadata": {},
   "source": [
    "**Рекомендации:**\n",
    "\n",
    "<ul>\n",
    "  <li>Не ориентироваться при продаже игр на пользовательские оценки; не придавать большого значения оценкам критиков, но принимать их во внимание.</li>\n",
    "  <li>Учесть, что срок устаревания платформы составляет 2-3 года; не выставлять на продажу игры на платформах, для которых этот срок приближается к 4-5 годам.</li>\n",
    "  <li>В жанровом разрезе по регионам магазину Стримчик следует осуществлять реализацию в следущем ключе: в Северной Америке и Европе следует продавать игры на Playstation4 и XboxOne, делая акцент на играх в жанре \"Экшен\" и \"Шутер\"; в Японии следует продавать игры на 3DS, делая акцент на играх в жанрах \"Ролевые\" и \"Экшен\"</li>\n",
    "  <li>В каждом из регионов рекомендуется осуществлять продажи игр с рейтингом E. В Северной Америке и Европе также возможны осуществление прибыльных продаж игр с рейтингом M (\"для взрослых\"), а в Японии - с рейтингом T (\"для подростков\").</li>\n",
    "</ul>\n",
    "\n",
    "\n",
    "\n"
   ]
  }
 ],
 "metadata": {
  "ExecuteTimeLog": [
   {
    "duration": 1341,
    "start_time": "2023-02-13T16:01:28.752Z"
   },
   {
    "duration": 191,
    "start_time": "2023-02-13T16:02:11.959Z"
   },
   {
    "duration": 15,
    "start_time": "2023-02-13T16:02:44.389Z"
   },
   {
    "duration": 38,
    "start_time": "2023-02-13T16:02:54.926Z"
   },
   {
    "duration": 13,
    "start_time": "2023-02-13T16:10:47.528Z"
   },
   {
    "duration": 19,
    "start_time": "2023-02-13T16:11:02.351Z"
   },
   {
    "duration": 6,
    "start_time": "2023-02-13T17:04:05.274Z"
   },
   {
    "duration": 19,
    "start_time": "2023-02-13T17:08:10.746Z"
   },
   {
    "duration": 107,
    "start_time": "2023-02-13T19:05:32.862Z"
   },
   {
    "duration": 3,
    "start_time": "2023-02-13T19:05:35.836Z"
   },
   {
    "duration": 58,
    "start_time": "2023-02-13T19:05:35.840Z"
   },
   {
    "duration": 14,
    "start_time": "2023-02-13T19:05:35.900Z"
   },
   {
    "duration": 17,
    "start_time": "2023-02-13T19:05:35.916Z"
   },
   {
    "duration": 9,
    "start_time": "2023-02-13T19:05:35.935Z"
   },
   {
    "duration": 17,
    "start_time": "2023-02-13T19:05:35.945Z"
   },
   {
    "duration": 5,
    "start_time": "2023-02-13T19:05:35.964Z"
   },
   {
    "duration": 27,
    "start_time": "2023-02-13T19:05:35.971Z"
   },
   {
    "duration": 9,
    "start_time": "2023-02-13T19:27:18.752Z"
   },
   {
    "duration": 5,
    "start_time": "2023-02-13T19:27:24.318Z"
   },
   {
    "duration": 9,
    "start_time": "2023-02-13T19:30:47.831Z"
   },
   {
    "duration": 4,
    "start_time": "2023-02-13T19:30:50.284Z"
   },
   {
    "duration": 5,
    "start_time": "2023-02-13T19:31:04.304Z"
   },
   {
    "duration": 5,
    "start_time": "2023-02-13T19:31:21.462Z"
   },
   {
    "duration": 9,
    "start_time": "2023-02-13T19:38:01.441Z"
   },
   {
    "duration": 9,
    "start_time": "2023-02-13T19:38:04.863Z"
   },
   {
    "duration": 10,
    "start_time": "2023-02-13T19:39:41.748Z"
   },
   {
    "duration": 9,
    "start_time": "2023-02-13T19:39:43.234Z"
   },
   {
    "duration": 7,
    "start_time": "2023-02-13T20:10:29.648Z"
   },
   {
    "duration": 5,
    "start_time": "2023-02-13T20:12:49.406Z"
   },
   {
    "duration": 5,
    "start_time": "2023-02-13T20:13:25.767Z"
   },
   {
    "duration": 13,
    "start_time": "2023-02-13T20:15:50.591Z"
   },
   {
    "duration": 1415,
    "start_time": "2023-02-14T08:08:06.476Z"
   },
   {
    "duration": 190,
    "start_time": "2023-02-14T08:08:07.893Z"
   },
   {
    "duration": 18,
    "start_time": "2023-02-14T08:08:08.085Z"
   },
   {
    "duration": 15,
    "start_time": "2023-02-14T08:08:08.105Z"
   },
   {
    "duration": 9,
    "start_time": "2023-02-14T08:08:08.121Z"
   },
   {
    "duration": 16,
    "start_time": "2023-02-14T08:08:08.131Z"
   },
   {
    "duration": 5,
    "start_time": "2023-02-14T08:08:08.149Z"
   },
   {
    "duration": 6,
    "start_time": "2023-02-14T08:08:08.155Z"
   },
   {
    "duration": 45,
    "start_time": "2023-02-14T08:08:08.162Z"
   },
   {
    "duration": 7,
    "start_time": "2023-02-14T08:08:08.210Z"
   },
   {
    "duration": 10,
    "start_time": "2023-02-14T08:08:08.219Z"
   },
   {
    "duration": 11,
    "start_time": "2023-02-14T08:08:08.231Z"
   },
   {
    "duration": 7,
    "start_time": "2023-02-14T08:08:08.243Z"
   },
   {
    "duration": 136,
    "start_time": "2023-02-14T08:08:08.252Z"
   },
   {
    "duration": 8,
    "start_time": "2023-02-14T08:08:18.620Z"
   },
   {
    "duration": 16,
    "start_time": "2023-02-14T08:08:40.255Z"
   },
   {
    "duration": 9,
    "start_time": "2023-02-14T08:11:08.583Z"
   },
   {
    "duration": 5,
    "start_time": "2023-02-14T08:12:44.468Z"
   },
   {
    "duration": 3,
    "start_time": "2023-02-14T08:14:59.756Z"
   },
   {
    "duration": 54,
    "start_time": "2023-02-14T08:14:59.761Z"
   },
   {
    "duration": 14,
    "start_time": "2023-02-14T08:14:59.817Z"
   },
   {
    "duration": 16,
    "start_time": "2023-02-14T08:14:59.832Z"
   },
   {
    "duration": 9,
    "start_time": "2023-02-14T08:14:59.850Z"
   },
   {
    "duration": 15,
    "start_time": "2023-02-14T08:14:59.861Z"
   },
   {
    "duration": 4,
    "start_time": "2023-02-14T08:14:59.877Z"
   },
   {
    "duration": 4,
    "start_time": "2023-02-14T08:14:59.904Z"
   },
   {
    "duration": 7,
    "start_time": "2023-02-14T08:14:59.910Z"
   },
   {
    "duration": 7,
    "start_time": "2023-02-14T08:14:59.919Z"
   },
   {
    "duration": 12,
    "start_time": "2023-02-14T08:14:59.928Z"
   },
   {
    "duration": 12,
    "start_time": "2023-02-14T08:14:59.942Z"
   },
   {
    "duration": 7,
    "start_time": "2023-02-14T08:14:59.955Z"
   },
   {
    "duration": 53,
    "start_time": "2023-02-14T08:14:59.964Z"
   },
   {
    "duration": 4,
    "start_time": "2023-02-14T08:15:00.019Z"
   },
   {
    "duration": 10,
    "start_time": "2023-02-14T08:15:00.024Z"
   },
   {
    "duration": 19,
    "start_time": "2023-02-14T08:15:33.844Z"
   },
   {
    "duration": 8,
    "start_time": "2023-02-14T08:22:41.606Z"
   },
   {
    "duration": 19,
    "start_time": "2023-02-14T08:22:58.927Z"
   },
   {
    "duration": 34,
    "start_time": "2023-02-14T08:23:16.195Z"
   },
   {
    "duration": 73,
    "start_time": "2023-02-14T08:27:40.135Z"
   },
   {
    "duration": 73,
    "start_time": "2023-02-14T08:27:51.254Z"
   },
   {
    "duration": 951,
    "start_time": "2023-02-14T08:33:13.070Z"
   },
   {
    "duration": 1028,
    "start_time": "2023-02-14T09:35:39.556Z"
   },
   {
    "duration": 3,
    "start_time": "2023-02-14T09:35:45.948Z"
   },
   {
    "duration": 68,
    "start_time": "2023-02-14T09:35:45.953Z"
   },
   {
    "duration": 16,
    "start_time": "2023-02-14T09:35:46.023Z"
   },
   {
    "duration": 19,
    "start_time": "2023-02-14T09:35:46.041Z"
   },
   {
    "duration": 799,
    "start_time": "2023-02-14T09:35:46.062Z"
   },
   {
    "duration": 16,
    "start_time": "2023-02-14T09:35:46.863Z"
   },
   {
    "duration": 35,
    "start_time": "2023-02-14T09:35:46.881Z"
   },
   {
    "duration": 12,
    "start_time": "2023-02-14T09:35:46.919Z"
   },
   {
    "duration": 18,
    "start_time": "2023-02-14T09:35:46.933Z"
   },
   {
    "duration": 16,
    "start_time": "2023-02-14T09:35:46.953Z"
   },
   {
    "duration": 16,
    "start_time": "2023-02-14T09:35:46.971Z"
   },
   {
    "duration": 14,
    "start_time": "2023-02-14T09:35:46.989Z"
   },
   {
    "duration": 34,
    "start_time": "2023-02-14T09:35:47.004Z"
   },
   {
    "duration": 11,
    "start_time": "2023-02-14T09:35:47.039Z"
   },
   {
    "duration": 23,
    "start_time": "2023-02-14T09:35:47.052Z"
   },
   {
    "duration": 9,
    "start_time": "2023-02-14T09:35:47.077Z"
   },
   {
    "duration": 21,
    "start_time": "2023-02-14T09:35:47.088Z"
   },
   {
    "duration": 998,
    "start_time": "2023-02-14T09:35:47.112Z"
   },
   {
    "duration": 33,
    "start_time": "2023-02-14T09:40:43.861Z"
   },
   {
    "duration": 14,
    "start_time": "2023-02-14T09:41:59.335Z"
   },
   {
    "duration": 5,
    "start_time": "2023-02-14T09:42:06.175Z"
   },
   {
    "duration": 4,
    "start_time": "2023-02-14T09:42:09.730Z"
   },
   {
    "duration": 54,
    "start_time": "2023-02-14T09:42:09.736Z"
   },
   {
    "duration": 14,
    "start_time": "2023-02-14T09:42:09.792Z"
   },
   {
    "duration": 27,
    "start_time": "2023-02-14T09:42:09.808Z"
   },
   {
    "duration": 29,
    "start_time": "2023-02-14T09:42:09.838Z"
   },
   {
    "duration": 771,
    "start_time": "2023-02-14T09:42:09.869Z"
   },
   {
    "duration": 12,
    "start_time": "2023-02-14T09:42:10.642Z"
   },
   {
    "duration": 16,
    "start_time": "2023-02-14T09:42:10.655Z"
   },
   {
    "duration": 5,
    "start_time": "2023-02-14T09:42:10.672Z"
   },
   {
    "duration": 29,
    "start_time": "2023-02-14T09:42:10.678Z"
   },
   {
    "duration": 9,
    "start_time": "2023-02-14T09:42:10.708Z"
   },
   {
    "duration": 7,
    "start_time": "2023-02-14T09:42:10.719Z"
   },
   {
    "duration": 15,
    "start_time": "2023-02-14T09:42:10.728Z"
   },
   {
    "duration": 12,
    "start_time": "2023-02-14T09:42:10.746Z"
   },
   {
    "duration": 6,
    "start_time": "2023-02-14T09:42:10.760Z"
   },
   {
    "duration": 43,
    "start_time": "2023-02-14T09:42:10.768Z"
   },
   {
    "duration": 4,
    "start_time": "2023-02-14T09:42:10.813Z"
   },
   {
    "duration": 23,
    "start_time": "2023-02-14T09:42:10.819Z"
   },
   {
    "duration": 904,
    "start_time": "2023-02-14T09:42:10.844Z"
   },
   {
    "duration": 7,
    "start_time": "2023-02-14T09:42:44.956Z"
   },
   {
    "duration": 4,
    "start_time": "2023-02-14T09:42:47.521Z"
   },
   {
    "duration": 51,
    "start_time": "2023-02-14T09:42:47.527Z"
   },
   {
    "duration": 13,
    "start_time": "2023-02-14T09:42:47.580Z"
   },
   {
    "duration": 14,
    "start_time": "2023-02-14T09:42:47.595Z"
   },
   {
    "duration": 32,
    "start_time": "2023-02-14T09:42:47.611Z"
   },
   {
    "duration": 686,
    "start_time": "2023-02-14T09:42:47.645Z"
   },
   {
    "duration": 10,
    "start_time": "2023-02-14T09:42:48.333Z"
   },
   {
    "duration": 15,
    "start_time": "2023-02-14T09:42:48.345Z"
   },
   {
    "duration": 5,
    "start_time": "2023-02-14T09:42:48.361Z"
   },
   {
    "duration": 6,
    "start_time": "2023-02-14T09:42:48.368Z"
   },
   {
    "duration": 33,
    "start_time": "2023-02-14T09:42:48.376Z"
   },
   {
    "duration": 7,
    "start_time": "2023-02-14T09:42:48.410Z"
   },
   {
    "duration": 9,
    "start_time": "2023-02-14T09:42:48.418Z"
   },
   {
    "duration": 11,
    "start_time": "2023-02-14T09:42:48.428Z"
   },
   {
    "duration": 7,
    "start_time": "2023-02-14T09:42:48.440Z"
   },
   {
    "duration": 16,
    "start_time": "2023-02-14T09:42:48.449Z"
   },
   {
    "duration": 39,
    "start_time": "2023-02-14T09:42:48.466Z"
   },
   {
    "duration": 15,
    "start_time": "2023-02-14T09:42:48.506Z"
   },
   {
    "duration": 825,
    "start_time": "2023-02-14T09:42:48.523Z"
   },
   {
    "duration": 12,
    "start_time": "2023-02-14T09:55:17.523Z"
   },
   {
    "duration": 20,
    "start_time": "2023-02-14T09:55:36.668Z"
   },
   {
    "duration": 209,
    "start_time": "2023-02-14T09:55:43.920Z"
   },
   {
    "duration": 301,
    "start_time": "2023-02-14T09:55:57.878Z"
   },
   {
    "duration": 230,
    "start_time": "2023-02-14T09:56:11.904Z"
   },
   {
    "duration": 197,
    "start_time": "2023-02-14T09:58:59.197Z"
   },
   {
    "duration": 275,
    "start_time": "2023-02-14T09:59:07.996Z"
   },
   {
    "duration": 202,
    "start_time": "2023-02-14T09:59:18.483Z"
   },
   {
    "duration": 226,
    "start_time": "2023-02-14T09:59:24.184Z"
   },
   {
    "duration": 205,
    "start_time": "2023-02-14T10:01:36.567Z"
   },
   {
    "duration": 76,
    "start_time": "2023-02-14T10:04:35.700Z"
   },
   {
    "duration": 9,
    "start_time": "2023-02-14T10:04:41.581Z"
   },
   {
    "duration": 189,
    "start_time": "2023-02-14T10:04:46.881Z"
   },
   {
    "duration": 43,
    "start_time": "2023-02-14T10:07:46.299Z"
   },
   {
    "duration": 33,
    "start_time": "2023-02-14T10:08:04.748Z"
   },
   {
    "duration": 149,
    "start_time": "2023-02-14T10:08:57.507Z"
   },
   {
    "duration": 122,
    "start_time": "2023-02-14T10:10:36.740Z"
   },
   {
    "duration": 83,
    "start_time": "2023-02-14T10:10:44.774Z"
   },
   {
    "duration": 109,
    "start_time": "2023-02-14T10:10:48.665Z"
   },
   {
    "duration": 137,
    "start_time": "2023-02-14T10:10:56.948Z"
   },
   {
    "duration": 63,
    "start_time": "2023-02-14T10:12:01.425Z"
   },
   {
    "duration": 60,
    "start_time": "2023-02-14T10:12:18.759Z"
   },
   {
    "duration": 3393,
    "start_time": "2023-02-14T10:38:10.124Z"
   },
   {
    "duration": 145,
    "start_time": "2023-02-14T10:38:17.868Z"
   },
   {
    "duration": 857,
    "start_time": "2023-02-14T10:39:42.016Z"
   },
   {
    "duration": 838,
    "start_time": "2023-02-14T10:39:50.652Z"
   },
   {
    "duration": 1027,
    "start_time": "2023-02-14T10:40:03.963Z"
   },
   {
    "duration": 1025,
    "start_time": "2023-02-14T10:40:24.236Z"
   },
   {
    "duration": 881,
    "start_time": "2023-02-14T10:41:02.797Z"
   },
   {
    "duration": 1189,
    "start_time": "2023-02-14T10:41:30.317Z"
   },
   {
    "duration": 1275,
    "start_time": "2023-02-14T10:41:47.566Z"
   },
   {
    "duration": 2888,
    "start_time": "2023-02-14T10:42:40.097Z"
   },
   {
    "duration": 196,
    "start_time": "2023-02-14T10:43:07.763Z"
   },
   {
    "duration": 3738,
    "start_time": "2023-02-14T10:43:30.263Z"
   },
   {
    "duration": 77,
    "start_time": "2023-02-14T10:43:50.400Z"
   },
   {
    "duration": 3165,
    "start_time": "2023-02-14T10:43:59.519Z"
   },
   {
    "duration": 3216,
    "start_time": "2023-02-14T10:45:00.656Z"
   },
   {
    "duration": 2984,
    "start_time": "2023-02-14T10:45:35.471Z"
   },
   {
    "duration": 310,
    "start_time": "2023-02-14T10:46:30.117Z"
   },
   {
    "duration": 2985,
    "start_time": "2023-02-14T10:47:17.965Z"
   },
   {
    "duration": 65,
    "start_time": "2023-02-14T10:47:56.271Z"
   },
   {
    "duration": 2973,
    "start_time": "2023-02-14T10:50:57.876Z"
   },
   {
    "duration": 56,
    "start_time": "2023-02-14T10:51:37.412Z"
   },
   {
    "duration": 3045,
    "start_time": "2023-02-14T10:51:57.754Z"
   },
   {
    "duration": 10,
    "start_time": "2023-02-14T10:53:18.782Z"
   },
   {
    "duration": 9,
    "start_time": "2023-02-14T10:53:57.841Z"
   },
   {
    "duration": 17,
    "start_time": "2023-02-14T10:58:05.399Z"
   },
   {
    "duration": 9,
    "start_time": "2023-02-14T10:58:21.389Z"
   },
   {
    "duration": 11,
    "start_time": "2023-02-14T10:59:29.264Z"
   },
   {
    "duration": 60,
    "start_time": "2023-02-14T11:00:08.223Z"
   },
   {
    "duration": 4,
    "start_time": "2023-02-14T11:00:17.967Z"
   },
   {
    "duration": 88,
    "start_time": "2023-02-14T11:00:17.974Z"
   },
   {
    "duration": 18,
    "start_time": "2023-02-14T11:00:18.064Z"
   },
   {
    "duration": 19,
    "start_time": "2023-02-14T11:00:18.084Z"
   },
   {
    "duration": 32,
    "start_time": "2023-02-14T11:00:18.106Z"
   },
   {
    "duration": 793,
    "start_time": "2023-02-14T11:00:18.140Z"
   },
   {
    "duration": 10,
    "start_time": "2023-02-14T11:00:18.936Z"
   },
   {
    "duration": 18,
    "start_time": "2023-02-14T11:00:18.948Z"
   },
   {
    "duration": 5,
    "start_time": "2023-02-14T11:00:18.968Z"
   },
   {
    "duration": 34,
    "start_time": "2023-02-14T11:00:18.975Z"
   },
   {
    "duration": 33,
    "start_time": "2023-02-14T11:00:19.011Z"
   },
   {
    "duration": 9,
    "start_time": "2023-02-14T11:00:19.046Z"
   },
   {
    "duration": 15,
    "start_time": "2023-02-14T11:00:19.057Z"
   },
   {
    "duration": 13,
    "start_time": "2023-02-14T11:00:19.075Z"
   },
   {
    "duration": 243,
    "start_time": "2023-02-14T11:00:19.090Z"
   },
   {
    "duration": 7,
    "start_time": "2023-02-14T11:00:19.335Z"
   },
   {
    "duration": 24,
    "start_time": "2023-02-14T11:00:19.344Z"
   },
   {
    "duration": 5,
    "start_time": "2023-02-14T11:00:19.370Z"
   },
   {
    "duration": 38,
    "start_time": "2023-02-14T11:00:19.377Z"
   },
   {
    "duration": 75,
    "start_time": "2023-02-14T11:00:19.416Z"
   },
   {
    "duration": 0,
    "start_time": "2023-02-14T11:00:19.493Z"
   },
   {
    "duration": 0,
    "start_time": "2023-02-14T11:00:19.495Z"
   },
   {
    "duration": 86,
    "start_time": "2023-02-14T11:00:49.352Z"
   },
   {
    "duration": 4210,
    "start_time": "2023-02-14T11:00:52.524Z"
   },
   {
    "duration": 10,
    "start_time": "2023-02-14T11:01:01.231Z"
   },
   {
    "duration": 18,
    "start_time": "2023-02-14T11:01:12.852Z"
   },
   {
    "duration": 13,
    "start_time": "2023-02-14T11:02:21.117Z"
   },
   {
    "duration": 13,
    "start_time": "2023-02-14T11:02:28.199Z"
   },
   {
    "duration": 14,
    "start_time": "2023-02-14T11:03:51.130Z"
   },
   {
    "duration": 13,
    "start_time": "2023-02-14T11:05:59.212Z"
   },
   {
    "duration": 1216,
    "start_time": "2023-02-14T11:26:17.714Z"
   },
   {
    "duration": 15,
    "start_time": "2023-02-14T11:26:27.739Z"
   },
   {
    "duration": 13,
    "start_time": "2023-02-14T11:26:48.275Z"
   },
   {
    "duration": 12,
    "start_time": "2023-02-14T11:30:27.349Z"
   },
   {
    "duration": 5,
    "start_time": "2023-02-14T11:34:23.361Z"
   },
   {
    "duration": 19,
    "start_time": "2023-02-14T11:34:50.935Z"
   },
   {
    "duration": 19,
    "start_time": "2023-02-14T11:35:00.938Z"
   },
   {
    "duration": 21,
    "start_time": "2023-02-14T11:35:58.168Z"
   },
   {
    "duration": 24,
    "start_time": "2023-02-14T11:36:30.227Z"
   },
   {
    "duration": 13,
    "start_time": "2023-02-14T11:37:03.625Z"
   },
   {
    "duration": 20,
    "start_time": "2023-02-14T11:37:09.510Z"
   },
   {
    "duration": 11,
    "start_time": "2023-02-14T11:37:29.236Z"
   },
   {
    "duration": 196,
    "start_time": "2023-02-14T11:37:37.157Z"
   },
   {
    "duration": 58,
    "start_time": "2023-02-14T11:38:03.089Z"
   },
   {
    "duration": 48,
    "start_time": "2023-02-14T11:38:09.016Z"
   },
   {
    "duration": 33,
    "start_time": "2023-02-14T11:38:21.477Z"
   },
   {
    "duration": 221,
    "start_time": "2023-02-14T11:38:45.832Z"
   },
   {
    "duration": 250,
    "start_time": "2023-02-14T11:39:19.851Z"
   },
   {
    "duration": 228,
    "start_time": "2023-02-14T11:39:33.767Z"
   },
   {
    "duration": 254,
    "start_time": "2023-02-14T11:39:48.828Z"
   },
   {
    "duration": 219,
    "start_time": "2023-02-14T11:39:59.896Z"
   },
   {
    "duration": 377,
    "start_time": "2023-02-14T11:41:59.680Z"
   },
   {
    "duration": 246,
    "start_time": "2023-02-14T11:42:04.144Z"
   },
   {
    "duration": 307,
    "start_time": "2023-02-14T11:42:13.783Z"
   },
   {
    "duration": 250,
    "start_time": "2023-02-14T11:42:24.321Z"
   },
   {
    "duration": 238,
    "start_time": "2023-02-14T11:46:27.311Z"
   },
   {
    "duration": 1424,
    "start_time": "2023-02-15T09:30:54.995Z"
   },
   {
    "duration": 192,
    "start_time": "2023-02-15T09:30:56.422Z"
   },
   {
    "duration": 20,
    "start_time": "2023-02-15T09:30:56.616Z"
   },
   {
    "duration": 15,
    "start_time": "2023-02-15T09:30:56.638Z"
   },
   {
    "duration": 31,
    "start_time": "2023-02-15T09:30:56.656Z"
   },
   {
    "duration": 807,
    "start_time": "2023-02-15T09:30:56.689Z"
   },
   {
    "duration": 11,
    "start_time": "2023-02-15T09:30:57.499Z"
   },
   {
    "duration": 37,
    "start_time": "2023-02-15T09:30:57.512Z"
   },
   {
    "duration": 5,
    "start_time": "2023-02-15T09:30:57.551Z"
   },
   {
    "duration": 17,
    "start_time": "2023-02-15T09:30:57.558Z"
   },
   {
    "duration": 16,
    "start_time": "2023-02-15T09:30:57.577Z"
   },
   {
    "duration": 15,
    "start_time": "2023-02-15T09:30:57.595Z"
   },
   {
    "duration": 11,
    "start_time": "2023-02-15T09:30:57.612Z"
   },
   {
    "duration": 11,
    "start_time": "2023-02-15T09:30:57.637Z"
   },
   {
    "duration": 235,
    "start_time": "2023-02-15T09:30:57.650Z"
   },
   {
    "duration": 7,
    "start_time": "2023-02-15T09:30:57.888Z"
   },
   {
    "duration": 20,
    "start_time": "2023-02-15T09:30:57.897Z"
   },
   {
    "duration": 22,
    "start_time": "2023-02-15T09:30:57.919Z"
   },
   {
    "duration": 22,
    "start_time": "2023-02-15T09:30:57.943Z"
   },
   {
    "duration": 78,
    "start_time": "2023-02-15T09:30:57.967Z"
   },
   {
    "duration": 2971,
    "start_time": "2023-02-15T09:30:58.047Z"
   },
   {
    "duration": 11,
    "start_time": "2023-02-15T09:31:01.020Z"
   },
   {
    "duration": 47,
    "start_time": "2023-02-15T09:31:01.038Z"
   },
   {
    "duration": 390,
    "start_time": "2023-02-15T09:31:01.086Z"
   },
   {
    "duration": 275,
    "start_time": "2023-02-15T09:32:32.672Z"
   },
   {
    "duration": 5,
    "start_time": "2023-02-15T09:34:25.475Z"
   },
   {
    "duration": 51,
    "start_time": "2023-02-15T18:32:25.221Z"
   },
   {
    "duration": 1454,
    "start_time": "2023-02-15T18:32:29.197Z"
   },
   {
    "duration": 193,
    "start_time": "2023-02-15T18:32:30.653Z"
   },
   {
    "duration": 21,
    "start_time": "2023-02-15T18:32:30.848Z"
   },
   {
    "duration": 39,
    "start_time": "2023-02-15T18:32:30.870Z"
   },
   {
    "duration": 39,
    "start_time": "2023-02-15T18:32:30.912Z"
   },
   {
    "duration": 822,
    "start_time": "2023-02-15T18:32:30.952Z"
   },
   {
    "duration": 14,
    "start_time": "2023-02-15T18:32:31.776Z"
   },
   {
    "duration": 55,
    "start_time": "2023-02-15T18:32:31.792Z"
   },
   {
    "duration": 26,
    "start_time": "2023-02-15T18:32:31.849Z"
   },
   {
    "duration": 45,
    "start_time": "2023-02-15T18:32:31.877Z"
   },
   {
    "duration": 17,
    "start_time": "2023-02-15T18:32:31.924Z"
   },
   {
    "duration": 29,
    "start_time": "2023-02-15T18:32:31.943Z"
   },
   {
    "duration": 45,
    "start_time": "2023-02-15T18:32:31.973Z"
   },
   {
    "duration": 18,
    "start_time": "2023-02-15T18:32:32.022Z"
   },
   {
    "duration": 218,
    "start_time": "2023-02-15T18:32:32.042Z"
   },
   {
    "duration": 7,
    "start_time": "2023-02-15T18:32:32.262Z"
   },
   {
    "duration": 23,
    "start_time": "2023-02-15T18:32:32.271Z"
   },
   {
    "duration": 7,
    "start_time": "2023-02-15T18:32:32.296Z"
   },
   {
    "duration": 44,
    "start_time": "2023-02-15T18:32:32.305Z"
   },
   {
    "duration": 97,
    "start_time": "2023-02-15T18:32:32.351Z"
   },
   {
    "duration": 3071,
    "start_time": "2023-02-15T18:32:32.451Z"
   },
   {
    "duration": 19,
    "start_time": "2023-02-15T18:32:35.524Z"
   },
   {
    "duration": 27,
    "start_time": "2023-02-15T18:32:35.545Z"
   },
   {
    "duration": 275,
    "start_time": "2023-02-15T18:32:35.574Z"
   },
   {
    "duration": 557,
    "start_time": "2023-02-15T18:32:35.851Z"
   },
   {
    "duration": 516,
    "start_time": "2023-02-15T18:33:22.783Z"
   },
   {
    "duration": 515,
    "start_time": "2023-02-15T18:33:33.351Z"
   },
   {
    "duration": 495,
    "start_time": "2023-02-15T18:34:49.163Z"
   },
   {
    "duration": 568,
    "start_time": "2023-02-15T18:35:57.663Z"
   },
   {
    "duration": 757,
    "start_time": "2023-02-15T18:37:24.944Z"
   },
   {
    "duration": 554,
    "start_time": "2023-02-15T18:37:44.940Z"
   },
   {
    "duration": 1315,
    "start_time": "2023-02-16T08:26:39.390Z"
   },
   {
    "duration": 198,
    "start_time": "2023-02-16T08:26:40.707Z"
   },
   {
    "duration": 18,
    "start_time": "2023-02-16T08:26:40.907Z"
   },
   {
    "duration": 13,
    "start_time": "2023-02-16T08:26:40.927Z"
   },
   {
    "duration": 27,
    "start_time": "2023-02-16T08:26:40.942Z"
   },
   {
    "duration": 745,
    "start_time": "2023-02-16T08:26:40.971Z"
   },
   {
    "duration": 10,
    "start_time": "2023-02-16T08:26:41.717Z"
   },
   {
    "duration": 22,
    "start_time": "2023-02-16T08:26:41.728Z"
   },
   {
    "duration": 4,
    "start_time": "2023-02-16T08:26:41.752Z"
   },
   {
    "duration": 6,
    "start_time": "2023-02-16T08:26:41.758Z"
   },
   {
    "duration": 6,
    "start_time": "2023-02-16T08:26:41.766Z"
   },
   {
    "duration": 31,
    "start_time": "2023-02-16T08:26:41.773Z"
   },
   {
    "duration": 12,
    "start_time": "2023-02-16T08:26:41.806Z"
   },
   {
    "duration": 13,
    "start_time": "2023-02-16T08:26:41.821Z"
   },
   {
    "duration": 217,
    "start_time": "2023-02-16T08:26:41.835Z"
   },
   {
    "duration": 6,
    "start_time": "2023-02-16T08:26:42.054Z"
   },
   {
    "duration": 17,
    "start_time": "2023-02-16T08:26:42.061Z"
   },
   {
    "duration": 5,
    "start_time": "2023-02-16T08:26:42.080Z"
   },
   {
    "duration": 12,
    "start_time": "2023-02-16T08:26:42.104Z"
   },
   {
    "duration": 61,
    "start_time": "2023-02-16T08:26:42.118Z"
   },
   {
    "duration": 2582,
    "start_time": "2023-02-16T08:26:42.181Z"
   },
   {
    "duration": 10,
    "start_time": "2023-02-16T08:26:44.765Z"
   },
   {
    "duration": 27,
    "start_time": "2023-02-16T08:26:44.777Z"
   },
   {
    "duration": 234,
    "start_time": "2023-02-16T08:26:44.806Z"
   },
   {
    "duration": 373,
    "start_time": "2023-02-16T08:26:45.042Z"
   },
   {
    "duration": 567,
    "start_time": "2023-02-16T08:27:21.941Z"
   },
   {
    "duration": 52,
    "start_time": "2023-02-17T12:09:43.710Z"
   },
   {
    "duration": 1281,
    "start_time": "2023-02-17T12:09:46.741Z"
   },
   {
    "duration": 89,
    "start_time": "2023-02-17T12:09:48.024Z"
   },
   {
    "duration": 19,
    "start_time": "2023-02-17T12:09:48.114Z"
   },
   {
    "duration": 17,
    "start_time": "2023-02-17T12:09:48.135Z"
   },
   {
    "duration": 26,
    "start_time": "2023-02-17T12:09:48.154Z"
   },
   {
    "duration": 662,
    "start_time": "2023-02-17T12:09:48.182Z"
   },
   {
    "duration": 8,
    "start_time": "2023-02-17T12:09:48.846Z"
   },
   {
    "duration": 20,
    "start_time": "2023-02-17T12:09:48.856Z"
   },
   {
    "duration": 4,
    "start_time": "2023-02-17T12:09:48.877Z"
   },
   {
    "duration": 5,
    "start_time": "2023-02-17T12:09:48.883Z"
   },
   {
    "duration": 7,
    "start_time": "2023-02-17T12:09:48.909Z"
   },
   {
    "duration": 5,
    "start_time": "2023-02-17T12:09:48.918Z"
   },
   {
    "duration": 9,
    "start_time": "2023-02-17T12:09:48.924Z"
   },
   {
    "duration": 9,
    "start_time": "2023-02-17T12:09:48.935Z"
   },
   {
    "duration": 214,
    "start_time": "2023-02-17T12:09:48.946Z"
   },
   {
    "duration": 6,
    "start_time": "2023-02-17T12:09:49.161Z"
   },
   {
    "duration": 16,
    "start_time": "2023-02-17T12:09:49.168Z"
   },
   {
    "duration": 4,
    "start_time": "2023-02-17T12:09:49.186Z"
   },
   {
    "duration": 26,
    "start_time": "2023-02-17T12:09:49.191Z"
   },
   {
    "duration": 60,
    "start_time": "2023-02-17T12:09:49.219Z"
   },
   {
    "duration": 2436,
    "start_time": "2023-02-17T12:09:49.281Z"
   },
   {
    "duration": 10,
    "start_time": "2023-02-17T12:09:51.718Z"
   },
   {
    "duration": 22,
    "start_time": "2023-02-17T12:09:51.730Z"
   },
   {
    "duration": 241,
    "start_time": "2023-02-17T12:09:51.754Z"
   },
   {
    "duration": 515,
    "start_time": "2023-02-17T12:09:51.996Z"
   },
   {
    "duration": 98,
    "start_time": "2023-02-17T12:09:52.512Z"
   },
   {
    "duration": 268,
    "start_time": "2023-02-17T12:10:42.874Z"
   },
   {
    "duration": 266,
    "start_time": "2023-02-17T12:10:57.894Z"
   },
   {
    "duration": 230,
    "start_time": "2023-02-17T12:11:09.629Z"
   },
   {
    "duration": 270,
    "start_time": "2023-02-17T12:11:25.066Z"
   },
   {
    "duration": 30,
    "start_time": "2023-02-17T12:13:37.274Z"
   },
   {
    "duration": 277,
    "start_time": "2023-02-17T12:13:48.142Z"
   },
   {
    "duration": 296,
    "start_time": "2023-02-17T12:14:04.168Z"
   },
   {
    "duration": 581,
    "start_time": "2023-02-17T12:16:27.375Z"
   },
   {
    "duration": 516,
    "start_time": "2023-02-17T12:16:39.109Z"
   },
   {
    "duration": 355,
    "start_time": "2023-02-17T12:18:06.812Z"
   },
   {
    "duration": 286,
    "start_time": "2023-02-17T12:23:42.441Z"
   },
   {
    "duration": 11,
    "start_time": "2023-02-17T12:24:31.388Z"
   },
   {
    "duration": 249,
    "start_time": "2023-02-17T12:24:38.887Z"
   },
   {
    "duration": 239,
    "start_time": "2023-02-17T12:25:55.570Z"
   },
   {
    "duration": 311,
    "start_time": "2023-02-17T12:28:24.103Z"
   },
   {
    "duration": 355,
    "start_time": "2023-02-17T12:28:36.666Z"
   },
   {
    "duration": 243,
    "start_time": "2023-02-17T12:29:18.185Z"
   },
   {
    "duration": 243,
    "start_time": "2023-02-17T12:30:05.988Z"
   },
   {
    "duration": 237,
    "start_time": "2023-02-17T12:31:30.266Z"
   },
   {
    "duration": 253,
    "start_time": "2023-02-17T12:32:01.013Z"
   },
   {
    "duration": 13,
    "start_time": "2023-02-17T12:35:55.904Z"
   },
   {
    "duration": 354,
    "start_time": "2023-02-17T12:36:00.391Z"
   },
   {
    "duration": 241,
    "start_time": "2023-02-17T12:45:24.436Z"
   },
   {
    "duration": 27,
    "start_time": "2023-02-17T12:46:29.616Z"
   },
   {
    "duration": 25,
    "start_time": "2023-02-17T12:46:38.702Z"
   },
   {
    "duration": 236,
    "start_time": "2023-02-17T12:46:50.586Z"
   },
   {
    "duration": 247,
    "start_time": "2023-02-17T12:46:58.886Z"
   },
   {
    "duration": 124,
    "start_time": "2023-02-17T12:47:15.728Z"
   },
   {
    "duration": 238,
    "start_time": "2023-02-17T12:47:48.549Z"
   },
   {
    "duration": 243,
    "start_time": "2023-02-17T12:57:00.157Z"
   },
   {
    "duration": 322,
    "start_time": "2023-02-17T13:00:06.192Z"
   },
   {
    "duration": 25,
    "start_time": "2023-02-17T13:02:42.236Z"
   },
   {
    "duration": 16,
    "start_time": "2023-02-17T13:03:16.751Z"
   },
   {
    "duration": 146,
    "start_time": "2023-02-17T13:03:38.215Z"
   },
   {
    "duration": 10,
    "start_time": "2023-02-17T13:04:21.904Z"
   },
   {
    "duration": 162,
    "start_time": "2023-02-17T13:05:03.429Z"
   },
   {
    "duration": 181,
    "start_time": "2023-02-17T13:05:36.669Z"
   },
   {
    "duration": 670,
    "start_time": "2023-02-17T13:17:46.949Z"
   },
   {
    "duration": 6,
    "start_time": "2023-02-17T13:23:31.762Z"
   },
   {
    "duration": 291,
    "start_time": "2023-02-17T13:24:11.759Z"
   },
   {
    "duration": 7,
    "start_time": "2023-02-17T13:24:40.346Z"
   },
   {
    "duration": 1137,
    "start_time": "2023-02-17T13:24:42.500Z"
   },
   {
    "duration": 1032,
    "start_time": "2023-02-17T13:24:56.888Z"
   },
   {
    "duration": 1086,
    "start_time": "2023-02-17T13:25:10.074Z"
   },
   {
    "duration": 5,
    "start_time": "2023-02-17T13:39:21.784Z"
   },
   {
    "duration": 230,
    "start_time": "2023-02-17T13:39:35.854Z"
   },
   {
    "duration": 151,
    "start_time": "2023-02-17T13:39:47.324Z"
   },
   {
    "duration": 149,
    "start_time": "2023-02-17T13:39:55.741Z"
   },
   {
    "duration": 5,
    "start_time": "2023-02-17T13:40:07.428Z"
   },
   {
    "duration": 1037,
    "start_time": "2023-02-17T13:40:09.601Z"
   },
   {
    "duration": 5,
    "start_time": "2023-02-17T13:43:29.350Z"
   },
   {
    "duration": 249,
    "start_time": "2023-02-17T13:51:30.421Z"
   },
   {
    "duration": 24,
    "start_time": "2023-02-17T13:52:49.273Z"
   },
   {
    "duration": 237,
    "start_time": "2023-02-17T13:52:55.058Z"
   },
   {
    "duration": 377,
    "start_time": "2023-02-17T13:54:43.908Z"
   },
   {
    "duration": 493,
    "start_time": "2023-02-17T13:55:10.523Z"
   },
   {
    "duration": 46,
    "start_time": "2023-02-17T14:01:02.781Z"
   },
   {
    "duration": 44,
    "start_time": "2023-02-17T14:01:14.633Z"
   },
   {
    "duration": 307,
    "start_time": "2023-02-17T14:01:25.432Z"
   },
   {
    "duration": 437,
    "start_time": "2023-02-17T14:01:35.025Z"
   },
   {
    "duration": 27109,
    "start_time": "2023-02-17T14:32:35.147Z"
   },
   {
    "duration": 43,
    "start_time": "2023-02-17T14:33:08.496Z"
   },
   {
    "duration": 259,
    "start_time": "2023-02-17T14:33:37.369Z"
   },
   {
    "duration": 512,
    "start_time": "2023-02-17T14:34:09.016Z"
   },
   {
    "duration": 503,
    "start_time": "2023-02-17T14:34:34.682Z"
   },
   {
    "duration": 454,
    "start_time": "2023-02-17T14:35:43.125Z"
   },
   {
    "duration": 40,
    "start_time": "2023-02-17T16:39:32.421Z"
   },
   {
    "duration": 46,
    "start_time": "2023-02-17T16:39:38.399Z"
   },
   {
    "duration": 42,
    "start_time": "2023-02-17T16:39:41.623Z"
   },
   {
    "duration": 517,
    "start_time": "2023-02-17T16:39:46.513Z"
   },
   {
    "duration": 453,
    "start_time": "2023-02-17T16:42:10.530Z"
   },
   {
    "duration": 468,
    "start_time": "2023-02-17T16:42:15.840Z"
   },
   {
    "duration": 471,
    "start_time": "2023-02-17T16:42:26.019Z"
   },
   {
    "duration": 455,
    "start_time": "2023-02-17T16:51:35.298Z"
   },
   {
    "duration": 458,
    "start_time": "2023-02-17T16:51:49.474Z"
   },
   {
    "duration": 456,
    "start_time": "2023-02-17T16:52:01.669Z"
   },
   {
    "duration": 24,
    "start_time": "2023-02-17T16:52:15.414Z"
   },
   {
    "duration": 32,
    "start_time": "2023-02-17T16:52:33.061Z"
   },
   {
    "duration": 471,
    "start_time": "2023-02-17T16:56:31.393Z"
   },
   {
    "duration": 3,
    "start_time": "2023-02-17T17:02:01.982Z"
   },
   {
    "duration": 52,
    "start_time": "2023-02-17T17:02:01.988Z"
   },
   {
    "duration": 13,
    "start_time": "2023-02-17T17:02:02.042Z"
   },
   {
    "duration": 15,
    "start_time": "2023-02-17T17:02:02.057Z"
   },
   {
    "duration": 54,
    "start_time": "2023-02-17T17:02:02.074Z"
   },
   {
    "duration": 686,
    "start_time": "2023-02-17T17:02:02.129Z"
   },
   {
    "duration": 10,
    "start_time": "2023-02-17T17:02:02.816Z"
   },
   {
    "duration": 15,
    "start_time": "2023-02-17T17:02:02.827Z"
   },
   {
    "duration": 4,
    "start_time": "2023-02-17T17:02:02.844Z"
   },
   {
    "duration": 8,
    "start_time": "2023-02-17T17:02:02.850Z"
   },
   {
    "duration": 8,
    "start_time": "2023-02-17T17:02:02.859Z"
   },
   {
    "duration": 43,
    "start_time": "2023-02-17T17:02:02.868Z"
   },
   {
    "duration": 9,
    "start_time": "2023-02-17T17:02:02.912Z"
   },
   {
    "duration": 11,
    "start_time": "2023-02-17T17:02:02.924Z"
   },
   {
    "duration": 226,
    "start_time": "2023-02-17T17:02:02.936Z"
   },
   {
    "duration": 6,
    "start_time": "2023-02-17T17:02:03.163Z"
   },
   {
    "duration": 16,
    "start_time": "2023-02-17T17:02:03.170Z"
   },
   {
    "duration": 3,
    "start_time": "2023-02-17T17:02:03.188Z"
   },
   {
    "duration": 14,
    "start_time": "2023-02-17T17:02:03.209Z"
   },
   {
    "duration": 64,
    "start_time": "2023-02-17T17:02:03.224Z"
   },
   {
    "duration": 3153,
    "start_time": "2023-02-17T17:02:03.289Z"
   },
   {
    "duration": 10,
    "start_time": "2023-02-17T17:02:06.444Z"
   },
   {
    "duration": 20,
    "start_time": "2023-02-17T17:02:06.455Z"
   },
   {
    "duration": 251,
    "start_time": "2023-02-17T17:02:06.476Z"
   },
   {
    "duration": 357,
    "start_time": "2023-02-17T17:02:06.728Z"
   },
   {
    "duration": 257,
    "start_time": "2023-02-17T17:02:07.087Z"
   },
   {
    "duration": 5,
    "start_time": "2023-02-17T17:02:07.346Z"
   },
   {
    "duration": 246,
    "start_time": "2023-02-17T17:02:07.353Z"
   },
   {
    "duration": 168,
    "start_time": "2023-02-17T17:02:07.601Z"
   },
   {
    "duration": 171,
    "start_time": "2023-02-17T17:02:07.771Z"
   },
   {
    "duration": 6,
    "start_time": "2023-02-17T17:02:07.944Z"
   },
   {
    "duration": 1066,
    "start_time": "2023-02-17T17:02:07.951Z"
   },
   {
    "duration": 6,
    "start_time": "2023-02-17T17:02:09.018Z"
   },
   {
    "duration": 24,
    "start_time": "2023-02-17T17:02:09.025Z"
   },
   {
    "duration": 493,
    "start_time": "2023-02-17T17:02:09.050Z"
   },
   {
    "duration": 25,
    "start_time": "2023-02-17T17:02:28.121Z"
   },
   {
    "duration": 12,
    "start_time": "2023-02-17T17:03:11.219Z"
   },
   {
    "duration": 264,
    "start_time": "2023-02-17T17:44:20.557Z"
   },
   {
    "duration": 33,
    "start_time": "2023-02-17T17:48:26.688Z"
   },
   {
    "duration": 108,
    "start_time": "2023-02-17T17:50:27.252Z"
   },
   {
    "duration": 292,
    "start_time": "2023-02-17T17:50:34.732Z"
   },
   {
    "duration": 22,
    "start_time": "2023-02-17T17:50:41.221Z"
   },
   {
    "duration": 24,
    "start_time": "2023-02-17T17:50:48.765Z"
   },
   {
    "duration": 99,
    "start_time": "2023-02-17T17:52:13.457Z"
   },
   {
    "duration": 245,
    "start_time": "2023-02-17T17:52:21.567Z"
   },
   {
    "duration": 1436,
    "start_time": "2023-02-18T08:42:23.379Z"
   },
   {
    "duration": 100,
    "start_time": "2023-02-18T08:42:24.817Z"
   },
   {
    "duration": 28,
    "start_time": "2023-02-18T08:42:24.920Z"
   },
   {
    "duration": 15,
    "start_time": "2023-02-18T08:42:24.950Z"
   },
   {
    "duration": 29,
    "start_time": "2023-02-18T08:42:24.967Z"
   },
   {
    "duration": 818,
    "start_time": "2023-02-18T08:42:25.002Z"
   },
   {
    "duration": 9,
    "start_time": "2023-02-18T08:42:25.822Z"
   },
   {
    "duration": 16,
    "start_time": "2023-02-18T08:42:25.833Z"
   },
   {
    "duration": 5,
    "start_time": "2023-02-18T08:42:25.850Z"
   },
   {
    "duration": 13,
    "start_time": "2023-02-18T08:42:25.857Z"
   },
   {
    "duration": 8,
    "start_time": "2023-02-18T08:42:25.872Z"
   },
   {
    "duration": 39,
    "start_time": "2023-02-18T08:42:25.882Z"
   },
   {
    "duration": 9,
    "start_time": "2023-02-18T08:42:25.923Z"
   },
   {
    "duration": 10,
    "start_time": "2023-02-18T08:42:25.937Z"
   },
   {
    "duration": 233,
    "start_time": "2023-02-18T08:42:25.948Z"
   },
   {
    "duration": 7,
    "start_time": "2023-02-18T08:42:26.182Z"
   },
   {
    "duration": 32,
    "start_time": "2023-02-18T08:42:26.190Z"
   },
   {
    "duration": 5,
    "start_time": "2023-02-18T08:42:26.224Z"
   },
   {
    "duration": 19,
    "start_time": "2023-02-18T08:42:26.230Z"
   },
   {
    "duration": 75,
    "start_time": "2023-02-18T08:42:26.251Z"
   },
   {
    "duration": 3364,
    "start_time": "2023-02-18T08:42:26.328Z"
   },
   {
    "duration": 28,
    "start_time": "2023-02-18T08:42:29.694Z"
   },
   {
    "duration": 19,
    "start_time": "2023-02-18T08:42:29.724Z"
   },
   {
    "duration": 271,
    "start_time": "2023-02-18T08:42:29.745Z"
   },
   {
    "duration": 371,
    "start_time": "2023-02-18T08:42:30.018Z"
   },
   {
    "duration": 138,
    "start_time": "2023-02-18T08:42:30.391Z"
   },
   {
    "duration": 0,
    "start_time": "2023-02-18T08:42:30.531Z"
   },
   {
    "duration": 0,
    "start_time": "2023-02-18T08:42:30.534Z"
   },
   {
    "duration": 0,
    "start_time": "2023-02-18T08:42:30.535Z"
   },
   {
    "duration": 0,
    "start_time": "2023-02-18T08:42:30.537Z"
   },
   {
    "duration": 0,
    "start_time": "2023-02-18T08:42:30.538Z"
   },
   {
    "duration": 0,
    "start_time": "2023-02-18T08:42:30.540Z"
   },
   {
    "duration": 0,
    "start_time": "2023-02-18T08:42:30.542Z"
   },
   {
    "duration": 0,
    "start_time": "2023-02-18T08:42:30.543Z"
   },
   {
    "duration": 0,
    "start_time": "2023-02-18T08:42:30.545Z"
   },
   {
    "duration": 4,
    "start_time": "2023-02-18T08:42:51.451Z"
   },
   {
    "duration": 65,
    "start_time": "2023-02-18T08:42:51.457Z"
   },
   {
    "duration": 15,
    "start_time": "2023-02-18T08:42:51.525Z"
   },
   {
    "duration": 48,
    "start_time": "2023-02-18T08:42:51.542Z"
   },
   {
    "duration": 44,
    "start_time": "2023-02-18T08:42:51.593Z"
   },
   {
    "duration": 824,
    "start_time": "2023-02-18T08:42:51.639Z"
   },
   {
    "duration": 11,
    "start_time": "2023-02-18T08:42:52.466Z"
   },
   {
    "duration": 38,
    "start_time": "2023-02-18T08:42:52.479Z"
   },
   {
    "duration": 6,
    "start_time": "2023-02-18T08:42:52.521Z"
   },
   {
    "duration": 12,
    "start_time": "2023-02-18T08:42:52.529Z"
   },
   {
    "duration": 10,
    "start_time": "2023-02-18T08:42:52.543Z"
   },
   {
    "duration": 7,
    "start_time": "2023-02-18T08:42:52.556Z"
   },
   {
    "duration": 13,
    "start_time": "2023-02-18T08:42:52.565Z"
   },
   {
    "duration": 24,
    "start_time": "2023-02-18T08:42:52.608Z"
   },
   {
    "duration": 221,
    "start_time": "2023-02-18T08:42:52.634Z"
   },
   {
    "duration": 11,
    "start_time": "2023-02-18T08:42:52.857Z"
   },
   {
    "duration": 40,
    "start_time": "2023-02-18T08:42:52.870Z"
   },
   {
    "duration": 6,
    "start_time": "2023-02-18T08:42:52.914Z"
   },
   {
    "duration": 25,
    "start_time": "2023-02-18T08:42:52.924Z"
   },
   {
    "duration": 77,
    "start_time": "2023-02-18T08:42:52.951Z"
   },
   {
    "duration": 3493,
    "start_time": "2023-02-18T08:42:53.030Z"
   },
   {
    "duration": 11,
    "start_time": "2023-02-18T08:42:56.524Z"
   },
   {
    "duration": 19,
    "start_time": "2023-02-18T08:42:56.537Z"
   },
   {
    "duration": 292,
    "start_time": "2023-02-18T08:42:56.558Z"
   },
   {
    "duration": 394,
    "start_time": "2023-02-18T08:42:56.852Z"
   },
   {
    "duration": 33,
    "start_time": "2023-02-18T08:42:57.249Z"
   },
   {
    "duration": 0,
    "start_time": "2023-02-18T08:42:57.285Z"
   },
   {
    "duration": 0,
    "start_time": "2023-02-18T08:42:57.286Z"
   },
   {
    "duration": 0,
    "start_time": "2023-02-18T08:42:57.288Z"
   },
   {
    "duration": 0,
    "start_time": "2023-02-18T08:42:57.290Z"
   },
   {
    "duration": 0,
    "start_time": "2023-02-18T08:42:57.292Z"
   },
   {
    "duration": 0,
    "start_time": "2023-02-18T08:42:57.293Z"
   },
   {
    "duration": 0,
    "start_time": "2023-02-18T08:42:57.294Z"
   },
   {
    "duration": 0,
    "start_time": "2023-02-18T08:42:57.296Z"
   },
   {
    "duration": 0,
    "start_time": "2023-02-18T08:42:57.297Z"
   },
   {
    "duration": 10,
    "start_time": "2023-02-18T09:42:39.001Z"
   },
   {
    "duration": 68,
    "start_time": "2023-02-18T09:42:39.013Z"
   },
   {
    "duration": 16,
    "start_time": "2023-02-18T09:42:39.082Z"
   },
   {
    "duration": 43,
    "start_time": "2023-02-18T09:42:39.100Z"
   },
   {
    "duration": 31,
    "start_time": "2023-02-18T09:42:39.145Z"
   },
   {
    "duration": 772,
    "start_time": "2023-02-18T09:42:39.177Z"
   },
   {
    "duration": 10,
    "start_time": "2023-02-18T09:42:39.951Z"
   },
   {
    "duration": 15,
    "start_time": "2023-02-18T09:42:39.963Z"
   },
   {
    "duration": 39,
    "start_time": "2023-02-18T09:42:39.980Z"
   },
   {
    "duration": 9,
    "start_time": "2023-02-18T09:42:40.020Z"
   },
   {
    "duration": 8,
    "start_time": "2023-02-18T09:42:40.031Z"
   },
   {
    "duration": 9,
    "start_time": "2023-02-18T09:42:40.041Z"
   },
   {
    "duration": 8,
    "start_time": "2023-02-18T09:42:40.052Z"
   },
   {
    "duration": 11,
    "start_time": "2023-02-18T09:42:40.063Z"
   },
   {
    "duration": 224,
    "start_time": "2023-02-18T09:42:40.076Z"
   },
   {
    "duration": 18,
    "start_time": "2023-02-18T09:42:40.302Z"
   },
   {
    "duration": 17,
    "start_time": "2023-02-18T09:42:40.330Z"
   },
   {
    "duration": 4,
    "start_time": "2023-02-18T09:42:40.349Z"
   },
   {
    "duration": 19,
    "start_time": "2023-02-18T09:42:40.355Z"
   },
   {
    "duration": 196,
    "start_time": "2023-02-18T09:42:40.376Z"
   },
   {
    "duration": 3096,
    "start_time": "2023-02-18T09:42:40.574Z"
   },
   {
    "duration": 10,
    "start_time": "2023-02-18T09:42:43.672Z"
   },
   {
    "duration": 46,
    "start_time": "2023-02-18T09:42:43.684Z"
   },
   {
    "duration": 258,
    "start_time": "2023-02-18T09:42:43.732Z"
   },
   {
    "duration": 407,
    "start_time": "2023-02-18T09:42:43.992Z"
   },
   {
    "duration": 45,
    "start_time": "2023-02-18T09:42:44.406Z"
   },
   {
    "duration": 0,
    "start_time": "2023-02-18T09:42:44.453Z"
   },
   {
    "duration": 0,
    "start_time": "2023-02-18T09:42:44.455Z"
   },
   {
    "duration": 0,
    "start_time": "2023-02-18T09:42:44.456Z"
   },
   {
    "duration": 0,
    "start_time": "2023-02-18T09:42:44.457Z"
   },
   {
    "duration": 0,
    "start_time": "2023-02-18T09:42:44.458Z"
   },
   {
    "duration": 0,
    "start_time": "2023-02-18T09:42:44.460Z"
   },
   {
    "duration": 0,
    "start_time": "2023-02-18T09:42:44.461Z"
   },
   {
    "duration": 0,
    "start_time": "2023-02-18T09:42:44.463Z"
   },
   {
    "duration": 0,
    "start_time": "2023-02-18T09:42:44.465Z"
   },
   {
    "duration": 21,
    "start_time": "2023-02-18T09:42:58.830Z"
   },
   {
    "duration": 302,
    "start_time": "2023-02-18T09:43:15.877Z"
   },
   {
    "duration": 6,
    "start_time": "2023-02-18T09:43:38.266Z"
   },
   {
    "duration": 282,
    "start_time": "2023-02-18T09:43:39.774Z"
   },
   {
    "duration": 401,
    "start_time": "2023-02-18T09:43:42.630Z"
   },
   {
    "duration": 189,
    "start_time": "2023-02-18T09:43:44.726Z"
   },
   {
    "duration": 5,
    "start_time": "2023-02-18T09:43:57.238Z"
   },
   {
    "duration": 1199,
    "start_time": "2023-02-18T09:43:59.389Z"
   },
   {
    "duration": 6,
    "start_time": "2023-02-18T09:44:11.490Z"
   },
   {
    "duration": 43,
    "start_time": "2023-02-18T09:44:13.577Z"
   },
   {
    "duration": 261,
    "start_time": "2023-02-18T09:44:16.233Z"
   },
   {
    "duration": 266,
    "start_time": "2023-02-18T09:45:50.129Z"
   },
   {
    "duration": 67,
    "start_time": "2023-02-18T09:54:45.367Z"
   },
   {
    "duration": 66,
    "start_time": "2023-02-18T09:54:47.356Z"
   },
   {
    "duration": 282,
    "start_time": "2023-02-18T09:54:51.982Z"
   },
   {
    "duration": 3,
    "start_time": "2023-02-18T13:08:23.884Z"
   },
   {
    "duration": 73,
    "start_time": "2023-02-18T13:08:23.889Z"
   },
   {
    "duration": 16,
    "start_time": "2023-02-18T13:08:23.963Z"
   },
   {
    "duration": 19,
    "start_time": "2023-02-18T13:08:23.981Z"
   },
   {
    "duration": 39,
    "start_time": "2023-02-18T13:08:24.004Z"
   },
   {
    "duration": 786,
    "start_time": "2023-02-18T13:08:24.045Z"
   },
   {
    "duration": 9,
    "start_time": "2023-02-18T13:08:24.833Z"
   },
   {
    "duration": 19,
    "start_time": "2023-02-18T13:08:24.844Z"
   },
   {
    "duration": 5,
    "start_time": "2023-02-18T13:08:24.864Z"
   },
   {
    "duration": 33,
    "start_time": "2023-02-18T13:08:24.871Z"
   },
   {
    "duration": 7,
    "start_time": "2023-02-18T13:08:24.906Z"
   },
   {
    "duration": 7,
    "start_time": "2023-02-18T13:08:24.915Z"
   },
   {
    "duration": 14,
    "start_time": "2023-02-18T13:08:24.924Z"
   },
   {
    "duration": 13,
    "start_time": "2023-02-18T13:08:24.941Z"
   },
   {
    "duration": 388,
    "start_time": "2023-02-18T13:08:24.956Z"
   },
   {
    "duration": 6,
    "start_time": "2023-02-18T13:08:25.346Z"
   },
   {
    "duration": 18,
    "start_time": "2023-02-18T13:08:25.354Z"
   },
   {
    "duration": 5,
    "start_time": "2023-02-18T13:08:25.374Z"
   },
   {
    "duration": 36,
    "start_time": "2023-02-18T13:08:25.381Z"
   },
   {
    "duration": 61,
    "start_time": "2023-02-18T13:08:25.419Z"
   },
   {
    "duration": 2865,
    "start_time": "2023-02-18T13:08:25.481Z"
   },
   {
    "duration": 11,
    "start_time": "2023-02-18T13:08:28.348Z"
   },
   {
    "duration": 18,
    "start_time": "2023-02-18T13:08:28.361Z"
   },
   {
    "duration": 254,
    "start_time": "2023-02-18T13:08:28.381Z"
   },
   {
    "duration": 338,
    "start_time": "2023-02-18T13:08:28.637Z"
   },
   {
    "duration": 291,
    "start_time": "2023-02-18T13:08:28.977Z"
   },
   {
    "duration": 7,
    "start_time": "2023-02-18T13:08:29.270Z"
   },
   {
    "duration": 278,
    "start_time": "2023-02-18T13:08:29.279Z"
   },
   {
    "duration": 408,
    "start_time": "2023-02-18T13:08:29.559Z"
   },
   {
    "duration": 189,
    "start_time": "2023-02-18T13:08:29.969Z"
   },
   {
    "duration": 6,
    "start_time": "2023-02-18T13:08:30.160Z"
   },
   {
    "duration": 1179,
    "start_time": "2023-02-18T13:08:30.168Z"
   },
   {
    "duration": 6,
    "start_time": "2023-02-18T13:08:31.349Z"
   },
   {
    "duration": 59,
    "start_time": "2023-02-18T13:08:31.357Z"
   },
   {
    "duration": 282,
    "start_time": "2023-02-18T13:08:31.417Z"
   },
   {
    "duration": 297,
    "start_time": "2023-02-18T13:10:11.186Z"
   },
   {
    "duration": 24,
    "start_time": "2023-02-18T13:10:29.571Z"
   },
   {
    "duration": 41,
    "start_time": "2023-02-18T13:10:39.200Z"
   },
   {
    "duration": 7,
    "start_time": "2023-02-18T13:11:50.988Z"
   },
   {
    "duration": 7,
    "start_time": "2023-02-18T14:56:29.049Z"
   },
   {
    "duration": 10,
    "start_time": "2023-02-18T14:57:33.733Z"
   },
   {
    "duration": 8,
    "start_time": "2023-02-18T14:59:19.085Z"
   },
   {
    "duration": 54,
    "start_time": "2023-02-18T14:59:21.233Z"
   },
   {
    "duration": 9,
    "start_time": "2023-02-18T15:00:15.631Z"
   },
   {
    "duration": 8,
    "start_time": "2023-02-18T15:00:27.937Z"
   },
   {
    "duration": 14,
    "start_time": "2023-02-18T15:00:29.279Z"
   },
   {
    "duration": 375,
    "start_time": "2023-02-18T15:00:49.486Z"
   },
   {
    "duration": 351,
    "start_time": "2023-02-18T15:23:06.649Z"
   },
   {
    "duration": 15,
    "start_time": "2023-02-18T15:23:22.576Z"
   },
   {
    "duration": 12,
    "start_time": "2023-02-18T15:42:36.580Z"
   },
   {
    "duration": 7,
    "start_time": "2023-02-18T15:51:21.575Z"
   },
   {
    "duration": 46,
    "start_time": "2023-02-18T15:54:36.493Z"
   },
   {
    "duration": 46,
    "start_time": "2023-02-18T15:57:20.641Z"
   },
   {
    "duration": 12,
    "start_time": "2023-02-18T15:57:38.864Z"
   },
   {
    "duration": 8,
    "start_time": "2023-02-18T15:57:46.003Z"
   },
   {
    "duration": 3,
    "start_time": "2023-02-18T15:57:51.062Z"
   },
   {
    "duration": 48,
    "start_time": "2023-02-18T15:57:51.068Z"
   },
   {
    "duration": 171,
    "start_time": "2023-02-18T15:57:51.118Z"
   },
   {
    "duration": 25,
    "start_time": "2023-02-18T15:57:51.291Z"
   },
   {
    "duration": 28,
    "start_time": "2023-02-18T15:57:51.319Z"
   },
   {
    "duration": 689,
    "start_time": "2023-02-18T15:57:51.349Z"
   },
   {
    "duration": 9,
    "start_time": "2023-02-18T15:57:52.041Z"
   },
   {
    "duration": 19,
    "start_time": "2023-02-18T15:57:52.052Z"
   },
   {
    "duration": 5,
    "start_time": "2023-02-18T15:57:52.072Z"
   },
   {
    "duration": 24,
    "start_time": "2023-02-18T15:57:52.079Z"
   },
   {
    "duration": 6,
    "start_time": "2023-02-18T15:57:52.105Z"
   },
   {
    "duration": 5,
    "start_time": "2023-02-18T15:57:52.113Z"
   },
   {
    "duration": 9,
    "start_time": "2023-02-18T15:57:52.121Z"
   },
   {
    "duration": 10,
    "start_time": "2023-02-18T15:57:52.131Z"
   },
   {
    "duration": 224,
    "start_time": "2023-02-18T15:57:52.142Z"
   },
   {
    "duration": 6,
    "start_time": "2023-02-18T15:57:52.368Z"
   },
   {
    "duration": 11,
    "start_time": "2023-02-18T15:57:52.376Z"
   },
   {
    "duration": 18,
    "start_time": "2023-02-18T15:57:52.388Z"
   },
   {
    "duration": 16,
    "start_time": "2023-02-18T15:57:52.407Z"
   },
   {
    "duration": 4,
    "start_time": "2023-02-18T15:57:52.425Z"
   },
   {
    "duration": 17,
    "start_time": "2023-02-18T15:57:52.431Z"
   },
   {
    "duration": 73,
    "start_time": "2023-02-18T15:57:52.449Z"
   },
   {
    "duration": 2892,
    "start_time": "2023-02-18T15:57:52.524Z"
   },
   {
    "duration": 10,
    "start_time": "2023-02-18T15:57:55.417Z"
   },
   {
    "duration": 22,
    "start_time": "2023-02-18T15:57:55.428Z"
   },
   {
    "duration": 454,
    "start_time": "2023-02-18T15:57:55.451Z"
   },
   {
    "duration": 340,
    "start_time": "2023-02-18T15:57:55.906Z"
   },
   {
    "duration": 281,
    "start_time": "2023-02-18T15:57:56.248Z"
   },
   {
    "duration": 6,
    "start_time": "2023-02-18T15:57:56.531Z"
   },
   {
    "duration": 257,
    "start_time": "2023-02-18T15:57:56.538Z"
   },
   {
    "duration": 169,
    "start_time": "2023-02-18T15:57:56.797Z"
   },
   {
    "duration": 181,
    "start_time": "2023-02-18T15:57:56.968Z"
   },
   {
    "duration": 6,
    "start_time": "2023-02-18T15:57:57.150Z"
   },
   {
    "duration": 1219,
    "start_time": "2023-02-18T15:57:57.157Z"
   },
   {
    "duration": 6,
    "start_time": "2023-02-18T15:57:58.378Z"
   },
   {
    "duration": 34,
    "start_time": "2023-02-18T15:57:58.386Z"
   },
   {
    "duration": 272,
    "start_time": "2023-02-18T15:57:58.423Z"
   },
   {
    "duration": 9,
    "start_time": "2023-02-18T15:57:58.696Z"
   },
   {
    "duration": 6,
    "start_time": "2023-02-18T15:57:58.707Z"
   },
   {
    "duration": 16,
    "start_time": "2023-02-18T15:57:58.715Z"
   },
   {
    "duration": 350,
    "start_time": "2023-02-18T15:57:58.732Z"
   },
   {
    "duration": 27,
    "start_time": "2023-02-18T15:57:59.085Z"
   },
   {
    "duration": 525,
    "start_time": "2023-02-18T15:57:59.114Z"
   },
   {
    "duration": 14,
    "start_time": "2023-02-18T15:57:59.640Z"
   },
   {
    "duration": 15,
    "start_time": "2023-02-18T16:01:36.013Z"
   },
   {
    "duration": 354,
    "start_time": "2023-02-18T16:02:03.372Z"
   },
   {
    "duration": 9,
    "start_time": "2023-02-18T16:35:32.818Z"
   },
   {
    "duration": 8,
    "start_time": "2023-02-18T16:35:53.059Z"
   },
   {
    "duration": 4,
    "start_time": "2023-02-18T16:36:03.787Z"
   },
   {
    "duration": 6,
    "start_time": "2023-02-18T16:36:09.731Z"
   },
   {
    "duration": 231,
    "start_time": "2023-02-18T16:36:19.398Z"
   },
   {
    "duration": 4,
    "start_time": "2023-02-18T16:42:42.455Z"
   },
   {
    "duration": 344,
    "start_time": "2023-02-18T16:43:00.759Z"
   },
   {
    "duration": 4,
    "start_time": "2023-02-18T16:43:42.627Z"
   },
   {
    "duration": 581,
    "start_time": "2023-02-18T16:43:47.377Z"
   },
   {
    "duration": 4,
    "start_time": "2023-02-18T16:47:15.598Z"
   },
   {
    "duration": 337,
    "start_time": "2023-02-18T16:47:19.745Z"
   },
   {
    "duration": 3,
    "start_time": "2023-02-18T16:52:10.211Z"
   },
   {
    "duration": 344,
    "start_time": "2023-02-18T16:52:11.988Z"
   },
   {
    "duration": 3,
    "start_time": "2023-02-18T16:53:16.179Z"
   },
   {
    "duration": 165,
    "start_time": "2023-02-18T16:53:18.076Z"
   },
   {
    "duration": 54,
    "start_time": "2023-02-18T19:04:34.494Z"
   },
   {
    "duration": 1346,
    "start_time": "2023-02-18T19:04:56.637Z"
   },
   {
    "duration": 447,
    "start_time": "2023-02-18T19:04:57.985Z"
   },
   {
    "duration": 19,
    "start_time": "2023-02-18T19:04:58.433Z"
   },
   {
    "duration": 14,
    "start_time": "2023-02-18T19:04:58.454Z"
   },
   {
    "duration": 47,
    "start_time": "2023-02-18T19:04:58.470Z"
   },
   {
    "duration": 727,
    "start_time": "2023-02-18T19:04:58.518Z"
   },
   {
    "duration": 9,
    "start_time": "2023-02-18T19:04:59.246Z"
   },
   {
    "duration": 33,
    "start_time": "2023-02-18T19:04:59.257Z"
   },
   {
    "duration": 4,
    "start_time": "2023-02-18T19:04:59.292Z"
   },
   {
    "duration": 14,
    "start_time": "2023-02-18T19:04:59.298Z"
   },
   {
    "duration": 19,
    "start_time": "2023-02-18T19:04:59.314Z"
   },
   {
    "duration": 9,
    "start_time": "2023-02-18T19:04:59.335Z"
   },
   {
    "duration": 29,
    "start_time": "2023-02-18T19:04:59.345Z"
   },
   {
    "duration": 24,
    "start_time": "2023-02-18T19:04:59.378Z"
   },
   {
    "duration": 224,
    "start_time": "2023-02-18T19:04:59.404Z"
   },
   {
    "duration": 13,
    "start_time": "2023-02-18T19:04:59.630Z"
   },
   {
    "duration": 19,
    "start_time": "2023-02-18T19:04:59.645Z"
   },
   {
    "duration": 20,
    "start_time": "2023-02-18T19:04:59.665Z"
   },
   {
    "duration": 28,
    "start_time": "2023-02-18T19:04:59.687Z"
   },
   {
    "duration": 5,
    "start_time": "2023-02-18T19:04:59.717Z"
   },
   {
    "duration": 24,
    "start_time": "2023-02-18T19:04:59.723Z"
   },
   {
    "duration": 74,
    "start_time": "2023-02-18T19:04:59.749Z"
   },
   {
    "duration": 3014,
    "start_time": "2023-02-18T19:04:59.825Z"
   },
   {
    "duration": 10,
    "start_time": "2023-02-18T19:05:02.840Z"
   },
   {
    "duration": 22,
    "start_time": "2023-02-18T19:05:02.851Z"
   },
   {
    "duration": 255,
    "start_time": "2023-02-18T19:05:02.875Z"
   },
   {
    "duration": 345,
    "start_time": "2023-02-18T19:05:03.131Z"
   },
   {
    "duration": 261,
    "start_time": "2023-02-18T19:05:03.478Z"
   },
   {
    "duration": 6,
    "start_time": "2023-02-18T19:05:03.740Z"
   },
   {
    "duration": 257,
    "start_time": "2023-02-18T19:05:03.747Z"
   },
   {
    "duration": 178,
    "start_time": "2023-02-18T19:05:04.006Z"
   },
   {
    "duration": 174,
    "start_time": "2023-02-18T19:05:04.186Z"
   },
   {
    "duration": 5,
    "start_time": "2023-02-18T19:05:04.362Z"
   },
   {
    "duration": 1292,
    "start_time": "2023-02-18T19:05:04.368Z"
   },
   {
    "duration": 6,
    "start_time": "2023-02-18T19:05:05.662Z"
   },
   {
    "duration": 32,
    "start_time": "2023-02-18T19:05:05.670Z"
   },
   {
    "duration": 305,
    "start_time": "2023-02-18T19:05:05.704Z"
   },
   {
    "duration": 7,
    "start_time": "2023-02-18T19:05:06.010Z"
   },
   {
    "duration": 19,
    "start_time": "2023-02-18T19:05:06.019Z"
   },
   {
    "duration": 55,
    "start_time": "2023-02-18T19:05:06.040Z"
   },
   {
    "duration": 364,
    "start_time": "2023-02-18T19:05:06.099Z"
   },
   {
    "duration": 16,
    "start_time": "2023-02-18T19:05:06.464Z"
   },
   {
    "duration": 384,
    "start_time": "2023-02-18T19:05:06.482Z"
   },
   {
    "duration": 16,
    "start_time": "2023-02-18T19:05:06.867Z"
   },
   {
    "duration": 367,
    "start_time": "2023-02-18T19:05:06.884Z"
   },
   {
    "duration": 8,
    "start_time": "2023-02-18T19:05:07.252Z"
   },
   {
    "duration": 12,
    "start_time": "2023-02-18T19:05:07.261Z"
   },
   {
    "duration": 10,
    "start_time": "2023-02-18T19:05:07.275Z"
   },
   {
    "duration": 17,
    "start_time": "2023-02-18T19:05:07.287Z"
   },
   {
    "duration": 184,
    "start_time": "2023-02-18T19:05:07.306Z"
   },
   {
    "duration": 5,
    "start_time": "2023-02-18T19:05:07.492Z"
   },
   {
    "duration": 8,
    "start_time": "2023-02-18T19:11:29.833Z"
   },
   {
    "duration": 6,
    "start_time": "2023-02-18T19:11:41.308Z"
   },
   {
    "duration": 176,
    "start_time": "2023-02-18T19:12:36.665Z"
   },
   {
    "duration": 175,
    "start_time": "2023-02-18T19:13:06.500Z"
   },
   {
    "duration": 72,
    "start_time": "2023-02-18T19:16:10.501Z"
   },
   {
    "duration": 8,
    "start_time": "2023-02-18T19:16:24.896Z"
   },
   {
    "duration": 5,
    "start_time": "2023-02-18T19:16:29.693Z"
   },
   {
    "duration": 5,
    "start_time": "2023-02-18T19:16:34.097Z"
   },
   {
    "duration": 317,
    "start_time": "2023-02-18T19:16:51.072Z"
   },
   {
    "duration": 196,
    "start_time": "2023-02-18T19:16:59.302Z"
   },
   {
    "duration": 143,
    "start_time": "2023-02-18T19:17:10.555Z"
   },
   {
    "duration": 166,
    "start_time": "2023-02-18T19:17:57.600Z"
   },
   {
    "duration": 182,
    "start_time": "2023-02-18T19:18:15.815Z"
   },
   {
    "duration": 11,
    "start_time": "2023-02-18T19:20:51.423Z"
   },
   {
    "duration": 8,
    "start_time": "2023-02-18T19:21:03.740Z"
   },
   {
    "duration": 6,
    "start_time": "2023-02-18T19:21:11.216Z"
   },
   {
    "duration": 1181,
    "start_time": "2023-02-19T00:06:27.465Z"
   },
   {
    "duration": 46,
    "start_time": "2023-02-19T00:06:28.649Z"
   },
   {
    "duration": 17,
    "start_time": "2023-02-19T00:06:28.697Z"
   },
   {
    "duration": 13,
    "start_time": "2023-02-19T00:06:28.716Z"
   },
   {
    "duration": 27,
    "start_time": "2023-02-19T00:06:28.731Z"
   },
   {
    "duration": 707,
    "start_time": "2023-02-19T00:06:28.759Z"
   },
   {
    "duration": 10,
    "start_time": "2023-02-19T00:06:29.467Z"
   },
   {
    "duration": 28,
    "start_time": "2023-02-19T00:06:29.479Z"
   },
   {
    "duration": 5,
    "start_time": "2023-02-19T00:06:29.508Z"
   },
   {
    "duration": 8,
    "start_time": "2023-02-19T00:06:29.515Z"
   },
   {
    "duration": 8,
    "start_time": "2023-02-19T00:06:29.525Z"
   },
   {
    "duration": 7,
    "start_time": "2023-02-19T00:06:29.535Z"
   },
   {
    "duration": 9,
    "start_time": "2023-02-19T00:06:29.544Z"
   },
   {
    "duration": 46,
    "start_time": "2023-02-19T00:06:29.557Z"
   },
   {
    "duration": 193,
    "start_time": "2023-02-19T00:06:29.605Z"
   },
   {
    "duration": 6,
    "start_time": "2023-02-19T00:06:29.799Z"
   },
   {
    "duration": 11,
    "start_time": "2023-02-19T00:06:29.807Z"
   },
   {
    "duration": 9,
    "start_time": "2023-02-19T00:06:29.819Z"
   },
   {
    "duration": 16,
    "start_time": "2023-02-19T00:06:29.830Z"
   },
   {
    "duration": 4,
    "start_time": "2023-02-19T00:06:29.848Z"
   },
   {
    "duration": 49,
    "start_time": "2023-02-19T00:06:29.854Z"
   },
   {
    "duration": 67,
    "start_time": "2023-02-19T00:06:29.905Z"
   },
   {
    "duration": 2647,
    "start_time": "2023-02-19T00:06:29.974Z"
   },
   {
    "duration": 10,
    "start_time": "2023-02-19T00:06:32.624Z"
   },
   {
    "duration": 16,
    "start_time": "2023-02-19T00:06:32.636Z"
   },
   {
    "duration": 239,
    "start_time": "2023-02-19T00:06:32.654Z"
   },
   {
    "duration": 338,
    "start_time": "2023-02-19T00:06:32.894Z"
   },
   {
    "duration": 263,
    "start_time": "2023-02-19T00:06:33.234Z"
   },
   {
    "duration": 7,
    "start_time": "2023-02-19T00:06:33.499Z"
   },
   {
    "duration": 241,
    "start_time": "2023-02-19T00:06:33.508Z"
   },
   {
    "duration": 161,
    "start_time": "2023-02-19T00:06:33.750Z"
   },
   {
    "duration": 165,
    "start_time": "2023-02-19T00:06:33.913Z"
   },
   {
    "duration": 5,
    "start_time": "2023-02-19T00:06:34.080Z"
   },
   {
    "duration": 1258,
    "start_time": "2023-02-19T00:06:34.087Z"
   },
   {
    "duration": 6,
    "start_time": "2023-02-19T00:06:35.347Z"
   },
   {
    "duration": 32,
    "start_time": "2023-02-19T00:06:35.354Z"
   },
   {
    "duration": 273,
    "start_time": "2023-02-19T00:06:35.388Z"
   },
   {
    "duration": 6,
    "start_time": "2023-02-19T00:06:35.664Z"
   },
   {
    "duration": 13,
    "start_time": "2023-02-19T00:06:35.671Z"
   },
   {
    "duration": 59,
    "start_time": "2023-02-19T00:06:35.686Z"
   },
   {
    "duration": 339,
    "start_time": "2023-02-19T00:06:35.749Z"
   },
   {
    "duration": 23,
    "start_time": "2023-02-19T00:06:36.090Z"
   },
   {
    "duration": 333,
    "start_time": "2023-02-19T00:06:36.115Z"
   },
   {
    "duration": 14,
    "start_time": "2023-02-19T00:06:36.449Z"
   },
   {
    "duration": 323,
    "start_time": "2023-02-19T00:06:36.465Z"
   },
   {
    "duration": 7,
    "start_time": "2023-02-19T00:06:36.790Z"
   },
   {
    "duration": 4,
    "start_time": "2023-02-19T00:06:36.803Z"
   },
   {
    "duration": 6,
    "start_time": "2023-02-19T00:06:36.809Z"
   },
   {
    "duration": 4,
    "start_time": "2023-02-19T00:06:36.817Z"
   },
   {
    "duration": 173,
    "start_time": "2023-02-19T00:06:36.823Z"
   },
   {
    "duration": 149,
    "start_time": "2023-02-19T00:06:36.998Z"
   },
   {
    "duration": 5,
    "start_time": "2023-02-19T00:06:37.149Z"
   },
   {
    "duration": 10,
    "start_time": "2023-02-19T00:06:37.156Z"
   },
   {
    "duration": 4,
    "start_time": "2023-02-19T00:06:37.168Z"
   },
   {
    "duration": 6,
    "start_time": "2023-02-19T00:06:37.173Z"
   },
   {
    "duration": 167,
    "start_time": "2023-02-19T00:06:37.204Z"
   },
   {
    "duration": 295,
    "start_time": "2023-02-19T00:06:37.373Z"
   },
   {
    "duration": 5,
    "start_time": "2023-02-19T00:06:37.670Z"
   },
   {
    "duration": 67,
    "start_time": "2023-02-19T00:50:56.025Z"
   },
   {
    "duration": 5,
    "start_time": "2023-02-19T01:01:08.947Z"
   },
   {
    "duration": 78,
    "start_time": "2023-02-19T07:33:25.522Z"
   },
   {
    "duration": 1397,
    "start_time": "2023-02-19T07:33:29.183Z"
   },
   {
    "duration": 218,
    "start_time": "2023-02-19T07:33:30.582Z"
   },
   {
    "duration": 27,
    "start_time": "2023-02-19T07:33:30.802Z"
   },
   {
    "duration": 31,
    "start_time": "2023-02-19T07:33:30.831Z"
   },
   {
    "duration": 68,
    "start_time": "2023-02-19T07:33:30.865Z"
   },
   {
    "duration": 684,
    "start_time": "2023-02-19T07:33:30.935Z"
   },
   {
    "duration": 10,
    "start_time": "2023-02-19T07:33:31.621Z"
   },
   {
    "duration": 17,
    "start_time": "2023-02-19T07:33:31.633Z"
   },
   {
    "duration": 6,
    "start_time": "2023-02-19T07:33:31.668Z"
   },
   {
    "duration": 10,
    "start_time": "2023-02-19T07:33:31.675Z"
   },
   {
    "duration": 10,
    "start_time": "2023-02-19T07:33:31.686Z"
   },
   {
    "duration": 14,
    "start_time": "2023-02-19T07:33:31.697Z"
   },
   {
    "duration": 13,
    "start_time": "2023-02-19T07:33:31.713Z"
   },
   {
    "duration": 13,
    "start_time": "2023-02-19T07:33:31.730Z"
   },
   {
    "duration": 220,
    "start_time": "2023-02-19T07:33:31.767Z"
   },
   {
    "duration": 7,
    "start_time": "2023-02-19T07:33:31.989Z"
   },
   {
    "duration": 17,
    "start_time": "2023-02-19T07:33:31.997Z"
   },
   {
    "duration": 19,
    "start_time": "2023-02-19T07:33:32.016Z"
   },
   {
    "duration": 25,
    "start_time": "2023-02-19T07:33:32.037Z"
   },
   {
    "duration": 5,
    "start_time": "2023-02-19T07:33:32.068Z"
   },
   {
    "duration": 17,
    "start_time": "2023-02-19T07:33:32.075Z"
   },
   {
    "duration": 127,
    "start_time": "2023-02-19T07:33:32.095Z"
   },
   {
    "duration": 72,
    "start_time": "2023-02-19T07:33:32.224Z"
   },
   {
    "duration": 2971,
    "start_time": "2023-02-19T07:33:32.298Z"
   },
   {
    "duration": 10,
    "start_time": "2023-02-19T07:33:35.271Z"
   },
   {
    "duration": 35,
    "start_time": "2023-02-19T07:33:35.283Z"
   },
   {
    "duration": 263,
    "start_time": "2023-02-19T07:33:35.320Z"
   },
   {
    "duration": 362,
    "start_time": "2023-02-19T07:33:35.586Z"
   },
   {
    "duration": 280,
    "start_time": "2023-02-19T07:33:35.951Z"
   },
   {
    "duration": 6,
    "start_time": "2023-02-19T07:33:36.234Z"
   },
   {
    "duration": 290,
    "start_time": "2023-02-19T07:33:36.242Z"
   },
   {
    "duration": 204,
    "start_time": "2023-02-19T07:33:36.534Z"
   },
   {
    "duration": 261,
    "start_time": "2023-02-19T07:33:36.741Z"
   },
   {
    "duration": 8,
    "start_time": "2023-02-19T07:33:37.004Z"
   },
   {
    "duration": 1208,
    "start_time": "2023-02-19T07:33:37.014Z"
   },
   {
    "duration": 7,
    "start_time": "2023-02-19T07:33:38.224Z"
   },
   {
    "duration": 43,
    "start_time": "2023-02-19T07:33:38.232Z"
   },
   {
    "duration": 281,
    "start_time": "2023-02-19T07:33:38.276Z"
   },
   {
    "duration": 10,
    "start_time": "2023-02-19T07:33:38.559Z"
   },
   {
    "duration": 10,
    "start_time": "2023-02-19T07:33:38.571Z"
   },
   {
    "duration": 47,
    "start_time": "2023-02-19T07:33:38.585Z"
   },
   {
    "duration": 371,
    "start_time": "2023-02-19T07:33:38.634Z"
   },
   {
    "duration": 10,
    "start_time": "2023-02-19T07:33:39.008Z"
   },
   {
    "duration": 17,
    "start_time": "2023-02-19T07:33:39.020Z"
   },
   {
    "duration": 442,
    "start_time": "2023-02-19T07:33:39.039Z"
   },
   {
    "duration": 17,
    "start_time": "2023-02-19T07:33:39.483Z"
   },
   {
    "duration": 423,
    "start_time": "2023-02-19T07:33:39.502Z"
   },
   {
    "duration": 8,
    "start_time": "2023-02-19T07:33:39.928Z"
   },
   {
    "duration": 9,
    "start_time": "2023-02-19T07:33:39.937Z"
   },
   {
    "duration": 20,
    "start_time": "2023-02-19T07:33:39.948Z"
   },
   {
    "duration": 3,
    "start_time": "2023-02-19T07:33:39.970Z"
   },
   {
    "duration": 225,
    "start_time": "2023-02-19T07:33:39.975Z"
   },
   {
    "duration": 194,
    "start_time": "2023-02-19T07:33:40.202Z"
   },
   {
    "duration": 6,
    "start_time": "2023-02-19T07:33:40.398Z"
   },
   {
    "duration": 20,
    "start_time": "2023-02-19T07:33:40.405Z"
   },
   {
    "duration": 15,
    "start_time": "2023-02-19T07:33:40.427Z"
   },
   {
    "duration": 8,
    "start_time": "2023-02-19T07:33:40.444Z"
   },
   {
    "duration": 151,
    "start_time": "2023-02-19T07:33:40.455Z"
   },
   {
    "duration": 280,
    "start_time": "2023-02-19T07:33:40.607Z"
   },
   {
    "duration": 7,
    "start_time": "2023-02-19T07:33:40.889Z"
   },
   {
    "duration": 666,
    "start_time": "2023-02-19T07:34:19.539Z"
   },
   {
    "duration": 236,
    "start_time": "2023-02-19T07:34:26.423Z"
   },
   {
    "duration": 268,
    "start_time": "2023-02-19T07:34:32.637Z"
   },
   {
    "duration": 391,
    "start_time": "2023-02-19T07:35:53.459Z"
   },
   {
    "duration": 302,
    "start_time": "2023-02-19T07:36:16.986Z"
   },
   {
    "duration": 280,
    "start_time": "2023-02-19T07:36:30.475Z"
   },
   {
    "duration": 308,
    "start_time": "2023-02-19T07:36:40.964Z"
   },
   {
    "duration": 577,
    "start_time": "2023-02-19T07:36:46.649Z"
   },
   {
    "duration": 394,
    "start_time": "2023-02-19T07:36:53.077Z"
   },
   {
    "duration": 346,
    "start_time": "2023-02-19T07:37:05.199Z"
   },
   {
    "duration": 411,
    "start_time": "2023-02-19T07:37:12.613Z"
   },
   {
    "duration": 240,
    "start_time": "2023-02-19T07:37:20.016Z"
   },
   {
    "duration": 303,
    "start_time": "2023-02-19T07:37:27.267Z"
   },
   {
    "duration": 277,
    "start_time": "2023-02-19T07:37:33.137Z"
   },
   {
    "duration": 242,
    "start_time": "2023-02-19T07:38:57.219Z"
   },
   {
    "duration": 262,
    "start_time": "2023-02-19T07:39:10.521Z"
   },
   {
    "duration": 445,
    "start_time": "2023-02-19T07:39:32.888Z"
   },
   {
    "duration": 304,
    "start_time": "2023-02-19T07:39:48.574Z"
   },
   {
    "duration": 331,
    "start_time": "2023-02-19T07:39:59.589Z"
   },
   {
    "duration": 373,
    "start_time": "2023-02-19T07:40:04.488Z"
   },
   {
    "duration": 17,
    "start_time": "2023-02-19T07:43:11.119Z"
   },
   {
    "duration": 17,
    "start_time": "2023-02-19T07:43:40.287Z"
   },
   {
    "duration": 10,
    "start_time": "2023-02-19T07:43:56.655Z"
   },
   {
    "duration": 15,
    "start_time": "2023-02-19T07:44:00.414Z"
   },
   {
    "duration": 163,
    "start_time": "2023-02-19T07:44:18.880Z"
   },
   {
    "duration": 274,
    "start_time": "2023-02-19T07:46:09.340Z"
   },
   {
    "duration": 69,
    "start_time": "2023-02-19T07:47:37.050Z"
   },
   {
    "duration": 15,
    "start_time": "2023-02-19T07:50:33.309Z"
   },
   {
    "duration": 338,
    "start_time": "2023-02-19T07:50:40.536Z"
   },
   {
    "duration": 344,
    "start_time": "2023-02-19T07:50:43.647Z"
   },
   {
    "duration": 14,
    "start_time": "2023-02-19T07:52:43.764Z"
   },
   {
    "duration": 473,
    "start_time": "2023-02-19T07:52:46.975Z"
   },
   {
    "duration": 7,
    "start_time": "2023-02-19T08:01:01.467Z"
   },
   {
    "duration": 14,
    "start_time": "2023-02-19T08:01:08.114Z"
   },
   {
    "duration": 324,
    "start_time": "2023-02-19T08:01:23.517Z"
   },
   {
    "duration": 3,
    "start_time": "2023-02-19T08:02:07.001Z"
   },
   {
    "duration": 74,
    "start_time": "2023-02-19T08:02:30.174Z"
   },
   {
    "duration": 7,
    "start_time": "2023-02-19T08:06:13.938Z"
   },
   {
    "duration": 4,
    "start_time": "2023-02-19T08:12:14.560Z"
   },
   {
    "duration": 72,
    "start_time": "2023-02-19T08:12:14.566Z"
   },
   {
    "duration": 14,
    "start_time": "2023-02-19T08:12:14.640Z"
   },
   {
    "duration": 36,
    "start_time": "2023-02-19T08:12:14.656Z"
   },
   {
    "duration": 39,
    "start_time": "2023-02-19T08:12:14.696Z"
   },
   {
    "duration": 696,
    "start_time": "2023-02-19T08:12:14.737Z"
   },
   {
    "duration": 9,
    "start_time": "2023-02-19T08:12:15.434Z"
   },
   {
    "duration": 25,
    "start_time": "2023-02-19T08:12:15.444Z"
   },
   {
    "duration": 4,
    "start_time": "2023-02-19T08:12:15.471Z"
   },
   {
    "duration": 7,
    "start_time": "2023-02-19T08:12:15.477Z"
   },
   {
    "duration": 8,
    "start_time": "2023-02-19T08:12:15.485Z"
   },
   {
    "duration": 6,
    "start_time": "2023-02-19T08:12:15.494Z"
   },
   {
    "duration": 11,
    "start_time": "2023-02-19T08:12:15.501Z"
   },
   {
    "duration": 11,
    "start_time": "2023-02-19T08:12:15.515Z"
   },
   {
    "duration": 206,
    "start_time": "2023-02-19T08:12:15.527Z"
   },
   {
    "duration": 8,
    "start_time": "2023-02-19T08:12:15.735Z"
   },
   {
    "duration": 33,
    "start_time": "2023-02-19T08:12:15.744Z"
   },
   {
    "duration": 9,
    "start_time": "2023-02-19T08:12:15.778Z"
   },
   {
    "duration": 14,
    "start_time": "2023-02-19T08:12:15.788Z"
   },
   {
    "duration": 5,
    "start_time": "2023-02-19T08:12:15.804Z"
   },
   {
    "duration": 15,
    "start_time": "2023-02-19T08:12:15.810Z"
   },
   {
    "duration": 95,
    "start_time": "2023-02-19T08:12:15.827Z"
   },
   {
    "duration": 67,
    "start_time": "2023-02-19T08:12:15.924Z"
   },
   {
    "duration": 2700,
    "start_time": "2023-02-19T08:12:15.993Z"
   },
   {
    "duration": 11,
    "start_time": "2023-02-19T08:12:18.695Z"
   },
   {
    "duration": 18,
    "start_time": "2023-02-19T08:12:18.707Z"
   },
   {
    "duration": 284,
    "start_time": "2023-02-19T08:12:18.726Z"
   },
   {
    "duration": 305,
    "start_time": "2023-02-19T08:12:19.011Z"
   },
   {
    "duration": 253,
    "start_time": "2023-02-19T08:12:19.318Z"
   },
   {
    "duration": 6,
    "start_time": "2023-02-19T08:12:19.574Z"
   },
   {
    "duration": 262,
    "start_time": "2023-02-19T08:12:19.581Z"
   },
   {
    "duration": 274,
    "start_time": "2023-02-19T08:12:19.845Z"
   },
   {
    "duration": 158,
    "start_time": "2023-02-19T08:12:20.121Z"
   },
   {
    "duration": 168,
    "start_time": "2023-02-19T08:12:20.280Z"
   },
   {
    "duration": 5,
    "start_time": "2023-02-19T08:12:20.450Z"
   },
   {
    "duration": 1177,
    "start_time": "2023-02-19T08:12:20.467Z"
   },
   {
    "duration": 6,
    "start_time": "2023-02-19T08:12:21.645Z"
   },
   {
    "duration": 26,
    "start_time": "2023-02-19T08:12:21.668Z"
   },
   {
    "duration": 276,
    "start_time": "2023-02-19T08:12:21.697Z"
   },
   {
    "duration": 2,
    "start_time": "2023-02-19T08:12:21.975Z"
   },
   {
    "duration": 14,
    "start_time": "2023-02-19T08:12:21.982Z"
   },
   {
    "duration": 30,
    "start_time": "2023-02-19T08:12:21.998Z"
   },
   {
    "duration": 333,
    "start_time": "2023-02-19T08:12:22.030Z"
   },
   {
    "duration": 5,
    "start_time": "2023-02-19T08:12:22.367Z"
   },
   {
    "duration": 15,
    "start_time": "2023-02-19T08:12:22.374Z"
   },
   {
    "duration": 349,
    "start_time": "2023-02-19T08:12:22.391Z"
   },
   {
    "duration": 25,
    "start_time": "2023-02-19T08:12:22.743Z"
   },
   {
    "duration": 319,
    "start_time": "2023-02-19T08:12:22.770Z"
   },
   {
    "duration": 8,
    "start_time": "2023-02-19T08:12:23.091Z"
   },
   {
    "duration": 7,
    "start_time": "2023-02-19T08:12:23.100Z"
   },
   {
    "duration": 6,
    "start_time": "2023-02-19T08:12:23.109Z"
   },
   {
    "duration": 9,
    "start_time": "2023-02-19T08:12:23.116Z"
   },
   {
    "duration": 166,
    "start_time": "2023-02-19T08:12:23.126Z"
   },
   {
    "duration": 146,
    "start_time": "2023-02-19T08:12:23.294Z"
   },
   {
    "duration": 5,
    "start_time": "2023-02-19T08:12:23.441Z"
   },
   {
    "duration": 20,
    "start_time": "2023-02-19T08:12:23.448Z"
   },
   {
    "duration": 3,
    "start_time": "2023-02-19T08:12:23.469Z"
   },
   {
    "duration": 6,
    "start_time": "2023-02-19T08:12:23.474Z"
   },
   {
    "duration": 319,
    "start_time": "2023-02-19T08:12:23.481Z"
   },
   {
    "duration": 131,
    "start_time": "2023-02-19T08:12:23.801Z"
   },
   {
    "duration": 6,
    "start_time": "2023-02-19T08:12:23.934Z"
   },
   {
    "duration": 1283,
    "start_time": "2023-02-19T17:25:19.948Z"
   },
   {
    "duration": 52,
    "start_time": "2023-02-19T17:25:21.233Z"
   },
   {
    "duration": 23,
    "start_time": "2023-02-19T17:25:21.287Z"
   },
   {
    "duration": 33,
    "start_time": "2023-02-19T17:25:21.313Z"
   },
   {
    "duration": 30,
    "start_time": "2023-02-19T17:25:21.348Z"
   },
   {
    "duration": 783,
    "start_time": "2023-02-19T17:25:21.380Z"
   },
   {
    "duration": 10,
    "start_time": "2023-02-19T17:25:22.165Z"
   },
   {
    "duration": 44,
    "start_time": "2023-02-19T17:25:22.177Z"
   },
   {
    "duration": 24,
    "start_time": "2023-02-19T17:25:22.223Z"
   },
   {
    "duration": 36,
    "start_time": "2023-02-19T17:25:22.250Z"
   },
   {
    "duration": 45,
    "start_time": "2023-02-19T17:25:22.287Z"
   },
   {
    "duration": 41,
    "start_time": "2023-02-19T17:25:22.334Z"
   },
   {
    "duration": 47,
    "start_time": "2023-02-19T17:25:22.377Z"
   },
   {
    "duration": 25,
    "start_time": "2023-02-19T17:25:22.427Z"
   },
   {
    "duration": 252,
    "start_time": "2023-02-19T17:25:22.454Z"
   },
   {
    "duration": 7,
    "start_time": "2023-02-19T17:25:22.708Z"
   },
   {
    "duration": 75,
    "start_time": "2023-02-19T17:25:22.717Z"
   },
   {
    "duration": 58,
    "start_time": "2023-02-19T17:25:22.794Z"
   },
   {
    "duration": 33,
    "start_time": "2023-02-19T17:25:22.854Z"
   },
   {
    "duration": 16,
    "start_time": "2023-02-19T17:25:22.889Z"
   },
   {
    "duration": 51,
    "start_time": "2023-02-19T17:25:22.907Z"
   },
   {
    "duration": 122,
    "start_time": "2023-02-19T17:25:22.960Z"
   },
   {
    "duration": 79,
    "start_time": "2023-02-19T17:25:23.085Z"
   },
   {
    "duration": 3156,
    "start_time": "2023-02-19T17:25:23.166Z"
   },
   {
    "duration": 21,
    "start_time": "2023-02-19T17:25:26.325Z"
   },
   {
    "duration": 22,
    "start_time": "2023-02-19T17:25:26.349Z"
   },
   {
    "duration": 254,
    "start_time": "2023-02-19T17:25:26.372Z"
   },
   {
    "duration": 344,
    "start_time": "2023-02-19T17:25:26.631Z"
   },
   {
    "duration": 287,
    "start_time": "2023-02-19T17:25:26.977Z"
   },
   {
    "duration": 6,
    "start_time": "2023-02-19T17:25:27.266Z"
   },
   {
    "duration": 332,
    "start_time": "2023-02-19T17:25:27.273Z"
   },
   {
    "duration": 311,
    "start_time": "2023-02-19T17:25:27.607Z"
   },
   {
    "duration": 178,
    "start_time": "2023-02-19T17:25:27.920Z"
   },
   {
    "duration": 187,
    "start_time": "2023-02-19T17:25:28.100Z"
   },
   {
    "duration": 6,
    "start_time": "2023-02-19T17:25:28.288Z"
   },
   {
    "duration": 1427,
    "start_time": "2023-02-19T17:25:28.296Z"
   },
   {
    "duration": 12,
    "start_time": "2023-02-19T17:25:29.724Z"
   },
   {
    "duration": 55,
    "start_time": "2023-02-19T17:25:29.738Z"
   },
   {
    "duration": 292,
    "start_time": "2023-02-19T17:25:29.795Z"
   },
   {
    "duration": 2,
    "start_time": "2023-02-19T17:25:30.090Z"
   },
   {
    "duration": 23,
    "start_time": "2023-02-19T17:25:30.094Z"
   },
   {
    "duration": 88,
    "start_time": "2023-02-19T17:25:30.119Z"
   },
   {
    "duration": 366,
    "start_time": "2023-02-19T17:25:30.209Z"
   },
   {
    "duration": 134,
    "start_time": "2023-02-19T17:25:30.577Z"
   },
   {
    "duration": 0,
    "start_time": "2023-02-19T17:25:30.713Z"
   },
   {
    "duration": 0,
    "start_time": "2023-02-19T17:25:30.715Z"
   },
   {
    "duration": 0,
    "start_time": "2023-02-19T17:25:30.716Z"
   },
   {
    "duration": 0,
    "start_time": "2023-02-19T17:25:30.718Z"
   },
   {
    "duration": 0,
    "start_time": "2023-02-19T17:25:30.737Z"
   },
   {
    "duration": 0,
    "start_time": "2023-02-19T17:25:30.739Z"
   },
   {
    "duration": 0,
    "start_time": "2023-02-19T17:25:30.740Z"
   },
   {
    "duration": 0,
    "start_time": "2023-02-19T17:25:30.742Z"
   },
   {
    "duration": 0,
    "start_time": "2023-02-19T17:25:30.743Z"
   },
   {
    "duration": 0,
    "start_time": "2023-02-19T17:25:30.744Z"
   },
   {
    "duration": 0,
    "start_time": "2023-02-19T17:25:30.746Z"
   },
   {
    "duration": 0,
    "start_time": "2023-02-19T17:25:30.748Z"
   },
   {
    "duration": 0,
    "start_time": "2023-02-19T17:25:30.749Z"
   },
   {
    "duration": 0,
    "start_time": "2023-02-19T17:25:30.750Z"
   },
   {
    "duration": 0,
    "start_time": "2023-02-19T17:25:30.751Z"
   },
   {
    "duration": 0,
    "start_time": "2023-02-19T17:25:30.753Z"
   },
   {
    "duration": 0,
    "start_time": "2023-02-19T17:25:30.754Z"
   },
   {
    "duration": 3,
    "start_time": "2023-02-19T17:38:19.253Z"
   },
   {
    "duration": 4,
    "start_time": "2023-02-19T17:38:24.901Z"
   },
   {
    "duration": 18,
    "start_time": "2023-02-19T17:38:25.585Z"
   },
   {
    "duration": 404,
    "start_time": "2023-02-19T17:38:26.413Z"
   },
   {
    "duration": 17,
    "start_time": "2023-02-19T17:38:29.333Z"
   },
   {
    "duration": 358,
    "start_time": "2023-02-19T17:38:29.721Z"
   },
   {
    "duration": 9,
    "start_time": "2023-02-19T17:38:31.573Z"
   },
   {
    "duration": 5,
    "start_time": "2023-02-19T17:38:31.784Z"
   },
   {
    "duration": 5,
    "start_time": "2023-02-19T17:38:31.980Z"
   },
   {
    "duration": 4,
    "start_time": "2023-02-19T17:38:32.196Z"
   },
   {
    "duration": 189,
    "start_time": "2023-02-19T17:38:32.412Z"
   },
   {
    "duration": 378,
    "start_time": "2023-02-19T17:38:32.604Z"
   },
   {
    "duration": 7,
    "start_time": "2023-02-19T17:38:34.500Z"
   },
   {
    "duration": 9,
    "start_time": "2023-02-19T17:38:34.861Z"
   },
   {
    "duration": 5,
    "start_time": "2023-02-19T17:38:35.066Z"
   },
   {
    "duration": 6,
    "start_time": "2023-02-19T17:38:35.283Z"
   },
   {
    "duration": 179,
    "start_time": "2023-02-19T17:38:35.729Z"
   },
   {
    "duration": 148,
    "start_time": "2023-02-19T17:38:35.960Z"
   },
   {
    "duration": 7,
    "start_time": "2023-02-19T17:38:36.369Z"
   }
  ],
  "kernelspec": {
   "display_name": "Python 3 (ipykernel)",
   "language": "python",
   "name": "python3"
  },
  "language_info": {
   "codemirror_mode": {
    "name": "ipython",
    "version": 3
   },
   "file_extension": ".py",
   "mimetype": "text/x-python",
   "name": "python",
   "nbconvert_exporter": "python",
   "pygments_lexer": "ipython3",
   "version": "3.10.9"
  },
  "toc": {
   "base_numbering": 1,
   "nav_menu": {},
   "number_sections": true,
   "sideBar": true,
   "skip_h1_title": true,
   "title_cell": "Table of Contents",
   "title_sidebar": "Contents",
   "toc_cell": false,
   "toc_position": {
    "height": "calc(100% - 180px)",
    "left": "10px",
    "top": "150px",
    "width": "196.398px"
   },
   "toc_section_display": true,
   "toc_window_display": true
  }
 },
 "nbformat": 4,
 "nbformat_minor": 2
}
